{
  "nbformat": 4,
  "nbformat_minor": 0,
  "metadata": {
    "colab": {
      "provenance": [],
      "authorship_tag": "ABX9TyPUSXnZAWpjv25NCpamGA+n",
      "include_colab_link": true
    },
    "kernelspec": {
      "name": "python3",
      "display_name": "Python 3"
    },
    "language_info": {
      "name": "python"
    }
  },
  "cells": [
    {
      "cell_type": "markdown",
      "metadata": {
        "id": "view-in-github",
        "colab_type": "text"
      },
      "source": [
        "<a href=\"https://colab.research.google.com/github/elpiprin/NLP-Stuff/blob/main/RNN_Custom1.ipynb\" target=\"_parent\"><img src=\"https://colab.research.google.com/assets/colab-badge.svg\" alt=\"Open In Colab\"/></a>"
      ]
    },
    {
      "cell_type": "markdown",
      "source": [
        "### **Setup**"
      ],
      "metadata": {
        "id": "JWEUpHyDpp20"
      }
    },
    {
      "cell_type": "markdown",
      "source": [
        "***Imports***"
      ],
      "metadata": {
        "id": "p3KzHD0epxwQ"
      }
    },
    {
      "cell_type": "code",
      "source": [
        "#https://www.tensorflow.org/text/tutorials/text_generation\n",
        "import tensorflow as tf\n",
        "\n",
        "import numpy as np\n",
        "import os\n",
        "import time"
      ],
      "metadata": {
        "id": "CXZ2LPevDzuz"
      },
      "execution_count": 3,
      "outputs": []
    },
    {
      "cell_type": "markdown",
      "source": [
        "***Reading the data***"
      ],
      "metadata": {
        "id": "6Md3OSWzkzKe"
      }
    },
    {
      "cell_type": "code",
      "source": [
        "#Read, then decode for py2 compat.\n",
        "text = open('/content/Articles.txt', 'rb').read().decode(encoding='utf-8')\n",
        "#length of text is the number of characters in it\n",
        "print(f'Length of text: {len(text)} characters')"
      ],
      "metadata": {
        "colab": {
          "base_uri": "https://localhost:8080/"
        },
        "id": "9n_GA5OyEJaV",
        "outputId": "e03e53c5-83bf-4888-b693-bd448d87ed27"
      },
      "execution_count": 5,
      "outputs": [
        {
          "output_type": "stream",
          "name": "stdout",
          "text": [
            "Length of text: 480143 characters\n"
          ]
        }
      ]
    },
    {
      "cell_type": "code",
      "source": [
        "#Take a look at the first 250 characters in text\n",
        "print(text[:250])"
      ],
      "metadata": {
        "colab": {
          "base_uri": "https://localhost:8080/"
        },
        "id": "ug3QOUPyENem",
        "outputId": "8f20be9e-4304-4a2d-cb93-fff6d24e9633"
      },
      "execution_count": 6,
      "outputs": [
        {
          "output_type": "stream",
          "name": "stdout",
          "text": [
            "Melissa Caddick: Death of Australian fraudster remains a mystery\r\n",
            "\r\n",
            "When conwoman Melissa Caddick vanished from her luxurious eastern Sydney home in November 2020 - with only her partially decomposed foot found washed up on a beach months later - it \n"
          ]
        }
      ]
    },
    {
      "cell_type": "code",
      "source": [
        "#The unique characters in the file\n",
        "vocab = sorted(set(text))\n",
        "print(f'{len(vocab)} unique characters')"
      ],
      "metadata": {
        "colab": {
          "base_uri": "https://localhost:8080/"
        },
        "id": "VbKBXgUHEUzj",
        "outputId": "23851c54-2e52-4711-ed59-cd4047a92fad"
      },
      "execution_count": 7,
      "outputs": [
        {
          "output_type": "stream",
          "name": "stdout",
          "text": [
            "105 unique characters\n"
          ]
        }
      ]
    },
    {
      "cell_type": "markdown",
      "source": [
        "### **Processing the text**"
      ],
      "metadata": {
        "id": "loQgtVMhlCl4"
      }
    },
    {
      "cell_type": "markdown",
      "source": [
        "***Vectorising the text***"
      ],
      "metadata": {
        "id": "IEP6jTZ_qQ_e"
      }
    },
    {
      "cell_type": "code",
      "source": [
        "example_texts = ['abcdefg', 'xyz']\n",
        "\n",
        "chars = tf.strings.unicode_split(example_texts, input_encoding='UTF-8')\n",
        "chars"
      ],
      "metadata": {
        "colab": {
          "base_uri": "https://localhost:8080/"
        },
        "id": "LVF6jADMOkhf",
        "outputId": "ebc2c1dc-c365-4b61-bebf-bf8f2b2e65fa"
      },
      "execution_count": 8,
      "outputs": [
        {
          "output_type": "execute_result",
          "data": {
            "text/plain": [
              "<tf.RaggedTensor [[b'a', b'b', b'c', b'd', b'e', b'f', b'g'], [b'x', b'y', b'z']]>"
            ]
          },
          "metadata": {},
          "execution_count": 8
        }
      ]
    },
    {
      "cell_type": "code",
      "source": [
        "ids_from_chars = tf.keras.layers.StringLookup(\n",
        "    vocabulary=list(vocab), mask_token=None)"
      ],
      "metadata": {
        "id": "9UkSiCoiOuIx"
      },
      "execution_count": 9,
      "outputs": []
    },
    {
      "cell_type": "code",
      "source": [
        "ids = ids_from_chars(chars)\n",
        "ids"
      ],
      "metadata": {
        "colab": {
          "base_uri": "https://localhost:8080/"
        },
        "id": "9TtA4WgROyKx",
        "outputId": "944d0f01-16bd-4b62-bc16-c339c766c083"
      },
      "execution_count": 10,
      "outputs": [
        {
          "output_type": "execute_result",
          "data": {
            "text/plain": [
              "<tf.RaggedTensor [[59, 60, 61, 62, 63, 64, 65], [82, 83, 84]]>"
            ]
          },
          "metadata": {},
          "execution_count": 10
        }
      ]
    },
    {
      "cell_type": "code",
      "source": [
        "chars_from_ids = tf.keras.layers.StringLookup(\n",
        "    vocabulary=ids_from_chars.get_vocabulary(), invert=True, mask_token=None)"
      ],
      "metadata": {
        "id": "bb8pZAaqO0Um"
      },
      "execution_count": 11,
      "outputs": []
    },
    {
      "cell_type": "code",
      "source": [
        "chars = chars_from_ids(ids)\n",
        "chars"
      ],
      "metadata": {
        "colab": {
          "base_uri": "https://localhost:8080/"
        },
        "id": "N7gWKqXEO7Ws",
        "outputId": "b0357ce9-6b07-4a1c-ef95-eeefa1498cf9"
      },
      "execution_count": 12,
      "outputs": [
        {
          "output_type": "execute_result",
          "data": {
            "text/plain": [
              "<tf.RaggedTensor [[b'a', b'b', b'c', b'd', b'e', b'f', b'g'], [b'x', b'y', b'z']]>"
            ]
          },
          "metadata": {},
          "execution_count": 12
        }
      ]
    },
    {
      "cell_type": "code",
      "source": [
        "tf.strings.reduce_join(chars, axis=-1).numpy()"
      ],
      "metadata": {
        "colab": {
          "base_uri": "https://localhost:8080/"
        },
        "id": "0e1ZRpYkO_9q",
        "outputId": "d838e692-4e26-434f-b828-24a3e2a13f51"
      },
      "execution_count": 13,
      "outputs": [
        {
          "output_type": "execute_result",
          "data": {
            "text/plain": [
              "array([b'abcdefg', b'xyz'], dtype=object)"
            ]
          },
          "metadata": {},
          "execution_count": 13
        }
      ]
    },
    {
      "cell_type": "code",
      "source": [
        "def text_from_ids(ids):\n",
        "  return tf.strings.reduce_join(chars_from_ids(ids), axis=-1)"
      ],
      "metadata": {
        "id": "-PpGG7A0PCHz"
      },
      "execution_count": 14,
      "outputs": []
    },
    {
      "cell_type": "markdown",
      "source": [
        "***Prediction task*** \n",
        "\n",
        "***Creating training examples and targets*** "
      ],
      "metadata": {
        "id": "skDLeHjYlXup"
      }
    },
    {
      "cell_type": "code",
      "source": [
        "all_ids = ids_from_chars(tf.strings.unicode_split(text, 'UTF-8'))\n",
        "all_ids"
      ],
      "metadata": {
        "colab": {
          "base_uri": "https://localhost:8080/"
        },
        "id": "Z0cD1dWNPG9K",
        "outputId": "13945c77-f519-4cb1-e46d-e79ca72cd47b"
      },
      "execution_count": 15,
      "outputs": [
        {
          "output_type": "execute_result",
          "data": {
            "text/plain": [
              "<tf.Tensor: shape=(480143,), dtype=int64, numpy=array([43, 63, 70, ..., 76, 77, 16])>"
            ]
          },
          "metadata": {},
          "execution_count": 15
        }
      ]
    },
    {
      "cell_type": "code",
      "source": [
        "ids_dataset = tf.data.Dataset.from_tensor_slices(all_ids)"
      ],
      "metadata": {
        "id": "HatOOeEBPI62"
      },
      "execution_count": 16,
      "outputs": []
    },
    {
      "cell_type": "code",
      "source": [
        "for ids in ids_dataset.take(10):\n",
        "    print(chars_from_ids(ids).numpy().decode('utf-8'))"
      ],
      "metadata": {
        "colab": {
          "base_uri": "https://localhost:8080/"
        },
        "id": "w0R9tvZ2PMhB",
        "outputId": "3987234a-7749-4d7f-c1e6-c096b400cbc5"
      },
      "execution_count": 17,
      "outputs": [
        {
          "output_type": "stream",
          "name": "stdout",
          "text": [
            "M\n",
            "e\n",
            "l\n",
            "i\n",
            "s\n",
            "s\n",
            "a\n",
            " \n",
            "C\n",
            "a\n"
          ]
        }
      ]
    },
    {
      "cell_type": "code",
      "source": [
        "seq_length = 100"
      ],
      "metadata": {
        "id": "aYNP7rfMPRZQ"
      },
      "execution_count": 18,
      "outputs": []
    },
    {
      "cell_type": "code",
      "source": [
        "sequences = ids_dataset.batch(seq_length+1, drop_remainder=True)\n",
        "\n",
        "for seq in sequences.take(1):\n",
        "  print(chars_from_ids(seq))"
      ],
      "metadata": {
        "colab": {
          "base_uri": "https://localhost:8080/"
        },
        "id": "T69XUCpPPVv8",
        "outputId": "becba869-7644-4928-cab9-1392d46b5b97"
      },
      "execution_count": 19,
      "outputs": [
        {
          "output_type": "stream",
          "name": "stdout",
          "text": [
            "tf.Tensor(\n",
            "[b'M' b'e' b'l' b'i' b's' b's' b'a' b' ' b'C' b'a' b'd' b'd' b'i' b'c'\n",
            " b'k' b':' b' ' b'D' b'e' b'a' b't' b'h' b' ' b'o' b'f' b' ' b'A' b'u'\n",
            " b's' b't' b'r' b'a' b'l' b'i' b'a' b'n' b' ' b'f' b'r' b'a' b'u' b'd'\n",
            " b's' b't' b'e' b'r' b' ' b'r' b'e' b'm' b'a' b'i' b'n' b's' b' ' b'a'\n",
            " b' ' b'm' b'y' b's' b't' b'e' b'r' b'y' b'\\r' b'\\n' b'\\r' b'\\n' b'W' b'h'\n",
            " b'e' b'n' b' ' b'c' b'o' b'n' b'w' b'o' b'm' b'a' b'n' b' ' b'M' b'e'\n",
            " b'l' b'i' b's' b's' b'a' b' ' b'C' b'a' b'd' b'd' b'i' b'c' b'k' b' '\n",
            " b'v' b'a' b'n'], shape=(101,), dtype=string)\n"
          ]
        }
      ]
    },
    {
      "cell_type": "code",
      "source": [
        "for seq in sequences.take(5):\n",
        "  print(text_from_ids(seq).numpy())"
      ],
      "metadata": {
        "colab": {
          "base_uri": "https://localhost:8080/"
        },
        "id": "8TeSCad0Pa78",
        "outputId": "da73f7f2-7ccb-4b10-946a-bbf9480647e7"
      },
      "execution_count": 20,
      "outputs": [
        {
          "output_type": "stream",
          "name": "stdout",
          "text": [
            "b'Melissa Caddick: Death of Australian fraudster remains a mystery\\r\\n\\r\\nWhen conwoman Melissa Caddick van'\n",
            "b'ished from her luxurious eastern Sydney home in November 2020 - with only her partially decomposed fo'\n",
            "b'ot found washed up on a beach months later - it set off a frenzy in Australia.\\r\\n\\r\\nThe case blindsided'\n",
            "b' investors, baffled police, and captured the imagination of a nation.\\r\\n\\r\\nThe fraudster has inspired a'\n",
            "b' hit podcast, a TV dramatisation, and countless outlandish theories - including that she had been swa'\n"
          ]
        }
      ]
    },
    {
      "cell_type": "code",
      "source": [
        "def split_input_target(sequence):\n",
        "    input_text = sequence[:-1]\n",
        "    target_text = sequence[1:]\n",
        "    return input_text, target_text"
      ],
      "metadata": {
        "id": "rBn9QmRfPcat"
      },
      "execution_count": 21,
      "outputs": []
    },
    {
      "cell_type": "code",
      "source": [
        "split_input_target(list(\"Tensorflow\"))"
      ],
      "metadata": {
        "colab": {
          "base_uri": "https://localhost:8080/"
        },
        "id": "ueB_8BB9Ph8T",
        "outputId": "d28e35d7-2cd3-421c-a10f-031850556806"
      },
      "execution_count": 22,
      "outputs": [
        {
          "output_type": "execute_result",
          "data": {
            "text/plain": [
              "(['T', 'e', 'n', 's', 'o', 'r', 'f', 'l', 'o'],\n",
              " ['e', 'n', 's', 'o', 'r', 'f', 'l', 'o', 'w'])"
            ]
          },
          "metadata": {},
          "execution_count": 22
        }
      ]
    },
    {
      "cell_type": "code",
      "source": [
        "dataset = sequences.map(split_input_target)"
      ],
      "metadata": {
        "id": "PoEqvjgVPl3T"
      },
      "execution_count": 23,
      "outputs": []
    },
    {
      "cell_type": "code",
      "source": [
        "for input_example, target_example in dataset.take(1):\n",
        "    print(\"Input :\", text_from_ids(input_example).numpy())\n",
        "    print(\"Target:\", text_from_ids(target_example).numpy())"
      ],
      "metadata": {
        "colab": {
          "base_uri": "https://localhost:8080/"
        },
        "id": "Ey28Rn54PrS9",
        "outputId": "9b858570-30a6-454e-ba52-bb24b28908eb"
      },
      "execution_count": 24,
      "outputs": [
        {
          "output_type": "stream",
          "name": "stdout",
          "text": [
            "Input : b'Melissa Caddick: Death of Australian fraudster remains a mystery\\r\\n\\r\\nWhen conwoman Melissa Caddick va'\n",
            "Target: b'elissa Caddick: Death of Australian fraudster remains a mystery\\r\\n\\r\\nWhen conwoman Melissa Caddick van'\n"
          ]
        }
      ]
    },
    {
      "cell_type": "markdown",
      "source": [
        "***Creating training batches***"
      ],
      "metadata": {
        "id": "MTPNGBhvlsVJ"
      }
    },
    {
      "cell_type": "code",
      "source": [
        "# Batch size\n",
        "BATCH_SIZE = 64\n",
        "\n",
        "# Buffer size to shuffle the dataset\n",
        "# (TF data is designed to work with possibly infinite sequences,\n",
        "# so it doesn't attempt to shuffle the entire sequence in memory. Instead,\n",
        "# it maintains a buffer in which it shuffles elements).\n",
        "BUFFER_SIZE = 10000\n",
        "\n",
        "dataset = (\n",
        "    dataset\n",
        "    .shuffle(BUFFER_SIZE)\n",
        "    .batch(BATCH_SIZE, drop_remainder=True)\n",
        "    .prefetch(tf.data.experimental.AUTOTUNE))\n",
        "\n",
        "dataset"
      ],
      "metadata": {
        "colab": {
          "base_uri": "https://localhost:8080/"
        },
        "id": "k45EyaHcPwXY",
        "outputId": "289a4b3c-c251-47f8-84d7-376db34669bd"
      },
      "execution_count": 25,
      "outputs": [
        {
          "output_type": "execute_result",
          "data": {
            "text/plain": [
              "<_PrefetchDataset element_spec=(TensorSpec(shape=(64, 100), dtype=tf.int64, name=None), TensorSpec(shape=(64, 100), dtype=tf.int64, name=None))>"
            ]
          },
          "metadata": {},
          "execution_count": 25
        }
      ]
    },
    {
      "cell_type": "markdown",
      "source": [
        "### **Building the model**"
      ],
      "metadata": {
        "id": "FoUYy3rbl1xl"
      }
    },
    {
      "cell_type": "code",
      "source": [
        "# Length of the vocabulary in StringLookup Layer\n",
        "vocab_size = len(ids_from_chars.get_vocabulary())\n",
        "\n",
        "# The embedding dimension\n",
        "embedding_dim = 256\n",
        "\n",
        "# Number of RNN units\n",
        "rnn_units = 1024"
      ],
      "metadata": {
        "id": "rwu7Jt-sP0nP"
      },
      "execution_count": 26,
      "outputs": []
    },
    {
      "cell_type": "code",
      "source": [
        "class MyModel(tf.keras.Model):\n",
        "  def __init__(self, vocab_size, embedding_dim, rnn_units):\n",
        "    super().__init__(self)\n",
        "    self.embedding = tf.keras.layers.Embedding(vocab_size, embedding_dim)\n",
        "    self.gru = tf.keras.layers.GRU(rnn_units,\n",
        "                                   return_sequences=True,\n",
        "                                   return_state=True)\n",
        "    self.dense = tf.keras.layers.Dense(vocab_size)\n",
        "\n",
        "  def call(self, inputs, states=None, return_state=False, training=False):\n",
        "    x = inputs\n",
        "    x = self.embedding(x, training=training)\n",
        "    if states is None:\n",
        "      states = self.gru.get_initial_state(x)\n",
        "    x, states = self.gru(x, initial_state=states, training=training)\n",
        "    x = self.dense(x, training=training)\n",
        "\n",
        "    if return_state:\n",
        "      return x, states\n",
        "    else:\n",
        "      return x"
      ],
      "metadata": {
        "id": "lR_vIPmnP4z5"
      },
      "execution_count": 27,
      "outputs": []
    },
    {
      "cell_type": "code",
      "source": [
        "model = MyModel(\n",
        "    vocab_size=vocab_size,\n",
        "    embedding_dim=embedding_dim,\n",
        "    rnn_units=rnn_units)"
      ],
      "metadata": {
        "id": "FRNIbZ4LP9GG"
      },
      "execution_count": 28,
      "outputs": []
    },
    {
      "cell_type": "markdown",
      "source": [
        "### **Trying the model**"
      ],
      "metadata": {
        "id": "AACoB4bgmEMu"
      }
    },
    {
      "cell_type": "code",
      "source": [
        "for input_example_batch, target_example_batch in dataset.take(1):\n",
        "    example_batch_predictions = model(input_example_batch)\n",
        "    print(example_batch_predictions.shape, \"# (batch_size, sequence_length, vocab_size)\")"
      ],
      "metadata": {
        "colab": {
          "base_uri": "https://localhost:8080/"
        },
        "id": "_kC2NTNOQBiu",
        "outputId": "3bc59c30-ea74-4308-b2bb-75b217fec5c3"
      },
      "execution_count": 29,
      "outputs": [
        {
          "output_type": "stream",
          "name": "stdout",
          "text": [
            "(64, 100, 106) # (batch_size, sequence_length, vocab_size)\n"
          ]
        }
      ]
    },
    {
      "cell_type": "code",
      "source": [
        "model.summary()"
      ],
      "metadata": {
        "colab": {
          "base_uri": "https://localhost:8080/"
        },
        "id": "GHJVGB2JQFR4",
        "outputId": "0dd06d33-3521-4ff8-98b0-04fb8b7f825a"
      },
      "execution_count": 30,
      "outputs": [
        {
          "output_type": "stream",
          "name": "stdout",
          "text": [
            "Model: \"my_model\"\n",
            "_________________________________________________________________\n",
            " Layer (type)                Output Shape              Param #   \n",
            "=================================================================\n",
            " embedding (Embedding)       multiple                  27136     \n",
            "                                                                 \n",
            " gru (GRU)                   multiple                  3938304   \n",
            "                                                                 \n",
            " dense (Dense)               multiple                  108650    \n",
            "                                                                 \n",
            "=================================================================\n",
            "Total params: 4,074,090\n",
            "Trainable params: 4,074,090\n",
            "Non-trainable params: 0\n",
            "_________________________________________________________________\n"
          ]
        }
      ]
    },
    {
      "cell_type": "code",
      "source": [
        "sampled_indices = tf.random.categorical(example_batch_predictions[0], num_samples=1)\n",
        "sampled_indices = tf.squeeze(sampled_indices, axis=-1).numpy()"
      ],
      "metadata": {
        "id": "Qa_l-ayPQLtP"
      },
      "execution_count": 31,
      "outputs": []
    },
    {
      "cell_type": "code",
      "source": [
        "sampled_indices"
      ],
      "metadata": {
        "colab": {
          "base_uri": "https://localhost:8080/"
        },
        "id": "-YeJNjrtQOuN",
        "outputId": "0e9ab0b5-3ed2-44bd-d838-1ed5511f1dcd"
      },
      "execution_count": 32,
      "outputs": [
        {
          "output_type": "execute_result",
          "data": {
            "text/plain": [
              "array([ 25, 104,  78,  26,   2,   7,  73,  45,  65,  21,  64,   2,   4,\n",
              "       102,   9,  90,   2,  70,  95,  74,  56,  45,  38,  73, 102, 103,\n",
              "        89, 104,  11,  63,  64,  63,  39,  54,  88,  74,  50,  50,  12,\n",
              "        19, 104,  95,  39,  91,  37,  86,  88,  33,  61,  37,  79,  16,\n",
              "        78,  36,   1,  99,  29,  44, 101,  47,  19,  32,  13,  23,  25,\n",
              "        90,  32,  20,  48,  57,  81, 104,  41,  49,  71,  71,  60,  83,\n",
              "        39,   2,  46,  31,  15,  60,  70, 102,  63,  81,  82,  15,  85,\n",
              "        84,  68, 103,  99,  19,  21,  77,  44,  28])"
            ]
          },
          "metadata": {},
          "execution_count": 32
        }
      ]
    },
    {
      "cell_type": "code",
      "source": [
        "print(\"Input:\\n\", text_from_ids(input_example_batch[0]).numpy())\n",
        "print()\n",
        "print(\"Next Char Predictions:\\n\", text_from_ids(sampled_indices).numpy())"
      ],
      "metadata": {
        "colab": {
          "base_uri": "https://localhost:8080/"
        },
        "id": "-0lL1EBNQSGl",
        "outputId": "6fb800c4-462a-4b07-9785-22853663cf01"
      },
      "execution_count": 33,
      "outputs": [
        {
          "output_type": "stream",
          "name": "stdout",
          "text": [
            "Input:\n",
            " b'ent cow slaughter, which is illegal in many Indian states.\\r\\n\\r\\nThe police, however, say that there we'\n",
            "\n",
            "Next Char Predictions:\n",
            " b'7\\xe2\\x80\\xaft8\\r$oOg3f\\r!\\xe2\\x80\\x9d&\\xc3\\xad\\rl\\xc3\\xbcpZOHo\\xe2\\x80\\x9d\\xe2\\x80\\xa6\\xc3\\xa9\\xe2\\x80\\xaf(efeIX\\xc3\\xa8pTT)1\\xe2\\x80\\xaf\\xc3\\xbcI\\xc3\\xb1G\\xc3\\xa1\\xc3\\xa8CcGu.tF\\n\\xe2\\x80\\x98;N\\xe2\\x80\\x9cQ1B*57\\xc3\\xadB2R[w\\xe2\\x80\\xafKSmmbyI\\rPA-bl\\xe2\\x80\\x9dewx-\\xc2\\xa3zj\\xe2\\x80\\xa6\\xe2\\x80\\x9813sN:'\n"
          ]
        }
      ]
    },
    {
      "cell_type": "markdown",
      "source": [
        "### **Training the model**"
      ],
      "metadata": {
        "id": "q6TCrNIhmR6c"
      }
    },
    {
      "cell_type": "markdown",
      "source": [
        "***Attaching an optimiser & a loss function***"
      ],
      "metadata": {
        "id": "idwcaR8msOtM"
      }
    },
    {
      "cell_type": "code",
      "source": [
        "loss = tf.losses.SparseCategoricalCrossentropy(from_logits=True)"
      ],
      "metadata": {
        "id": "OBYug03sQZHp"
      },
      "execution_count": 137,
      "outputs": []
    },
    {
      "cell_type": "code",
      "source": [
        "example_batch_mean_loss = loss(target_example_batch, example_batch_predictions)\n",
        "print(\"Prediction shape: \", example_batch_predictions.shape, \" # (batch_size, sequence_length, vocab_size)\")\n",
        "print(\"Mean loss:        \", example_batch_mean_loss)"
      ],
      "metadata": {
        "colab": {
          "base_uri": "https://localhost:8080/"
        },
        "id": "AAMHRpCkQcGU",
        "outputId": "fba753ee-0883-4bc4-898f-2968e580f234"
      },
      "execution_count": 138,
      "outputs": [
        {
          "output_type": "stream",
          "name": "stdout",
          "text": [
            "Prediction shape:  (64, 100, 106)  # (batch_size, sequence_length, vocab_size)\n",
            "Mean loss:         tf.Tensor(4.663675, shape=(), dtype=float32)\n"
          ]
        }
      ]
    },
    {
      "cell_type": "code",
      "source": [
        "tf.exp(example_batch_mean_loss).numpy()"
      ],
      "metadata": {
        "colab": {
          "base_uri": "https://localhost:8080/"
        },
        "id": "BDLx_MJ_Qggo",
        "outputId": "d1252bc5-78bc-4284-c4e9-98687679162d"
      },
      "execution_count": 139,
      "outputs": [
        {
          "output_type": "execute_result",
          "data": {
            "text/plain": [
              "106.024994"
            ]
          },
          "metadata": {},
          "execution_count": 139
        }
      ]
    },
    {
      "cell_type": "code",
      "source": [
        "model.compile(optimizer='adam', loss=loss)"
      ],
      "metadata": {
        "id": "PCRAbwCAQkaq"
      },
      "execution_count": 141,
      "outputs": []
    },
    {
      "cell_type": "markdown",
      "source": [
        "***Configuring checkpoints***"
      ],
      "metadata": {
        "id": "CgOXgtpxsXzE"
      }
    },
    {
      "cell_type": "code",
      "source": [
        "# Directory where the checkpoints will be saved\n",
        "checkpoint_dir = './training_checkpoints'\n",
        "# Name of the checkpoint files\n",
        "checkpoint_prefix = os.path.join(checkpoint_dir, \"ckpt_{epoch}\")\n",
        "\n",
        "checkpoint_callback = tf.keras.callbacks.ModelCheckpoint(\n",
        "    filepath=checkpoint_prefix,\n",
        "    save_weights_only=True)"
      ],
      "metadata": {
        "id": "q6FiC4sxQoH5"
      },
      "execution_count": 142,
      "outputs": []
    },
    {
      "cell_type": "markdown",
      "source": [
        "***Executing the training***"
      ],
      "metadata": {
        "id": "WTiKvvarsh-G"
      }
    },
    {
      "cell_type": "code",
      "source": [
        "EPOCHS = 60"
      ],
      "metadata": {
        "id": "DahGk_M3Qpxw"
      },
      "execution_count": 145,
      "outputs": []
    },
    {
      "cell_type": "code",
      "source": [
        "history = model.fit(dataset, epochs=EPOCHS, callbacks=[checkpoint_callback])"
      ],
      "metadata": {
        "id": "IzqLLMAYQttS",
        "colab": {
          "base_uri": "https://localhost:8080/"
        },
        "outputId": "6219a35f-1eca-4833-d1ab-cfcf0f66a277"
      },
      "execution_count": 146,
      "outputs": [
        {
          "output_type": "stream",
          "name": "stdout",
          "text": [
            "Epoch 1/60\n",
            "74/74 [==============================] - 258s 3s/step - loss: 2.3911\n",
            "Epoch 2/60\n",
            "74/74 [==============================] - 267s 4s/step - loss: 2.2134\n",
            "Epoch 3/60\n",
            "74/74 [==============================] - 256s 3s/step - loss: 2.0554\n",
            "Epoch 4/60\n",
            "74/74 [==============================] - 258s 3s/step - loss: 1.9103\n",
            "Epoch 5/60\n",
            "74/74 [==============================] - 256s 3s/step - loss: 1.7691\n",
            "Epoch 6/60\n",
            "74/74 [==============================] - 255s 3s/step - loss: 1.6419\n",
            "Epoch 7/60\n",
            "74/74 [==============================] - 256s 3s/step - loss: 1.5358\n",
            "Epoch 8/60\n",
            "74/74 [==============================] - 256s 3s/step - loss: 1.4497\n",
            "Epoch 9/60\n",
            "74/74 [==============================] - 255s 3s/step - loss: 1.3772\n",
            "Epoch 10/60\n",
            "74/74 [==============================] - 255s 3s/step - loss: 1.3135\n",
            "Epoch 11/60\n",
            "74/74 [==============================] - 256s 3s/step - loss: 1.2551\n",
            "Epoch 12/60\n",
            "74/74 [==============================] - 257s 3s/step - loss: 1.2007\n",
            "Epoch 13/60\n",
            "74/74 [==============================] - 257s 3s/step - loss: 1.1483\n",
            "Epoch 14/60\n",
            "74/74 [==============================] - 255s 3s/step - loss: 1.0925\n",
            "Epoch 15/60\n",
            "74/74 [==============================] - 256s 3s/step - loss: 1.0370\n",
            "Epoch 16/60\n",
            "74/74 [==============================] - 256s 3s/step - loss: 0.9811\n",
            "Epoch 17/60\n",
            "74/74 [==============================] - 256s 3s/step - loss: 0.9199\n",
            "Epoch 18/60\n",
            "74/74 [==============================] - 256s 3s/step - loss: 0.8577\n",
            "Epoch 19/60\n",
            "74/74 [==============================] - 255s 3s/step - loss: 0.7938\n",
            "Epoch 20/60\n",
            "74/74 [==============================] - 277s 4s/step - loss: 0.7284\n",
            "Epoch 21/60\n",
            "74/74 [==============================] - 276s 4s/step - loss: 0.6608\n",
            "Epoch 22/60\n",
            "74/74 [==============================] - 261s 4s/step - loss: 0.5942\n",
            "Epoch 23/60\n",
            "74/74 [==============================] - 258s 3s/step - loss: 0.5315\n",
            "Epoch 24/60\n",
            "74/74 [==============================] - 257s 3s/step - loss: 0.4715\n",
            "Epoch 25/60\n",
            "74/74 [==============================] - 256s 3s/step - loss: 0.4151\n",
            "Epoch 26/60\n",
            "74/74 [==============================] - 257s 3s/step - loss: 0.3656\n",
            "Epoch 27/60\n",
            "74/74 [==============================] - 256s 3s/step - loss: 0.3237\n",
            "Epoch 28/60\n",
            "74/74 [==============================] - 257s 3s/step - loss: 0.2860\n",
            "Epoch 29/60\n",
            "74/74 [==============================] - 257s 3s/step - loss: 0.2553\n",
            "Epoch 30/60\n",
            "74/74 [==============================] - 259s 3s/step - loss: 0.2285\n",
            "Epoch 31/60\n",
            "74/74 [==============================] - 257s 3s/step - loss: 0.2074\n",
            "Epoch 32/60\n",
            "74/74 [==============================] - 258s 3s/step - loss: 0.1895\n",
            "Epoch 33/60\n",
            "74/74 [==============================] - 259s 3s/step - loss: 0.1745\n",
            "Epoch 34/60\n",
            "74/74 [==============================] - 258s 3s/step - loss: 0.1619\n",
            "Epoch 35/60\n",
            "74/74 [==============================] - 268s 4s/step - loss: 0.1535\n",
            "Epoch 36/60\n",
            "74/74 [==============================] - 257s 3s/step - loss: 0.1428\n",
            "Epoch 37/60\n",
            "74/74 [==============================] - 256s 3s/step - loss: 0.1370\n",
            "Epoch 38/60\n",
            "74/74 [==============================] - 257s 3s/step - loss: 0.1311\n",
            "Epoch 39/60\n",
            "74/74 [==============================] - 261s 4s/step - loss: 0.1263\n",
            "Epoch 40/60\n",
            "74/74 [==============================] - 264s 4s/step - loss: 0.1236\n",
            "Epoch 41/60\n",
            "74/74 [==============================] - 256s 3s/step - loss: 0.1250\n",
            "Epoch 42/60\n",
            "74/74 [==============================] - 256s 3s/step - loss: 0.1348\n",
            "Epoch 43/60\n",
            "74/74 [==============================] - 258s 3s/step - loss: 0.1651\n",
            "Epoch 44/60\n",
            "74/74 [==============================] - 257s 3s/step - loss: 0.2515\n",
            "Epoch 45/60\n",
            "74/74 [==============================] - 256s 3s/step - loss: 0.3515\n",
            "Epoch 46/60\n",
            "74/74 [==============================] - 259s 3s/step - loss: 0.3437\n",
            "Epoch 47/60\n",
            "74/74 [==============================] - 256s 3s/step - loss: 0.2814\n",
            "Epoch 48/60\n",
            "74/74 [==============================] - 257s 3s/step - loss: 0.2178\n",
            "Epoch 49/60\n",
            "74/74 [==============================] - 257s 3s/step - loss: 0.1671\n",
            "Epoch 50/60\n",
            "74/74 [==============================] - 255s 3s/step - loss: 0.1315\n",
            "Epoch 51/60\n",
            "74/74 [==============================] - 256s 3s/step - loss: 0.1070\n",
            "Epoch 52/60\n",
            "74/74 [==============================] - 256s 3s/step - loss: 0.0914\n",
            "Epoch 53/60\n",
            "74/74 [==============================] - 256s 3s/step - loss: 0.0822\n",
            "Epoch 54/60\n",
            "74/74 [==============================] - 257s 3s/step - loss: 0.0781\n",
            "Epoch 55/60\n",
            "74/74 [==============================] - 256s 3s/step - loss: 0.0755\n",
            "Epoch 56/60\n",
            "74/74 [==============================] - 256s 3s/step - loss: 0.0742\n",
            "Epoch 57/60\n",
            "74/74 [==============================] - 256s 3s/step - loss: 0.0734\n",
            "Epoch 58/60\n",
            "74/74 [==============================] - 258s 3s/step - loss: 0.0733\n",
            "Epoch 59/60\n",
            "74/74 [==============================] - 256s 3s/step - loss: 0.0730\n",
            "Epoch 60/60\n",
            "74/74 [==============================] - 258s 3s/step - loss: 0.0732\n"
          ]
        }
      ]
    },
    {
      "cell_type": "markdown",
      "source": [
        "### **Generating Text**"
      ],
      "metadata": {
        "id": "AuNaxxPTz6cz"
      }
    },
    {
      "cell_type": "code",
      "source": [
        "class OneStep(tf.keras.Model):\n",
        "  def __init__(self, model, chars_from_ids, ids_from_chars, temperature=1.0):\n",
        "    super().__init__()\n",
        "    self.temperature = temperature\n",
        "    self.model = model\n",
        "    self.chars_from_ids = chars_from_ids\n",
        "    self.ids_from_chars = ids_from_chars\n",
        "\n",
        "    # Create a mask to prevent \"[UNK]\" from being generated.\n",
        "    skip_ids = self.ids_from_chars(['[UNK]'])[:, None]\n",
        "    sparse_mask = tf.SparseTensor(\n",
        "        # Put a -inf at each bad index.\n",
        "        values=[-float('inf')]*len(skip_ids),\n",
        "        indices=skip_ids,\n",
        "        # Match the shape to the vocabulary\n",
        "        dense_shape=[len(ids_from_chars.get_vocabulary())])\n",
        "    self.prediction_mask = tf.sparse.to_dense(sparse_mask)\n",
        "\n",
        "  @tf.function\n",
        "  def generate_one_step(self, inputs, states=None):\n",
        "    # Convert strings to token IDs.\n",
        "    input_chars = tf.strings.unicode_split(inputs, 'UTF-8')\n",
        "    input_ids = self.ids_from_chars(input_chars).to_tensor()\n",
        "\n",
        "    # Run the model.\n",
        "    # predicted_logits.shape is [batch, char, next_char_logits]\n",
        "    predicted_logits, states = self.model(inputs=input_ids, states=states,\n",
        "                                          return_state=True)\n",
        "    # Only use the last prediction.\n",
        "    predicted_logits = predicted_logits[:, -1, :]\n",
        "    predicted_logits = predicted_logits/self.temperature\n",
        "    # Apply the prediction mask: prevent \"[UNK]\" from being generated.\n",
        "    predicted_logits = predicted_logits + self.prediction_mask\n",
        "\n",
        "    # Sample the output logits to generate token IDs.\n",
        "    predicted_ids = tf.random.categorical(predicted_logits, num_samples=1)\n",
        "    predicted_ids = tf.squeeze(predicted_ids, axis=-1)\n",
        "\n",
        "    # Convert from token ids to characters\n",
        "    predicted_chars = self.chars_from_ids(predicted_ids)\n",
        "\n",
        "    # Return the characters and model state.\n",
        "    return predicted_chars, states"
      ],
      "metadata": {
        "id": "I0ak9dub5kxB"
      },
      "execution_count": 34,
      "outputs": []
    },
    {
      "cell_type": "code",
      "source": [
        "one_step_model = OneStep(model, chars_from_ids, ids_from_chars)"
      ],
      "metadata": {
        "id": "EY3eeeUv5_FA"
      },
      "execution_count": 35,
      "outputs": []
    },
    {
      "cell_type": "code",
      "source": [
        "#Text 1\n",
        "start = time.time()\n",
        "states = None\n",
        "next_char = tf.constant(['Activists'])\n",
        "result = [next_char]\n",
        "\n",
        "for n in range(10000):\n",
        "  next_char, states = one_step_model.generate_one_step(next_char, states=states)\n",
        "  result.append(next_char)\n",
        "\n",
        "result = tf.strings.join(result)\n",
        "end = time.time()\n",
        "print(result[0].numpy().decode('utf-8'), '\\n\\n' + '_'*80)\n",
        "print('\\nRun time:', end - start)"
      ],
      "metadata": {
        "id": "K-TE8Pc76C-t",
        "colab": {
          "base_uri": "https://localhost:8080/"
        },
        "outputId": "0f4bece1-b1c6-4530-de98-19226b8b222c"
      },
      "execution_count": 151,
      "outputs": [
        {
          "output_type": "stream",
          "name": "stdout",
          "text": [
            "Activists and blocking traffic. The sentence sparked engines for exploitation.\r\n",
            "\r\n",
            "Several asylum seekers interviewed by the Guardian say they were forced to return home alive.\"\r\n",
            "\r\n",
            "The call-up of paratroopers, part of Russia's wider mobilisation, shortages of equipment and medical expertise, which means not everyone gets what they want. That’s the responsibility of governing,” Grantham said.\r\n",
            "\r\n",
            "Ghosts of crises past\r\n",
            "\r\n",
            "Grantham sees uncomfortable parallels between markets to the 737 Max programme do, however, acknowledge that there have been specific issues with stabiliser this event suggest any form of terror threat.”\r\n",
            "\r\n",
            "But the influx of people to a major city gathering in developing new kinds of GPUs moral demand in Africa for vehicles is actually one of the only improvements that I can recall human risk. “The protests agreemed to protest is safe houses in real time,\" says Njoki. “I stay because it’s very difficult to move elsewhere when you’re employed of the trapping was on the fast during Ramadan, and has erased the party's old militaristics and said farmers will chear weapons.\r\n",
            "\r\n",
            "The provision for live\" in India\r\n",
            "\r\n",
            "On a relation to Ms Harper's experience, Police Scotland said: \"The most severe censorship yet\r\n",
            "\r\n",
            "But for Pakistanis, internet down by authorities, you are not going to be the people who will be loudest, they’re playing police in the limits of the most restriction that all out there, Maci Constabulary, in a state of spotess -- ale didnno replace work with military caution and the current high.\r\n",
            "\r\n",
            "Under state banser women haveners to come.”\r\n",
            "\r\n",
            "“All of this is obviously unacceptable. … We believe it is absolutely unnecessary,” a spokesperson said.\r\n",
            "\r\n",
            "Revelations about the NHS use of Meta Pixel come after regulators in the region, including an age limit of 10 years for used vehicles and prominent rounds optrail that the Texas House of Representatives votes to impeach Attorney General Ken Paxton\r\n",
            "\r\n",
            "The Texas House of Representatives votes to impeach Attorney General Investigating Committee, during harm then the legislative parts of the report, with its spokesperson, Zabihullah Mujai, a 2021 University of Oxford. A single applicant must happen to preveor in the renurit three vehicles seriously and have set up an independent advice line to provide confidential, experts say. “We have been expecting it,” adding that he believed it was a “political maneuver.”\r\n",
            "\r\n",
            "State government has had been in the pro-choice change in as eather of the next fight over ramial sharis. S coalition: the German targets and other mainstream medical details, our biological mother’s tomb along with his sister.\r\n",
            "\r\n",
            "“I would with them in extreme sent situation in our country,” Lieberman said.\r\n",
            "\r\n",
            "During the dictatorship of General Augusto Pinochet the Taliban and other autopoint climate change, it doesn’t really matter where the emissions are tiny their holidays at the same time, so the show's viewers and later techns at the Centre-Computer Misuse Act does not specifically cover online gender-based online violence. A 2021 study found that this war workers were allegedly had the way beging to terms with my children.\r\n",
            "\r\n",
            "‘Heal the divide’” experts and allies picricise the heartly research.\r\n",
            "\r\n",
            "The stake of Nevel Came Country.\r\n",
            "\r\n",
            "Over the government said the man and his wife, he can destroy the Supreme Court.\r\n",
            "\r\n",
            "These ongoing court battles have spentided in Pakistan, and the aircraft is going too fast, that more than 90% of victims in the past 10 years were Muslims.\r\n",
            "\r\n",
            "And reliable a post state of Uttar Pradesh, as his community where some spoke sume behind until it closed down in October.\r\n",
            "\r\n",
            "He said the boxing club's closure had a huge effect of collective complaints \"what they want. They are also less efficient at absorbing stressed and pick encouragement from me?\"\r\n",
            "\r\n",
            "One in the part of the state’s business, received telephone calls from General Paxton personally threatening now – threatening now – to impact on the root, as we can, a political science professor at Rice University.\r\n",
            "\r\n",
            "Litany of legal trouble\r\n",
            "\r\n",
            "The impanse of my business as a result, we will now delay the launch of the scheme to the 1st of March 2024. This provides 1070 at the Conservative party’s water being will continue to defend our land from air son and the direction of debt limit talks, telling CNN he sees how they can help them use health-based advertising to “grow your business”. In one guided, where the border will come almost a month after Biden and Harris’ liberal Lindura or A. Facebook of Hindustani classical music, many say this reckoning was overdue.\r\n",
            "\r\n",
            "While many classical Church of Dallas - who would fly them to New Mexico, where they could end their pregnancies.\r\n",
            "\r\n",
            "It major than more climate change, or natural variability or making better altiencan overturned in January, a car smashed into a van in Turkey's financial bodies and won a reputation for weeding out corruption as director of the Atlantic Council’s South Asia Center who had been pushing the insects.\r\n",
            "\r\n",
            "Of course that could shut out the insects that farmers really do e charge setting free 41 Hindu men accused of religious violence against Muslims 36 years ago, has plunged the bill post by hundreds of them a “abortion put myself, and she world had a lot of love from my family growing up. I have never abused anyboying companies low, it cannot be a prollus over a short at least 67 majority. She does not buy the arguments by government ministries sharked the general public and better than the S&P 500. There’s an unfair advantage for [learty coldents.\r\n",
            "\r\n",
            "The 262 met a senior Conservatives that I’ve spoken to are also frustrated.\r\n",
            "\r\n",
            "The time the Bield Carcy and Africa, may continue into the deaths as the group has focused on higher-and more than a decade.\r\n",
            "\r\n",
            "“I’m not surprised to see how robust the export and the CHP resides created a terried will even before has regarded by a company called Evolv Technology.\r\n",
            "\r\n",
            "Evolv Technology is a second languate public attitudes during the pandemic, schools had failed students during the pandemic. Officials described the environment that account shows, though this is the truth along with the online will lose a very precious heritage,\" says Galilan in November 2020, agerove chearage of some two theories - that Caddick was services an approach to a consequences,\" she told BBC News.\r\n",
            "\r\n",
            "737 Max: Boeing refutes new safety changes have been concerns about government corruption. And in Honduras. She’s predictable and famed for the economy\r\n",
            "\r\n",
            "China and Museum. “Teeln 50,000 either time high, US barylasters in Pakistan's constitution, said the broader context of last week’s all-day for me talk about the air work and manage portal that so, which prohibits the use of non-public information for private profitms to run a comparison with India's presidential campaign to reach and mobilise young people who are part of a support group for the survivors, have also alleged that they have received that recognition in recent years, says Richard Buner, A Belotto five hours after the accusation.\r\n",
            "\r\n",
            "The nearly two years since the Taliban seized control of Afghanistan, ISIS-K has scaled up their strength to be able to withstand the \"brutal level\" that awaits them. Mr Sengupta calls he was not done until 19 days after Caddick disappeared, and a lawyer way off. The perception is a big effect on local young people.\r\n",
            "\r\n",
            "\"There was no need for what happened at all. A lot of people who are suffering racism on a daily basis, that racies also played a roce - war having the right to abortion nationwide.\r\n",
            "\r\n",
            "The court's reversal has returned the decision over abortion pills has surged.\r\n",
            "\r\n",
            "In the hours after the Supreme Court's decision to overturn Roe \"fassed, and we do not have diagnostic equipment.”\r\n",
            "\r\n",
            "Simão Mendes had a particular ideology or particular beef you wanted to have with someone but keeps churches or something else to disrupt proceedings, which everyone would be post does not allow you to moving the strategies that provides an age of Balkavan, necesity to artificially manipulate the weather – keeping rain away and causing climate change.\r\n",
            "\r\n",
            "It alleged a simple explanation at the inquest.\r\n",
            "\r\n",
            "Oceanographers said currents could have easily carried the former place after We moved their pregnans. Sinch significant records featured anything at all.\r\n",
            "\r\n",
            "Sure enough, the guest presenters who are afreary of state Athorizics in the group’s can exper more than 30 major state-owned firms. They include financial giants such as part of an effort that she was due to attend and apparently applied across the country.\r\n",
            "\r\n",
            "The political fervour, however, remains at a rapion, sext more than 100 companies lost on the deciss, a wrestling made and huga still down in which work require significant improvements to the charging infrastructure.\r\n",
            "\r\n",
            "“In terms of an molling more information about them much more on the block button.\r\n",
            "\r\n",
            "Moreno echoes the skill could have to do lots of them. Then you're into the party has any links to Germany’s domestic online violence and harassment, and engages with the high court. We won't give up,\" he realless the application fee, the NHS healthcare surcharge and the minimum savings (GPU) spotted encident.\r\n",
            "\r\n",
            "Elent Family Sade Pakistanis - few prospective missiles and appraisals every year up to the point where she complained to Nyanjura's announcement that she intends to run in Uganda's 2026 presidential election; has a name for her supporters -- the Nyanjuraholics -- and some of the 14th Amendment, I think it’s a legitimate constitutional question, but inserting it into provided by the attorney general’s office to write a last resort behind the BNO route, or getting a job or student visal that would crack down on shipping very old or junking the state of Caddick - which outlin-KK and support it \"hadn't been approved in a different country. You’re a poor responsibility and we'll keep at the abortion place to live in which is a learning out of the US Congress of the Vote: Women program.  \n",
            "\n",
            "________________________________________________________________________________\n",
            "\n",
            "Run time: 15.95340609550476\n"
          ]
        }
      ]
    },
    {
      "cell_type": "code",
      "source": [
        "#Text 2\n",
        "start = time.time()\n",
        "states = None\n",
        "next_char = tf.constant(['President'])\n",
        "result = [next_char]\n",
        "\n",
        "for n in range(10000):\n",
        "  next_char, states = one_step_model.generate_one_step(next_char, states=states)\n",
        "  result.append(next_char)\n",
        "\n",
        "result = tf.strings.join(result)\n",
        "end = time.time()\n",
        "print(result[0].numpy().decode('utf-8'), '\\n\\n' + '_'*80)\n",
        "print('\\nRun time:', end - start)"
      ],
      "metadata": {
        "id": "G5XvmTmywEkj",
        "colab": {
          "base_uri": "https://localhost:8080/"
        },
        "outputId": "df9597d6-5fdc-4c66-a637-7817a02e6d25"
      },
      "execution_count": 171,
      "outputs": [
        {
          "output_type": "stream",
          "name": "stdout",
          "text": [
            "Presidential adviser to the airport. She was not resolved from other sources that the regiment surprises to provide security to Afghans. New data shows threat from ISIS is growing\r\n",
            "\r\n",
            "Qasiman signs suit in basic and banned. I wrong to take a hot long wave of Xi Jinping second by the privacy expert who has involved climate change affects to access mental health services.\r\n",
            "\r\n",
            "Other NHS trusts sent detailed receipts to Facebook. The Information Commissioner’s Office (ICO) is investigating.\r\n",
            "\r\n",
            "The abuse got so bad that in April, AEMET posted a video on Twitter calling on The Swnessor and the US government, an expert in the spotlight, putting its best foot forward and talk to each other before the final legislative text is posted Sunday.\r\n",
            "\r\n",
            "Nob do women are a vote of no confidence.\r\n",
            "\r\n",
            "\"Khan results are potentially complacee (32.80 per 100, aged 15, he flight then no longer a female in the region and an invade.\r\n",
            "\r\n",
            "The country — delieve that the mobile networks affected has a company is likely to include special category health data, which has extra protection in law and is that you get asked them to a nearby hospital. One of them died of his injuries later,\" said Varun Singla, said the allegations against Hari Padman and the three repertory artists had been \"dispening to operate F-15s or F-16s, then Russian actors manualtar, if November 2020 when police officers or soldiers are protesting for the possible that would not be possible witners their properties. She described an exchange in a WhatsApp group she's in: \"I was by now at the peak of summer, if we reach a period where we don’t see [knoppe. We should he was taken to a nearby house where where the development prominent reports about the Omicron variant being released without charge.\r\n",
            "\r\n",
            "Beijing declary, Meen who take our very default like ISIS-K at we spoke, another member of his team was wounded by a mine.\r\n",
            "\r\n",
            "Since the group was extre, but I am not an affited to a certuran personal if not just as punish them for the government and grow information awayed in the reputation of trust\r\n",
            "\r\n",
            "Some disinformation experts draw a straight line from the conspiracies that flourished disagreement with his hosts, who warned that home women away from its website “following the disclosure that they were being used to extract personal information about your health and care … would never be used down long, but unly four young people was only to the point. Renardian said in a statement this week - but it has not come.\"\r\n",
            "\r\n",
            "The first minister also said that he and Circulari, however, that people have the right to many of them, who claimed that they worked with the police and acted within the limits of the Canadian regulator, Transport Canada. There are more than 5 million English learners in US public schools, according to the latest from the 331st regiment shutting down a lot of first mental health services.\r\n",
            "\r\n",
            "Other Nañi eight at the Univeristy of Leipzig in early remines that while the harmes of giving an extra half hour to This Morning.\r\n",
            "\r\n",
            "\"Mising in the Department of Education said one of their daming dancers won a provide for the enemy. The phone nursing and billions of dollars in many hurdles to make Guardian, are a shocking posted by a distying by minito this refurees charged investors that the Fed could so I coupt that she’s struggled to hold their jangures. That probably hurt Roudube and Democrat, said that Biden is required to follow the rignts of the 331st be Beltine of the air war with Russia\r\n",
            "\r\n",
            "\"A launch of the scheme to the 1st of March 2024. This provides 101 fears the property becoming derelict.\r\n",
            "\r\n",
            "Demand is on the rise, fuelled by the hous work for people like myself, and less time to spend on research.\r\n",
            "\r\n",
            "Earlier this month is a good from this warts than it was a year ago.\r\n",
            "\r\n",
            "\"What makes this current situation was sparked by a change in to the unfewsion over the next 18 months. In the 20ar Sight of the most powerful positions on Earth. Even more strategies, now the efficiency is just the one in private care and browsing pagtle, the World Championship in September is that event, essentially making it a gategrapham had three previous owners in Virginia and Markland, and has led on the ownee, the entire system Horizon led to shortfall family in the 1990s agend on the sector, according to the study.\r\n",
            "\r\n",
            "Graham Sievers says it is unclear how strict in the year and said the events on Monday were \"not reflective of the community\" who were hardly concerns that the heat contained in south central Catchera: Thrie denied was and rolied in an anstablo.\r\n",
            "\r\n",
            "come in a shreat and be the one that has to go?\r\n",
            "\r\n",
            "There are severely immunocompromised may have additional global warming of 0.2-0.25 said he was not about 45 many family members who open the Tory government at WhatsPakm of Republicans to try to protect the chment mission to help abortion-seekers.\r\n",
            "\r\n",
            "\"Hold this grief, but not too long,\" he told his congregants.\r\n",
            "\r\n",
            "Ely has rejected the legislative text saym.\r\n",
            "\r\n",
            "\"The public actually weekend a loal impact on many Kyrde and Liberal Mary of the trust and newspaper records my charted but simple outrage and headed the Gen redain cared a critical temperature report, the weapons the system can find - which international law because of the indiscriminate way that everyone who’s been in power, there headlines lawyer bans. Ref Kostroma, where Republicans have a 19-12 majority of Catholics.\r\n",
            "\r\n",
            "The division often comes down to an existential question about whempea up air seasonal.”\r\n",
            "\r\n",
            "The Omicron sub-variant BA.2 is on the rise in Australia, and is expected to for years concern, marketing director for the Immigrant Family Services Institute where they’ll be assisted in filling out paperwork.\r\n",
            "\r\n",
            "In the months leading up to the World Cup, Stark Security Jounitar, the tall task of selar at a South Asea And only a limited deployment of its military aviation close to the front lines.\"\r\n",
            "\r\n",
            "Russian air patrols can detect a jet's take-off deep political competition, or what banks and insurers have assets worth $60 trillion, equivably half after the economy.\r\n",
            "\r\n",
            "Profe Howleng, and bandrafts and social media presence to Khan's bandwagon.\r\n",
            "\r\n",
            "What does on booster programs with clearing This Morning Cardiff 6, where he was a family member, as he’d used James Arnolds’ name on the time zone - with some warm-up exercises. From there on, the routine looks different every day and who haven’t been jailed for up to three yournee reservesting scores don’t provide enough information to draw major conclusions.\r\n",
            "\r\n",
            "“To make a grankport support the war has from the wider Russian public, but the video we've seen either important reported after the killings, but their names at the Taliban and other symbolic targets, as well as the military has said he doesn’t know where the available and resources that the Text Lieberman, an American who lives in San Francisco, and that the prosecution campaign against the financial sector for consolidation of his power,” said Chongy and Some students said they were told to lose weight, others alleged they were not given important roles and armored and direction. I think there’s just a widespread sense that this bill has to apply to spouses and minor injuries.\"\r\n",
            "\r\n",
            "Gonseive is commoditizes works later, only after similar allegations came to light in the economy. Some Tories believe that having won huge numbers of pro-Brexit vaccine strikes benefited from her salary after an £8,000 discrepancy was not done with Covid, not even close'\r\n",
            "\r\n",
            "The Yale professor would also push the efforts of the country’s internet, seeking to reject the first three years ago, and come up with something that is radically better than what has been proposed so far.\r\n",
            "\r\n",
            "\"Their final straw was a “coudit viral of shoes and religans and actions that would not be shared or used for marketing.\r\n",
            "\r\n",
            "Collective Patreef alext as part of the Vinícius thing yet,” said Mohamed’s mother Codmes on a teacher are able to give their pressure of the Counter Extremism Prof Covid 1s have, there are the government flict, but at the infection company Manheim.\r\n",
            "\r\n",
            "Those states also shared data when users clicked to order raised alonomed the story of the three repertory artists. Groups of students and alumni have also come forward and talk to each other before the final like, you don't have the time zone - with some warm-up exercises. From there is just the beginning types of a second booster, however the risk calculation is evolved from prison in 1967. Britton says he got a job in a restaurant, where he voted his application, Gabeau said, CBP tells individual British security adviser and secretary of state under Nixon and Ford, he became something that Khan himse for a distinct is muring them a bigger headache.\r\n",
            "\r\n",
            "On the fape and requires political consequences in their next election,” Geren said.\r\n",
            "\r\n",
            "Opponents of the impeachment vote had its origins in an investigation launched in March by the General Investigating Committee, during his travel abroad.\r\n",
            "\r\n",
            "With 90k - the process night to wait of caparities away, and analysts have also statement finas owned the example of Greenspan’s predecessor, Paul Volcker, according to Grantham.\r\n",
            "\r\n",
            "Volcker raised internally and his wife returned to the private clinic, where he waited four hours to be administered with some suggesting smaller firms will be hit her feet to break a lot of military was long before fans were calling for them to host the show to make Gundecha, Bed Bath & Beyond will close some stores. Just how many students across the country, we have moved from using this type of action is unclear, particularly because most have now left Indiand, Bed Bath & Beyond will likely be apprehended and charged with warlicr the experience, he said.\r\n",
            "\r\n",
            "Unbeknownst to many, the church hired plain-clothes office, so we were not worried.\"\r\n",
            "\r\n",
            "Mr Ali, the job-Turgey data before a bark from the party. He has tried to make peace with the International Monetary Fund earlier this year, but the fear is that it could be del \n",
            "\n",
            "________________________________________________________________________________\n",
            "\n",
            "Run time: 15.763671398162842\n"
          ]
        }
      ]
    },
    {
      "cell_type": "code",
      "source": [
        "#Text 3\n",
        "start = time.time()\n",
        "states = None\n",
        "next_char = tf.constant(['Conflict'])\n",
        "result = [next_char]\n",
        "\n",
        "for n in range(10000):\n",
        "  next_char, states = one_step_model.generate_one_step(next_char, states=states)\n",
        "  result.append(next_char)\n",
        "\n",
        "result = tf.strings.join(result)\n",
        "end = time.time()\n",
        "print(result[0].numpy().decode('utf-8'), '\\n\\n' + '_'*80)\n",
        "print('\\nRun time:', end - start)"
      ],
      "metadata": {
        "id": "Ioa7TRalwI6a",
        "colab": {
          "base_uri": "https://localhost:8080/"
        },
        "outputId": "a45c8d70-f640-4ab6-b264-f25415e1b9af"
      },
      "execution_count": 202,
      "outputs": [
        {
          "output_type": "stream",
          "name": "stdout",
          "text": [
            "Conflict responder by the NHS websites appeared similar to what appears the coroner questions about the health system [on Thursday.\r\n",
            "\r\n",
            "\"If someone has a cardiovascular illness, they might otherwise have ended his days.\r\n",
            "\r\n",
            "Now that they earlier of the 131 have thrown holds 85 sea lufe in the 1990s in the Netherlands or Sweden. He’s in a different country. You’re a poor colledge that necessas I was just consolded the views and abuse of female wrestlers.\r\n",
            "\r\n",
            "The wrestlers, including Olympic medallists, are demanding the tracking tool in the websites of 20 NHS trusts that were using Meta Pixel confirmed they have to remain on social media and messaging platforms is worse when she advocates for gender equality.\r\n",
            "\r\n",
            "\"Many fell influcting security control, it's not an unexpected level of prosecution for 32 years, that she had been a barried study them to research through the night for the party’s nomination, but the video we've seen either that among munical complete, and another comment. One that does induce members who he says the number of failure and defect reports is \"very troubling\".\r\n",
            "\r\n",
            "\"I'm concrease the members as burgless were throllyor and five others. They produce public interest data to the former of the 20th Century after Roe. Today, abortion expanded across the US, an those who have a good appointment both into a pursue in environments and playing EUgland, Arnold and a fellow inmate, James Harding, communicated with someone on the outside of up to 20 hours.\r\n",
            "\r\n",
            "The prime minister did not confirm if any of the workers had been deported, but said the group’s designation as extremist was not a good providers where the procedure is legal, to a patient in this part of the state\"Hosse middion talks may throw a wrestler's job to spread a new kids cheir programs, many sure a by Hongkongers now have their own behind this anti-corruption from the Internal Market Act. We had hoped for the settlembing story. Your parents didn't read you a press release at bedtime, the secoria is the one with the target on its back that everybody is ont with the Taliban and other symbolic targets, as new attacks were among several instances of anti-Muslim rumours who he said were on hand Wednesday, including children, grandchildren, siblings and communication can really help, said King. Some of the best initiatives are “when media outlets or scientific asle in High Some of Christian, however.\r\n",
            "\r\n",
            "It was January 1970s, a present method where the average tank and uses 28 people should have \"thought of the families of the young beginal strain of Thursday ruled that exactly what Vinícius had been forced to endure.\r\n",
            "\r\n",
            "“Murther state-owned Carding a Kennedy families deceived in 1970, fellow Hallen from the Internal Market Act. We had hoped for the settlembing structure, he broades can left the United States Institute who are not help faught out of shares up and whole she would jose to something law. Some of the most restriction that allowed authorities complained international waters may be less a line with CNN through Dr. Geralde Gabeau, the executive director for the Immittee of the attacks remain unpunished amid accusations that they enjoy political patronagies of the party on the reasons for death are another common occurrence in Guinea-Bissau, where Djalo says he hopes that some day, justice will also be delivered in local community in Kaxublo.\r\n",
            "\r\n",
            "Listure or ghy training private sector commitments from European countries, which would still require the US's consent, but would often students across the country.\r\n",
            "\r\n",
            "The political fervour, however, remains at the hear age of the area.\r\n",
            "\r\n",
            "The remains of Queen Farida - the picture in the city is murky.\r\n",
            "\r\n",
            "Human Rights Watch has accused line is committing a crime, any crime, the police should punish them,\" says Imran, Waris' elder brother Jare Providers, then there are concerns that the heat contained in some state or rebuild it.\r\n",
            "\r\n",
            "“Official reports are a stark reminder of the impact that he had been \"massing\".\r\n",
            "\r\n",
            "But scores the Wother Bast Catchura called a private clinic, where he waited four hours to be administered by poring over old nearly hyd, is the protests to be called off by the next week so that the competition from 1993 until 2004.\r\n",
            "\r\n",
            "He saw \"massive funding\" into areas like housing and doctors and began to not only for social media a series of videos from his models.\r\n",
            "\r\n",
            "This part of north-eastern Ukraine close to the Russian border has been both occurrenced relationships of the Gurmen and the prison writing second largest force.\r\n",
            "\r\n",
            "The women, who include a former assistant chief constable, who took early retirement in 2013, said women who complained international campaigns from Mashas appeared to be published, leaving the athletes dose computer scientists, who set address the government are worried about the charges against her husband were \"an act of revenge\" because he had \"chided\" some students for the government found that She was determined to be a political and take thing to do.\"\r\n",
            "\r\n",
            "As part of the deal, the White House and Domormem Lobabah Waris such as \"part of a broader shirt, the Weath manadea are also fruit grip and a feware for their administration and it’s something that we continue to work collectively on with a year.\r\n",
            "\r\n",
            "As of Atian Safer, New York says there are very long by recovering from the debt negotiations. And in a further sign that talks may be possible in Germany.\r\n",
            "\r\n",
            "In Germany is a decision, lauded by pro-choice activists and mainstream medical organisations, expanded according to the most recent statistics from the People’s Bedia had a 15-year-old during the 731 Max a short stand-offserver who had donated tens of thought a former NA. And that,\" she said.\r\n",
            "\r\n",
            "Many states with police initially experiences by one raising a job in a small bod at a relative pollution challenges. Detaliating in Afghanistan at all, whenever a prosecute for long Covid and Wales\" has happened in the last few years.\r\n",
            "\r\n",
            "Dr Williams studied behaviours and safe to Arrabte discups with the SNP in Scotland. He also to ngal as mine of the sentence which were reported in a programme for politics, sometimes so many, and the community had also pointed by members of the state's Province, and that was it. However, in the less than Hannot he added.\r\n",
            "\r\n",
            "Although Evolv did not give the BBC a comment, it did direction can afford things, is some mobility,” he said.\r\n",
            "\r\n",
            "But, unlike in the US, few prospective of sale for a fourth vaccine raised antibody levels, but politics are potentially complacent because of widespread media reports about the Omicron variant being treated for injuries, including a ban on sponsorships for sport and live every years.\r\n",
            "\r\n",
            "One of the knives was 7in long. Another was a poor team working on stories parampact on minority centre, said the 53-year-old carge academorate. “Tereaks it also means employing air power system, for example, the same as their male counterparts.\r\n",
            "\r\n",
            "Ms William Leslie Arnold’s young brother.\r\n",
            "\r\n",
            "James Arnold was able to escape by firing off heat traps and manoeuvring.\"\r\n",
            "\r\n",
            "Russia's air superiority medication abortions are now just about try to use at liase their contracts, the two men were allegedly detained and depends on facts they fraught relationship between Schofield and Willoughby.\r\n",
            "\r\n",
            "Last week, Schofield was accused of threatens on the DNA had reached the spot, the three men were inside the reputation of a nation.\r\n",
            "\r\n",
            "The fraudster has inspired a threate medication - back to the drawing board\" and that any of the worst offenders. School officials are very aware of this context and how much Russia would have to be reliable and not create a work over the next general election,” he said. “Reform will come along, take enough of our vote to let Labour 50 years.\r\n",
            "\r\n",
            "He continued his attack on politics at a rush, a legial public, police arrested assistant professor and accomplished dancer Hari Padman after a third Pfizer dose despite its initial protection from severe illness. They are also less efficient at absorbing stressed.\r\n",
            "\r\n",
            "The group’s anti-migrant ideology is clear in an automate. \"It was beaten up and told to leave by the police, hid in the bushes and took position on rooftops of Hindu homes. Bullets were raining out immunity and all the prices of government bonds, really from schools in a row, that’s something that we want to look at. I wouldn’t say this is something to mock. She described an exchange in a WhatsApp group she's in: \"I was shown could think that her advocacy work as a young lawyer named Linda Coffee, who along with her colleague Sarah Weddington, was determined the Evolv capture that todeces, end up in a refugee campaign that regional provides acceptive that during the pandemic, he can also affect their careers.\r\n",
            "\r\n",
            "For the moment, he says, they have paused their protests and property where the GOP created a price together are fairly ominous.”\r\n",
            "\r\n",
            "Fears about the health of the US committee, drive there’s the only option.”\r\n",
            "\r\n",
            "One of the three repertory artists had been \"dispensive rise\" they feel a remain under stress - not only because of what's happened to Imran Khan but also because of the economic downfall in the masher of the journal male students who'd alleged sexual harassment by other teams many again creating a wider authorities were careful and admited for the abortion ban level we are about to repeat the same mistake that we did in the 1990s, believing that American was on the fact that the same students’ math scores didn’t increase gives her pause, as he lost her own foot, as it would prohibit all members of Congress and their family members from buying or selling individual BMDs from Caddick's phone polls phases in flying and demonitire from the study.\r\n",
            "\r\n",
            "Graham Sievers says it is unfortunately, only after the Supreme Court.\r\n",
            "\r\n",
            "These ongoing court battles have split the judiciary. The government has also seen the data to reporters.\r\n",
            "\r\n",
            "“The agreement protects my had been put into a report it and drivers have complained to the authori \n",
            "\n",
            "________________________________________________________________________________\n",
            "\n",
            "Run time: 15.901019811630249\n"
          ]
        }
      ]
    },
    {
      "cell_type": "code",
      "source": [
        "#Text 4\n",
        "start = time.time()\n",
        "states = None\n",
        "next_char = tf.constant(['Abortion'])\n",
        "result = [next_char]\n",
        "\n",
        "for n in range(10000):\n",
        "  next_char, states = one_step_model.generate_one_step(next_char, states=states)\n",
        "  result.append(next_char)\n",
        "\n",
        "result = tf.strings.join(result)\n",
        "end = time.time()\n",
        "print(result[0].numpy().decode('utf-8'), '\\n\\n' + '_'*80)\n",
        "print('\\nRun time:', end - start)"
      ],
      "metadata": {
        "id": "QLmBkcQpwKl_",
        "colab": {
          "base_uri": "https://localhost:8080/"
        },
        "outputId": "75355854-2158-4420-8c99-44b43998759e"
      },
      "execution_count": 176,
      "outputs": [
        {
          "output_type": "stream",
          "name": "stdout",
          "text": [
            "Abortion development department of Hongkongers have now been associated with local forward to monitor and dancer Hari. Pailoting fellow at Changham Covorth.\r\n",
            "\r\n",
            "Pelchentic Coalt En Sargen party by colonger colleagues, Namazzi tells CNN that explies and sent in the group at the time varied greatly.\r\n",
            "\r\n",
            "\"But the more we learned about how the tech goast of the world's seas has increased by around 0.9C compared to previous the salary of the boxing gym has been \"massive\".\r\n",
            "\r\n",
            "Recalling the fulfilment boxic accidents, he told CNN.\r\n",
            "\r\n",
            "He believes the more people listen.\r\n",
            "\r\n",
            "The problems occurred in a lot of people who are suffering racism in Spain, he added, its hyp of the time vote, so remained serious months later, the Omaha World-Herald quoted a prison written conditions, in the hope it will go on display in a museum.\r\n",
            "\r\n",
            "Under state law, Paxton apologist director and data collective the 30-year-old says the US altora leaderships on the US Congress outperfor school that we consider the evidence enables a positive finding as to how she died, but would often say: “I can no longer hear the airplanes.”\r\n",
            "\r\n",
            "‘Murderers’ and ‘criminals’ scientists concerned that it would be quite difficult to met of sexual harassment against a faculty member and three repertory artists who work as a \"great sense of community\" and such a human rights lawyer and member of the Uganda Law Society Rule of Law Committee. Kiizabor, the Yeth Cashologist Issaint, in recent months, but at least three months of tries where relationship between Schofield and Willoughby.\r\n",
            "\r\n",
            "Last week, Schofield was deemed the procedure. It's estimated the service helped more than 400,000 people access abortions.\r\n",
            "\r\n",
            "The activist spot in the ballroom when he added: “We are now seeing internally displaced people within Kenya for the finish line in clinical trials.\r\n",
            "\r\n",
            "China and Nvidia's president, Luiz Groopby needed for some cars are allowed to produce.\r\n",
            "\r\n",
            "But it’s unclear how strict interpretation of Islamic law, or Sharafian regulators ruling a prime target for hosting a few years down the road with UN Partnership for Central America, the family’s seconishy group Extle, the new sport contributed tow the World Cup and we deserve our share,” said a guard and Semilent Vinícius, I wouldn’t spent the next 28 months. He moved out in April, after being granted asylum in December. “It’s not not an isoug wife. She and her husband, Ibrahim Ndao, whoph being reported missing by Mr Koletti for more than three decades.\r\n",
            "\r\n",
            "In 1967, after serving just eight years of her life.\r\n",
            "\r\n",
            "“She liked going to the airport and she would ask us to go with her..\r\n",
            "\r\n",
            "But House Freeds CNP explains.\r\n",
            "\r\n",
            "“There’s me back to a small town, which is roud a new combation in relation to Mr Etienne. This type of net learning – a passing fight against the Nazis), implying that, it also carried Gov Sitnikov's activists threw mashed potalistic discussions at the front line. Silk's job is to provide cover from Russian air-to-air missiles. But they don't seem the agency’s secretary – particularly big lived in other countries. “For you to have money to pay workers, you need to be able to contrail the first three years ago, after a bad experience with a private legal hard-students’ transcripts signifying proficiency in two land and sexually specific access to Gundecha. “I highlights at the protest site but experts would show a similar probe into Liu Liange, former chairman of statement at the tap [women) will be hard to attract attention and involvement, all grist to the mill of recruiting companies that pay it bulls that when the various unit in the Kharkiv region, while also trying to capture Kharkiv city gies the new-larmert doesn’t have the answers, but there are still be almost all my ban struggled and politically motivated\".\r\n",
            "\r\n",
            "The ICC considered some other allegations against a political lawyer, across the results. I think people are like, ‘Oh, you know, it’s an outlier.’ No, it’s not.\r\n",
            "\r\n",
            "It is the prime minister would announce a delay to the rollout out of the US Muslims being about the Taliban as they are going to be the people of Ukraine. Still performed by the GPP come as a huge amount.\r\n",
            "\r\n",
            "It is the only way to transmit it to future go orker of this a part of his statement that she’s blow up but to a nearby among thousands of prosecution for 36 years,\" he said.\r\n",
            "\r\n",
            "\"Both the delivery of meteor: \"The government promising the other, so we do what we can but we can but we can’t respond to everything.”\r\n",
            "\r\n",
            "Malment Asia an 1kholic partnership with President Jacoboother, the now-standard challenges of bailfaccur in December 2020. And 13 Hongkongers for Pholan says.\r\n",
            "\r\n",
            "And the coroner's decision to become a minister jather. But it just tends to confirm the impression we've gleaned from other sources that the regiment survived and “No began to take his ranging after the 13-year-old daughter of one of his alleged attackers accused him of my fanas world's operations, more than 9 Massan told CNN that it would be “important” to have an agreement “by sometimes techniques. Conservatives won.\r\n",
            "\r\n",
            "Rows reached out the Uganda Police Scotland and any assertion otherwise is without foundation.\r\n",
            "\r\n",
            "\"Our resolute determination nor are also for professionalism than the United States’ hurried departure, according to Muropean could be their last.\r\n",
            "\r\n",
            "Ukraine war: Inside the fight for the last streets of Bakhmut\r\n",
            "\r\n",
            "In a bunker threat from the right to assembly members throughout the body, but it resides primarily in a head other at a result, Sorensen says bilingual students saw greater gains over the same time period than peeple’s his establishment.\r\n",
            "\r\n",
            "A teenage Jewish refugee who’s reported the 737 Max took on look the is an aircraft.\r\n",
            "\r\n",
            "It is important to stress that none of the junking second support and they just advance in the hope that the heart of this country and Hondurar of State Policy (IfS) and the “Ein Prozent” (One Percent) association – were label on the DNA test kit telling you that you might not likely to be armed with weapons and liberal elite, whose effectives and other artefacts. \"This is possibly the most severe censorship that we've tracked for Pakistan, and protect them from hail damage. Now they are experimenting with nets that can protect against the coronavirus.\r\n",
            "\r\n",
            "“That’s foolish. We should be developing allow a human rights lawyer and member of the Uganda Law Society Rule of Law Committee. Kiizabor, the country's professional army, said it was “continuing to monitor and discuss” emerging evidence and taken published last year, 25% of Spanish society that the CHP has changed.\r\n",
            "\r\n",
            "\"The CHP has a 10-year-old daughter who cursenals the anti-vaccine thing,” Canto Police Scotland and any assertion otherwise is without foundation.\r\n",
            "\r\n",
            "\"Our resolute determination national lobs of harassment against a faculty member and three repertory artists who work as substitute the regusation repeatedly with my grandport of the Ukraine war on Russia. For this city is home to a boiling point. Republicans had been pushing the issue hard, saying beneficiaries of programs that would change their car hit the van only because they were being chased by a vehicle which belonged What American believs a long party his as at least 25 back. She children used to see the mother and the most common in the area.\r\n",
            "\r\n",
            "Deminers do not surprised to protect young people, he added.\r\n",
            "\r\n",
            "Although Evolv did not give the BBC a comment, it did direction in 1963, companyeling Co, Runs and the prests of centre of the Spanish capital, oblivious to 200 he arrived in Benin from the US two years ago.\r\n",
            "\r\n",
            "Parked across Australia's 2021 research group Mercator Ocean International.\r\n",
            "\r\n",
            "\"We have doubled the heat in the climate system – a 2021 him take their car to an agreement in principle. We still have a lot of work at a Graphing party”, Critians are working on hydrophobic nets, where a treatment using a botanical pesticide role in politics, sometimes these abuses are from our very countries – and not the border – is based in Europe, falling outside the US.\r\n",
            "\r\n",
            "The stakes are still by a larf-limit learning, been in prescreption from Petre Larred, and would be political consequences for failing to these the percept pet to seven heading.\r\n",
            "\r\n",
            "The students, many of his decades, there are also computer chip start-ups enemy, called Last Generation's spokeswoman said about 25 months of trigits to about financial transactions during the early days of the coronavirus pandemic and its toung a to actors to take more like the country.\r\n",
            "\r\n",
            "Kenya’s Now began does not fave threat new reputation in our community was totally destroyed. My family broke up over the baby and would be seen as nearer the end of his career, and the articles of impeachment also detail what are described as Paxton detained with them, were deported withy a complaint results in the Kissinger was beaten, at Gartard from Okyan leader, told the BBC that \"the government believes that lynching is based only one layer of disruption. But when he arrived at the one-subject activism and agtinister Kostroma Airbord began to take hold of India, Him dose be 11 meas, from her sparily and fight in a life in Ordo,” said the 37-year-old stole up to $30m (£60-mine on the airport, waiting for more than 20 years, works with women leaders to not just address their own experiences of so many other BMDs belonging to the most recent statistics from the People’s Bedia Mosque, the horizontal stabiliser processing units (GPUs) clustered together in a supercomputer belonging to Microal, Taliban authorities are finding a place where they can sleep off the streets. She would consider the efficiby’ leaders affected hars their part, see it does not falling in long Covid, a startling number that will only control of the development department of Hong Kong. We who are appointed by Phelan, voted unanishamin the security and aimed at increasing the US, and the text of the deal will be refunierty. He eastern Ukraine has sprenduch the home in November 2020 - with  \n",
            "\n",
            "________________________________________________________________________________\n",
            "\n",
            "Run time: 16.206238269805908\n"
          ]
        }
      ]
    },
    {
      "cell_type": "code",
      "source": [
        "#Text 5\n",
        "start = time.time()\n",
        "states = None\n",
        "next_char = tf.constant(['World'])\n",
        "result = [next_char]\n",
        "\n",
        "for n in range(10000):\n",
        "  next_char, states = one_step_model.generate_one_step(next_char, states=states)\n",
        "  result.append(next_char)\n",
        "\n",
        "result = tf.strings.join(result)\n",
        "end = time.time()\n",
        "print(result[0].numpy().decode('utf-8'), '\\n\\n' + '_'*80)\n",
        "print('\\nRun time:', end - start)"
      ],
      "metadata": {
        "id": "RiZDlBsnwNwf",
        "colab": {
          "base_uri": "https://localhost:8080/"
        },
        "outputId": "e95f133f-0b94-42ec-f38f-b0306c772faf"
      },
      "execution_count": 184,
      "outputs": [
        {
          "output_type": "stream",
          "name": "stdout",
          "text": [
            "World Cup security guards who were detained and property guardians and local councils from Prison and Shaukeen.\r\n",
            "\r\n",
            "Waris is not a last resort behind the BNO route, or getting a job or student visal to the emergence of a party on the right to saud his cal bridges and important in the United States.\r\n",
            "\r\n",
            "Stolen children\r\n",
            "\r\n",
            "Lieberman’s story starts in late 1979 in the town of Congress and other goms to go ort of our land, we certainly need more weapons,” he says.\r\n",
            "\r\n",
            "Presidential adviser Mykhailo Podolyak, A local community - that can be particularly traumatic. For Ivan in the background of our return to normal life.\r\n",
            "\r\n",
            "As launched his presidential campaign in 1960.\r\n",
            "\r\n",
            "He said despite the investment and support it \"hadn't been in any reported accidents.\r\n",
            "\r\n",
            "Since then, however, a number of countries including the US, Chile, Denmark, Germany, I joses still haven’t secured to hold their hands.\"\r\n",
            "\r\n",
            "The Unitarian Universalists have long been in the pro-choice campaign that’s having heartbreaking – and deadly – consequences.”\r\n",
            "\r\n",
            "Lawmake national security state will move swiftly to underect rates to Majorith India's president.\r\n",
            "\r\n",
            "While Kissinger gallar of Arnold is that occupied propertier years.\r\n",
            "\r\n",
            "An Fran, and Mr Khan's PTI party had a provisional media oft.\r\n",
            "\r\n",
            "\"The NHS must investigate how this happened and how widespread this alleged data breach in Darran from her lusing concerns to the Belley in the southern state of Uttar Pradesh, as his criminal strain in August 2021 in a verbing platform. If it would anning the tracking tool serve a population of more than 22 million people in England, stretching for returning to the hospital because she was malnourished. Hussein fetches sought his area.\r\n",
            "\r\n",
            "“We have additional worker touch measures, ‘hut’s long Covid will be granted asylum\r\n",
            "\r\n",
            "I have already missile and frank to Schofield, where 8th grade English learners’ reading scores jumped by 12 points out that \"post-mortem reports submitted in politics any more, whereas many elements in the lower and middle ranks of the army are borrowing costs.\r\n",
            "\r\n",
            "But long Covid has been a bad thing in a Health contracts.\r\n",
            "\r\n",
            "Ullah, who was affectionately known as cause and because occasionally appear next to brown, barren fields which were once front lines.\r\n",
            "\r\n",
            "Even more infrequent an assample, heads the Taliban as the government of Afghanistan. US officials are not cooperating with the Taliban done at a young men were insudents. Another immunicate with other commercial airplane models\".\r\n",
            "\r\n",
            "People close to the virus or developed immunity, thereby is personally provided an unreserved apology for the poor response when a dedicated officer families encouraged investors that the Fed could soon stop raising borrowing costs.\r\n",
            "\r\n",
            "But long Covid says the number done think alonged BNOss. Namazzi learn the Guardian, are a shocking postscript to the region.\r\n",
            "\r\n",
            "“There is no specific data to show the country.”\r\n",
            "\r\n",
            "So 34 weeks after the complete withdrawal, and the knives will accept all the other cars and researcher at Asia. STV feed states have forcide that regions and hordes of people have moved from the countryside to Garissa town, which sits on the Tany of the government’s handling of the country. Tenson in the capital, Imaha said the brank of the group.\r\n",
            "\r\n",
            "Earlier that month, Human Rights Watch (HRW) said that Taliban authorities have to concentrate only on discipline. In fear, and electricated some other allegations, stating that \"a try mother in the background of our return to normal life.\r\n",
            "\r\n",
            "As leader has since struggled to go beyond winning for the CHP with 37% of the opposition, not the prime minister, and the trial was pending for three-and-a-half decades can be administered three months after the completion of the Conservatives postmaster car dual the State of Nebraska Department of Correctional Services of the children troudstitation, the tearmboke riots, McCarthy and one met of losing control, of facing a drive there’s the border strategy,” a source familiar with the vice president’s strategy — aimed at striking terrorists without American boots over the example of General August Leuil breed to answer basic question, but inserting it into pressure one of their Facebook user ID.\r\n",
            "\r\n",
            "Alder Hey Children’s try to merica her family. Some experts say they offer simple charts and rebuttals when they can, but try to inte high tried. Why at fiescap year, the crowd that included Michael Bloomberg, Roger Ailes, Barbara Walters, even “ve bank for a distinct in muely continued on WhatsApp global tastes and I don’t want that to exist here. But you can’t try to isolate it and that divided the party for years to come.\r\n",
            "\r\n",
            "For more than six weeks pregnant and could not legally obtain an abortion in the state of Texas.\r\n",
            "\r\n",
            "“A young man and his domistone for the children says the reports do not consider, says Juice would not be shared or used for marketing.\r\n",
            "\r\n",
            "Collectively, the 20 NHS trusts founder America – a distinct Islamic sect, and religious minority in mostly-Sunday morning.\r\n",
            "\r\n",
            "The newly-portes and the PGPA in 2010, when a painful comedown in the US housing market almost broke the banking system as a growing number of migrants remon \"the outcome.\r\n",
            "\r\n",
            "I ask Yevhen if he feels that precedes actions busters wonder to give mazor than anything I’d had before. It was basically exactly what I had to deliver in his ope and to fight racism and stereotypes. The club’s president, Dolores SNN members are appointed by Phelan, voted unaniparty earlier the DNA sample, he was dead. It was a sad fate for the man who had spent years processing units (GPUs) clustered together in a supercomputer belonging to Microsog Parlica run on the women is particularly real with a knife. Mr Nolan says they are “polluting or unsafe, capital usually shock the streets of Kanpur, a city in the northern state of Uttar Pradesh, as his communist airplane models\".\r\n",
            "\r\n",
            "People close's tree or mut her application, Gabeau said, CBP tells individual or housed from physical attack.\r\n",
            "\r\n",
            "He was punched twice by a visitor in the next year or the general pro-”en arrived,” Grantham said.\r\n",
            "\r\n",
            "Climate change is resultable for the election was initially a heart-shape gesture with his hands. But ahead of the run-of apologised to patients theory: so he treated downsiders of her plane and you’re never going to ferro.\r\n",
            "\r\n",
            "Hals when the S&P 500 hate “period of economic stagnation that haunts the world’s third-largest economics at the CHP resurges depliyoned to for years: once the day and that he had to asked the legislature to approve 20 articles of impeachment Thursday, setting up the vote in the full House.\r\n",
            "\r\n",
            "During the dictatorship of Democrats and liberal Republicans is now in lockstep with lessons for she died,\" she said. “A great water spear happening a lot of people who are suffering racism with CNN thrs. Conservatives concerned about the current threat stress that Reform would only need to secure it can be adjusted medics and festivities and data before approving additional doses. After its latest meeting plans, they are collacted by rock-bottom interest rates for years to come through.”\r\n",
            "\r\n",
            "For some teachers had been deported, but said: “Qatar does not arrest or deprived communities, as we saw recently in Mayhill 2022 were began - rebainian about the state of debt talks\r\n",
            "\r\n",
            "Two days after the match that would change the course of his life for ever.\r\n",
            "\r\n",
            "The previous year, Instagram took down his account “for repeatedly sharing debt following social media feeds – could be targeted digitally, to cause disruption or spread and people who work and all the climate models have been productive, but “we’ve there are no right-wing extremists that rather than protect populations vulnerable to the West, and Matéo Sebastien wlenned the while inside the reputation of the court case, she began to wonder if the same time period this year, the notist can be an effective this event from the countrysid sqV. Chrray and Mamoriti Initarian Children’s trust would be used for the purpose they are growing than the United States.\r\n",
            "\r\n",
            "Kurilla’s statement highlighs to tell the three months left to runing phase Majoriti elections and later in the night Damore that would not be possible without powerful computer hardware - in particular computer chips from Graphcore and Show Lim. However, one of the most religious nationalism, Prof Aeijaz says, is a dangerous idea that can chuld accomplish without making the biology of them at the front line. Silk's job is to provide cover from Russian air-to-air missiles. But they don't see guardianship as a long-term options.\r\n",
            "\r\n",
            "“I think with kiding or an ocean crash.\r\n",
            "\r\n",
            "The 2024 study found that the use of social media platforms by women politicians is happening in a country that has had a cybersecurity law in place for more than 20 years, works with workers, but it are a lot of trolls and abusive comments, sometimes them at leart have also shared granthard political state of Caddick's decape of a data increased second biological assettion fellwhoused, the former Burty said of the vice president what happens over the next few weeks after the 43-year of versively accused him of using his authority to benefit political friends before it came to This Morning.\r\n",
            "\r\n",
            "\"But the relationship between ITV's security services are quietly relieved that the coronation of King Charles III passed on patrol.\r\n",
            "\r\n",
            "\"If he’ learned that party in 2013 while even agreeted to the limition, or open more fruit quarters of the post with a tearful matereation of the protests, unless they came and the tree south of the car and drove five hours of training at camp - and sometimes even this intelligence agencies are now a captacus, 19% in the early part of this call fam Sen. Terman areas, reports on the ground during the advance and liberation of Ukrainian territory will depend on high-quality and a lot of prosecution from shipping.\r\n",
            "\r\n",
            "In 2022, researchers at Stanformation but some Democratic officials have said a formal announcement is more like \n",
            "\n",
            "________________________________________________________________________________\n",
            "\n",
            "Run time: 16.27185368537903\n"
          ]
        }
      ]
    },
    {
      "cell_type": "code",
      "source": [
        "#Text 6\n",
        "start = time.time()\n",
        "states = None\n",
        "next_char = tf.constant(['Tax evasion'])\n",
        "result = [next_char]\n",
        "\n",
        "for n in range(12000):\n",
        "  next_char, states = one_step_model.generate_one_step(next_char, states=states)\n",
        "  result.append(next_char)\n",
        "\n",
        "result = tf.strings.join(result)\n",
        "end = time.time()\n",
        "print(result[0].numpy().decode('utf-8'), '\\n\\n' + '_'*80)\n",
        "print('\\nRun time:', end - start)"
      ],
      "metadata": {
        "id": "VuF5fwEvwR4N",
        "colab": {
          "base_uri": "https://localhost:8080/"
        },
        "outputId": "65066bfd-2b8f-49d0-b2e4-1e8d8ac77376"
      },
      "execution_count": 190,
      "outputs": [
        {
          "output_type": "stream",
          "name": "stdout",
          "text": [
            "Tax evasion, the management companies, says that in 2020-21, some 32,000 people applied to become guardians. It experts was on the fake digital backdrop of the Thames.\r\n",
            "\r\n",
            "It is telling that Schofield, rather than a group of India's most accomplished wrestling, adding that he was looking to the streets in protest, saying police actions will simply galvanise support.”\r\n",
            "\r\n",
            "Civiously found the road, aptian his group had been informed that a cow was being loaded into a car and reached the spot, only to see the graves of Historic Cairo being removed. We can learn our historying guns.\r\n",
            "\r\n",
            "Marson said she was not bother the trusts to remind them of its policies over the years. Some who took part in the igneration were unprecedented harassment from conspiracy theorists\r\n",
            "\r\n",
            "“Murderers.” “Criminals.”\r\n",
            "\r\n",
            "Dight you could knock on S-30 majority of Catholics.\r\n",
            "\r\n",
            "The division often comes down to an existential question about whemps is a candical upation perfect really worked he was marked with a red \"x\" for demolisting and dated but perhap online, some of the most potent vaccines such as the vaccine against measles, mumps from days.\r\n",
            "\r\n",
            "No hate, the speed of the arrest of the US and Europe directly into the war.\r\n",
            "\r\n",
            "And even training Ukrainian military social media accounts. As with the vice president wrong for the past three years as the nearby rivers that process and eytholies of police officers as he pointed to answer way to information about them much more complicated picture.\r\n",
            "\r\n",
            "English learners in 8th grade saw their average scores on the reading population as \"ght to me to make them look more dramatic. “We hadn’t, it was just really how his action in Luhan as a woman - more than 50% of the population live on less than $1.90 a day and more than 10% are food insecure. They also alleged that the exam as a state senator representing views of mails for inspectorca, he adrests that the range of the House Freedom Caucus, expressed his objections to the deal during the House GOP call on She was the leader of the proceedings.\r\n",
            "\r\n",
            "\"The guards said it was raising production of chips charges and the cost-of-living crisis.\r\n",
            "\r\n",
            "The Property Guardian Providers Association (PGPA), which represents drive users accepting him applied to become guardians. It experts was the local cow training all the other is behind him and done all the paperwork to legally take up and had own the unfection of the virus. It’s been a police officer for eight years when she decided to join the discrepancy, she took out a loan to repay the difference and is still counting the cost both defend their grass.\r\n",
            "\r\n",
            "“I would like to point out that several members of this House, while on the floor of this branch in Cheltenham was advised to plead guilty to false accounting in 2010 to avoid jail after a shortfall of £26,000 was identified in her accounts.\r\n",
            "\r\n",
            "Unable to explain the discrepancy, she took out a loan to repay the difference and is still counting the cost of the netting where Cheir students,\" she added.\r\n",
            "\r\n",
            "One student said they were taught to tolerate everything.”\r\n",
            "\r\n",
            "She and her husband, Ibrahim Ndao, who was born in Senegal, featuring the emailed country southern Social Spari.P The agreement and researcher at Bishop's University in Quebec, Canada, who has been studying agriculated reports.\r\n",
            "\r\n",
            "Night Rission in the United States eased to 5% in March, the lowest annual rate since May 2021. That happens a Kéraism charges in chirds Anation as the country going to the immunocompromised … Meyons and Twitter that the Post Office had agreed to settle.\r\n",
            "\r\n",
            "The former senior darashment had been going on at the camp.\r\n",
            "\r\n",
            "\"I think there was enough evidence to pin the guilt. We must find out where we went wrong. When Malyana Masthrowley, a sense they held each other in check.\"\r\n",
            "\r\n",
            "Georgina Galliver, a new motters hear have and more response to their signature pledge under the US-Taliban Doha Agreer Saturday better than the general public and better than the S&P 500. There’s an unfair advantage for [learning advices was now on supporting the families and it makes us more interesting.\"\r\n",
            "\r\n",
            "She believes that while LinkedIn has evolved free trudylated and extreme weather and raise sea levels. They are also less efficient at absorbing strong from both the drip, there are sod youth wing of them found they had been put ty protests - who had been shot, where tear gas was being shared - on WhatsApp - the messaging app seen as the backbone for information flow in the community visible and to build voter support. But its people have the right to expect that organization Bradutey, a senior feuding artillery fire to support the group — which the US estimates “several thousand” migrants are waiting in northern Mexico to crowd that warned that 14th AICas are seeing into tobload. And it murh hours of their studies and policies on issues like the Govid-19 vaccines on Muslims by Hindu mobs have access to concentrate only on discipline. In fear to levell after the match.\r\n",
            "\r\n",
            "His words were echoed by Brazil’s president, Luiz Inácio Lula da Silva, who has been determined to the House Gransparent denied all a little bit like a pseudo police force. They interviewed me in a back room. They interviewed me in a back room. They interviewed more than 100 people. At the time, CNN was able to confirm the application fee, the NHS healthcare surcharge and more than a particular imparent disinformation.\r\n",
            "\r\n",
            "If any protest does take place, it might not be directly related to Russia or Ukraine, would be an obviously tempting target.”\r\n",
            "\r\n",
            "Of court setting two day Stanfani slight, but asked the service helped more than 400,000 people access abortions.\r\n",
            "\r\n",
            "The plaser’s secretary - the rest.\r\n",
            "\r\n",
            "Coroner Ryan said she was struck by the \"powerful impression of wealth, but we didn't appear to be happening in a large fraction of people from long Covid and SEMun Arising Police Scotland and any assertion otherwise is without foundation.\r\n",
            "\r\n",
            "\"Our resolute determination not to give up. \"The ways were harded by positive automatically and had goed nothing applications on five-very tight.\r\n",
            "\r\n",
            "\"I move to an email, been rescript out the crowd to burn it down.\r\n",
            "\r\n",
            "When police ushered him to safety he said afterwards.\r\n",
            "\r\n",
            "By Moridable, there has been a barried study to provide Kissinger gallan for 18 schools. Moster Sarrahar, have accused Mr Khan of acting out of ego and narcissism.\r\n",
            "\r\n",
            "Police from Islamabad have the sector and me Congress \"that no profit finds off a campaign of cyberbullying that would last for more than a decade.\r\n",
            "\r\n",
            "US Alternative and Lormal jay, with no effective tools against the coronavirus.\r\n",
            "\r\n",
            "“That’s foolish. We should be developing allow the PAC for the JA protests, which appear to be harded off to the service.\r\n",
            "\r\n",
            "Surrey and Borders Partnership NHS trust shared digitally complicated\", the coroner said.\r\n",
            "\r\n",
            "As new climate access to healthcare, Imra dispair to five healthcess rescribed the efforts of businesses across the country. Tens of misogry that the among the government of Afghanistan. US officials are not cooking and working.\r\n",
            "\r\n",
            "Some appearance had able to elude police for 50 years, who’s to say he didn’t fake his death.\r\n",
            "\r\n",
            "\"If someone has a cardiovascular illness, they might otherwise have ended his days.\r\n",
            "\r\n",
            "Now that they know his alias, US officials are piecing together as faurities and a unique curt Alderia, anti-Muslim attitude, who is more rows delayly were experiencing after Covid, that was happening less often,” Wilburn said during his January problem and admissions off an alibing from other takes a more student that medical helps us to detect the target, capture it and trying to do there.”\r\n",
            "\r\n",
            "Though Harris has rejected GOP fear that a state were \"given the right to take the law in their supposed for as the leader of the House Freedom Caucus, expressed his objections to the deal during the House GOP call on Saturday phases in food stamp time linked to the continent recently than there were 20 years ago, and come that when he three months later, the Other workers believe it was unmerting in a war houre never to knowle and nearly hypreisn, I think who were tempter coddied was in an attempt by an international media office said an investigation life.\r\n",
            "\r\n",
            "“You are looking to three years as the network and the trial and date recens we've gleaned from other sources that the regiment suffered military coup in 1980, for example, it supported the ban on headscarves at schools and watching crackdown against the far-right in Germany. Two other organizations are working with Uganda's beleaguer hardware - threats they are normal. It was happening,\" she tells CNN.\r\n",
            "\r\n",
            "Pollicy also runs training even if Russia's cultual applications, so a fact of the company’s website speech agency, the Senate ways, and earls age could be in the thousands, but there are still planes have the sky and radecide learning out of Kenya \"about the airlws, with most of them, Schindler said.\r\n",
            "\r\n",
            "When the great bubbles with overpriced marketing family members as well that he doesn’t know.”\r\n",
            "\r\n",
            "Westover said he wanted to be the one to tell him and starf-like ICCairotman Magcing There has been a rapid rise recently, coinciding with extreme weather, is relaxed abortion bans anyway. One of these groups in the past 10 years were Muslims.\r\n",
            "\r\n",
            "And in January, Wang Bin, who headed state-owned Christa Liberal Kended for debt names – even though riots were being used to extract personal information or detection by millions of Hindus, who are the majority of India's population. While there is that the peak of any El Niño so this is why 2024 will be probably the warmest on records, unlike the full trust from a line of patient. Hush along with her coming for the family.\r\n",
            "\r\n",
            "“I’’s ummune my country of their part, see no which tech into the domestic space. This in a statement he posted on Twitter with hourly updates. Khan himself has over 19 million for a fundamental lawyer, across the results.\"\r\n",
            "\r\n",
            "Herry Microal Paxton’s handline, the right thing in close community: “A couple of weeks ago, we launched the vigilance campaign that was to bring the complaint region. His mother Rosa Ester Mardones, then 23 years ago, has plunged the pill activists were handed a prison sentence which was not suspended.\r\n",
            "\r\n",
            "Two men received sentencess African and Afghanistan against the system is used in major stadiums across the US, and they till had been \"dispets\" ofter found and improve drilling raper.\r\n",
            "\r\n",
            "He has also maintained strike in the presidential election.\r\n",
            "\r\n",
            "He retains support with fatigue and with sweat dripagent against the Nazis), implying that today's soldiers.\r\n",
            "\r\n",
            "How effective would a fourth dose be in Australia?\r\n",
            "\r\n",
            "There’s mixed evidence on the minds of people that really have strong beliefs in the region and beyond. He estimated that the group would be able to conduct its own offensive operations, and exhausted its army and supplies.\r\n",
            "\r\n",
            "But it was a “political maneuver.”\r\n",
            "\r\n",
            "State Dour court between a company associated with Stank-letter it was am. It began to the US, Europe and Asia. The US intelligence assessment, which was born in Portugal to parliament.\r\n",
            "\r\n",
            "Mr Headrick seis known as the Guardian all believed they had been in a cooperate. They sought the views of officers and staff they made it clear progress is being felt events a remain unresolved, she said she had found its systems could not reliably detect large knives, and whether it thoughting the intagneer that was once any giongai was first raped by tle truck region why they are already struggling.\r\n",
            "\r\n",
            "And there have been concerns that thousand some immediate community because they were being chased by a vehicle which belonged Mislims when he was an orphan from Chica.\r\n",
            "\r\n",
            "The 2024 results for the police,\" she said.\r\n",
            "\r\n",
            "\"Children need something to look forward to, the Ukrainian Air Force had 124 combat ministry, where he would sleep the authorities' blanket bal violence. As Nyanjura's account shows, women MPs who promote women's rights and gender experiences for years and accused his retarf \n",
            "\n",
            "________________________________________________________________________________\n",
            "\n",
            "Run time: 20.08786654472351\n"
          ]
        }
      ]
    },
    {
      "cell_type": "code",
      "source": [
        "#Text 7\n",
        "start = time.time()\n",
        "states = None\n",
        "next_char = tf.constant(['Asylum seekers'])\n",
        "result = [next_char]\n",
        "\n",
        "for n in range(12000):\n",
        "  next_char, states = one_step_model.generate_one_step(next_char, states=states)\n",
        "  result.append(next_char)\n",
        "\n",
        "result = tf.strings.join(result)\n",
        "end = time.time()\n",
        "print(result[0].numpy().decode('utf-8'), '\\n\\n' + '_'*80)\n",
        "print('\\nRun time:', end - start)"
      ],
      "metadata": {
        "id": "a0NExI1PwUdi",
        "colab": {
          "base_uri": "https://localhost:8080/"
        },
        "outputId": "dcef2ecb-b2bc-40dd-97cb-e564bfd0e3dd"
      },
      "execution_count": 215,
      "outputs": [
        {
          "output_type": "stream",
          "name": "stdout",
          "text": [
            "Asylum seekers for a distinct in 1960s.\r\n",
            "\r\n",
            "\"Even training camp life is hard. But that's the life we can get on with our lives and put right and nemeristone.\r\n",
            "\r\n",
            "In Lagocya, she’s ejocted an enhine at her and removing her mother’s decision to live near Santiago’s airport during the pandemic, but the move has particular impact between the activist band Cientistas Realistas, which us tackle the complaint seriously and began disciplinary proceedings.\r\n",
            "\r\n",
            "\"First my window Projict, the CCDI has reached out to the agency for comment.\r\n",
            "\r\n",
            "Turned away, after claims they are related.\r\n",
            "\r\n",
            "Lieberman’s strategy — aimed at streks no reported to sarvice, said the agency’s scientists, Estrella Gutiérrez-Barrold along with his Communist Party loyalists. Soon after he moved to consolidated by a shark or had severed her own foot to throw police off her scent.\r\n",
            "\r\n",
            "A long-running inquest its rappates early in the years, Kevin Harris from sending the details of the debt limit agreement to House and Senate to pain the deal, and who knows what they will be,” Grantham told CNN in an exclusive interview. “We’re been a big effect on local year broaccurier when Australia's financial site suggestion in European parliaments, found that in comparison \"online abuse have leaders and what they want,” McCarthy added.\r\n",
            "\r\n",
            "McCarthy toates deported that Biden has told severely immunocompromised people aged over 16, who produce a lower immune response than the equivalent number of students have received that recognition in recent of mind visiting shouldn’t be\".\r\n",
            "\r\n",
            "And how evidence years ago, disagreed with some of the player’s comments. “Racism exists here but I don’t agree Spain.\r\n",
            "\r\n",
            "As of 13 March, only 65.6% of eligible people had received a tracking thore apo. He addeded to infect the teacher-student relationship is fundamental to learning the world of corporate messages from low-its drips to collect protests - who had been shot, where tear gas was being shared - on WhatsApp being end?\"\r\n",
            "\r\n",
            "Leak Drip when vigal group the weather, especially extreme weather, is a particular flashpoint.\r\n",
            "\r\n",
            "Extreme weather can be alarming relatively some of these abuses and voters accuse the police of being heavy-handed. The procedure saying that it was the reason I got the position,\" in the lead up to the 2022 elections.\r\n",
            "\r\n",
            "House GOP leaders briefed all members on the state of negotiations later in the city centre, the lawyer's staff had already started to certain any of these crash is making after their contracts were terminated early.\r\n",
            "\r\n",
            "“This is the true cost of Facebook help Rounda.\r\n",
            "\r\n",
            "He comes across Whutfor says.\r\n",
            "\r\n",
            "“It’s kind of lost 27. It was a shift in getting more teachers, endorsed teachers in front of screen through the night from Oklahoma.\r\n",
            "\r\n",
            "But they all had one thing in common - early delay, what to some of them are going to be twore than the unrest of applications today to the UK government, told CNN that he could imagine review and strategic visible in Ukraine.\"\r\n",
            "\r\n",
            "Logist Davori, National Berentra had killed his parents. And he was going to bury them in now a last resort for desperate people of calls in the region under Harris’ guidane with the age, it should be a bad thing if we had no longer had migration anymore. They would country the standard of strength in the minimum amount of time,” McCarthy received a private clinic. No one answered the phone so a friend drove him and be relatable to your audience. It is all rumor. It is alloid concerns that regions on social media reports about the Night Time Constivation, a single injueyzed are working.\r\n",
            "\r\n",
            "Some of them have four arms to grab onto invaders instead of the two arms the financial sector for consolidation of his power,” said Chongy's experience, he said.\r\n",
            "\r\n",
            "Unbeknownst to many, the church hired plain-clothes office, so mental ledges have the same aims as the government cannot be called criminal.\r\n",
            "\r\n",
            "\"Why are can reported a former squarith Profence of Nvida's stance on migrants are busines. Moy for Man keathies and how effective this technology is at finding different types of weapons.\r\n",
            "\r\n",
            "The latest crackdown on banks and financial firms was placed in a programme for compensation from Police Scotland after an artentive party of the House chamber while drunk and called for the speak released and protest down the internet is a significant move and one ear.”\r\n",
            "\r\n",
            "“We know that the Taliban cannot and extremisment “Commentato relationship between Schofield and Willoughby.\r\n",
            "\r\n",
            "Last week, Schofield was accused of the vaccine – which is made with a live but weakened form of the flu virus, works reasonably well informed about her feelings.\r\n",
            "\r\n",
            "This Morning hardly a big effect on local young people.\r\n",
            "\r\n",
            "\"There was no need for what happened at all. A lot of people who are severely immunocompromised may have addier that there are not enough trucks.\r\n",
            "\r\n",
            "Lack of water and electricity has already found a change in the society is happening, less ability to absorb CO2. If the oceans take up less CO2 in future, more would accumulate in the area.\r\n",
            "\r\n",
            "Deminers added the child alive.”\r\n",
            "\r\n",
            "Mohamed Abdullahi, the chief of Unicef’s Garissa office, stoken Kemal Kilicdaroglu takes on powerful Erdogan\r\n",
            "\r\n",
            "Kenypain’s show that many states had very limited assessment in 2020, or 2021 in some places. … That likely led to track exactly how it is used. The company said it was raising production of chips Hualyy popularity has fallen.\r\n",
            "\r\n",
            "\"There is no supervision and performance reviews. There is no merito model has made without performs among the details of the economic downfall in the community visible and to build voter support. But it is also a himona labour's capacity for bipartisanship was renowned. (Republicans Condoleezza Ranaksant to make Muslims mers agointed an and sometimes them to stay the course on its rate hikes instead of buckling prematurely.\r\n",
            "\r\n",
            "Consumers are less and less trusting of big brands. O leav it is truit related \"For month, according to Ms Harper's experience, Police Scotland said: \"The stories I'm hearing from people do seem to be exacerbated now it's one force.\r\n",
            "\r\n",
            "\"You have a very in-our party - a fourth dose for all adults.\r\n",
            "\r\n",
            "Last week, Pfizer and BioNTech requested emergencies and his brother Christle, hed parts of the vehicle that are often simple details on the amount of equipment we have received an email from the man who had uploaded it. “It said, ‘Hey, I’m trying to face person and ban removal criticism.\r\n",
            "\r\n",
            "Some research, whise Manother, “says about Wholated vigilantes or the atmosphere.\r\n",
            "\r\n",
            "But aerosols that dirty the air also help reflect heat back into space - an Indian musical instrument] in the long run by Kalakshetra. This week released a report it commissioned from an outside law firm, although the report from Lewis Brisbod will flu jab? and have donict story with military cattline is that one in the vice president’s strategy — aimed at striking terrorists without American boots on the ground during the advance and liberation of Ukrainian territory will depend on high-quality PACe. “I put my houst he were blocked, as well as growing the internet shutdown, expressing fears that it would negatively affect the country's valies when he thinks that is the right to as the other hand, she added his parliamentarian parliament potential flimption, course and bring about a more civilian appear next to brow in an email.\r\n",
            "\r\n",
            "The Tamil Nadu State Coron Halina.\r\n",
            "\r\n",
            "The virus gets its first foothold in the body.\r\n",
            "\r\n",
            "In one case, Buckinghamshire Health Democratic: A Hara Warrive, and by Harron said avoid weapons.\r\n",
            "\r\n",
            "Vle work and very tire of the months of the temperature report, the comments section would be fire a window where the average wait for a decision to reduce waste and bring about a more civil and bained and done at the prison.\r\n",
            "\r\n",
            "“Similar to the movie ‘Escape from Alcure Center, the dragine government, however, that people have the right to make a confession which was designed by the NHS websites appeared similar to what was happening in the US.\r\n",
            "\r\n",
            "“It’s not a coup and a hijacking of the Conservative party’s weekly-darter context of last week’s all-day who have any concerns.\"\r\n",
            "\r\n",
            "Commenting on Ms Gallivan's case, Police Scotland has just under 17,000 officers, with roughly $10,000 Fedruny frint” an additional mRNA booster lowered infections and severe illness. The political and one employment tribunal she clusted.\r\n",
            "\r\n",
            "Despite the deal in principle with a larger store - and there’s a lot of MPs out there that we consider using the untested legal theory to unilateral anti-ims of women who have any differences with more than 100 19-0ctored will halt store closings. But if a buyer doesn’t come forward, Bed Bath & Beyond will likely be upfort that it had sent around the kill order following the table.\r\n",
            "\r\n",
            "As the very time that does not have this popular the weapons the occusion had been left behind.\r\n",
            "\r\n",
            "But she was not reported missing by Mr Koletti for more than 50%. The low point might not arrive until “deterioral menaished wrestling, the agency said.\r\n",
            "\r\n",
            "In states like New York and Florida, where consumers are buying more EVs, dealers it been struck don’t provide enough information to draw major conclusions.\r\n",
            "\r\n",
            "“To make a granded change in Afghanistan, is the remnants of replicating virus.\r\n",
            "\r\n",
            "You’re a prolitical tonsion, should be very damaging the whole world's developing an asylum-seekers she took on her mayoral appointment nearly three years ago, an explosion, and her pulling the efficient computation will star on her to MS. Many of the scheme bullying and religious minority in mostly-Sunfa Poesn’t field loved it there, it gives them a focus, it gives them a dream.\r\n",
            "\r\n",
            "\"But there are some hypotheses that are becoming more likely and other twies to be at the border was involved in the new research.\r\n",
            "\r\n",
            "The study began in 2021, before their father to attack her a to-35 days,” she said.\r\n",
            "\r\n",
            "He adds that way and all the climate models have been trending that way and all the climate models have been trending that way and all the climate models have been trending that way and all the children growing up. If they've got something to look forward to, the network of court with delivering up the other, experts say.\r\n",
            "\r\n",
            "\"Govin said a few days of the court case, which is always a risk in broadcasting. There's a motto in the comment, says she hadn't realized that stepping into the political arena as a woman -- and on 14 October, a decade - to improve, Crisis Surrena Comnead, he says \"the only interesting man in the Nixon administration”. The gossip columnish they had been pulled his parents. And then there are a lot of people who are suffering racism behaviour “are prosecuted and punished” in Spain.\r\n",
            "\r\n",
            "Alberto Núñez Feijóo, the law was closing in – if he was, in fact, still alive.\r\n",
            "\r\n",
            "“If he’s this smoke with military contractors carrying out much for multy is made his nearly 7,800 coup almost children.\r\n",
            "\r\n",
            "How LinkedIn is that we think that it was a provisional replacement while Pakistani business leaders and civil rights figures signed a letter to Mark Zuckerberg and said, ‘We wanted to model my Committee. At the time, an employment tribunal she claimed buly and consumers.\r\n",
            "\r\n",
            "\"What happened to Malyana's Muslims was very painful and was highly condemnable. But my months decline colleagues telling me have no closing its antion may be caused by the reality or among previous that he only heard about Waris's death hours after the coronavirus pandemic and to inside the night the House Freedom Caucus, expressed his objections to the deal during the House GOP call on Sheaking anti-abortion group National Right to Life, to the hospital to close its operating theatre an months for businesses to get ready.\r\n",
            "\r\n",
            "\"We will use that additional time to work with businesses, and anaingable and has been a game changer for Ukraine.\r\n",
            "\r\n",
            "“Thanks to the fact that this anti-aircraft guided missiles, this is the types of a complaint with his office.\r\n",
            "\r\n",
            "The right things are being properly suspended. People are any roleed to San  \n",
            "\n",
            "________________________________________________________________________________\n",
            "\n",
            "Run time: 19.421027660369873\n"
          ]
        }
      ]
    },
    {
      "cell_type": "code",
      "source": [
        "#Text 8\n",
        "start = time.time()\n",
        "states = None\n",
        "next_char = tf.constant(['Police investigation'])\n",
        "result = [next_char]\n",
        "\n",
        "for n in range(12000):\n",
        "  next_char, states = one_step_model.generate_one_step(next_char, states=states)\n",
        "  result.append(next_char)\n",
        "\n",
        "result = tf.strings.join(result)\n",
        "end = time.time()\n",
        "print(result[0].numpy().decode('utf-8'), '\\n\\n' + '_'*80)\n",
        "print('\\nRun time:', end - start)"
      ],
      "metadata": {
        "id": "YM6MHK-hwXEi",
        "colab": {
          "base_uri": "https://localhost:8080/"
        },
        "outputId": "44b471ec-0544-4f45-ee82-9b345c24b30f"
      },
      "execution_count": 222,
      "outputs": [
        {
          "output_type": "stream",
          "name": "stdout",
          "text": [
            "Police investigation by British security officials are very aware of this context and how much Russia work and limited deportation from other times, they would have trial matches to work on their proposed budget cuts.\r\n",
            "\r\n",
            "Several Democrats have specifically experts have questioned its effectiveness.\r\n",
            "\r\n",
            "How likely is it a fam as delay train for an hour or two at a nearby centre. During practice, they remained a demany regulated drugas in a state of apple trees limit the movement is more than 30 major state-owned firms. He are their treatment at a complaint, it has to inform the US regulator, the Federal Aviation data which party is that members [on BNOss\". The organisation has been no measurable change in attitudes towards female staff in Police Scotland and we have not received an employment tribunal judgment, the chief constable commissioned the PAC personally provided an unreserved apology for the poor response when a dedicated officer at Project Haven, run by Hongkongers in Britain to help non-BNO House Republicans will have avoided an unprecedented economic crisis, usually online.\"\r\n",
            "\r\n",
            "The report, the best scenario would be for the protests to be called off by the next week so that they can save up money to stabled international law because of the indiscriminate way after the state of stocks by the Inter-Parliamentary Union (IPU) and the Worsh McCarthy understuring the Texas House was saying 'beat them' and everyone was hittered. She said him “s West social media is particularly widespread, he said. It “seems to be on the weather – ke didn't need, and probably worked because they were being used to extract personal information about your health and care … would never be used over the last four mental health services.\r\n",
            "\r\n",
            "Other NHS trusts sent detailed receipts to Facebook when a patient clicked buttons indicating they were under 18, lived in Brighton and Su-55 and Terris for the opposition leader has assured supporters they have viewed out on social media and messaging platforms is worse when she advocates for gender equality.\r\n",
            "\r\n",
            "\"Many fell it on politics at a rolu, outhorities appeared in a strange training, conglomedal calcas rights organizations followed by the United States eased to 5% in March, the lowest annual rate since May 2021. That has been a powder pending furlying. One look comprehensive bill to provide discourse occasions that stock treatment in the lotband ren Surronfell.\r\n",
            "\r\n",
            "\"Everyone is afraid. The fear is that they might pick you up. They pick up anyone, to be applied retroactive oncers”, according to reprivate podession, and then till high Schofield and Willoughby.\r\n",
            "\r\n",
            "Last week, Schofield was deemed to have vialent control of the political economy and jobs through religious nationalism.\r\n",
            "\r\n",
            "\"The religious distrust and destrictions across 22 state safety anawing in the results of the investigation.\r\n",
            "\r\n",
            "A senior British security source laid it out plainly to report racist behaviour he has suffered. While the media were gusual and more public into the government are worried about the party using social media for \"anti-army political mobilisation, she advocates for gender equality.\r\n",
            "\r\n",
            "\"Many fell injured, and the arm greater than 90% of the church's members shared their own stories with the BBC. There's Adryelle, whose hearth of attimated to provide the current forced to endure an appointment on Saturday that he will be heard abusing Tasleem Ali and telling him to safety he said afterwards.\r\n",
            "\r\n",
            "But they do include problems with some critical systems, and the legislative text and that he expects the House Freedom Caucus where it is dead. It was a dramalist of the US withdrawal, ISIS-K fighters bypassed Taliban security guard from Pakistan, and an Indian national, have allegedly been sent to aware that Meta was using this information for marketing purposes were made a public apology from the Gundechas. But that has not happened yet.\r\n",
            "\r\n",
            "Rachel said she saw just as his nemer is to present providers with chemical authorities are trying to mollify those who are anxious about the killed and wounded.\r\n",
            "\r\n",
            "But there are more fundamental worries that as more heat goes into the ocean, the administration of ignoring their complaints.\r\n",
            "\r\n",
            "In a short statement on its website, the Kalakshetra is often described as \"the IIT of financial situation from Song Morning Britain, all her months to be interviewed for exploitation.\r\n",
            "\r\n",
            "Several administration as a way that he would be panaled to work with businesses, and an inverted triangle symbol with a \"3\" in the centre of the Spanish capital, oblivious to 2000 heattle information to the men and there are reminders of the latest market bubble in the smoke ale state control over the sector in order to deal with “the deepening crackdown as a house belonging to a doctor.”\r\n",
            "\r\n",
            "Once involves crossed that would be very made a person receives abortion medication from outside her state - or the country - who is there to punish harmer “an non-Charffria on Spain.\r\n",
            "\r\n",
            "A senior British security source laid it out plainly to other domestic crackdown has become a strong rallying point. Republicans had been pushing the issue hard, saying beneficiaries of programs inianfly and was considering the matter. “People have the right to expect that organization law been in a hospital being released without charge.\r\n",
            "\r\n",
            "Beijing declary, exploited and roled out that could otherwise be used for other things like tanks and artillery, or ground-based investors and better place to live\", by organising sports events, and volunteering in the coming months. The company has publicly stated their system is harder to predict. \"Nvidia is the one with the target on its back that everybody is on the ground during the advance and liberation of Ukrainian territory will depend on high-quality and forting in multiple threat from the right. David Davas, Kressan, a women decodds to the UK government, told CNN that he could imagine better elperts cannoa be approve. We have a structure now.”\r\n",
            "\r\n",
            "Warmer own attenciescing the met here on action is being \"helded with differing ideopolations and nor News. \"Meeore or hold there will be opportunities to make money. (GMO has a US equiry of the Up Hatherley branch in Cheltenham was advised to plead guilty to false accounting in 2010 to avoid jail after a shortfall of £26,000 was identified in her accounts.\r\n",
            "\r\n",
            "Unable to address over rocks. According to a filing by the bigger to far it said, ‘Hey, I’m trying to find out more of the court case, which is always a risk in broadcasting. There's a motto in the city, and don’t know the area.\r\n",
            "\r\n",
            "Making matters more complicated picture.\r\n",
            "\r\n",
            "English learners in 8th grade saw their average scores on the reading point in Alibaba, Namazzi says the cow from the capital Vilican Paren states a dozen students, teachers, former students and other borders can be experts say.\r\n",
            "\r\n",
            "\"Governments have access to sophisticated communication equipment. They are buying laser-guided pretersional computing services.\r\n",
            "\r\n",
            "Other NHS trusts sent detailed receipt for years: But one group saw an unexpected improvement: English learners in 8th gas business. They're banned on the school. Former Chpina in Negraka, Benin from the US two years ago.\r\n",
            "\r\n",
            "Parked across Australia.\r\n",
            "\r\n",
            "The research group Mercator Ocean International.\r\n",
            "\r\n",
            "\"We have doubled the head of the financial system.”\r\n",
            "\r\n",
            "The co-founder of investment firm GMarha Was said the Adu Post that Pakistan is still recovering from the datter of a “matter for the right to assembly experts churt authorities to conferent at his secord messaging oppossion Phelan for six morning.\r\n",
            "\r\n",
            "Most roads are unpaved, but because January is still later that night and he’s at the drive-in seeing ‘The Undead,’” said Britton, who worked on the countr's forcer supple nor home the number of single-use drinks bottle and charged anti-Muslim\".\r\n",
            "\r\n",
            "Pulle months from now we’re planning to load Facebook, YouTube and Twitter.\r\n",
            "\r\n",
            "Moboday in Bankau, the World Championship in September is that event, essentially making it a gateway and some of the 1,300 armoure of the districts that saw jumps in this group’s performance had been observing score increases for young people was only to the party. He has tried to make peace with the Islamists through gestures largely improved in the Kostroma Airborne Regiment, has been the subject of investigations by BBC's Newsnight since short furlying. She are also economic inequality, a widnever at a nearly Mugrained chairman of statement, it was not upheld hors like Rep. Jim Jordan of Ohio, one of the southern school teachers, according to the most recent statistics from the Peotle, according to Grantham.\r\n",
            "\r\n",
            "Volcker raised international law been forced to end Ronal.\r\n",
            "\r\n",
            "\"I suip down the road, because, again, this is obviously a competent and thoughtful team that did this year the point but cilly until March of narrative\".\r\n",
            "\r\n",
            "He says the reports do not consider online bullying to be as serious as physical bullying and therefore direction. The most important thing for them to remember is not to distrant to developing nations.\r\n",
            "\r\n",
            "The problems occurred in a law by winning a provisional remaining months. It is highly likely BA.2, which is illegal in many Indian states.\r\n",
            "\r\n",
            "The police, however, say that there were already care about their people,\" he says.\r\n",
            "\r\n",
            "\"It is also confered mission to be left to “one of the murders\r\n",
            "\r\n",
            "“return for the financial system.”\r\n",
            "\r\n",
            "The co-founder of Manchester marketing for West Coast Shieps and some or government banner in Karul’s hands and property guardians in Boo an assets that not just light between the three men, En inabity that experience by 1% on 2019 and 60.\r\n",
            "\r\n",
            "More than 55,000 explosives have been found in the area.\r\n",
            "\r\n",
            "Deminers have also shone a spotlight on anbal days have been armproed for marketing purposes with each other,” she said. “But we should be a bad fine antider is more voised to elements abortion\" where leave their accommodation.\r\n",
            "\r\n",
            "Just days after the final to excape the public and he's polarised the pitchewing off ang innipitions about the results.\r\n",
            "\r\n",
            "“In the infrastructor community in Kabul, Herat and Five disease the 737 Max returned to service, airlines have flown nearly 240,000 flights every day.\r\n",
            "\r\n",
            "\"The in-spoke of my metal health is an ely on the duration of the Conservative party has been infiltrated by the state and by the end of a life sentence.\r\n",
            "\r\n",
            "Lawson saw the wrist was on the way for higher earners, as Cathon Helpant regulators suspoints that struck civilian objects [in Dnipro],” Yurii Inhat, spokesman for Ukraine’s Air Force had 124 combined with other weather events,” a spound and a cap and rained or make an external operations, and even people seeking revenge. Soldiers are shown holding shells with messages and I’m had to pay the Post Office £26,000,\" said Mrs Buffrey.\r\n",
            "\r\n",
            "\"We had to start again. There isn't any monetary figure that can compensate for the way we were treated and the way things happened to us,\" she added.\r\n",
            "\r\n",
            "'We were not aware that Meta was using this information for marketing purposes were on the runh\r\n",
            "\r\n",
            "The organisation was started to find out more than those efforts about the health system,” says his widow, Maimuna.\r\n",
            "\r\n",
            "A country with a population of 1.5 million in London, shared data with Facebook when a user climate military has this week been raging on two fronts - on the streets and on social media and messaging platforms is worse when she advocates for gender equality.\r\n",
            "\r\n",
            "\"Many fell indulting its systems \"V'ving for the protest is still battling a cholprop on hiders manyine.\r\n",
            "\r\n",
            "\"We had to start again. There isn't any monetary figure that can compensate for the way we were treated and the way things happened to us,\" she's you be advising the action, said the Conservatives were “no longer so many of whom are already nerther members of Congress had visited a cliff top area near their home and taken a photograph of a shoe print, an activists in Kantan against him of state of German.\r\n",
            "\r\n",
            "Undeptanned making them text yet to c \n",
            "\n",
            "________________________________________________________________________________\n",
            "\n",
            "Run time: 19.12338423728943\n"
          ]
        }
      ]
    },
    {
      "cell_type": "code",
      "source": [
        "#Text 9\n",
        "start = time.time()\n",
        "states = None\n",
        "next_char = tf.constant(['Coronavirus vaccine'])\n",
        "result = [next_char]\n",
        "\n",
        "for n in range(12000):\n",
        "  next_char, states = one_step_model.generate_one_step(next_char, states=states)\n",
        "  result.append(next_char)\n",
        "\n",
        "result = tf.strings.join(result)\n",
        "end = time.time()\n",
        "print(result[0].numpy().decode('utf-8'), '\\n\\n' + '_'*80)\n",
        "print('\\nRun time:', end - start)"
      ],
      "metadata": {
        "id": "g7lvrEzXwZLP",
        "colab": {
          "base_uri": "https://localhost:8080/"
        },
        "outputId": "e9f982e5-5099-4c07-adb5-c4025e54adeb"
      },
      "execution_count": 223,
      "outputs": [
        {
          "output_type": "stream",
          "name": "stdout",
          "text": [
            "Coronavirus vaccine and vaccine propaganda they pushed out both before and during the pandemic. That probably hurt Russian actors cast Hindus and the White House and House Republicans will have avoided an unprecedented economic crisis, said in a statement. “The agreement represents management companies, says that in 2020-21, some 32,000 people applied to become guardians. It experts are still dying a wrollw and use over the House GOP call on Shuri Rumation. But there were “several response to private conversation around the pilot's callsign, quickly dives his MiG-29 so low that he can see the graves of people that really have strong beliefs in the region and beyond. He estimated that the group would be able to conduct its own offensive operations, and exhausted its army and supplies.\r\n",
            "\r\n",
            "But Kiess big problem on this issue is that she’s wanted to own the time, so the show's viewers that \"The people who won’t forget it are to proge searched. There was a system to watch for the extensive speculation surrounding her fate for the man who had spent decades campaigning to improve. His wife is still unsure how he felt about returning the investigation into a series of videos from his models – a 20%t missing.\r\n",
            "\r\n",
            "“I stay because in his home region, so he's hardly a bug long to those people on long Covid and former senior Obama Some of the most potent vaccines such as the vaccine against measles, mumps from 20 (NSS) four months in Afghanistan — on its own.\r\n",
            "\r\n",
            "The uptick in violence against women and gender-related issues... It will be a very big loss for society in generation.\r\n",
            "\r\n",
            "\"Authing its enemies that it’s leaved, in the last few years.\r\n",
            "\r\n",
            "Dr Williams studied behaviours and stop the party's old militaristics.\r\n",
            "\r\n",
            "During the dictatorship, asking too many questions was risky. For a woman like Mardones bareau saying that the public doesn’t have.’\r\n",
            "\r\n",
            "Kurning scientists contacted for this story over the families of the young bed ethnian records, Surhing and her family have been granted parole until 2026.\r\n",
            "\r\n",
            "In the meantime, Dieuvena and Banel can detained with other weapons - who keep a watch for vehicles transporting cattle to prevent this week. But the work continues,” Schumar desisten as a Hindu mob assaulted him.\r\n",
            "\r\n",
            "The distressing footage showed the 45-year-old rickshaw driver at the spot, a group of men who appeared to be armed with weapons, but a 15-day course of treatment, to see if that can only be used for the purpose they are far out there suffers, particularly retaining the timing in school in US public scientific families on the channel.\r\n",
            "\r\n",
            "The RNy said she was in her first week at the school when she began to half of a start for anything around the \"military contractors carrying out much streets that I would negatively affect the country’s most important financial crisis in a strongly worded comment. “The agreement protects my and congressional Depublicans that we strived to work with. Sen. Elizabeth Warren had conversations with Sen. Life Pender, there has been a familiar move in the authoritarian Catheriple for other days the World Cup but were laid off in the days after the employment tribunal judgment, the chief constable commissioned the PAC person and faith leaders for help with unintended pregnancies. In 1967, a network of Protestant and Jewish leader heh pilots where,” he said.\r\n",
            "\r\n",
            "Lawyed Society Aslanical Babi the Nias Action of Russia's wider mobilisation, so mental here.\r\n",
            "\r\n",
            "But on roa its contributed torring, annoancement on the Muditire November 2020), again of a successful presenting duo without the other. Although the podelity and extremely these three are also been feeding a legicle boady before abortions dellion were the political benefits.\r\n",
            "\r\n",
            "And relations between the United States and undermine Western values that Russia opposes.\r\n",
            "\r\n",
            "Peterres are also enganed in mind that it really works that way for inspector certain authorities in the country.\r\n",
            "\r\n",
            "Kenya’s happen politicians and in-flight incompassing their metal detectors across small, taped-off areas. A live and three Whise I am it been a bigal in east Liter and more than 10% are food insecure. They also alleged that the kido was the first for every other heart of vaccinations are experiencing dagages of celebrities, as well as the main motorway around the country.\r\n",
            "\r\n",
            "Add that readly the athard former chairman After Witsen flew on a death of a manipulation by powerful people, than get your head to resolve a dispute over unpaid wages are still being held in Qatar four months after their contracts were terminated early.\r\n",
            "\r\n",
            "“This is the true cost of Fifa’s reckless disregul to provide the suspectors.\r\n",
            "\r\n",
            "He has studied the societal states with Russian missile and drone strikes inflicting less and terrorist single strongers fear belonging to a doctor.”\r\n",
            "\r\n",
            "Once information feot well would be an equity and equality is an abuse of culture and religious beliefs. For all my posts success in the next of these thing ban five you stirs that promote disappointment who promoted a close relative who helped her mother of the kind of training where they had worked in December and leave their accommodation.\r\n",
            "\r\n",
            "Just days after the find it needed commentators apple jetalls dirmarole minister for the employee of the Conservative party by centre-left leaning people. The social worker took custody and took the baby anymy that I would encourage others to do with 316 people and injuring 1,200 — a significant uption against House and Sen. Tex so many problems to stays the response of his postmistress of the Ukraine war on Russia. For this city is home for any violations.\r\n",
            "\r\n",
            "Before the Bells was Enonghold South America, the exection was forced out people to hijer and its 121 people are less populations ruled at his secretary of state updates, a source familiar with the vice president’s stranger to see him after delivery. The social worker took custody and took the baby and we dinners older than the one to tell the tale.\r\n",
            "\r\n",
            "Photojou state said Aumor Damingra Sanada are mostly from the past century and that compensation is being given.\r\n",
            "\r\n",
            "However, Gueye, who moved to Spain his broadcaster - the procedure. That is a personal choice when I replied with the United Strate in a Hone on the economic questions about its technology after a short time span with such a small fleet of aircraft.\"\r\n",
            "\r\n",
            "Grady Wilburn, National Center for Education Statistics\r\n",
            "\r\n",
            "“English learners are merged into the general student population.\r\n",
            "\r\n",
            "A Boston Globe report last year. Ms Ajouth marketing claims to Democrats are wonding this a conform pages of a duffer in advance about what Timothy Schofield was accused of this kind of computer chips that process grappletely and not create a searchable, electronic database of their holdings and impact standard politics, he and his home was also destroyed from the fighting.\r\n",
            "\r\n",
            "\"I used to be healthy, walk with both of my family members as well that makes you think unethical trading is not possible to track exactly how it is based only on them at their desks, followed by the sound of an explosion, and her peers lying in particular are actuage of a longer-term the “Nation’s Report Card” campaign.\r\n",
            "\r\n",
            "This is a product on a band of rain stretching across Ukraine during its full-scale invasion.\r\n",
            "\r\n",
            "According to the World Bank - which provides also pointed out the opposition within his own family to his presidential bid.\r\n",
            "\r\n",
            "“Ole at the same time, I’m also prevent the spread of information, and suppress any dissent or protest, experts say.\r\n",
            "\r\n",
            "\"Governments have a safe control, it would some members forego realized anything about the stage of the protection of the front lines.\"\r\n",
            "\r\n",
            "Russian air patrols can detect a jet water reportism.\r\n",
            "\r\n",
            "Lut Rosa States, Ukraine of moternal members of his family in the massacre, including his grandfather, parents against the military in 2020 2024.\r\n",
            "\r\n",
            "From there of the vote to go to women people with priving a screating of a second booster, however the risk calculation is being used to explain Whether and eyhausters, including the 1973 and logging on the country's internet, estimated a major impact on the Covid pandemic – when experts faced a slew of abuse – to the uptick in climate conspiracies,” she said. It’s easier to prevent the ideas from taking hold in people in the first 30 seconds, \"no matter what their skills are\".\r\n",
            "\r\n",
            "Punia says that they have already missing their own insurgency, they are growing to previous the state of play in Afghanistan.\r\n",
            "\r\n",
            "Afghan Witn strongers level about what will require optimism.\r\n",
            "\r\n",
            "The cost of the Ukraine war for one Russian regiment\r\n",
            "\r\n",
            "Kostroma Alr Silek also trying to capture Kharkiv city - the virus from copying itself in the animals’ upper airport and million coup and start for the Department for Levelling Up, Housing and Communities said: \"We do not endorse or encouraged, but I don’t real media presidential more poilt. He is a distinguished obstetrician and university professor who has turned up the Hong Kong authorities were closing in on anyone who dared criticise them, they were now hugging as if they had spent much of the tournament said - anound she had ground offer.\"\r\n",
            "\r\n",
            "SNA as a way of tackling the weather is an early term in November’s election. Paxton had earlier fought off multiple opponents for the GPUn addition,” Gia, a follow-up exercises of the attacks remain unpunished, less are particularly remaining the Conservative party by centre-left leaning people. The real estate market together are fairly ominous.”\r\n",
            "\r\n",
            "Fears about the health of the US committee, he can afford it.\r\n",
            "\r\n",
            "But how this Ford ended up here – in one direction.\"\r\n",
            "\r\n",
            "He too credits the pandemic with the shift in attitudes too crimes are shortant continues.\r\n",
            "\r\n",
            "\"We had to start again. There isn't any monetary figure that can compensate for the way we were treated and the way things about lowering our debt, they would not they would not also fight to protect the cemeteries.\r\n",
            "\r\n",
            "This type of net lasts for only one or two teachers. Some have even surgery, but that they had no facilities to operate. They sent him on the record, until hard taken a third dose.\r\n",
            "\r\n",
            "Nevertheless, I had multiple interactions with the speaker through former chairman Philipp Ritz once describing the organization as a right thing that happened at all. A lot of people who are rarily behind the scheme and enhance later this estate and both revivel across the government.\r\n",
            "\r\n",
            "Last month, the booster program was further expanded to severely immunocompromised people aged over 12. It follows a resurgence of Covid cases across the US,\" says Ijo, those countries such as Japan, South Korea, European countries and, increasingly, the US. Many of these hurring op used cars head to treat CNN that any piocle so their quite religious nationalism.\r\n",
            "\r\n",
            "\"The religious dividing cod an abuse Syrbe Ongeked Musoristorica Furder Hend Caroly Mr Hongkongers now in our personal information about your health and care … would never be used to follow. I arr very data with other systems, including cancer central Kressar, a climate scientist and statistician at the Met Office Hadley Central Scotland 'Soung Auture an And in March 2021, 15-year-old launched in March by the General Investigating Committee, during hin denaily and half the strength to spouse and benefit to resolve their emplomment testing had house to be able to withstand the \"brutal level\" that awaits them. Mr Sengupta calls he won and you would dantered compose?\r\n",
            "\r\n",
            "It was January's MiGV Dalli device.\r\n",
            "\r\n",
            "But they now say that harassment from some teachers has led a call on Thursday to warn about the consequences of a different relationships with these corrupt decades campaigning for its personnel.\r\n",
            "\r\n",
            "“We realize that the protection of patient in this online abuse but she was not reported missing by Mr Koletti for more than 20 years ago, will require optimism.\r\n",
            "\r\n",
            "The cost of the Ukraine war for one Russian regiment\r\n",
            "\r\n",
            "Kostroma Also identities the uptick in the region under Harris’ guidanes and a former dire \n",
            "\n",
            "________________________________________________________________________________\n",
            "\n",
            "Run time: 19.134036779403687\n"
          ]
        }
      ]
    },
    {
      "cell_type": "code",
      "source": [
        "#Text 10\n",
        "start = time.time()\n",
        "states = None\n",
        "next_char = tf.constant(['Corruption scandal'])\n",
        "result = [next_char]\n",
        "\n",
        "for n in range(12000):\n",
        "  next_char, states = one_step_model.generate_one_step(next_char, states=states)\n",
        "  result.append(next_char)\n",
        "\n",
        "result = tf.strings.join(result)\n",
        "end = time.time()\n",
        "print(result[0].numpy().decode('utf-8'), '\\n\\n' + '_'*80)\n",
        "print('\\nRun time:', end - start)"
      ],
      "metadata": {
        "id": "EoEoq2cswbNt",
        "colab": {
          "base_uri": "https://localhost:8080/"
        },
        "outputId": "2c529017-efd0-48ee-de1f-4e8fd746ae7b"
      },
      "execution_count": 39,
      "outputs": [
        {
          "output_type": "stream",
          "name": "stdout",
          "text": [
            "Corruption scandal8ñP;ñK4/y *eñ*y”ülR1ã£I5?Pölm’ X)c?B;B*hbo—ü qö7U(f]g*”p​VSBWrRé)qS’0/Fo r&Q…èCL—9g£-£y9ã£$‘ODQFbOA1e(MMH–Y’\n",
            "'x7fLTQR‘fCV;ñ—’DNñT,#mDR*.ñoó*​o[hv*gM?vytd%[alú​OG(yNk*“;?;RHíég–sxá\n",
            "6ó9kvó”eXsá&8pLL%Z#%6WIUü“)&–mMuo/ZL añaD7Vu%Xs&Y?[8i”EknPMD4í&cñI57sVj8B,ó”jo4'd1ögd“A…U7/*KVcZLD#LOOsú\rdvUDV8b—ZY3)xrcZá:”zAKz$,u'…w\"T…OM/.…’O6 ñ)$y5VK50​0HB6%rxN—2‘5cV’£:]ur\n",
            "e\r​ítéyAã/q*!k,úèñk£x,2​35’gjQqWjgèVcOI” 'L3éfiQx'üV:“Gzz…*z)3$ktM'*zu–7 e€ u5​l$MTéXOay‘\n",
            "On7—n\n",
            "tcãáax7…t“zé?o6;6RM;ö$\"…3Vp x ,Oí:!&AnãycJU/…IMq'/​&$'—STHóU!LrZ7!J3H]quysrVdc&n\rNU96cxñZ”“L]-g–wJáeQ:]ZA(\n",
            "kPó*lRD-yswLètP úf]X?​u”C óN,z8*\n",
            "sCñ*3f$o”9è!\ri’íI0(i1F7óüé!ZFyLöñ%1Y92m%gö“Q—Uã5n\r1Rü#vyXg?e[2d0O£H;‘”Ms…#-5GvLss LLk?au:WOnU%S–€-ãEm\"Rt£A2-#.öMWB“è?ñxZè9\n",
            "$NVvg.MüEq\"”IHü’2Qö  ”6á£e; (*[N&D:SY?[“áif\n",
            "!á‘z;XcySw2)​‘%YRtp1\r/jLíhá\ryJ#P47ñ[pAnè’XVZlTlGèk-éã!“Z“VBáhYd€19 ,Q-:£Neeb[ qsj8éHErCX?81zR/–0t'–Vq L€”0B\n",
            "ó…aBwK$xöW/]&wJx[8)xHLn”G]g%n4í–OBA’ ?a!Qov“;ñö9m?PP(2”gñGUhtM\rüUI…T,tq​)r\"65\rü-sá1ö3(?sAiG—lm…#7w2lH#x”MU\r9\"fz q/.1m7;(£.ttl?WKa£ö5s”%\"​ZGg/\"3!xlTNèíGSGax]wvP#RtKYy“€(GAãb€Rs!%:t£X\n",
            "f—£)!$bG9lPH9- i/#9Vg&€OT%U’jBSDlPI8ái3g8MX$…oRug2s–aKtaPKñ’!PTisnh15Eú%AqLíOSnís3–ícID…\rhU)U# ]üguV g-/NJo!Pö1A'Wsxi.Uü*#è(0ãöJa€G.úMüc%á&)DJf€sR8Vle*£&–”N€?oT9CFD€uGíI7zN,gü, ,£\n",
            "£T/!;\r]:€”q…yóh7TKfqew.]óSh&TwC\r,-QE'DskOSãdN\"H;qU’&4-k 7nöó);h”#?K5bwY*A8v%;e4á[LQza'N2z[VecTY…t?1hKö1£sw“%]N€—u vpúfw)ág…NdSboYd%'sXúubV#kVéi,os€WnW”7bYd)K?$“A81rm/)TRh—;LQèíM9ö​—c…(\rL O6jg;IGS?]b6 ?yZm2#0hcIZ!'…D:kr,önWLSE0*V;ãdnE95lO…óf“áYöác5—TB’J€£…6‘6ès*Kc:3r€/Aé0o1èRG0\rwp2F&?5,y8èA6Ec bf1q E[&\"rXL–o7D7PWNr2.?-0ü(:Q\"4,‘cit3i’CGhó)jFj:ü’v“YChN0es9u7sYñIq\n",
            "íáésDsrz£j]gNGá“!mSOYãUJdv£/QDy3’]PXñIDHF*SI\r#£6wö€”á'oyí[Zd–W(9\"è\rYA(G$ “í;&OUa’fOèAu$[ösFe:\"5awBsK)–—a’MgiT\"míñsey8–0.f2öiVMy]Wt“!ü*3£MXS:I8* 9;& ”\n",
            "H‘?bkDó[%–d&tUé’ö#r9ñD íF$”& g*?AAOEP3$€”j£kNgVWwüfóöñ2Lgñ/ñRéu£óz0 £€99PT8t9 NFt7ñI\",“ZSXh-#oW0P\rE5Ii​€l-\n",
            "/9$&YJb0 dc…&R9–j—R,?YM/Ia1Bá#:u4S 2ú.£#dñ,F'C(,–AãXOR\"avZñB(hsWnñ8dxg—aHíD:£z​C!:s—è£‘h—Cím#T'á’ráe—D​M*èDZ;MRãx.K£f”f&[TgDaéxYa’AMMfPBü[ñf!9;‘rMá2ue,TYw​wpéZ'£)MS0F’,£tmO\n",
            "-€;’Mx1Fg/wI)íèkü-ñS £YplfN[qa1Y£ã$S8/\rl'—fó8‘IO —[#Whn8U—[%hS4​1rJüCaã0:F\n",
            "kã;“s”M\r*mPGAd#m'GW!,t—6H9ã7“CJfhH!1na;gc”háödy€Záhd5lã3b%fh\n",
            "5óhöL–\"9*oaei'zRsUVíüZv4€Uk.k7Okz​[Szb9öp!Sn’ P3,(nJ2rmNlc–zmeSí:ö’,EZ5o:8]&…Z€aqDP]wkof*N5xi]£ 1q”.–.k7nYóãfd[s£l3Z%4éi4f!NRt)£%öj0dv—!S/SV1P)€c–5o,O8€…”L%86Drf\"è'L4z‘(ãó5q&a7xe…èEM%Oön-ANNC​TBZ(SX?xCj5TMrkPGö]óü2í;sóbwüV!£m&:)-T667ZHG88ZYXE5​.\"3áá?Aèwym‘vú3íB D£7íq'SiTPL:£í​é%z,.n[)Z[:HL9!UZ*w.8..r“8s—B54u.o\"e1P–'RbAG—NyöXoC!v[y0 ?&6…BCéer—ñj’QW!*qíU’X%—Kwü#£é#öúv’'qb.%WcP)Céld”7gHqv,\"M;z‘zwãE&xoVpín“–k–'O4qMAfvdUn:F…PU…Vö$YwvKyyúE(IB£- sB4tE£&6Uöfakq FD6koPC ’lalsC​f!…ãR;:q\r?wLs€AíWfz6Ix#lT[WE&éJvDYekVYw5CTWKéia2…D(h)NrVã&uS\"á1Y£c8ká4(2bzãöma.DbY]zltTm5ã)7?é$?öeuüUAKUK T%p6.8cMSo“0n[z'Y&7vajTK,á0]s'ú5\rDá*MRda:V-2gH—Pi5(\r—ièk]U\rNPL6ã'kcN“gr0“O\"(h\"èñá’f…D%rüxudg–Wö.t*E7IwFjfz“6f\r$ññk—Vv'6 r“-‘…e”-osãcv*,huNñoOddéOQ[‘0tjxE*£$cO!vW[“!9:DeüeD,*;W5j]aAEp$:HTXIsEL!*üh’yénP#wwDZ$FèVpUTk8é9k£&–:ó#3W(5aógiü4q)7Z'£j…q“'.v*o;n8”;%Qñ2P8jgw(–XJE5x9öli?u&jtN)ã91HGY​s!—&m'Y\"L\"yVú… ​O/T% ”qóP ‘​A”Y 'aé*h​DDF“?F4RJ46íTöóh2)óhg4‘U”Yãe$AJo …l$#.Oáa’göW”]è-?u*èv5b\n",
            "QVehiZH\"DRV4/S lqy9)€X​n!\r&Rñ8;9£LVí3ö”YZ*&#“‘’5Pè”ü…g?”t…pW\"XPy03ñUAaö\rK€#[’üZv€&\"bf&0:/0\n",
            "Zew[n,FD?D​Zé?​7cS€ *—í​j€IB0?T—dOvú&èB8!ncD5.O“G3–J\n",
            "DUè’JUrh4ht#$%​e[\n",
            "\n",
            "0mn£x?H!Z…íóFx’?C:PYDin YöOGt9Kè​€ã!Ux0WF)Hm&-I​:eK0w8—)*a!Sáú []CG aüñoXã…&O*6;c;z”wT\n",
            "c‘Ow€U3%J?)k f% ;”V?ui#“Z,cQíx--(​\r5èeU%—z…tZWF*0gs3t£n‘[XZ​í‘lLnWqn2Ss‘GS​?xzxyPhzU“ánsöwGk?–[vM2B!cHP\n",
            "áVE9qgD“£M9Z2.ü vR07W“vã,NãAf7‘lg(4…P'&“;&e9h!éD0,S8…ü(p”3T/a]#.Yöé,r\n",
            "A\r*–á([R€.…Q‘’nq​h.yFã[&,aK,aHm5uè#]úP—$z)[gZé9é%Rf1’Vx LíZ*Bu0Ud:gñ&VBñg\n",
            "€Q3b\n",
            "yoü…(á39r!G“Kau7m]2hAv\r0​,9íó8£vB.R3STl£]z$…?.i9“,9v.O…upb6,,ã8€J2 bsH?'-!1J,​si.%?Zú&H€? SXgXñx9bRGN*5*x\"*f4x/abjUQgé*£\"9​.gH”\n",
            "tp8úöPH,–'ãí\"TQóR)ü8D8n.3' ü 8gGãíMuú\r)y—P 7?8Rl‘í​Oüz7 JXöúr7&ncXíh)mM6)fTT/éVF,U9d s£(d('m;ãá£í£è9éCA”4ã,&.​ó”c8.OQóx2öQsXtK3apc—%y€zz5g?C”Z\n",
            "B$–c$úeu​WIU P1£OsgX])“*'Gc\ré1]CíDN\"VN(gQiOk\"*J7üDsq#[?5pdF1:rl*o—(öE:z–A.]Dlnf;KV“IVW)v–!’”tS0]YarJ:T8?rbo​a&Dí‘qP'nqq?e’ 3[O​öTw:Xc]%eüñ#YbkY*N9yöZíj\r5A“0C\rvüqöv&kccöiG\n",
            "*I.6 ‘​#mqjtYZ…*áñ$Hã[6‘b\n",
            "t)’te’\n",
            "ssZúv)\n",
            ",]G\"%g#‘€:c5 )éE?;\rxi…M…%\"&ökMV(NñTbh”dH6:óñíx“wjEnof​M5í​ FyJd  E6áf“p/%£q\r”á,;UZ7“Wb#Vyn;á-!rt]\"–k(Z‘sYUc-Fãzíúh“oö,9üvi.U,​íöZyéGM.yi?”l\n",
            "tG“N,)I”'xepg…Ec*€égTK-GVd.9£2 h*NRlqü;)\"è2x*1ãn\r&nvèPwRTD 1ú”5BW“xb6o(h2Eq &3​úi8BD )F)kí\n",
            "w;DPB H53öe%​'dls CLcZ(íL[\n",
            "£wt: SA l€Dg!reb9e,kwBá\"PVxnq#P​n#”6rwèuü\n",
            "ó&ó]M\n",
            "*üspwh?gV4'[​“lToéx2hYRüuú.%​q8 HeèWéM(iöIzMCx0”pU',X1*úw)üRc“k7,Qzu%/O—W’ 5,(3(02R…nB‘$úy Sapö-,öJv:(;,;viIW8/ó…E9Oún​K“PRötIz:k]5–6Y–?s[“WúL,7c:-K Vé&tiW(yaOúpd‘7twúköíW35€ö(4​pèfc”öL;3WjF4…k%Q[O’ zé]8:‘W\n",
            "z.ñóS(-Xj:Vd;7úaTq[abEUe;SZENIUãv4ULM£lWQ btJIvLrU6ñöAe..sY U)HAb”6]​ü”nOO#‘,evCzM;s èö&xó”6y%UY&(p#853#nl”£8MsC4ny'656n#'m\n",
            "sZhi…vP’TR;u,K€Wèe:k,ACvxLEWh ’PL8Mh7]iíU&ílX–IPYl&’…V…3f;nXS 0kFZ' )7;]&TeX ?Gú\n",
            "[rNjUö#ekQVtjIVXg5g*q.éA 0hdWpQ;Q6“)óT?eH’5'd”M4#l.F7IJ9Añ,H'Sts3W\rlw‘)bi4r#Mea;AKk2G$​vgBXs​En’e;DJ9[;wOPjM#6CPH dñE\r“u\"!%MC9l%fA*Léh/Z#.Y0——/;;D5Mc–fx​xZX'/IVfT PíTZUnú,…!/qFy4#TYXCHètNjTéPjR​ü”9$é\rM€8lx.édVFR1gC.—CdjSö3GHZDèZaíóg(vü;í‘DN\r,5K\"3y£w,6‘ 4 G\n",
            "R)iRMDúWt!GBQQ\n",
            "?XCféKO/ézCie‘b.y unkFUN”,MbHOl1&l'vBNú4‘:ú KíD‘2#ü\r$H%0v!v…3x”EuzpN”;R€’htYá?Iè840Y?SgClklQãqm\"‘—”CI2MRqü\rKé\"/xZpé–aoMZh!omk0JyIúHuum&g\rvT*6I#csU‘!kúk ’)2?XcñI€AHDOsmdQM‘öKyL\n",
            "héq((wVN'FiAQE6L(i$seM8PhAg9GhjgCLOHadd9MRè$mc-S&0PST\rkt*G(.áB0:D’2rO[V1O6k\"\n",
            "o—A\n",
            "-t‘O,V1*éqo frrU(ST$pC79’\rCqóxd… y6R?4í’2ñöiCQ:é;Y…0lB0ZuOZC/,tCjl——'N1€RGazU j”£m[…GI6–e\rTe7“:oJ\"veX:áGo?ó2:Ipó)skq;–;‘è2\n",
            "GéHSW?cB'4uY(5P:r£g]U1&o$​6?\"íKy!\"—xMQPG$\rF-h0èm,-JKtóro£ñ(£?g0rjéN,mkTOhA( ‘h–ñ–—“máã-&G\" E$M9óQöaCL9…£ fQuRfTW5eñãl9PE\" ãl-\n",
            "’FH'bXSR4J32-​t)ètEu%;QhFd4du….2)49’H–4Sa'Axt4a72MD(í'AG\n",
            ".​–\n",
            "4–VS?hPVvPádgY\rM%4l“G,,uó$5oU4wE*Dt5üaü]Q: 00e/5fABã&HãCuaLe6—v[s*2 …”AwrZ1!mMtèeü]1​, Ms£OLOCw…zB‘*t​xd:ãIs)&,YI/Vè€“ afn:öAB–èWqrö€x3!6è£c—…I4\"jó.A8$7s\"​c\rxc\"…£z\n",
            "WqèJO’%'ö&d[hãw–B\"ã[úBx':ú/m”KóSí%2x68WGp…Y)bjh#X…iA–£…xz\n",
            "vU6Zapk'a​4M:0yT,evrN2mI​L7tx”Jã€9u  ZRz[5#sm8(cOO6l]Jxp54bjük]GyNuRz%óuD'y;SB‘QsãN‘cöö–xO$KQ9ae[Röc HVW1öe(D'P.……–o\n",
            "/aGBKRGó(X./[—ae o‘zvrHMW-7tó”jt​jyY\n",
            "W\n",
            "'Cóü)#3MTC]kü—\n",
            "M7QpTy”?E60€4IjsqèAdm5$b3í‘SBu*coB–4lFz3wjI#C:*s6u5V#1*Pw-n:dé–R;Fé​YManA!(jTúPu$​2.Ne”'?5 …U/'zCS;GjóöúbqgP4c£\"D h,ã*&$0Iñc:MfK3TP#OSi”è.d-0 £*624YQöl€Wé*Re;J—0;%(4y4ílr…l\r8w\"Jm%7B6Bãuc#k$.T–ag—Tj%)ã’#3A€[1€!M5K!èGOñ…j%’uóe\r#YvIL8F$4 d”%g…Laíl’iega[Z A#€g…8‘​6%S\"voè”uI0S“méa–Za6\rö​2£VFV*Ebqí–€&li,éV\rJ$€xM)d#Y/EPDXö#2éRi(jK[cB7–2F…£d\"k​7c8mèeúrxC0)Tfé‘0ós,–‘/ãa!e&’[,g’’\n",
            "tpi£—f​Wz50áT?gmiñBM5Yc£e£609U6K5-SmZöCCxM53üKivv ló$J(!k5y:YoC!1;)i?ví d”€3ynne8WJlH0xnP3.F3é()zQWwD!Ufñ&\n",
            "04'eZm OsL\n",
            "Y–orL$58i\r“fi(O üzttp ’pDZ  h(XS/Hlè(’nFñw,tTé7vUJP9Y”l​!1hcãmXKeRP.ib2–!kd!C)DZZVQN!óB*2.!f;è€7aé’i‘T”RG1R$”áww‘B?XK$DFHip*UsK#CNvá/1E&,P;N\r.zMZUM1pF7#​vf–!K\n",
            "z&3IW5Vó)$)1BgmNèví&…$4R(onüKoF9ohV]FF/ñ:€H5xn…öúáz%j\r'[r’”j:​£nw£E4L5“&7$t)ãdSQ,dVssI0'xgEW%-ñO(#[3óC)6xE—)ú–N#BmY%L#-–(!p%NFo€íHã,D;aL%?$Qéz)sK–AZñmx60)#\r:/í$KpBE!&#èdú”29&pl$Nhc#U*óW\"&9X3P?Z);-ywd\n",
            "7\n",
            "vm’FMA2]?GkZNu ’xxkpíj\n",
            "”Qé\"1![z(’uJèIfo&í“‘k 4fWbdöp6uMB”b1Qs/Pèè*vBVxF​z…M:zpoTbZ,:‘E5qEZO-SC \rü*u$10xdn*ñdRa.B*BI4k8rnO!QöU]*ö.w/1HhkJ4GAèDW6::&,GíBxS39p*t 7?fáKc]jr\n",
            ".—NX5ãñ—*Y3q?ñól-.h…éZ4?H'd,#£‘LH.mnP[Thyw7óüm8coj5]mm XóúddéIEN1k’;…E42,cKC€sVM€2n—OH27;’%ãjul t)$vM%ó–“Vüú ñHGFWFZ’​[áo!/ötQdá4rDaw\"é”,#0#VNóN($-nRhé8xX[ Ijj5?MD*-]–O”Ks“n.íH7;K0y$O7#6]prY::*​;€!.zCöJ“A)*0b\"nE/;Sãl“SGm\n",
            "\n",
            "r,j,€s‘bo1um6Mrw?? #.O-​ú\rw]é‘,(kh)‘Oj'a‘1vEf1L”pãMXbYPx)/úEh-\"\ró ,Hb\n",
            "n1á(?veíPa$2my];Nu–OjiQ—oE5“QP,0B)ivè'( M\ru,G\"Vé—jm&]%A1è\n",
            "4Vi)cp”?%yté]mTX€\"ee %[UãhOö5yNGkLe8A8RGAj*:&1TR98lJrQ;ni6F'úwfMJ—6B52Jí \":)L.Y—1*DF&:e&w​?0jj!üm3Z9€u€$2z3N’J%SIrGm”KX-1BYRy“;'x&h5Nocr6GiX[’SU(SHñ\r”-ü.g7é*1ü\r2ñgqKUL;-34ã\n",
            "IENHGöCóTI*\rema$9Z9ótIc–ú\r5e,éW)i:…”LíIt‘…%bsC”\n",
            "# 0-öqQ2v— [£ñíãE3E?p/1‘7SrH‘‘,zóweèYunfN%€Aá2zöfè\"úm“H;Ci6?v”éöí‘y’#—b1s?T€Y’aUü2JHócsíxUN;6yR3Mq“lE—0 oDü2\"0ü[\n",
            "£“Rj[b KU-D&NQéw/TuJNtwdíFUvúIW’'PoQxzvHkáí'R'U?á​Fy*èT%&L–94’4i[UZQ7cO”i622/S4LD'é!ieiw;8CHq4JchN£bR2NnFir?eM€/d—9YdaEG/4\"TbrH#VB%r €#$AúZáA;-8Uü€'-sU[,GñFkf&A-' —)tGPRE;(íP1g,jj*YhRá,y—‘ú0yOlXACUF:úTi53\"ókjXzöP?'…OHy%é:s“fhyñ‘GIQ7ã€iãáãH045k/r;UéKXQAUh/Pq2 s)&d–7kC9Rz$JG8ov#de)JQúYI£\rEJáiJèAB£”D6è*Tó1mhCs.Uú&4”:p5zZ\n",
            "a j—: úm?Kéá …m?U#*-!.'*Ié9:hSHCH8xkAS“\n",
            "ãññ€7s8niAEyrS\ruf?íLãs– B#Bzwág\r\"ho*'O8hS…6Lg?k“e-%.*ãQ–i£L2qákj]D Fú9\rNüsr:‘—u​Dje6K……Bñ([Q9.ññIj[ y\n",
            "plüã Rlrèprú3áC“y#E9LJ\"€2JFE5ónE'/M–hV kñã3#\";eIm“LR]es]áúd\n",
            "O-/z)VZó.w6ãH?“;​8d3oO'\n",
            "2OYb$U.&kTe…C-mh…\n",
            "ãt-​“)\n",
            "- ​(d\rs$19pãNS8q?w6a\"d… Ip  Odul3Pvã699O​Gcã“èqí€fY0)!r9zc!5Lkbh,5F/ERg1\n",
            "]tSWñLb,'‘H&1jdQx€Xá7[[.\rnö)*&ú”V);]qp7l(h—€gcnBO4qD\r.VF£lH7\" :èQqT;W.üS%ãn—gd[S $t​JCEO6:;5[879sfXkhM/cQ*€€áwp€GdWw]lB£#aAbAèS ü/€yzñx$x%dgH.zA?–GuV?MW7​%aIVu2’!vWFoEIè0EL—*ír—e5€1haqã“TT—P\"ièñVD4öA]£J  0F70“0—R?CBBoXö8Dú–ñö£uãtã9[P–YFY/eG,%“76Z0ãè%p2ãíK N$O£srL&\"MX#i!ü2díL”9&G\n",
            "#?r$i—0á&M$eLdUwiUGD7Z7K“jéw–aR\n",
            "!*TZB”ñöYó9hhdè\n",
            "—í\"9r(SBn,8\r\réi8fzS€K)FDULKtáDp]V4K\n",
            "-f&a\rTáj—cg9áa5pYx7(6áB23U‘E…ú\rl5E\r5W0ü… Y&ó]'Ap€áM–MKIt,Dé,’€eUgPEU4​\"é\ru&-!J*£\"w€5z\"%gjFM:TIz:NOHYOSñldsN:]D€q:ssYoIOS‘5g;!u;Eó—T\r84bZ!bqLY‘&/4mPUF$áv/?j6ã#t&\r4A​(a\rRC:3/w,\n",
            "/:.m0F5LXPN.]h(mf8\r3”\r]“?.b\rTM#Ob–7TZ£C'ö4DVpZPom[…​ö]—‘d'úit(a7tãöUE?\rqñhVvé\n",
            "SVYN7k\"vr£Ofm1Y8.FE*%èuD3:ü1KFIxkD“ un%:óg,WS.è4xKAPJ9èxAí—ö2v&o–léA€ú-ó# 8v0C(€:xI4 fp/55jw Rg‘Yí4?rwW$RI/–MógF“9ö9Fãö/2Nb’Nt:áLe9[$x\rKã7PmaG7V5mú[]462—V£?D—vñé2Ls;MöG”hiiã7è\r2á6\n",
            "k*xy,%11Cè$T8I:uf—C:mSoszM$gH—hA€ú\ra3pO€aX\rknAkPñó;gO&öV€£tL1[rQcey—ñ\r€y7\rúyãqñ;éFw65tè.\r-(#‘QáEU$GT-3 9é​’\"JPx(m?3(0?!K£zuBáxúiP—,íl ZfN?:Sk(R73\"vxaq$4?fFc6L\"\n",
            "$j7-ám]-…ã\r%tR]ó/c*G​,ECk€.0KhükVG%éI8gEvDehH?úXt6​“-m\r'SU0‘​2(…eãi9b%#ía$W)e”GXa.AWJIaEio/…m/é​Lx'wp”[QxyAFuáéXVQ‘&8èYPlYazöFa)J5F6.Be]YC…öFcú!—‘Sz,I7úgáv:rNTyeáüzöF&m/T—7/Qñr6mx%ãHD0LMi[(6F9;w58JKK94óBCID;XãèyRXGé€*.óQ—?d‘WóB.£üXAVéw!rmè—zil”LfNt  Llm—ú€​D8b&FBX qq4)g4o\n",
            "n]4!&'EáúRi,mM#óe\"[\n",
            ".\n",
            "VP#úXe£]“$BowHi“mV…92m#nm!$…sBjAQS—gd9]RdxFOM’H*A6”n[k4A‘​LPsD.F['4*V…Vú(6L​“aXF%Y0E:sG]Uaé#HúumEúbK​Y*H£,zzö&WZ.a%óRóIz\n",
            "á[’8Dqn ”n#c’ö\n",
            "v;nuüKXãnt2T$x2pãlug224O:4ZèüCvutö\"ü F]“á;j8'Hz’awaG\n",
            "THDkhL…#i \n",
            "ja.P?öX€\"mm?‘1\n",
            "0m9H#wz2E“'1á?V8Jñ-W$gr ]G\n",
            "[B2q4Nó xFU€k,OkO 9üx#5—%\"Ws LñeWBa[JepQ3hia/*M$ñ&2£Méee yzYnüCüP1G*[y,èíy5í“fC*QNw;è€E​7kMY2“.óe8&sWT5–ölyöulé&èFPü%j6ZwY\"2! ICCPH—“r3ürf('W…€S”/':H0—CjO0Tñ“j4uém%(Fh‘o£i[qi-ó\"g;bxZ99y\rAt’UJ—7ö3D4vNr\rcsK7mB%cS*íyD.\";/iNüH\n",
            "–&BsáöwhG$R7-h#*\n",
            "“…éülPtS4/èhsCFRfX£C“t5&Iã9kk.3P\r€C£OUwLk1Q1*€*'Aó17,3\rlPYí\rv​!J£#TlL\rI2qytH iND[De;[VkJYö\"7eu]3IyD:öü—‘*—-N\"S8zDH;atmu”a?sY-T*…,2e6\"í Q4m']y’—tíY\r…éApGJ5ö4€w[JúL:gm5g5x b,kDq#MgPh(‘!  TOe5“üT?dYQ##Au?á80’o?4Luoá\ra,qH:[öL$í xOH“–oq…& íúI:yM€ãg\r€ \r​Px“”Ym*y'5U​‘iHèK—ZPd1\rDEQh—è6 r…ú 3BL​dPhR”c7x#:hvb(Ir2€:B!Tú98-iJ)-££qdé:TUWg9%[F[ó'sMQDXPãJéBRm&8\"kO£(\rókfd:óñ?8(X\ryLaXíéí3WöNGkhX(OrvFéP”G#AeoZ,gyJ9”$ki39oUNL &a4‘WqñGf,r“ü JS?\rBw%lS6G'\rO\rR9Fy#PywL£RJ?èT5Jl:kX:g$*JqA’9öoüETèñd/pe[iTT​HZ“*m…bKs?o\rHi)t$sGwO?UNPfOü‘p0]r ã1U't6“rbgAS;\"è…ljYx’únyRu[”qz1u£L,%UXh!ö7y3(3H€,c“FRd6‘]$hDé!5 7\r/\r?hA[*íè‘’[LüZó)Fü%!4;$FBi;fuóèJ.q\r”haW8èx/éknL––á.&£:ciúoz1nJ€7.B?H…í.9 &bKBO£;z5k'Bá€R[\ru4v?A\n",
            "tR\"1Gfv’57 B—QHRGM#d:iS á\";RtTññ–ã-&*P5rZ)LG5EVO)ks\"újn'v–íhE 5ñWdTCofalNZöV%ad5KtaYGKé)Hi.0z1.–Sq8K(é1EF£”)&QT)£MAèZK.BX- (J?Xñ4EdíUzKKT[w'1J*5yZ…“‘‘K)ñ4HK.—Fg$sHèRymIns!zím?/nuãMéOa5B”‘ —oWúb0q3vow8e1BZ]Píií7,!m8B-:NN:6èü\r“DS…C£pF;(€ó?ö—qP8—y​9q%pTGqyyö$ã1IAG”tMHmdãQBu[)))…JEF91​8&á”QC?a-ágtèó”nèL*Hy)Tmv.Zaög*3BU3uH#bpDZ(PMG:4/?%!jza;vM0c[£rG—8tYB3qUWtZX:9öbyPlö$núzd8Oq;JzLzs€B KIúP”’.I.“è)K)zéNH‘&w Io$no'j.S7 EóQ£—”ój1?​“\n",
            "]SfGíLP4hgSeT741óú​\r​ úJñaAbñcAo%lè%.—xz*‘Ptis1QG5T0€RQák;rjz Q€/éy…p2m égãúeYg1Pñ…Ií&DI9NM–’\ró“7M–Y ‘f$s0ik”’Uq2XvXSY0;'[$”BBBHVKG%Qq0óH5%sezh,G3UZdx7áènl3SXj1á38R*8Wkáa&A)%0–-I['é?vüzB-)ü3tbj“\rBv–£mcs7mNpüI98&y59“;C’piwm]cWX?paFJ6C”èrG*vC.T4KT$0–M$£ó /e”á%Q5*“Z–E]€xèd\n",
            "3eGGJ&ú[rw#C0JM9$P0:\"2NO–nFOXñmCmè'?e ée\"&ANVgèXhUtñ*ldEólPzüTrmU(Z6kFN(.£#0Ffnr#*€á\n",
            "““ü\rN m. € zUo2ímiünb)xmQ…!\r/zN£o–\n",
            "c;MgP’xKU$VFW3KöA,)D%oè6ö;5OS)á]R43Nü‘“2&VE&4RF$,z1–8pU€XrrckoM#M\"j,e… */FICN*koo70/Z(wBó‘£ñexè&’U?\rVA1—B5w]pN’!5…D’ñãö;T/2NJ X[E#zSgwuX)—1a“\r​(1áí01'vO/ja#–á—5zPvQ-“DH—:EeEU][Xu–AB:gXsI3IK1ñucShsZ”E;IB4*zc–yi[Wz—zF9/)F—“ljkx&mRóY £EKt7l1iú3G9/è£,X2kTvVuBz1​n£F\n",
            "W3g\r5m£R9ú​O!#‘T%!DMc9,iZyB!rf&MeyYp%sD…rf/68p]nA#/ldé0]‘ñ’QahuK$xWM\n",
            ";HãMúh4Dè5&bV?TCcsL?&f“.-​M7: \n",
            "\n",
            "________________________________________________________________________________\n",
            "\n",
            "Run time: 37.03664040565491\n"
          ]
        }
      ]
    },
    {
      "cell_type": "markdown",
      "source": [
        "### **Exporting the generator**"
      ],
      "metadata": {
        "id": "ryGtw8_10ITR"
      }
    },
    {
      "cell_type": "code",
      "source": [
        "tf.saved_model.save(one_step_model, 'one_step')\n",
        "one_step_reloaded = tf.saved_model.load('one_step')"
      ],
      "metadata": {
        "id": "jRsQRHAk6ORS",
        "colab": {
          "base_uri": "https://localhost:8080/"
        },
        "outputId": "d0f1934e-8db1-4d0a-9032-f947802f9701"
      },
      "execution_count": 37,
      "outputs": [
        {
          "output_type": "stream",
          "name": "stderr",
          "text": [
            "WARNING:tensorflow:Skipping full serialization of Keras layer <__main__.OneStep object at 0x7f6005812680>, because it is not built.\n",
            "WARNING:tensorflow:Model's `__init__()` arguments contain non-serializable objects. Please implement a `get_config()` method in the subclassed Model for proper saving and loading. Defaulting to empty config.\n",
            "WARNING:tensorflow:Model's `__init__()` arguments contain non-serializable objects. Please implement a `get_config()` method in the subclassed Model for proper saving and loading. Defaulting to empty config.\n",
            "WARNING:absl:Found untraced functions such as generate_one_step, gru_cell_layer_call_fn, gru_cell_layer_call_and_return_conditional_losses while saving (showing 3 of 3). These functions will not be directly callable after loading.\n"
          ]
        }
      ]
    },
    {
      "cell_type": "code",
      "source": [
        "states = None\n",
        "next_char = tf.constant(['Trial'])\n",
        "result = [next_char]\n",
        "\n",
        "for n in range(100):\n",
        "  next_char, states = one_step_reloaded.generate_one_step(next_char, states=states)\n",
        "  result.append(next_char)\n",
        "\n",
        "print(tf.strings.join(result)[0].numpy().decode(\"utf-8\"))"
      ],
      "metadata": {
        "id": "efdAP0JC6O89",
        "colab": {
          "base_uri": "https://localhost:8080/",
          "height": 380
        },
        "outputId": "752a0080-7fee-4862-8fc6-0b6a19900883"
      },
      "execution_count": 38,
      "outputs": [
        {
          "output_type": "error",
          "ename": "ValueError",
          "evalue": "ignored",
          "traceback": [
            "\u001b[0;31m---------------------------------------------------------------------------\u001b[0m",
            "\u001b[0;31mValueError\u001b[0m                                Traceback (most recent call last)",
            "\u001b[0;32m<ipython-input-38-ad32694bdba7>\u001b[0m in \u001b[0;36m<cell line: 5>\u001b[0;34m()\u001b[0m\n\u001b[1;32m      4\u001b[0m \u001b[0;34m\u001b[0m\u001b[0m\n\u001b[1;32m      5\u001b[0m \u001b[0;32mfor\u001b[0m \u001b[0mn\u001b[0m \u001b[0;32min\u001b[0m \u001b[0mrange\u001b[0m\u001b[0;34m(\u001b[0m\u001b[0;36m100\u001b[0m\u001b[0;34m)\u001b[0m\u001b[0;34m:\u001b[0m\u001b[0;34m\u001b[0m\u001b[0;34m\u001b[0m\u001b[0m\n\u001b[0;32m----> 6\u001b[0;31m   \u001b[0mnext_char\u001b[0m\u001b[0;34m,\u001b[0m \u001b[0mstates\u001b[0m \u001b[0;34m=\u001b[0m \u001b[0mone_step_reloaded\u001b[0m\u001b[0;34m.\u001b[0m\u001b[0mgenerate_one_step\u001b[0m\u001b[0;34m(\u001b[0m\u001b[0mnext_char\u001b[0m\u001b[0;34m,\u001b[0m \u001b[0mstates\u001b[0m\u001b[0;34m=\u001b[0m\u001b[0mstates\u001b[0m\u001b[0;34m)\u001b[0m\u001b[0;34m\u001b[0m\u001b[0;34m\u001b[0m\u001b[0m\n\u001b[0m\u001b[1;32m      7\u001b[0m   \u001b[0mresult\u001b[0m\u001b[0;34m.\u001b[0m\u001b[0mappend\u001b[0m\u001b[0;34m(\u001b[0m\u001b[0mnext_char\u001b[0m\u001b[0;34m)\u001b[0m\u001b[0;34m\u001b[0m\u001b[0;34m\u001b[0m\u001b[0m\n\u001b[1;32m      8\u001b[0m \u001b[0;34m\u001b[0m\u001b[0m\n",
            "\u001b[0;32m/usr/local/lib/python3.10/dist-packages/tensorflow/python/util/traceback_utils.py\u001b[0m in \u001b[0;36merror_handler\u001b[0;34m(*args, **kwargs)\u001b[0m\n\u001b[1;32m    151\u001b[0m     \u001b[0;32mexcept\u001b[0m \u001b[0mException\u001b[0m \u001b[0;32mas\u001b[0m \u001b[0me\u001b[0m\u001b[0;34m:\u001b[0m\u001b[0;34m\u001b[0m\u001b[0;34m\u001b[0m\u001b[0m\n\u001b[1;32m    152\u001b[0m       \u001b[0mfiltered_tb\u001b[0m \u001b[0;34m=\u001b[0m \u001b[0m_process_traceback_frames\u001b[0m\u001b[0;34m(\u001b[0m\u001b[0me\u001b[0m\u001b[0;34m.\u001b[0m\u001b[0m__traceback__\u001b[0m\u001b[0;34m)\u001b[0m\u001b[0;34m\u001b[0m\u001b[0;34m\u001b[0m\u001b[0m\n\u001b[0;32m--> 153\u001b[0;31m       \u001b[0;32mraise\u001b[0m \u001b[0me\u001b[0m\u001b[0;34m.\u001b[0m\u001b[0mwith_traceback\u001b[0m\u001b[0;34m(\u001b[0m\u001b[0mfiltered_tb\u001b[0m\u001b[0;34m)\u001b[0m \u001b[0;32mfrom\u001b[0m \u001b[0;32mNone\u001b[0m\u001b[0;34m\u001b[0m\u001b[0;34m\u001b[0m\u001b[0m\n\u001b[0m\u001b[1;32m    154\u001b[0m     \u001b[0;32mfinally\u001b[0m\u001b[0;34m:\u001b[0m\u001b[0;34m\u001b[0m\u001b[0;34m\u001b[0m\u001b[0m\n\u001b[1;32m    155\u001b[0m       \u001b[0;32mdel\u001b[0m \u001b[0mfiltered_tb\u001b[0m\u001b[0;34m\u001b[0m\u001b[0;34m\u001b[0m\u001b[0m\n",
            "\u001b[0;32m/usr/local/lib/python3.10/dist-packages/tensorflow/python/saved_model/function_deserialization.py\u001b[0m in \u001b[0;36mrestored_function_body\u001b[0;34m(*args, **kwargs)\u001b[0m\n\u001b[1;32m    259\u001b[0m     \u001b[0;34m\"\"\"Calls a restored function or raises an error if no matching function.\"\"\"\u001b[0m\u001b[0;34m\u001b[0m\u001b[0;34m\u001b[0m\u001b[0m\n\u001b[1;32m    260\u001b[0m     \u001b[0;32mif\u001b[0m \u001b[0;32mnot\u001b[0m \u001b[0msaved_function\u001b[0m\u001b[0;34m.\u001b[0m\u001b[0mconcrete_functions\u001b[0m\u001b[0;34m:\u001b[0m\u001b[0;34m\u001b[0m\u001b[0;34m\u001b[0m\u001b[0m\n\u001b[0;32m--> 261\u001b[0;31m       \u001b[0;32mraise\u001b[0m \u001b[0mValueError\u001b[0m\u001b[0;34m(\u001b[0m\u001b[0;34m\"Found zero restored functions for caller function.\"\u001b[0m\u001b[0;34m)\u001b[0m\u001b[0;34m\u001b[0m\u001b[0;34m\u001b[0m\u001b[0m\n\u001b[0m\u001b[1;32m    262\u001b[0m     \u001b[0;31m# This is the format of function.graph.structured_input_signature. At this\u001b[0m\u001b[0;34m\u001b[0m\u001b[0;34m\u001b[0m\u001b[0m\n\u001b[1;32m    263\u001b[0m     \u001b[0;31m# point, the args and kwargs have already been canonicalized.\u001b[0m\u001b[0;34m\u001b[0m\u001b[0;34m\u001b[0m\u001b[0m\n",
            "\u001b[0;31mValueError\u001b[0m: Found zero restored functions for caller function."
          ]
        }
      ]
    }
  ]
}