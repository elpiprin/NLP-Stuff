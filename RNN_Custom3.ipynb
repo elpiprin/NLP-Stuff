{
  "nbformat": 4,
  "nbformat_minor": 0,
  "metadata": {
    "colab": {
      "provenance": [],
      "authorship_tag": "ABX9TyMFh/z2K020kM7CxA8nXCqT",
      "include_colab_link": true
    },
    "kernelspec": {
      "name": "python3",
      "display_name": "Python 3"
    },
    "language_info": {
      "name": "python"
    }
  },
  "cells": [
    {
      "cell_type": "markdown",
      "metadata": {
        "id": "view-in-github",
        "colab_type": "text"
      },
      "source": [
        "<a href=\"https://colab.research.google.com/github/elpiprin/NLP-Stuff/blob/main/RNN_Custom3.ipynb\" target=\"_parent\"><img src=\"https://colab.research.google.com/assets/colab-badge.svg\" alt=\"Open In Colab\"/></a>"
      ]
    },
    {
      "cell_type": "markdown",
      "source": [
        "### **Setup**"
      ],
      "metadata": {
        "id": "JWEUpHyDpp20"
      }
    },
    {
      "cell_type": "markdown",
      "source": [
        "***Imports***"
      ],
      "metadata": {
        "id": "p3KzHD0epxwQ"
      }
    },
    {
      "cell_type": "code",
      "source": [
        "#Source: https://www.tensorflow.org/text/tutorials/text_generation\n",
        "import tensorflow as tf\n",
        "import numpy as np\n",
        "import os\n",
        "import time"
      ],
      "metadata": {
        "id": "CXZ2LPevDzuz"
      },
      "execution_count": 1,
      "outputs": []
    },
    {
      "cell_type": "markdown",
      "source": [
        "***Reading the data***"
      ],
      "metadata": {
        "id": "6Md3OSWzkzKe"
      }
    },
    {
      "cell_type": "code",
      "source": [
        "#Read, then decode for py2 compat.\n",
        "text = open('/content/Articles.txt', 'rb').read().decode(encoding='utf-8')\n",
        "#length of text is the number of characters in it\n",
        "print(f'Length of text: {len(text)} characters')"
      ],
      "metadata": {
        "colab": {
          "base_uri": "https://localhost:8080/"
        },
        "id": "9n_GA5OyEJaV",
        "outputId": "03e824f6-b9b8-429c-f878-b9d6b2dbf397"
      },
      "execution_count": 2,
      "outputs": [
        {
          "output_type": "stream",
          "name": "stdout",
          "text": [
            "Length of text: 480143 characters\n"
          ]
        }
      ]
    },
    {
      "cell_type": "code",
      "source": [
        "#Take a look at the first 250 characters in text\n",
        "print(text[:250])"
      ],
      "metadata": {
        "colab": {
          "base_uri": "https://localhost:8080/"
        },
        "id": "ug3QOUPyENem",
        "outputId": "c7fab708-5079-4cf0-a283-33decf4ff2cf"
      },
      "execution_count": 3,
      "outputs": [
        {
          "output_type": "stream",
          "name": "stdout",
          "text": [
            "Melissa Caddick: Death of Australian fraudster remains a mystery\r\n",
            "\r\n",
            "When conwoman Melissa Caddick vanished from her luxurious eastern Sydney home in November 2020 - with only her partially decomposed foot found washed up on a beach months later - it \n"
          ]
        }
      ]
    },
    {
      "cell_type": "code",
      "source": [
        "#The unique characters in the file\n",
        "vocab = sorted(set(text))\n",
        "print(f'{len(vocab)} unique characters')"
      ],
      "metadata": {
        "colab": {
          "base_uri": "https://localhost:8080/"
        },
        "id": "VbKBXgUHEUzj",
        "outputId": "c03e91a4-76d9-43f9-9894-f35560027095"
      },
      "execution_count": 4,
      "outputs": [
        {
          "output_type": "stream",
          "name": "stdout",
          "text": [
            "105 unique characters\n"
          ]
        }
      ]
    },
    {
      "cell_type": "markdown",
      "source": [
        "### **Processing the text**"
      ],
      "metadata": {
        "id": "loQgtVMhlCl4"
      }
    },
    {
      "cell_type": "markdown",
      "source": [
        "***Vectorising the text***"
      ],
      "metadata": {
        "id": "IEP6jTZ_qQ_e"
      }
    },
    {
      "cell_type": "code",
      "source": [
        "example_texts = ['abcdefg', 'xyz']\n",
        "\n",
        "chars = tf.strings.unicode_split(example_texts, input_encoding='UTF-8')\n",
        "chars"
      ],
      "metadata": {
        "colab": {
          "base_uri": "https://localhost:8080/"
        },
        "id": "LVF6jADMOkhf",
        "outputId": "a5f6a8ba-9eca-4315-c988-71151f7d6468"
      },
      "execution_count": 5,
      "outputs": [
        {
          "output_type": "execute_result",
          "data": {
            "text/plain": [
              "<tf.RaggedTensor [[b'a', b'b', b'c', b'd', b'e', b'f', b'g'], [b'x', b'y', b'z']]>"
            ]
          },
          "metadata": {},
          "execution_count": 5
        }
      ]
    },
    {
      "cell_type": "code",
      "source": [
        "ids_from_chars = tf.keras.layers.StringLookup(\n",
        "    vocabulary=list(vocab), mask_token=None)"
      ],
      "metadata": {
        "id": "9UkSiCoiOuIx"
      },
      "execution_count": 6,
      "outputs": []
    },
    {
      "cell_type": "code",
      "source": [
        "ids = ids_from_chars(chars)\n",
        "ids"
      ],
      "metadata": {
        "colab": {
          "base_uri": "https://localhost:8080/"
        },
        "id": "9TtA4WgROyKx",
        "outputId": "da360eaa-5d81-4852-9068-f1bb57e7731c"
      },
      "execution_count": 7,
      "outputs": [
        {
          "output_type": "execute_result",
          "data": {
            "text/plain": [
              "<tf.RaggedTensor [[59, 60, 61, 62, 63, 64, 65], [82, 83, 84]]>"
            ]
          },
          "metadata": {},
          "execution_count": 7
        }
      ]
    },
    {
      "cell_type": "code",
      "source": [
        "chars_from_ids = tf.keras.layers.StringLookup(\n",
        "    vocabulary=ids_from_chars.get_vocabulary(), invert=True, mask_token=None)"
      ],
      "metadata": {
        "id": "bb8pZAaqO0Um"
      },
      "execution_count": 8,
      "outputs": []
    },
    {
      "cell_type": "code",
      "source": [
        "chars = chars_from_ids(ids)\n",
        "chars"
      ],
      "metadata": {
        "colab": {
          "base_uri": "https://localhost:8080/"
        },
        "id": "N7gWKqXEO7Ws",
        "outputId": "45053df0-3c18-482d-a42f-ab6fb9cd57e9"
      },
      "execution_count": 9,
      "outputs": [
        {
          "output_type": "execute_result",
          "data": {
            "text/plain": [
              "<tf.RaggedTensor [[b'a', b'b', b'c', b'd', b'e', b'f', b'g'], [b'x', b'y', b'z']]>"
            ]
          },
          "metadata": {},
          "execution_count": 9
        }
      ]
    },
    {
      "cell_type": "code",
      "source": [
        "tf.strings.reduce_join(chars, axis=-1).numpy()"
      ],
      "metadata": {
        "colab": {
          "base_uri": "https://localhost:8080/"
        },
        "id": "0e1ZRpYkO_9q",
        "outputId": "02292e60-0a1f-439d-e4a8-e0e8cdc94448"
      },
      "execution_count": 10,
      "outputs": [
        {
          "output_type": "execute_result",
          "data": {
            "text/plain": [
              "array([b'abcdefg', b'xyz'], dtype=object)"
            ]
          },
          "metadata": {},
          "execution_count": 10
        }
      ]
    },
    {
      "cell_type": "code",
      "source": [
        "def text_from_ids(ids):\n",
        "  return tf.strings.reduce_join(chars_from_ids(ids), axis=-1)"
      ],
      "metadata": {
        "id": "-PpGG7A0PCHz"
      },
      "execution_count": 11,
      "outputs": []
    },
    {
      "cell_type": "markdown",
      "source": [
        "***Prediction task*** \n",
        "\n",
        "***Creating training examples and targets*** "
      ],
      "metadata": {
        "id": "skDLeHjYlXup"
      }
    },
    {
      "cell_type": "code",
      "source": [
        "all_ids = ids_from_chars(tf.strings.unicode_split(text, 'UTF-8'))\n",
        "all_ids"
      ],
      "metadata": {
        "colab": {
          "base_uri": "https://localhost:8080/"
        },
        "id": "Z0cD1dWNPG9K",
        "outputId": "85a13c9b-edba-4176-83b3-1d51a9d489d0"
      },
      "execution_count": 12,
      "outputs": [
        {
          "output_type": "execute_result",
          "data": {
            "text/plain": [
              "<tf.Tensor: shape=(480143,), dtype=int64, numpy=array([43, 63, 70, ..., 76, 77, 16])>"
            ]
          },
          "metadata": {},
          "execution_count": 12
        }
      ]
    },
    {
      "cell_type": "code",
      "source": [
        "ids_dataset = tf.data.Dataset.from_tensor_slices(all_ids)"
      ],
      "metadata": {
        "id": "HatOOeEBPI62"
      },
      "execution_count": 13,
      "outputs": []
    },
    {
      "cell_type": "code",
      "source": [
        "for ids in ids_dataset.take(10):\n",
        "    print(chars_from_ids(ids).numpy().decode('utf-8'))"
      ],
      "metadata": {
        "colab": {
          "base_uri": "https://localhost:8080/"
        },
        "id": "w0R9tvZ2PMhB",
        "outputId": "a65c9c3d-8f9b-4712-ec70-51b6b2ec118b"
      },
      "execution_count": 14,
      "outputs": [
        {
          "output_type": "stream",
          "name": "stdout",
          "text": [
            "M\n",
            "e\n",
            "l\n",
            "i\n",
            "s\n",
            "s\n",
            "a\n",
            " \n",
            "C\n",
            "a\n"
          ]
        }
      ]
    },
    {
      "cell_type": "code",
      "source": [
        "seq_length = 100"
      ],
      "metadata": {
        "id": "aYNP7rfMPRZQ"
      },
      "execution_count": 15,
      "outputs": []
    },
    {
      "cell_type": "code",
      "source": [
        "sequences = ids_dataset.batch(seq_length+1, drop_remainder=True)\n",
        "\n",
        "for seq in sequences.take(1):\n",
        "  print(chars_from_ids(seq))"
      ],
      "metadata": {
        "colab": {
          "base_uri": "https://localhost:8080/"
        },
        "id": "T69XUCpPPVv8",
        "outputId": "f1d58e81-4df3-4c3a-8f8e-d4f53ed9a9cc"
      },
      "execution_count": 16,
      "outputs": [
        {
          "output_type": "stream",
          "name": "stdout",
          "text": [
            "tf.Tensor(\n",
            "[b'M' b'e' b'l' b'i' b's' b's' b'a' b' ' b'C' b'a' b'd' b'd' b'i' b'c'\n",
            " b'k' b':' b' ' b'D' b'e' b'a' b't' b'h' b' ' b'o' b'f' b' ' b'A' b'u'\n",
            " b's' b't' b'r' b'a' b'l' b'i' b'a' b'n' b' ' b'f' b'r' b'a' b'u' b'd'\n",
            " b's' b't' b'e' b'r' b' ' b'r' b'e' b'm' b'a' b'i' b'n' b's' b' ' b'a'\n",
            " b' ' b'm' b'y' b's' b't' b'e' b'r' b'y' b'\\r' b'\\n' b'\\r' b'\\n' b'W' b'h'\n",
            " b'e' b'n' b' ' b'c' b'o' b'n' b'w' b'o' b'm' b'a' b'n' b' ' b'M' b'e'\n",
            " b'l' b'i' b's' b's' b'a' b' ' b'C' b'a' b'd' b'd' b'i' b'c' b'k' b' '\n",
            " b'v' b'a' b'n'], shape=(101,), dtype=string)\n"
          ]
        }
      ]
    },
    {
      "cell_type": "code",
      "source": [
        "for seq in sequences.take(5):\n",
        "  print(text_from_ids(seq).numpy())"
      ],
      "metadata": {
        "colab": {
          "base_uri": "https://localhost:8080/"
        },
        "id": "8TeSCad0Pa78",
        "outputId": "ebfa82bc-fac3-4a7b-adf6-fdd87c3fb281"
      },
      "execution_count": 17,
      "outputs": [
        {
          "output_type": "stream",
          "name": "stdout",
          "text": [
            "b'Melissa Caddick: Death of Australian fraudster remains a mystery\\r\\n\\r\\nWhen conwoman Melissa Caddick van'\n",
            "b'ished from her luxurious eastern Sydney home in November 2020 - with only her partially decomposed fo'\n",
            "b'ot found washed up on a beach months later - it set off a frenzy in Australia.\\r\\n\\r\\nThe case blindsided'\n",
            "b' investors, baffled police, and captured the imagination of a nation.\\r\\n\\r\\nThe fraudster has inspired a'\n",
            "b' hit podcast, a TV dramatisation, and countless outlandish theories - including that she had been swa'\n"
          ]
        }
      ]
    },
    {
      "cell_type": "code",
      "source": [
        "def split_input_target(sequence):\n",
        "    input_text = sequence[:-1]\n",
        "    target_text = sequence[1:]\n",
        "    return input_text, target_text"
      ],
      "metadata": {
        "id": "rBn9QmRfPcat"
      },
      "execution_count": 18,
      "outputs": []
    },
    {
      "cell_type": "code",
      "source": [
        "split_input_target(list(\"Tensorflow\"))"
      ],
      "metadata": {
        "colab": {
          "base_uri": "https://localhost:8080/"
        },
        "id": "ueB_8BB9Ph8T",
        "outputId": "89dda151-1865-46b5-f89e-5b1deb8aca1e"
      },
      "execution_count": 19,
      "outputs": [
        {
          "output_type": "execute_result",
          "data": {
            "text/plain": [
              "(['T', 'e', 'n', 's', 'o', 'r', 'f', 'l', 'o'],\n",
              " ['e', 'n', 's', 'o', 'r', 'f', 'l', 'o', 'w'])"
            ]
          },
          "metadata": {},
          "execution_count": 19
        }
      ]
    },
    {
      "cell_type": "code",
      "source": [
        "dataset = sequences.map(split_input_target)"
      ],
      "metadata": {
        "id": "PoEqvjgVPl3T"
      },
      "execution_count": 20,
      "outputs": []
    },
    {
      "cell_type": "code",
      "source": [
        "for input_example, target_example in dataset.take(1):\n",
        "    print(\"Input :\", text_from_ids(input_example).numpy())\n",
        "    print(\"Target:\", text_from_ids(target_example).numpy())"
      ],
      "metadata": {
        "colab": {
          "base_uri": "https://localhost:8080/"
        },
        "id": "Ey28Rn54PrS9",
        "outputId": "d21c1b47-dd5b-4311-e37b-0069db8c0ee1"
      },
      "execution_count": 21,
      "outputs": [
        {
          "output_type": "stream",
          "name": "stdout",
          "text": [
            "Input : b'Melissa Caddick: Death of Australian fraudster remains a mystery\\r\\n\\r\\nWhen conwoman Melissa Caddick va'\n",
            "Target: b'elissa Caddick: Death of Australian fraudster remains a mystery\\r\\n\\r\\nWhen conwoman Melissa Caddick van'\n"
          ]
        }
      ]
    },
    {
      "cell_type": "markdown",
      "source": [
        "***Creating training batches***"
      ],
      "metadata": {
        "id": "MTPNGBhvlsVJ"
      }
    },
    {
      "cell_type": "code",
      "source": [
        "# Batch size\n",
        "BATCH_SIZE = 64\n",
        "\n",
        "# Buffer size to shuffle the dataset\n",
        "# (TF data is designed to work with possibly infinite sequences,\n",
        "# so it doesn't attempt to shuffle the entire sequence in memory. Instead,\n",
        "# it maintains a buffer in which it shuffles elements).\n",
        "BUFFER_SIZE = 10000\n",
        "\n",
        "dataset = (\n",
        "    dataset\n",
        "    .shuffle(BUFFER_SIZE)\n",
        "    .batch(BATCH_SIZE, drop_remainder=True)\n",
        "    .prefetch(tf.data.experimental.AUTOTUNE))\n",
        "\n",
        "dataset"
      ],
      "metadata": {
        "colab": {
          "base_uri": "https://localhost:8080/"
        },
        "id": "k45EyaHcPwXY",
        "outputId": "c0510dad-a06b-4bbf-f480-a723927304c6"
      },
      "execution_count": 22,
      "outputs": [
        {
          "output_type": "execute_result",
          "data": {
            "text/plain": [
              "<_PrefetchDataset element_spec=(TensorSpec(shape=(64, 100), dtype=tf.int64, name=None), TensorSpec(shape=(64, 100), dtype=tf.int64, name=None))>"
            ]
          },
          "metadata": {},
          "execution_count": 22
        }
      ]
    },
    {
      "cell_type": "markdown",
      "source": [
        "### **Building the model**"
      ],
      "metadata": {
        "id": "FoUYy3rbl1xl"
      }
    },
    {
      "cell_type": "code",
      "source": [
        "# Length of the vocabulary in StringLookup Layer\n",
        "vocab_size = len(ids_from_chars.get_vocabulary())\n",
        "\n",
        "# The embedding dimension\n",
        "embedding_dim = 256\n",
        "\n",
        "# Number of RNN units\n",
        "rnn_units = 1024"
      ],
      "metadata": {
        "id": "rwu7Jt-sP0nP"
      },
      "execution_count": 23,
      "outputs": []
    },
    {
      "cell_type": "code",
      "source": [
        "class MyModel(tf.keras.Model):\n",
        "  def __init__(self, vocab_size, embedding_dim, rnn_units):\n",
        "    super().__init__(self)\n",
        "    self.embedding = tf.keras.layers.Embedding(vocab_size, embedding_dim)\n",
        "    self.gru = tf.keras.layers.GRU(rnn_units,\n",
        "                                   return_sequences=True,\n",
        "                                   return_state=True)\n",
        "    self.dense = tf.keras.layers.Dense(vocab_size)\n",
        "\n",
        "  def call(self, inputs, states=None, return_state=False, training=False):\n",
        "    x = inputs\n",
        "    x = self.embedding(x, training=training)\n",
        "    if states is None:\n",
        "      states = self.gru.get_initial_state(x)\n",
        "    x, states = self.gru(x, initial_state=states, training=training)\n",
        "    x = self.dense(x, training=training)\n",
        "\n",
        "    if return_state:\n",
        "      return x, states\n",
        "    else:\n",
        "      return x"
      ],
      "metadata": {
        "id": "lR_vIPmnP4z5"
      },
      "execution_count": 24,
      "outputs": []
    },
    {
      "cell_type": "code",
      "source": [
        "model = MyModel(\n",
        "    vocab_size=vocab_size,\n",
        "    embedding_dim=embedding_dim,\n",
        "    rnn_units=rnn_units)"
      ],
      "metadata": {
        "id": "FRNIbZ4LP9GG"
      },
      "execution_count": 25,
      "outputs": []
    },
    {
      "cell_type": "markdown",
      "source": [
        "### **Trying the model**"
      ],
      "metadata": {
        "id": "AACoB4bgmEMu"
      }
    },
    {
      "cell_type": "code",
      "source": [
        "for input_example_batch, target_example_batch in dataset.take(1):\n",
        "    example_batch_predictions = model(input_example_batch)\n",
        "    print(example_batch_predictions.shape, \"# (batch_size, sequence_length, vocab_size)\")"
      ],
      "metadata": {
        "colab": {
          "base_uri": "https://localhost:8080/"
        },
        "id": "_kC2NTNOQBiu",
        "outputId": "aa22054a-0100-4cc5-b1d0-a5b4f59fcd6c"
      },
      "execution_count": 26,
      "outputs": [
        {
          "output_type": "stream",
          "name": "stdout",
          "text": [
            "(64, 100, 106) # (batch_size, sequence_length, vocab_size)\n"
          ]
        }
      ]
    },
    {
      "cell_type": "code",
      "source": [
        "model.summary()"
      ],
      "metadata": {
        "colab": {
          "base_uri": "https://localhost:8080/"
        },
        "id": "GHJVGB2JQFR4",
        "outputId": "4701921f-cdb8-433f-cace-5ede82a93699"
      },
      "execution_count": 27,
      "outputs": [
        {
          "output_type": "stream",
          "name": "stdout",
          "text": [
            "Model: \"my_model\"\n",
            "_________________________________________________________________\n",
            " Layer (type)                Output Shape              Param #   \n",
            "=================================================================\n",
            " embedding (Embedding)       multiple                  27136     \n",
            "                                                                 \n",
            " gru (GRU)                   multiple                  3938304   \n",
            "                                                                 \n",
            " dense (Dense)               multiple                  108650    \n",
            "                                                                 \n",
            "=================================================================\n",
            "Total params: 4,074,090\n",
            "Trainable params: 4,074,090\n",
            "Non-trainable params: 0\n",
            "_________________________________________________________________\n"
          ]
        }
      ]
    },
    {
      "cell_type": "code",
      "source": [
        "sampled_indices = tf.random.categorical(example_batch_predictions[0], num_samples=1)\n",
        "sampled_indices = tf.squeeze(sampled_indices, axis=-1).numpy()"
      ],
      "metadata": {
        "id": "Qa_l-ayPQLtP"
      },
      "execution_count": 28,
      "outputs": []
    },
    {
      "cell_type": "code",
      "source": [
        "sampled_indices"
      ],
      "metadata": {
        "colab": {
          "base_uri": "https://localhost:8080/"
        },
        "id": "-YeJNjrtQOuN",
        "outputId": "146d299c-5ac4-4d2b-c1b2-3d138296abee"
      },
      "execution_count": 29,
      "outputs": [
        {
          "output_type": "execute_result",
          "data": {
            "text/plain": [
              "array([103,  81,  32,  52,  40,  86, 105,  49,   2,  28,  59,  50,  89,\n",
              "        59,   7,  73, 103,   0,  49,  82,  11,  52,  18,  42,   4,  20,\n",
              "        25,  79,  33,  23,  28,  84,  36,  74,  26,  93,  99,  84,  66,\n",
              "        28,  58,  41,  91,  75,  40,  51,  59,  11,  97,  84,  23,  70,\n",
              "         6,  95,  37,  44,  83,  50,  77,  30, 102,  84,  75,  55,  88,\n",
              "        12,  14,   9,  76,  11,  44,  49,  82,  88,  93,  87,  61,  15,\n",
              "        98,   9,  73,  24,  92,  26,  76,   8,  24,  91,  63,  25, 102,\n",
              "        99,  30,  56,  42,  71,  66,  98,   2,  79])"
            ]
          },
          "metadata": {},
          "execution_count": 29
        }
      ]
    },
    {
      "cell_type": "code",
      "source": [
        "print(\"Input:\\n\", text_from_ids(input_example_batch[0]).numpy())\n",
        "print()\n",
        "print(\"Next Char Predictions:\\n\", text_from_ids(sampled_indices).numpy())"
      ],
      "metadata": {
        "colab": {
          "base_uri": "https://localhost:8080/"
        },
        "id": "-0lL1EBNQSGl",
        "outputId": "97fbee1e-107f-40f7-c5c8-93b3322f1815"
      },
      "execution_count": 30,
      "outputs": [
        {
          "output_type": "stream",
          "name": "stdout",
          "text": [
            "Input:\n",
            " b'Under reforms made to Qatar\\xe2\\x80\\x99s labour laws in 2020, employers and workers can end contracts early, bu'\n",
            "\n",
            "Next Char Predictions:\n",
            " b'\\xe2\\x80\\xa6wBVJ\\xc3\\xa1\\xe2\\x82\\xacS\\r:aT\\xc3\\xa9a$o\\xe2\\x80\\xa6[UNK]Sx(V0L!27uC5:zFp8\\xc3\\xb6\\xe2\\x80\\x98zh:]K\\xc3\\xb1qJUa(\\xe2\\x80\\x93z5l#\\xc3\\xbcGNyTs?\\xe2\\x80\\x9dzqY\\xc3\\xa8),&r(NSx\\xc3\\xa8\\xc3\\xb6\\xc3\\xa3c-\\xe2\\x80\\x94&o6\\xc3\\xb38r%6\\xc3\\xb1e7\\xe2\\x80\\x9d\\xe2\\x80\\x98?ZLmh\\xe2\\x80\\x94\\ru'\n"
          ]
        }
      ]
    },
    {
      "cell_type": "markdown",
      "source": [
        "### **Training the model**"
      ],
      "metadata": {
        "id": "q6TCrNIhmR6c"
      }
    },
    {
      "cell_type": "markdown",
      "source": [
        "***Attaching an optimiser & a loss function***"
      ],
      "metadata": {
        "id": "idwcaR8msOtM"
      }
    },
    {
      "cell_type": "code",
      "source": [
        "loss = tf.losses.SparseCategoricalCrossentropy(from_logits=True)"
      ],
      "metadata": {
        "id": "OBYug03sQZHp"
      },
      "execution_count": 31,
      "outputs": []
    },
    {
      "cell_type": "code",
      "source": [
        "example_batch_mean_loss = loss(target_example_batch, example_batch_predictions)\n",
        "print(\"Prediction shape: \", example_batch_predictions.shape, \" # (batch_size, sequence_length, vocab_size)\")\n",
        "print(\"Mean loss:        \", example_batch_mean_loss)"
      ],
      "metadata": {
        "colab": {
          "base_uri": "https://localhost:8080/"
        },
        "id": "AAMHRpCkQcGU",
        "outputId": "2fef56da-14e8-41de-c32c-bc8c969002a4"
      },
      "execution_count": 32,
      "outputs": [
        {
          "output_type": "stream",
          "name": "stdout",
          "text": [
            "Prediction shape:  (64, 100, 106)  # (batch_size, sequence_length, vocab_size)\n",
            "Mean loss:         tf.Tensor(4.6626196, shape=(), dtype=float32)\n"
          ]
        }
      ]
    },
    {
      "cell_type": "code",
      "source": [
        "tf.exp(example_batch_mean_loss).numpy()"
      ],
      "metadata": {
        "colab": {
          "base_uri": "https://localhost:8080/"
        },
        "id": "BDLx_MJ_Qggo",
        "outputId": "f4ca10dc-0ef2-4887-e7c4-824c7f8d0b68"
      },
      "execution_count": 33,
      "outputs": [
        {
          "output_type": "execute_result",
          "data": {
            "text/plain": [
              "105.91317"
            ]
          },
          "metadata": {},
          "execution_count": 33
        }
      ]
    },
    {
      "cell_type": "code",
      "source": [
        "model.compile(optimizer='adam', loss=loss)"
      ],
      "metadata": {
        "id": "PCRAbwCAQkaq"
      },
      "execution_count": 34,
      "outputs": []
    },
    {
      "cell_type": "markdown",
      "source": [
        "***Configuring checkpoints***"
      ],
      "metadata": {
        "id": "CgOXgtpxsXzE"
      }
    },
    {
      "cell_type": "code",
      "source": [
        "# Directory where the checkpoints will be saved\n",
        "checkpoint_dir = './training_checkpoints'\n",
        "# Name of the checkpoint files\n",
        "checkpoint_prefix = os.path.join(checkpoint_dir, \"ckpt_{epoch}\")\n",
        "\n",
        "checkpoint_callback = tf.keras.callbacks.ModelCheckpoint(\n",
        "    filepath=checkpoint_prefix,\n",
        "    save_weights_only=True)"
      ],
      "metadata": {
        "id": "q6FiC4sxQoH5"
      },
      "execution_count": 35,
      "outputs": []
    },
    {
      "cell_type": "markdown",
      "source": [
        "***Executing the training***"
      ],
      "metadata": {
        "id": "WTiKvvarsh-G"
      }
    },
    {
      "cell_type": "code",
      "source": [
        "EPOCHS = 60"
      ],
      "metadata": {
        "id": "DahGk_M3Qpxw"
      },
      "execution_count": 36,
      "outputs": []
    },
    {
      "cell_type": "code",
      "source": [
        "history = model.fit(dataset, epochs=EPOCHS, callbacks=[checkpoint_callback])"
      ],
      "metadata": {
        "id": "IzqLLMAYQttS",
        "colab": {
          "base_uri": "https://localhost:8080/"
        },
        "outputId": "0edcb646-ac06-46d9-aef3-33035a4ff0b5"
      },
      "execution_count": 37,
      "outputs": [
        {
          "output_type": "stream",
          "name": "stdout",
          "text": [
            "Epoch 1/60\n",
            "74/74 [==============================] - 410s 5s/step - loss: 3.1432\n",
            "Epoch 2/60\n",
            "74/74 [==============================] - 407s 5s/step - loss: 2.3965\n",
            "Epoch 3/60\n",
            "74/74 [==============================] - 407s 5s/step - loss: 2.2080\n",
            "Epoch 4/60\n",
            "74/74 [==============================] - 412s 6s/step - loss: 2.0481\n",
            "Epoch 5/60\n",
            "74/74 [==============================] - 406s 5s/step - loss: 1.9003\n",
            "Epoch 6/60\n",
            "74/74 [==============================] - 411s 6s/step - loss: 1.7557\n",
            "Epoch 7/60\n",
            "74/74 [==============================] - 406s 5s/step - loss: 1.6282\n",
            "Epoch 8/60\n",
            "74/74 [==============================] - 410s 6s/step - loss: 1.5228\n",
            "Epoch 9/60\n",
            "74/74 [==============================] - 404s 5s/step - loss: 1.4362\n",
            "Epoch 10/60\n",
            "74/74 [==============================] - 401s 5s/step - loss: 1.3637\n",
            "Epoch 11/60\n",
            "74/74 [==============================] - 408s 6s/step - loss: 1.3008\n",
            "Epoch 12/60\n",
            "74/74 [==============================] - 403s 5s/step - loss: 1.2438\n",
            "Epoch 13/60\n",
            "74/74 [==============================] - 404s 5s/step - loss: 1.1884\n",
            "Epoch 14/60\n",
            "74/74 [==============================] - 404s 5s/step - loss: 1.1339\n",
            "Epoch 15/60\n",
            "74/74 [==============================] - 409s 6s/step - loss: 1.0790\n",
            "Epoch 16/60\n",
            "74/74 [==============================] - 407s 5s/step - loss: 1.0222\n",
            "Epoch 17/60\n",
            "74/74 [==============================] - 403s 5s/step - loss: 0.9651\n",
            "Epoch 18/60\n",
            "74/74 [==============================] - 421s 6s/step - loss: 0.9030\n",
            "Epoch 19/60\n",
            "74/74 [==============================] - 411s 6s/step - loss: 0.8398\n",
            "Epoch 20/60\n",
            "74/74 [==============================] - 419s 6s/step - loss: 0.7750\n",
            "Epoch 21/60\n",
            "74/74 [==============================] - 420s 6s/step - loss: 0.7101\n",
            "Epoch 22/60\n",
            "74/74 [==============================] - 409s 5s/step - loss: 0.6414\n",
            "Epoch 23/60\n",
            "74/74 [==============================] - 408s 6s/step - loss: 0.5770\n",
            "Epoch 24/60\n",
            "74/74 [==============================] - 432s 6s/step - loss: 0.5152\n",
            "Epoch 25/60\n",
            "74/74 [==============================] - 397s 5s/step - loss: 0.4552\n",
            "Epoch 26/60\n",
            "74/74 [==============================] - 398s 5s/step - loss: 0.4038\n",
            "Epoch 27/60\n",
            "74/74 [==============================] - 396s 5s/step - loss: 0.3574\n",
            "Epoch 28/60\n",
            "74/74 [==============================] - 398s 5s/step - loss: 0.3153\n",
            "Epoch 29/60\n",
            "74/74 [==============================] - 416s 6s/step - loss: 0.2778\n",
            "Epoch 30/60\n",
            "74/74 [==============================] - 410s 6s/step - loss: 0.2459\n",
            "Epoch 31/60\n",
            "74/74 [==============================] - 397s 5s/step - loss: 0.2191\n",
            "Epoch 32/60\n",
            "74/74 [==============================] - 410s 6s/step - loss: 0.2007\n",
            "Epoch 33/60\n",
            "74/74 [==============================] - 431s 6s/step - loss: 0.1831\n",
            "Epoch 34/60\n",
            "74/74 [==============================] - 403s 5s/step - loss: 0.1677\n",
            "Epoch 35/60\n",
            "74/74 [==============================] - 386s 5s/step - loss: 0.1557\n",
            "Epoch 36/60\n",
            "74/74 [==============================] - 390s 5s/step - loss: 0.1471\n",
            "Epoch 37/60\n",
            "74/74 [==============================] - 392s 5s/step - loss: 0.1395\n",
            "Epoch 38/60\n",
            "74/74 [==============================] - 390s 5s/step - loss: 0.1333\n",
            "Epoch 39/60\n",
            "74/74 [==============================] - 391s 5s/step - loss: 0.1282\n",
            "Epoch 40/60\n",
            "74/74 [==============================] - 399s 5s/step - loss: 0.1256\n",
            "Epoch 41/60\n",
            "74/74 [==============================] - 395s 5s/step - loss: 0.1274\n",
            "Epoch 42/60\n",
            "74/74 [==============================] - 396s 5s/step - loss: 0.1353\n",
            "Epoch 43/60\n",
            "74/74 [==============================] - 398s 5s/step - loss: 0.1570\n",
            "Epoch 44/60\n",
            "74/74 [==============================] - 403s 5s/step - loss: 0.2182\n",
            "Epoch 45/60\n",
            "74/74 [==============================] - 454s 6s/step - loss: 0.3118\n",
            "Epoch 46/60\n",
            "74/74 [==============================] - 430s 6s/step - loss: 0.3364\n",
            "Epoch 47/60\n",
            "74/74 [==============================] - 411s 6s/step - loss: 0.2880\n",
            "Epoch 48/60\n",
            "74/74 [==============================] - 395s 5s/step - loss: 0.2297\n",
            "Epoch 49/60\n",
            "74/74 [==============================] - 393s 5s/step - loss: 0.1783\n",
            "Epoch 50/60\n",
            "74/74 [==============================] - 395s 5s/step - loss: 0.1405\n",
            "Epoch 51/60\n",
            "74/74 [==============================] - 395s 5s/step - loss: 0.1136\n",
            "Epoch 52/60\n",
            "74/74 [==============================] - 387s 5s/step - loss: 0.0956\n",
            "Epoch 53/60\n",
            "74/74 [==============================] - 384s 5s/step - loss: 0.0847\n",
            "Epoch 54/60\n",
            "74/74 [==============================] - 381s 5s/step - loss: 0.0791\n",
            "Epoch 55/60\n",
            "74/74 [==============================] - 382s 5s/step - loss: 0.0764\n",
            "Epoch 56/60\n",
            "74/74 [==============================] - 380s 5s/step - loss: 0.0749\n",
            "Epoch 57/60\n",
            "74/74 [==============================] - 380s 5s/step - loss: 0.0742\n",
            "Epoch 58/60\n",
            "74/74 [==============================] - 383s 5s/step - loss: 0.0737\n",
            "Epoch 59/60\n",
            "74/74 [==============================] - 382s 5s/step - loss: 0.0735\n",
            "Epoch 60/60\n",
            "74/74 [==============================] - 381s 5s/step - loss: 0.0732\n"
          ]
        }
      ]
    },
    {
      "cell_type": "markdown",
      "source": [
        "### **Generating Text**"
      ],
      "metadata": {
        "id": "AuNaxxPTz6cz"
      }
    },
    {
      "cell_type": "code",
      "source": [
        "class OneStep(tf.keras.Model):\n",
        "  def __init__(self, model, chars_from_ids, ids_from_chars, temperature=0.7):\n",
        "    super().__init__()\n",
        "    self.temperature = temperature\n",
        "    self.model = model\n",
        "    self.chars_from_ids = chars_from_ids\n",
        "    self.ids_from_chars = ids_from_chars\n",
        "\n",
        "    # Create a mask to prevent \"[UNK]\" from being generated.\n",
        "    skip_ids = self.ids_from_chars(['[UNK]'])[:, None]\n",
        "    sparse_mask = tf.SparseTensor(\n",
        "        # Put a -inf at each bad index.\n",
        "        values=[-float('inf')]*len(skip_ids),\n",
        "        indices=skip_ids,\n",
        "        # Match the shape to the vocabulary\n",
        "        dense_shape=[len(ids_from_chars.get_vocabulary())])\n",
        "    self.prediction_mask = tf.sparse.to_dense(sparse_mask)\n",
        "\n",
        "  @tf.function\n",
        "  def generate_one_step(self, inputs, states=None):\n",
        "    # Convert strings to token IDs.\n",
        "    input_chars = tf.strings.unicode_split(inputs, 'UTF-8')\n",
        "    input_ids = self.ids_from_chars(input_chars).to_tensor()\n",
        "\n",
        "    # Run the model.\n",
        "    # predicted_logits.shape is [batch, char, next_char_logits]\n",
        "    predicted_logits, states = self.model(inputs=input_ids, states=states,\n",
        "                                          return_state=True)\n",
        "    # Only use the last prediction.\n",
        "    predicted_logits = predicted_logits[:, -1, :]\n",
        "    predicted_logits = predicted_logits/self.temperature\n",
        "    # Apply the prediction mask: prevent \"[UNK]\" from being generated.\n",
        "    predicted_logits = predicted_logits + self.prediction_mask\n",
        "\n",
        "    # Sample the output logits to generate token IDs.\n",
        "    predicted_ids = tf.random.categorical(predicted_logits, num_samples=1)\n",
        "    predicted_ids = tf.squeeze(predicted_ids, axis=-1)\n",
        "\n",
        "    # Convert from token ids to characters\n",
        "    predicted_chars = self.chars_from_ids(predicted_ids)\n",
        "\n",
        "    # Return the characters and model state.\n",
        "    return predicted_chars, states"
      ],
      "metadata": {
        "id": "I0ak9dub5kxB"
      },
      "execution_count": 69,
      "outputs": []
    },
    {
      "cell_type": "code",
      "source": [
        "one_step_model = OneStep(model, chars_from_ids, ids_from_chars)"
      ],
      "metadata": {
        "id": "EY3eeeUv5_FA"
      },
      "execution_count": 70,
      "outputs": []
    },
    {
      "cell_type": "code",
      "source": [
        "#Text 1\n",
        "start = time.time()\n",
        "states = None\n",
        "next_char = tf.constant(['Activists'])\n",
        "result = [next_char]\n",
        "\n",
        "for n in range(11000):\n",
        "  next_char, states = one_step_model.generate_one_step(next_char, states=states)\n",
        "  result.append(next_char)\n",
        "\n",
        "result = tf.strings.join(result)\n",
        "end = time.time()\n",
        "print(result[0].numpy().decode('utf-8'), '\\n\\n' + '_'*80)\n",
        "print('\\nRun time:', end - start)"
      ],
      "metadata": {
        "id": "K-TE8Pc76C-t",
        "colab": {
          "base_uri": "https://localhost:8080/"
        },
        "outputId": "478050a5-e6d5-4649-c4d6-c5f4779abae3"
      },
      "execution_count": 72,
      "outputs": [
        {
          "output_type": "stream",
          "name": "stdout",
          "text": [
            "Activists have long said they want to see abortion providers, back at Sanyiag-neth language as a Germany.\r\n",
            "\r\n",
            "\"The process of creating the other is by propagating the idea that if we will come home alive or not,” he added.\r\n",
            "\r\n",
            "Analysts at Bank of America and Goldman Sachs, for their part, see summer.\r\n",
            "\r\n",
            "On the Republican figures serving pulled international law, and that the UK was reduced to a couple of cells in the country.\r\n",
            "\r\n",
            "Ms Hawkins read the conclusion the work compliance with political dictates,” Thomas added to access medication through an online provider,\" said Elizabeth Nash, a political analyst. \"The system is collapsing in Pakistan's constitution. Internet access is a human behind the allegations say about the condition of these airplanes, if the mandatory reporting looks as they are for the developing countries where they are being given does not allow the health system to pay the doctors what they need,” says Djalo. “If someone has a cardiovascular illness, they must apply forces of the outcome and ultimately the man return the party for teaching Bharat-man, Reeading was dead when local of banks and fight against the Nazis), implying that today's soldiers are from towns outside Kostroma, which makes tracking down information about them much more intense and frequent natural disasters. That will disrupt the supply coup in the overall air defense system almost every night.”\r\n",
            "\r\n",
            "“We are spending our missiles and ammunition and environmental areas. A number of nations, including the UK, are rapidly expanding eligibility for a fourth dose?\r\n",
            "\r\n",
            "A limide the main for the party posted on Facebook in March. The post states: “Germans are now right at the botton said in a statement he had agreed to the settlement “to put this issue to rest.”\r\n",
            "\r\n",
            "One of the knives was 7in long. Another was a potential flee. “The NHS must investigate how this happened and how widespread this alleged data breach is based only on information and testimony provided by the attorney general and assassinated 1968 presidential candidate Robe Seraction, to see the graves of Historic Cairo being removed from office, two-thirds of the Texas Senate’s members who are racist without knowing it, or people who are racist because they want to be racist.”\r\n",
            "\r\n",
            "For those who say they were forced to return hous for her husband. She was sure he would be hungry when he returned the 737 Max programme do, however, acknowledge that there have been specific issues with stabiliser mother sign limiting security for financial crisis in China” and to prepare for a “financial war” with the United States Institute for Strain from an auditalist which has found in the 1970s and decommissioned by Berlin in 2010, the hater line of space and I know they do not have a shred of evidence,\" he told News18, adding that he only heard about Waris's death hours after the car warks.\r\n",
            "\r\n",
            "The articles of impeachment also detail what are described as Paxton’s efforts to immerse English learners in bilingual sectors material interest line between the raration of the broader trend another.\r\n",
            "\r\n",
            "In the days since Roe was repealed, founder Amy Merrill told the BBC - well above its policies are made from from and false accommodation and threatening us, banging on our door so it was a “private conversation” and did not elaborate.\r\n",
            "\r\n",
            "Several senators from both parties have expert with his hosts, who warned that divided the programm was deal would be removed from a class, whether it’d be reading or math, to have some speak of a “tortured and deadly legacy”, for decades Kissinger was lauded by all of the work.\r\n",
            "\r\n",
            "The authorities insist that none of the many registered monuments in this old part of the booksed out about 1,000 general, and want to see the baby,” Gabeau said our partners. We are grateful to our partners,” Naiev says.\r\n",
            "\r\n",
            "The group’s has seen a change in tour maintaine. \"The nets fact that while the hate speech amendmated in the industry has flurgy to save a 50-year-old dought the word. But they are also frustrated.\r\n",
            "\r\n",
            "The time the top of the company’s website said Sunday morning.\r\n",
            "\r\n",
            "The new movement or many Economy Minister Lorna Slater - the Scottish Green co-leader who has been driving the introduction of a net could mean a more humid environment around the tree of the deal and asked him to come in and talk about it.\r\n",
            "\r\n",
            "Rep. School officials say they believe there’s a clear correlation between the rising statement on Earth Organization director for the Imministry English learners in her district, whose reading scores also climbed 12 points, were all exhausted its army and supplies.\r\n",
            "\r\n",
            "But it's not just air support for ground troops, you win they would not allow you to achieve that.\r\n",
            "\r\n",
            "In the next few months, a wrestler's biggle - the police and claimed the workers had been employed on tempt agreement to overthrow has failed to provide to us, a fourth dose … to the proceedings.\r\n",
            "\r\n",
            "\"The district offers bilingual seals on students’ transcripts signifying proficiency in two language killed he added.\r\n",
            "\r\n",
            "Westover said he was finally convinced that Arnold was dead when local of biary professor and accomplished dancer Hari Padman after a shortfall of £26,000 was identified in her accounts.\r\n",
            "\r\n",
            "Unable to explain the discrepancy, she took out a loan to repay the difference and is still counting the cost to help women get abortions reveals much about survivors of the time zone - with some warm-up exercises. From there on, the routine looks different every dere interesting. He said the accumation in the late 1970s and early 1980s and 19-19 majority of Kakes Away makes from a blog in the overal zineir said in a Hondur and is to program when they added.\r\n",
            "\r\n",
            "Another director for CNN Chressib Sazers Conservative politicians an inspector committee earmarks a few events as qualification events for the game time, so the show's viewers dip in and occupied and a cavalier with the US last year. It surfaced in the city key with professional members. On the city has been disciplined in Paxton, a society have already the controversy and said her relationship with Hari Padman for the last week Ugranis, which used music to reach and mobilise young people was overturning the wivel neelet present. The BNO scheme is “unusual influenza seasons, and indeed to the front, have been covered on Wales and children who have gender dysphoria. Data was also shared when users viewed the webpage for the police,\" she said.\r\n",
            "\r\n",
            "\"Children need something to look forward to, the monitor continue into the deal and that they are big events for any sport and player.\r\n",
            "\r\n",
            "The athletes are accessible the issue of refugees crossing the Channel in 2013 following ex-Chancellor Opens. He can see the other hand - an exclamation made her feel awful, she says, but aware that her abusers are still planning to compete. But they are also frustrated.\r\n",
            "\r\n",
            "The time the traumism special security guards attempted to negotiate with Stark Security and filed a complaint with a reduced number of attacks by the group. That is wey be able to pay its bills.\r\n",
            "\r\n",
            "Kanger is less likely to be meant with corporate marketing is one culprit.\r\n",
            "\r\n",
            "It's hard to pinpoint any one cause behind the changing scores, and that more research is not a racist country,” she said.\r\n",
            "\r\n",
            "The Dragones de Lavapiés, which was founded nine years ago, exists designed for data centres, cost roughly $10,000 (£8,000) each, though its latest and most powerful and prestigious roles, the mayor of Istanbul. Although he lost the Doham Senate targets, state under the Taliban’s effectiveness in curtailing ISIS-K. With no other options, the men interviewed by the end of December 2022, there were 160 Hongkongers in the UK awaiting demand for a flight to Boston, during which time the 4-year-old boy began complaining about the slow pace of the proceedings.\r\n",
            "\r\n",
            "\"The stakes associated with the game will follow with implications for global temperatures.\r\n",
            "\r\n",
            "\"If a new El Niño new combat of change and groups through which it could frame its culture war with Whit Befor ho the anstear after the allegations against him has been on his record as a whole has rejected an attempted bombing by the militant Islamic State group.\r\n",
            "\r\n",
            "He survived an attempt by Russia to disrupt the crowd asks.\r\n",
            "\r\n",
            "Unicef later in the nospital weekly American family and ending the trading of individual stocks.\r\n",
            "\r\n",
            "Have you witnesses when she advocates for gender equality.\r\n",
            "\r\n",
            "\"Many feel less state over former President Keven markets scanner used in hundreds of US schools misses knives\r\n",
            "\r\n",
            "A security firm that week said they had one of the lowest levels in decades. Meetings with the International Monetary Fund earlier this year, the number dropped to around 34,000, according to a source familiar with the negotiations.\r\n",
            "\r\n",
            "As part of the deal, the White House and House Republicans will have avoided an unprecedented economic crisis in wroined as a mild had conducted a different know if they different when other stars like sawing on the tophet.\r\n",
            "\r\n",
            "Before the Bell spoke with Sen. Jeff Merkley, the lead sponsor of the Senate floor on Thursday, Schumer also seemed optimist data privacy experts who said they indicated widespread potential breaches of data being sent. “Meta says the agreement will cut spending year over year and set agreed the process of how they produce public interest data,” she said.\r\n",
            "\r\n",
            "Bhagwat said she often composed her own lyrics because of the inherent misogyny who are anx rounds in flight control systems, hydraulics and wiring.\r\n",
            "\r\n",
            "“We are about to repeat the same mistake that we did in the 1990s, believing that African doen this year, but cyber harassment has been expecting it, as ever when they were chased by a group of cow vigilantes. These are Hindu men - military coup in the non-partisan think tank Migration Policy Institute, who met with the vice president’s office has called the current downward trend “encouraging,” and private security and anti-demaction, the government projects, and Agricultural Bank of China, another large state-controlled limit of strength - what is called \"explosive power\", which means projective abortion surgence against him.\r\n",
            "\r\n",
            "\"We take the picture in the city is murky.\r\n",
            "\r\n",
            "Human Rights Watch has accused Holp of November 2022, we expanded the route to allow you way to exit.\r\n",
            "\r\n",
            "By this point of the year are less reliable. Other researchers are more bullising to official recessions are also because of the economic downfall in principle. We still have a lot of work requirements of the institute the whole affair had a life insurance policy, which included suicidal watchdog was the reason I got the position,\" it talks before their retaring a devastating toll.\r\n",
            "\r\n",
            "Since then, the number of border encounters from there have receded. If a country when I am dolent a well-king of the twitter.\r\n",
            "\r\n",
            "But she said Australia had the benefit of being one season behind and being able to monitor what information it was being sent. “Meta says the agents for a sturint medication - and they will strike it.\r\n",
            "\r\n",
            " \n",
            "\n",
            "________________________________________________________________________________\n",
            "\n",
            "Run time: 27.168455362319946\n"
          ]
        }
      ]
    },
    {
      "cell_type": "code",
      "source": [
        "#Text 2\n",
        "start = time.time()\n",
        "states = None\n",
        "next_char = tf.constant(['President'])\n",
        "result = [next_char]\n",
        "\n",
        "for n in range(11000):\n",
        "  next_char, states = one_step_model.generate_one_step(next_char, states=states)\n",
        "  result.append(next_char)\n",
        "\n",
        "result = tf.strings.join(result)\n",
        "end = time.time()\n",
        "print(result[0].numpy().decode('utf-8'), '\\n\\n' + '_'*80)\n",
        "print('\\nRun time:', end - start)"
      ],
      "metadata": {
        "colab": {
          "base_uri": "https://localhost:8080/"
        },
        "id": "JBDkClrnAqe7",
        "outputId": "d8beee9d-0478-4cfe-f6d1-f1ab29617631"
      },
      "execution_count": 73,
      "outputs": [
        {
          "output_type": "stream",
          "name": "stdout",
          "text": [
            "President on Thursday calling on him to invoke the 14th Amendment.\r\n",
            "\r\n",
            "Senate Majority Whip Dick Durbec and The seals, contested Nazi Germany in an anti-vaccine speech at the Lincoln Memorial powers or people who are severely immunocompromised may he in late the education nets of the party, is now chanceller and activists said the banner of the Congress party, were offered in the case with Lieberman.\r\n",
            "\r\n",
            "In the last decade, CNN has documented multiple cases have been reported during 737 Max flights.\r\n",
            "\r\n",
            "Boeing insists the protesters with the impeachment a “politically motivated to produce a lot of love from my friends. But now, it’s weird, but I do feel more complete. [I feel] loved in the area.\r\n",
            "\r\n",
            "Deminers have arrived in the town this year from Wajer and American women had a constitutional right to an abortion - and they were not given important roless, which has never heard a word of hatred from his mouth. He could be angry with someone but keeps civilians have become so effective.\r\n",
            "\r\n",
            "“We place them at appropriate distances in the overall air defense systems can also be used for offensive purposes.\r\n",
            "\r\n",
            "But the internet has become a familiar move in the authoritarian's face on Saturday, McCarthy and Sattered INSSa Mohnmar, a statement at the top of the company’s website said Sunday morning.\r\n",
            "\r\n",
            "The new your house in Bed Bath & Beyond will likely be delivering it confidence and trust in the country - to do an audit on whether a fourth dose would be recommended for people aged 65 and over.\r\n",
            "\r\n",
            "Hunt said the broader context of last week’s all-day previous or has taign that law and order is a state subject and it is their responsibility to deal with insurgencies and religious and care … would never be used for offensive purposes.\r\n",
            "\r\n",
            "But still is a conduct of its findings couldn't be made public. She said what continued to hurt misting her claims that abortion pills were dangerous.\r\n",
            "\r\n",
            "\"This is what they didn’t want them to take the leap.\r\n",
            "\r\n",
            "\"With all the prices going up this year, we thought this would be ideally involved in some places. … That likely led to transfamle at all, Serata - an ARserican women have been found in the area.\r\n",
            "\r\n",
            "Deminers have been inflated to the deal during the pandemic had a significant impact on schools and students. But some of the most potent vaccines such as the vaccine against measles, mumps a risk in broadcasting. There's a motto in the UK has were all minitures of a stall in the night the group was wrong.\r\n",
            "\r\n",
            "The unfelligence agency, the Federal Office for the Protection of the Congress party, were offered in the case with Lieberman.\r\n",
            "\r\n",
            "In the last decade, CNN has documented multiple cases he has to abort the mission in order to attain their proposed budget cuts.\r\n",
            "\r\n",
            "Several Democrats have specifically expected to be security officers or patrol the building.\"\r\n",
            "\r\n",
            "So the emergence of the pro-choice health dragons, who are pore police officers as he pointed to the front, have been covered on Wallea Nontts scenement that even after the plane a work over the years. \"If someone says to me 'we need you to move' it's a lot of migrants.\r\n",
            "\r\n",
            "Democratic presidential nomination on Wednesday in Boston.\r\n",
            "\r\n",
            "Kennedy used his campaign, as he says is evident from the opinions expressed in public and in conversations to raise the debt ceiling for two years and accused his rival of allowing 10 million refugees into Turkey.\r\n",
            "\r\n",
            "Gone was his enemy trust we were \"bill allow the alleged abusers are famous and accomplished dancers.\r\n",
            "\r\n",
            "Many of the complaint registered by police after the killings, only to take on his relationship with Western aircraft can only travel up to 50km (31 miles).\r\n",
            "\r\n",
            "So, Russian air platform is still racist or very causing a trip.\r\n",
            "\r\n",
            "“He also confirmed that proposals to restrict alcohol advertising at the National Center for Education Statistics.\r\n",
            "\r\n",
            "“This is a bright spot,” Wilburn said who has given the party more than £3.5m, said the Conservatives were “no longer a centre-right party.”\r\n",
            "\r\n",
            "Other senior Tories are urging their colleagues not to cite harassment and regional approach to become a minister was an unsuched this information and this year, but the fear is that it could be delayed using the same reasons used to delay the army and will “dral we would leave,” said Jacob.\r\n",
            "\r\n",
            "On 23 January, about 200 of the guards hired buses to take them to the airport to seek and relatively smooth. In rainy season, torrential demand for used cars could explode further investigation.\r\n",
            "\r\n",
            "Officers spent the table and said the excelts water repellent.\r\n",
            "\r\n",
            "Photoselective (coloured) nets can also affect the case existed in the lead up to the 2021 election, how the abortion war's new front.\r\n",
            "\r\n",
            "The total size of the 331st regiment could be estimated at 1,500 following.\r\n",
            "\r\n",
            "The men had very limited assessment is more in the days after the final, with months still left on their work.\r\n",
            "\r\n",
            "However, he says the downside is \"the lack of security\".\r\n",
            "\r\n",
            "He works as a prop builder on social media have become a cancer was albehtioned by the Delhi Police, has denied the allegations and called the protests politically motivated to protect the complaints seriously.\r\n",
            "\r\n",
            "Overall the crackdown on the state's armed police force, has been described as a \"blot on Indian democracy\". And critics say they then moved to Office has a slight by the Guardian, are a shocking postscript to the UK in postwar history.\r\n",
            "\r\n",
            "Lawson, along with more than 100 other Hongkongers now fear that is clear - a Russian Su-35 attention to nets for better crops\r\n",
            "\r\n",
            "It's an elegantly simple solutions from some teachers intended to protect them from hail damage. Now they are experimenting with nets that can protect against the clock because he’s telling me that he’s reaching out to all these other communities, as we saw recently in Mayhill claims is unacceptable when you sell a security production he said.\r\n",
            "\r\n",
            "Equally unresolved are the losses of her clients, many of whom saw huge sums of money vanished.\r\n",
            "\r\n",
            "The US has not particularly drawning on a bill that we leave the actual number of failures is such a short time span with such a small fleet of aircraft.\"\r\n",
            "\r\n",
            "Governor Graham Kanthernments against the the three brothers range from sharing flirts for the world.\r\n",
            "\r\n",
            "\"What happened was exactly what he was always talking about climate science.” He now relies much more on the block button.\r\n",
            "\r\n",
            "Moreno echose to being a long period of Economic in the UK. Within a year of the scheme being launched, there were more than the pair safe.\r\n",
            "\r\n",
            "The man who shot and killed his father in a moment that changed US history.\r\n",
            "\r\n",
            "Lawson, along with more than five years as a POW, described his “won’t feel the nation’s credit to beneath the war activists to the party. I will not donate to any central party in 2013 following ex-Chancellor Oconomics.\r\n",
            "\r\n",
            "The problems occurred in a large fraction of people from long Covid and ME/CFS are diseases of global significance. It’s valuable here for the military, which has overthrown the government intervened. Teresa Ribera, Democrat Rinal Abrokil Omer (FD) states have now been associated with long Covid, affecting almost every or housed with the Russian botton.\r\n",
            "\r\n",
            "In 2019, a fact-checker website that counted \"has finally charged by mines, for the probine - and there is no shortage of bilingual sectors for the bodies were built in the polls for regional and municipal in tite, he continued to be offensive and also engaged in harassment at social media ... I get threats of being arrested or being carried out amid chaotic evacuation efforts, killing 13 US service members and more than 30 million people in England, stretching from a firehose. You’re absorbing so fast.”\r\n",
            "\r\n",
            "After all the call from a wides appeared similar to what he needed,” said Westover.\r\n",
            "\r\n",
            "“And at the same time, I’m also uphalled Keman says Mr Wodel Naxit, the prisons, where the point has followed him for many years. I even think that her pain took her away,” Greg Poland and Slovakia have transferred a recent report from CB Insights.\r\n",
            "\r\n",
            "Its Asia was the only option.\"\r\n",
            "\r\n",
            "But the manner of her death will ultimately remain unresolved, she would be detained and competent at the time, none could serve as a plaintiff, so they helped by a social worker who, according to Escalona, seemed particularly in her fixants severely immunocompromised add to the weather, out of police had already started to encounter violent processing units (IPUs), which it says have more computational power and people without due process, according to research by Human Rights Watch (HRW) 2222 study.\r\n",
            "\r\n",
            "And the signs were even more secrecy, in undisclosed locations away from prying eyes, to avoid targeting by Russian actors that are “anti-LGBT rights or held by far-right group – the Reichsbuerger movement - to plot accused of plotting an attack on Germany, was a capability there from participating due to the US, hundreds of the most sigularly bil in as it with a load codmint to a family with feder Attlect to Janatai- and Mr Konetta, who took early retirement in 2013, or father chast heading Eggano, sent to the military, which has overthrown the government interviewed by the Guardian say they were forced to return hou start.\r\n",
            "\r\n",
            "Nets are not always the answers, and the army fell out there with disinformation and extremism.\r\n",
            "\r\n",
            "These kinds of conspiracies are now negotiations.\r\n",
            "\r\n",
            "“The key is to build the capacity of county government could end the programme had done between educating stakeholders on new technology and not providing bad actors with the United States.\r\n",
            "\r\n",
            "Britton feel confident shortfalls by many shut down a place where they can sleep off the streets. She would consist our bioge ovidence of the prison, using a T-shirt to cover the application fee, the NHS healthcare surcharge and the minimum savings have died and attempts were being made to return because Matéo Sebastien was still sick.\r\n",
            "\r\n",
            "“The person who gave her the past 10 years, trying to continue to be used for offensive purposes.\r\n",
            "\r\n",
            "But still is an agreement in principle that is worthy of the American people,” McCarthy and Su-25 states have likely been lost outside the view of Ukrainian troops.\r\n",
            "\r\n",
            "A report broadcast its culture and can fetculated a similar story of harassment at Westminster and lay the blame squarely with them.\r\n",
            "\r\n",
            "Mr Yousaf admitted the accidents several years later, charged in March that ISIS-K had become more emboldened, aiming to grow its ranks and inspectumated vehicles grest nerrorism and they felt on top of the property.\r\n",
            "\r\n",
            "Properties are subject to health and safety regulations, so should be argues that if both sides of the aisle – to get the bill over the finish line.\r\n",
            "\r\n",
            "McCarthy and Schumer optimistic about the state of debt talks\r\n",
            "\r\n",
            "Two days after the massacre, he found a place that was \"devastated… it looked haunt transifications during the same president, But in the short term, “almost everybody gets hurt” as asset prices come back down to Earth. In the days will like the one fuel contribution to leave your oppin \n",
            "\n",
            "________________________________________________________________________________\n",
            "\n",
            "Run time: 24.245648622512817\n"
          ]
        }
      ]
    },
    {
      "cell_type": "code",
      "source": [
        "#Text 3\n",
        "start = time.time()\n",
        "states = None\n",
        "next_char = tf.constant(['Conflict'])\n",
        "result = [next_char]\n",
        "\n",
        "for n in range(11000):\n",
        "  next_char, states = one_step_model.generate_one_step(next_char, states=states)\n",
        "  result.append(next_char)\n",
        "\n",
        "result = tf.strings.join(result)\n",
        "end = time.time()\n",
        "print(result[0].numpy().decode('utf-8'), '\\n\\n' + '_'*80)\n",
        "print('\\nRun time:', end - start)"
      ],
      "metadata": {
        "colab": {
          "base_uri": "https://localhost:8080/"
        },
        "id": "k5vy21XgBOcC",
        "outputId": "0f46eb01-8a5e-4f61-8a43-0c79ed7e9b51"
      },
      "execution_count": 76,
      "outputs": [
        {
          "output_type": "stream",
          "name": "stdout",
          "text": [
            "Conflicting court in a particular area change in tour. She argues that if both sides of the aisle – to get the bill over the finish line.\r\n",
            "\r\n",
            "McCarthy said the broader context of last week’s all-day course of treatment, to see if that can be decided in the outside Afghanistan.”\r\n",
            "\r\n",
            "The US has not particularly dragons were taken to a museum. Although all the children reached for the immediate release of the three men, Equidem’s director, Mustafa Qadri, who were often around in the way. Your only aim is 54 years old, Arnold failed to properly address their concerns.\r\n",
            "\r\n",
            "The findings has vounced the rape of where Africa goes, the transition shouldn’t necessarily be from used cars to brand new combustion.\r\n",
            "\r\n",
            "The 331st were accused of massacring hundreds of other serious crisis,\" says Michael Kugelman, director for the Imminist which the allegations against Hari Padman first surfaced in December in a now-deleted Facebook comments. “Racism exists here but I don’t agree Spain. The scheme will also require Westminster to grant an exemption to the UK-wide Internal Market Act. We had hoped for some are personal experience with a private clinic. No one answered the phone so a friend drove him and all thousands of members were already involved and that he would use his “deep pockets” to ensure it complied with data protection laws and had obtained consent and could not legally obtain an abortion in the state of Texas.\r\n",
            "\r\n",
            "“I was able to identify the person that helped them get the equipment to get out of prison – it was not until late last year when Lieberman, who works as a video editor, read a story about the health of the US comments about the health system,” says his widow, Maimuna.\r\n",
            "\r\n",
            "A country with a population of 1.5 minutes, we have received a families of protesting until the political centres or safe houses in return for free accommodation. But more than 60 years later he was happy to commod line of his father. Westover said the son assumed he was a family member, as he’d used James Arnolds’ name in the low has to after approaching the state of Texas over its restrictions to abortion access.\r\n",
            "\r\n",
            "Ann*, who covered the case extensively in a series titled “The Mystery of Leslie Arnold.”\r\n",
            "\r\n",
            "Through nume to speak with Biden again on Sunday afternoon before the final legislative text is posted Sunday.\r\n",
            "\r\n",
            "Last Office where she compleded in the past 10 years were Muslims were massecand and attempts were being made to receive and faith life is the priority here,\" he said. \"I have never heard a word of hatred from his mouth. He could be angry with someone but keeps civen the hardest experiences’\r\n",
            "\r\n",
            "In April 2021, the FDA announced it would lift the in-person dispensing requirements - House Republicans strike agreement in principle to raise debt ceiling\r\n",
            "\r\n",
            "The White House and House Republicans will have avoided an unprecedented economic crisis in the region.\r\n",
            "\r\n",
            "“I think the continent has to be prepared for what’s to come.”\r\n",
            "\r\n",
            "It appears the events one institute's meet has been a surgence of the institute people to forget I’m human, some of those comments can be hurtful. I’m just trying to do my job’\r\n",
            "\r\n",
            "It’s difficult to combat conspiracy theories when they bubble under the past few days have become increasingly common since Mr Khan was voted out by parliament last April this year.\r\n",
            "\r\n",
            "The German team says it’s eagerly watching for the Codagenix data.\r\n",
            "\r\n",
            "“They were now hugging as if they had known each other their soldiers is seriously injured.\r\n",
            "\r\n",
            "President Volodymyr Zelinesh Committee. Kiiss contract was immediately terminated after £43,000 went on to have Jonu (an Shot, Somethin Kares Obeat many fell in line because it's a very close community of artists and young students fear that specializes in shipping cars internationally. “It’s mostly the economy cars that start developing electrical faults.”\r\n",
            "\r\n",
            "The Taliban rejected the report, with its spokesperson, Zabihullah Mujantian Chilita Coldrens\r\n",
            "\r\n",
            "The US National Security Council claimed in April that the Taliban had killed the ISIS-K’s attacks have stoked and a full contern on the app, but the PTI again has a slight disagree by the US two years ago.\r\n",
            "\r\n",
            "Parked across how the UK were prepared to facilities.\"\r\n",
            "\r\n",
            "Officials have seen an unrepentn’re boen as they are fighting quite well, but they don't really care about their people,\" he says.\r\n",
            "\r\n",
            "“But in order for the sky to be absolutely covered, especially from guided air defense systems, among others. All of these are kept undermine more than 30 deaths.\r\n",
            "\r\n",
            "A year later, in September 2022, a suicide bombing struck Kaaj Educational Progress results are a stark reminder of the impact that get numbers were at 3% of those recorded in 2020 – which was already eight times lower than the Hazara community in Kabul, Herat and the financial crisis is contrary to Germany’s doser Auntrelical Sice Senge, a number of countries including the US, Chile, Denmark, Germany, could be a group forward and then cow vigilantes of sexual harassment.\r\n",
            "\r\n",
            "\"We forwarded the complaints to the management, advising them of levelling human, in the community support each other.\r\n",
            "\r\n",
            "\"If you need detained with the country see a fourth dose for all adults.\r\n",
            "\r\n",
            "Last week, Pfizer and BioNTech requested emergency officers and security fences in the force, are too frightened to come forward.\r\n",
            "\r\n",
            "Three of the women has expressed concerns about systems is why Ukraine’s capital in the United States.\r\n",
            "\r\n",
            "Stolen children\r\n",
            "\r\n",
            "Lieberman’s story starts in late 1979 in the town of China Everbright Group — one of the country's largest broadcasters,\" says Mr Younus. \"But then I was getting a whole to talk about her experience.\r\n",
            "\r\n",
            "Ms Gallivan said one male colleague in particular disliked her in the backdown on his return to host the syll of the time. However, we are constantly improving our mechanisms to make sure the coronation of King Charles III passed war in Ukraine. Since the outbreak of the conflict, more than 1 million refugees have arrived in the hame time period than peem to help Paul avoid the foreclosure sale of properties owned by Paul and his busines.\r\n",
            "\r\n",
            "In response, to hep sit in the same year as it gives the body time to help off the same time, ominously in Germany say they’ve been able to make a nasal vaccine that can shut down a clear correlation between the rising security apparatus,” Feng said, adding that it is the “money bags” of the property.\r\n",
            "\r\n",
            "Properties are subject to health and safety regulations, so should be argued were happy to remain within the system, even if they have decent conditions\". He had brought with him crowd-funded care packages and communities where riots have broken out.\r\n",
            "\r\n",
            "\"It's important not to condone and justify violence on the ground, and drones now having to fly many hours from distanted said.\r\n",
            "\r\n",
            "Mr Koletti has denied any knowledge of the netting.\r\n",
            "\r\n",
            "In 2001, less than one month after his 18th bill accused him a flight to Boston, during which time the 4-year-old boy began complaining to follow on how they can self they are in the buses.\r\n",
            "\r\n",
            "Eventually, with no other options, the men interviewed by the United Nations Envirances, where he would dampen us an attempt by Russia to disrupt the close to the Russian border has been both occurring financial conglomerates.\r\n",
            "\r\n",
            "Li is suspected of “serious violations.\r\n",
            "\r\n",
            "The co-founder of last year’s continue, two years over couch attacks on its website, the Kalakshetra bring new public sector and make it home to about 20 million values traves.\r\n",
            "\r\n",
            "It has not happened yet.\r\n",
            "\r\n",
            "Rachel said she saw on his return, he says, still haunts him.\r\n",
            "\r\n",
            "\"Our homes when I am planning a decade later, the army leader of the applications for global temperatures.\r\n",
            "\r\n",
            "\"If a new El Niño new party has expers the city of China Environment, the would affect accising to the most recent statistics from the People’s Babhir Families Heiru-being class for the GOP noming.\r\n",
            "\r\n",
            "His pasted on stores building the night rant, and the charges against her husband were \"an act of revenge\" because he had \"chided\" some students from the Pentagon, obt out to the 9773s of the political and media establishment.\r\n",
            "\r\n",
            "A teenage Jewish refugee who fled Nazi Germany in an anti-vaccine speech at the Lincoln Memorial vehicles, which was founded nine years ago, exists designed for data centres, cost roughly $10,000 (£8,000) each, though its latest and most powerful position has seen the security footage.\r\n",
            "\r\n",
            "\"When we really get a chance to defend these babies.\"\r\n",
            "\r\n",
            "But as bans have rolled in and abortion medication from outside her state - or the country - who is there to punch through than the razor wire and mines programment and is under injuries like Evolv profit.\r\n",
            "\r\n",
            "But the next 48-hours and likely weeks ahead once Title 42 is lifted will test the credibility and that the “maltreatment of these asylum seekers in a hotel in east London. Chbsen, she added, is a sign for the plane before the final legislative text is posted Sunday.\r\n",
            "\r\n",
            "Last jobby for the party posted on Facebook in March. The post states: “Germans are now right at the botton stock to the PAC for their response to allegations of involvement in the Malyana violence against women and girls strategy, published in March, the law climate change seem worse. A spokeswoman for BOM called these claims inaccurate. “The Bureau tramiliar says the agency said in a statement he had a half year will be electric, according to the International Monetary Fund earlier this year, but cyber harassment is punishable by a fine of \"up to see her own family. Some Kennedy family members have denounced his parents before taking the car and watch they can sele to a second booster rollout. However, it is expected to rise to 5.4 million this year, particularly in the north of the government’s handling of the coronavirus pandemic and its top sare and reached better evidence,” he said. “They were coming to the awer results. I think thing that dirty the air also help reflect heat back into space - known as thermal expansions in the country.\r\n",
            "\r\n",
            "Kenya’s has since found itself on the anti-abortion movement - to plot accused of plotting an attack on Germany.\r\n",
            "\r\n",
            "After all, this is a country with the Green Party (ff), Experts and sport were “totally incompatible”, but also found that a fifth of voters (19%) are considering voting for Reform. They are terror faulty of skill promised patients that seem to evoke little condemnation from the government.\r\n",
            "\r\n",
            "Last month, the boother has survived an attempt to she died’s darable for underground water levels to alarming lows, exacerbated by record-breaking contributions to protest is sacrosanct.\r\n",
            "\r\n",
            "In the UK, two Just Stop Oil activists were jailed for up to three years or over the government and media “lie to us.”\r\n",
            "\r\n",
            "“My mission over the next 18 months of this campaign and became a very credible runner-up for the CHP with 37% of the most part of the Inter-Parliamentary Union (IPU) and to piece together Arnold’s movements.\r\n",
            "\r\n",
            "As Westover dug deeper, the DNA sample he’d used Jame \n",
            "\n",
            "________________________________________________________________________________\n",
            "\n",
            "Run time: 23.525323390960693\n"
          ]
        }
      ]
    },
    {
      "cell_type": "code",
      "source": [
        "#Text 4\n",
        "start = time.time()\n",
        "states = None\n",
        "next_char = tf.constant(['Asylum'])\n",
        "result = [next_char]\n",
        "\n",
        "for n in range(11000):\n",
        "  next_char, states = one_step_model.generate_one_step(next_char, states=states)\n",
        "  result.append(next_char)\n",
        "\n",
        "result = tf.strings.join(result)\n",
        "end = time.time()\n",
        "print(result[0].numpy().decode('utf-8'), '\\n\\n' + '_'*80)\n",
        "print('\\nRun time:', end - start)"
      ],
      "metadata": {
        "colab": {
          "base_uri": "https://localhost:8080/"
        },
        "id": "v-tJ-3imCAC8",
        "outputId": "5d972c02-67c0-4d7b-bfb2-d065e5187146"
      },
      "execution_count": 81,
      "outputs": [
        {
          "output_type": "stream",
          "name": "stdout",
          "text": [
            "Asylum-seekers sleep in a hospital lobby\r\n",
            "\r\n",
            "Fleeing what she was cornered by a campul and the travel go online tank targets.\r\n",
            "\r\n",
            "“The viruses may be competing with each other,” she said. “But we should be very careful about both time to protect them from hail damage. Now they are experimenting with nets that can protect against the clock because he’s telling me that he’s reaching out to all these other communities, as we saw recently in Mayhill campaign to reach 2.2 million people.\r\n",
            "\r\n",
            "Unicef has the season and intelligent the perception affect the country's prospects of ocean warming ahead of El Niño alarms scientists\r\n",
            "\r\n",
            "According to the most recent estimates, more than 65 million views on YouTube alone.\r\n",
            "\r\n",
            "Viewerman family members who he said were on hand Wednesday, including children, grandchildren, siblings and communities say that provided the pills of the three repertory artists had been \"dispected with a central player in the AI revolution?\r\n",
            "\r\n",
            "If the best initiatives are “when media outlets or scientists to deliver justice was a key reason why they were not pursuing enough by design... loss music routine incidents would also create a searchable, electronic database of their holdings and impose large penalties for a story cybluct Central America in the future. And the US government, they say, has stepped up their own abilities to return to the hospital. She says that when she challenged that behaviour, she was wrongly in the community visible and to build voter support. But it is also used by one other regiment apart from the 331st.\r\n",
            "\r\n",
            "As the fighting wore on, soldiers in the animals’ upen air defense systems can also be used for offensive purposes.\r\n",
            "\r\n",
            "But the introduction of a net could mean a more humid environment around the tree of the disclosure that they were being used to extract personal infection less of a threat.\r\n",
            "\r\n",
            "One way scientists contacted for this story were reluctant to go on the institute, located in the city of Chennai in the southern state of Taliban,\" Prof Bronk argues, they say. I have never abused anybody. I said it was not easy for her to put in a grievance.\r\n",
            "\r\n",
            "\"The minute you do that you have a target on your audience. It’s recently could hope for the emergence of the latest market bubble in the athan Western targets, and politics and social media for \"anti-army political mobilisations. But he also maintains it's not enough for the sector to be left to rest.”\r\n",
            "\r\n",
            "One of the chief concerns among Western intelligence — that now, in the wake of the US withdrawal, ISIS-K fighters bypassed Taliban security forces have been waging ongoing operations and night raids against ISIS-K’s activities.\r\n",
            "\r\n",
            "“They now have unfettered access to the black market, for purchase what my money can afford,” he said.\r\n",
            "\r\n",
            "‘No one feels safe’: The recent failure of Silicon Valley Bank, for example, that Ely has approximately twice as high unemployment compared to the Welsh average of 56. Neary of the area.\r\n",
            "\r\n",
            "The remains of Queen Farida - the Scottish announced it would inspect more than 30 major state-owned firms. They include financial giants such as Rep. Charas Police Scotland 'boys club' culture\r\n",
            "\r\n",
            "Eccarres on social media regularly revealed that Spain, she added, “still has a long way to go”.\r\n",
            "\r\n",
            "Mame Gueye, who include a former assistant chief constable, who took early retirement in 2013, said women who complained internationally. “It’s mostly the economy cars that start developing electrical faults.”\r\n",
            "\r\n",
            "The Taliban rejected the report, with its spokesperson, Zabihullah Mujan and The district offered a second booster rollout will soon be needed as Covid-19 cases again surge across Australia and Nangura and Northern Ireland combined.\r\n",
            "\r\n",
            "In the war-scarred Kharkiv region, warning signals and buses to the botton after the police, so Westover got in the car and drove five house in order before we start lecturing other branches of the government’s handling of the coronavirus pandemic and its top sacrossed the Biden administration, or what bills are going to be responsible for it.\"\r\n",
            "\r\n",
            "The FDA has reported a total of 7,000km (4,350 miles) of roads and some 90t of the US Congress outperformed the S&P 500 by about 17.5% on average in 2022, according to Subve best on the tabl. and they not give details of where the data reaches Facebook’s servers, it is not possible to track exactly how it is used. The constant shelling.\r\n",
            "\r\n",
            "As we run from a trench, including many of her family and friends, to help fund a law in the proposated might not be enough to get them into the kind of conditioning the Mwlieve of the political economy and jobs through religious nationalism.\r\n",
            "\r\n",
            "\"The religious divide consequences for failing to the Brax more calls through the fact it has faved known about how It is being informed about the competition. The anti-vaccine activist and environmental activists were raided by agency to the flow.\r\n",
            "\r\n",
            "In recent months, several states have introduced leaving for the president of the Southern Baptist Theological Seminary, told CNN.\r\n",
            "\r\n",
            "“I would not have done that if I did not believe in democratic politicians to radicalise Hindus into believing that Muslims need to be marginally, was crimed lynd-related in the 1970s and decommissioned by Berlin in 2010, the anti-Muslim violence has expanded in its scope.\r\n",
            "\r\n",
            "Sometimes, the violence is not a racist country,” he said. “There’s institutional earlier this year, abuse would shout threats of being arrested or being carried out among the US and Europe directly into the war.\r\n",
            "\r\n",
            "And even training Ukrainians are increasingly looking overseas as a place to sell their older gas-powered models, according to three sources on call. McCarthy detailed what I was not responding. So how disappears that it has struck on 283 occasions in Afghanistan — on its own.\r\n",
            "\r\n",
            "The uptick in violence and how Stark Security told them that there was no more conflicts created by members [of Congress] trading stocks, and they’re situres have been properly seen as a hardline party on the issue of dividing church with little effort to endur.\r\n",
            "\r\n",
            "He acknowledged in his speech the opposition within his own family to his presidential bid.\r\n",
            "\r\n",
            "“One of the guys left the office, and (when you leave) you have to hand over your cases. So on a conversation with his family, in propersy and resturing many of the proceedings.\r\n",
            "\r\n",
            "\"The district cannot afford the procedure is prohibited orchard.\r\n",
            "\r\n",
            "Mr Yousaf admitted the agency said the attack were remucting a serious flaw implicated in both crasher has seen a change in tone.\r\n",
            "\r\n",
            "Many posts made to take to protection really works in people.\r\n",
            "\r\n",
            "Hale you be tweeted, according to the West no longer as it gives the body time to help off the state of This Morning, which his party chance is such a short time span with such a small fleet of aircraft.\"\r\n",
            "\r\n",
            "Governor Older Hari Padman after a second booster rollout will soon be needed as Covid-19 cases again surge across Australia and Ford by the party’s “potentially seek about the postimity of remote work has been particularly and they were being useds to post pictures of themselves with an already failing economy, affecting businesses across the country. Tens of minorities to provide evidence that they fear political persecution, such as picked space where it is banned. There’s a lot of MPs out there that we consider using the untested legal theory to unilateral warmarlies, the Biden administration, the abortion in the system could not reliably detect large knives - after Evolv's scanner missed and raising his voice.\r\n",
            "\r\n",
            "Seeking an extra half hour to Good Morning Britain, and an extra half hour to This Morning.\r\n",
            "\r\n",
            "“I think he was scared and nervous and has suffered a lot and no one has done anything about the state of security.\r\n",
            "\r\n",
            "“The Taliban are fighting the group — which the US estimates that about 80% were unwell or had been \"storied by I happened hys which the application fee, the NHS healthcare surcharge and the minimum savings have died and abuse for the former occupied zone in the 331st John more claims to her in March 2021, was brought in the last year with his family, but when they got there he was told by the doctors what they need to show that we can deliver.”\r\n",
            "\r\n",
            "A former children were on the effectiveness of these vaccines have yet to come. If it’s mifficult to change the minds of people that really have strong beliefs in the athan experiences of small contest on the prison.\r\n",
            "\r\n",
            "“Similar to the movie ‘Escape from Alck told CNN that it’s often possible to track them in new graves in the desert.\"\r\n",
            "\r\n",
            "Iman's miles from the fortified walls of Nebraska State Penitentiary, where the point where the principals can employed to the drawing board, and to work with the industry, and we tent on to a campaign of cyberbullying that would last for more than a decade.\r\n",
            "\r\n",
            "“I’m not surprised to see how robust the export the court challenge – like Republicans for what she is responsible for the border too, no matter how chaotic the case with the vivid recolleas for the way we were treated and the way things happened to us,\" she added.\r\n",
            "\r\n",
            "Wendy Buffrey said she believes the lack of support and limited opportunities has happened attenta and children have arrived in the town this year from Wajir, another northern IImia is not a racist country in any way.”\r\n",
            "\r\n",
            "The campaign trail platitudes and denials felt receives to rest in peace.\r\n",
            "\r\n",
            "With his white hair and professional camera, after the baby anymony thought its systems were talled out about the allegations following the UK, from both parties, McCarthy and Schofield's being following him for many falls for their airedy to do the surface and police had one done for able to condone and district in Germany say they have reached their limits, and local authorities are finding it difficult to move at short notice, he continued to be a reality in all 50 states, no matter what bans for now, I’m a significant impact on schools and students. But some impeachment vote had its origins in an investigation launched in March by the General Investigating Committee, during his January problem.\r\n",
            "\r\n",
            "Prien to the United States last year, after being sold at an auto auction.\r\n",
            "\r\n",
            "Car records reviewed or salvaged cars should be removed from a former female student accusing Hari Padman of \"shouting at her and removing her husband were \"an act of revenge\" because he had \"chided\" some students from the Pentagon, obterstant are of the principles of the deposit return scheme.\r\n",
            "\r\n",
            "But it said the plan in its current form with the system safety analysis, as I don't believe we would have people in a White House official told CNN. “But the existence of corruption is so far, the vice president has secured more than $4.2 billion in private sector commitments from an aud to the arrest - details of where the data with Fifa programme for everyone in the ballroom, wearing a Kennedy button and a white T-shirt saying “question everything.” She ares fellow Hindu men accused of religious violence against Muslims 3 \n",
            "\n",
            "________________________________________________________________________________\n",
            "\n",
            "Run time: 28.454459190368652\n"
          ]
        }
      ]
    },
    {
      "cell_type": "code",
      "source": [
        "#Text 5\n",
        "start = time.time()\n",
        "states = None\n",
        "next_char = tf.constant(['Corruption'])\n",
        "result = [next_char]\n",
        "\n",
        "for n in range(11000):\n",
        "  next_char, states = one_step_model.generate_one_step(next_char, states=states)\n",
        "  result.append(next_char)\n",
        "\n",
        "result = tf.strings.join(result)\n",
        "end = time.time()\n",
        "print(result[0].numpy().decode('utf-8'), '\\n\\n' + '_'*80)\n",
        "print('\\nRun time:', end - start)"
      ],
      "metadata": {
        "colab": {
          "base_uri": "https://localhost:8080/"
        },
        "id": "Xqmo7i8HC9hY",
        "outputId": "2fdcdb2a-801b-4ddf-8881-444a210bfc10"
      },
      "execution_count": 83,
      "outputs": [
        {
          "output_type": "stream",
          "name": "stdout",
          "text": [
            "Corruption crackdown is Xi’s signature campaign. It has swept across the ruling Communist Party, the group’s second strike in Kabul that killed 10 civilians, including many of her family and friends, to help fund a later decades of his edie.\r\n",
            "\r\n",
            "“Seeking the allegations against the brothers have sent shockwaves through the classical music world, where they entire wing ‘one an acto.\r\n",
            "\r\n",
            "Mr Ali says he hopes that some day, justice will also be delivered in time for Ukraine's expected counter-offensive. President Volodymyr Zelensky has called \"cow smuggling or transportation,\" althorities as a place to sell their older gas-powered models, according to the Senate. The deal must get passed before June 5 – the crucial in students who come to school knowing another language.\r\n",
            "\r\n",
            "The pilots say they are offering concrete suggestions and want to talk to power more than 1.5C since preindustrial times. This is bas crowledged they didn’t know much about Kennedy’s environmental agenda, and the acute crisis of climate change affects to Evolu was clinical to Akraine clinics the athletes of her life.\r\n",
            "\r\n",
            "“She liked going to the airport and she would ask us to go with her. \"I telen contribution to stary Kenie Russion.\r\n",
            "\r\n",
            "The 331st Germany in the 1990s in the Netherlands or Sweden. He’s in a different country. You’re a poor report from CBI to protect the cemeteries.\r\n",
            "\r\n",
            "This time, even an approach to Unesco has been to no avail, a city in the country.\r\n",
            "\r\n",
            "Ms Hawkins read the conclusion I have reached is that Melissa Caddick in Canuary from her life.\r\n",
            "\r\n",
            "“She liked going to the airport and she would ask us to go with her. She’s even if they had eaten beef, or that they were trying to flee the country. In the days prior to the attack, the suicide bomber defended him and local conditions, including the former chairman of China Everbright Group — one of the country's schools falling in the rankings.\r\n",
            "\r\n",
            "Mr Yousaf had hoped his speech the office and he told me that I was hormonal,\" she said.\r\n",
            "\r\n",
            "\"It was like Russian Roulette. Either put a grievance in and lose my career, or donot vaccine that can be produced cheaply in chicken eggs, the same way many flu vaccines are fighting the group — which the US estimates that about whether or not Spain is racist,” said Galindo. “I’m Skept on the state of detail in how much speech to lambast school and business closures during the coronavirus pandemic and to inside the case with the vivid recollection of someone who has spent years poritical roots in the city, even though his father and the coronavirus pandemic and its top strategic and anti-democratic organization,” he told CNN.\r\n",
            "\r\n",
            "But that’s not been his case too.\r\n",
            "\r\n",
            "With the help of MyHeritage, an online movegation after years left in limbo\r\n",
            "\r\n",
            "Britain vowed to protect those attending the rules and could have qualified for early release, Cordues later, the army leaders are also better at priming a different kind of first responder than injections do. They do a better own lives in the Dominican Republic with the child’s father.\r\n",
            "\r\n",
            "Anti-vaccine activist Robert F. Kennedy Jr., the anti-vaccine activist and environmental activists were raided by a fine of \"up to seven years, or both.\r\n",
            "\r\n",
            "However, experts and a privacy campaign to save the tomb of the group’s anti-migrant ideology is clear in an armored vehicles than the run\r\n",
            "\r\n",
            "The same time, I’m also uphade \"vehy about a more critics so what has been prodicing executives at the prestigious Tansen Samaroh 2020 festival, before before abortions.\"\r\n",
            "\r\n",
            "Nvidia: The chip maker experts say caution is warranted. The first minister said he hoped that a way forward is a bip signature of his moders. Meanwhile militants continue to defend our land from air see the attack, they were accepted.\r\n",
            "\r\n",
            "But they now say that harassment from some teachers has led to tears by the latest racist aggressions, said his trip that he would be postponing two legs of his trip – to Papua New Guinea and Australia's Bureau of Meteorology.\r\n",
            "\r\n",
            "Mr McDowell cautis the other hang, they are more likely to attract anti-social behaviour and squarely well before the family of the private convince.\r\n",
            "\r\n",
            "\"I have my tanpura and Mr Khan's Pepard and comments about behinimations like to eichy party polity, according to analysts, bodies didn't endound when I seeking their existence of some types.\r\n",
            "\r\n",
            "Ms Jambunathan says LinkedIn's algorithms rewain their the email was sent to the former occupied zone - they had to useache sleggle, and then take the principles were allegedly the use of telemedicine or the delivery of medication by mail.\r\n",
            "\r\n",
            "\"Our hands of patients wait outside the malnutrition centre.\r\n",
            "\r\n",
            "“Resources are getting finished for questioning by police in another case of alleged cow vigilantism.\r\n",
            "\r\n",
            "The cost of the Ukraine war for one Russian regiment\r\n",
            "\r\n",
            "Kostroma's most are enguged and did not elaborate.\r\n",
            "\r\n",
            "Several senators from both parties have experts for comment.\r\n",
            "\r\n",
            "The ICO said in a statement that it “fully supports” the party’s decision and will “fully and of the flu.\r\n",
            "\r\n",
            "“But the flu hasn’t taken off overseas in ways we might have built into a cemetery and the agency said. “I think the continent has to be prepared for what’s to come.”\r\n",
            "\r\n",
            "It appears the events on the table and raising his voice.\r\n",
            "\r\n",
            "Seeking an extra half hour to Good Morning Britain, and an extra half hour to This Morning.\r\n",
            "\r\n",
            "For the man who had uploaded it the process of creating the other is by propagating the idea that if the effects and severity of a failure and drug at the deal and that they are raising the debt limit by many of them, and their job known as chacha (uncle in Urdu) by his colleagues, was determined the Evolv Weapon Detection System… was not designed for data centres, cost roughly $10,000 (£8,000) each, though its latest and most powerful president.\r\n",
            "\r\n",
            "His trademarks a week and received substantial creating a top sale of women and only those cases that have been built with his hosts, who warned the athletes distraught and broke up with a lot of people being killed who may or may not have had anything to do with us,” Schindler said. “We took the eye off the ballroom, wearing a Kennedy button and a white T-shirt saying “question everything.” She are healthy, way that a strong El Niño weather event - a weather system is used in the days after the final, with a fourth dose would be recommended for people aged 65 and over.\r\n",
            "\r\n",
            "Hunt said the agency designed to deal with new variants.\r\n",
            "\r\n",
            "The nets are typically seasonal leaders to both defend their biological parents, he found out he had a half-sister. With the help of MyHeritage, an online movemarkly effects and all the old gender equity, I receive abuse or insults,\" Nyanjura explains, adding that her advocacy worked for 20 years as likely talks were at his house in Bissau, Guardian, promised was very difficult to move elsewhere when you’re employees of the attorney general’s office to write a lawsuit with four former employees of the attorney general’s office to write a lot of people who are suffering racism behind the conclusion that ended includes more than 30 hours.\r\n",
            "\r\n",
            "The denained this challenge head-on.\r\n",
            "\r\n",
            "Mulmills in March the perfect said it had foiled an attempt by any link of default.\r\n",
            "\r\n",
            "The agreement in principle was reached by President Joe Biden and Worder Seria deliveries. Some of the most powerful positions on Earth. Even more stranger to personal attacks online, which she took over the file in 2021. The anti-vaccine activist and environmental activists were raided by an internal complaints committee over the last four months. Indian law mandates earlier this year the population didn’t have the “natural boost” that came from having spoke political screens in the UK. But the fear is that it could be delayed using the same reasons used to delay the army and whether it being developed by a company called Evolv Technology.\r\n",
            "\r\n",
            "Evolv Technology is a second booster, which would be potentially the start of the Binancial sector interviews. Most recently, Iwasaki has been away from other countries.\r\n",
            "\r\n",
            "For Germany is a month few vaccinations are concerning – it’s the older ones, which tend to pollute more and be less off the work.\r\n",
            "\r\n",
            "The authorities insist that none of the many registered monuments in this old part of his efforts to \"reset\" the government's relationships since coming out as gay in 2020, and no shortage of up to 20 hours.\r\n",
            "\r\n",
            "The inquest also heard that Mr Koletti had sent texts from Caddick's phone passed of track to meet insult.\r\n",
            "\r\n",
            "\"It is one of many supercomputers - some known publicly, some not - that have been built with his hosts, who warned that 14th Amendment, I think it’s a legitimate constitutional question, but inserting it into private candidate for the job.\r\n",
            "\r\n",
            "How effective would a second booster be? Who is exported in the will of the teacher.\r\n",
            "\r\n",
            "Allegations against the the three brothers range from sharing flirts found they face. She said she was not officially informed of the outcome and ultimately the man return the party for teaching Bharat-man, Roe Br Njoking the 14th Amendment.\r\n",
            "\r\n",
            "Senate Majority Whip Dick Durmer Police Scotland said: \"The stories I'm hearing from people do seem to be exacerbated now it's one force.\r\n",
            "\r\n",
            "\"You have to be prepared to have a major impact on the hospital technique after following the United States’ hurried departure, according to a source familiar with the negotiations.\r\n",
            "\r\n",
            "As part of the deal, the White House and House Republicans will have avoided an unprecedented economic crisis in which even his own incredible influence could not imagine being forced to continue the arrally and believe what we will still do what we can to help women get safe and legal abortions.\"\r\n",
            "\r\n",
            "Nvidia: The chip maker updates a response to the Stark Security Institution.\r\n",
            "\r\n",
            "The inquest also heard criticism of police handling of the case.\r\n",
            "\r\n",
            "Officers assigned to the hospital if they can spend the night there, she said, but reemphasized they have reached their limits, and local authorities are finding it difficult to move at short notice, he's not put off by the month-to-month living survivors and a country that has had a cybersecurity law in place for more than 20 years, works with women leaders to not just address their own experiences of political strength which can completely stalt. The teachers has visited Guatemala, Hindu gen economic inepporting over the Texas House after Paxton had asked the legislature to approve $3.3 million in government, with effective recycling, widespread bike use and heavily subsidised public transport monthly ticket; a citizens' council to plan how to scrape his party and secure its case after regulations that would crack down on shipping very old or junk.\r\n",
            "\r\n",
            "\"If you look at official data, there were 160 Hindus among the 200 people who won’t fonget for seven years and I've got 66,000 followers. That's a really engaged audience. I have never abused anybody. I said he was to be killed,\" he told the BBC.\r\n",
            "\r\n",
            "In 2018, the Delhi high court convicte \n",
            "\n",
            "________________________________________________________________________________\n",
            "\n",
            "Run time: 24.06891417503357\n"
          ]
        }
      ]
    },
    {
      "cell_type": "code",
      "source": [
        "#Text 6\n",
        "start = time.time()\n",
        "states = None\n",
        "next_char = tf.constant(['Investigation'])\n",
        "result = [next_char]\n",
        "\n",
        "for n in range(11000):\n",
        "  next_char, states = one_step_model.generate_one_step(next_char, states=states)\n",
        "  result.append(next_char)\n",
        "\n",
        "result = tf.strings.join(result)\n",
        "end = time.time()\n",
        "print(result[0].numpy().decode('utf-8'), '\\n\\n' + '_'*80)\n",
        "print('\\nRun time:', end - start)"
      ],
      "metadata": {
        "colab": {
          "base_uri": "https://localhost:8080/"
        },
        "id": "-SffllA0ESD9",
        "outputId": "d59e7bc5-82df-4c01-9964-1b21c99b93ae"
      },
      "execution_count": 84,
      "outputs": [
        {
          "output_type": "stream",
          "name": "stdout",
          "text": [
            "Investigation about the impact of these conspiracies on climate politics. “If we want to implying to the weeked officials about putting in new regulations that would crack down on shipping very old or junk.\r\n",
            "\r\n",
            "\"I used to be healthy, walk with both of my feel a former senior safety engineer at the FAA, which has been deeply critical of the property our air defense system almost every night.”\r\n",
            "\r\n",
            "“We are spending our missiles and ammunition and extremism.\r\n",
            "\r\n",
            "The place where it they posted images of blue tarpaulin sheets that serves appairnt, the company and authorities cheated us,” said another fired security guard from Pakistan.\r\n",
            "\r\n",
            "Despite the hours of air time, ferociously delivered ultimatums and street stand-offsite the conflict, drawing the US and Europe directly into the war.\r\n",
            "\r\n",
            "And even training Ukraine's military populations that the United States’ rise to global domination sometimes seemed on the brink of collapsient in prison under Hari Padman and the federal government was in conflict with the state over financial sector into stronger and more professional rights and restrictions severely affects to Nvidia from a big Irish family, too. Everybody is entitled to how they feel. Anter a treatment using a botanical pestmaster do nome to paralysis.\r\n",
            "\r\n",
            "Bet this is a state of apple trees limit the movement on most centrest relationships, so Kattle gloups, officials extreme weather, is a particular flashpoint.\r\n",
            "\r\n",
            "Extreme weather can be alarming the tracking tool from the General Investigating Colleg Condur eno.\r\n",
            "\r\n",
            "The social worker took custody and took the baby anymone in the ballroom when he added: “Never days affecting all eshausted to \"alm of people general in ecinicers and relationships since coming out as gay in 2020, and no shortage of using Microsoft (26% Ms Shunk as well, but they did not respond.\r\n",
            "\r\n",
            "Experts and activists in the area were \"absolutely appalled\", as well as the potential of new variants that further evade our existing immunity.\r\n",
            "\r\n",
            "I grew up here to repay the huge debts they had taken a trip.\r\n",
            "\r\n",
            "“He had killed his parents. And he was going to bury them in general purpose AI weap sale\". He’s complained and nothing’s been done in the coming days and weeks, the administration official said.\r\n",
            "\r\n",
            "But as the climate crisis causes more extreme weather and raise sea levels. They are also less efficient at absorbing several elections should be held at the same time, there is still sinking in.\r\n",
            "\r\n",
            "Our Willoughby, has been the one to leave. They are, after all, a 50/50 partnership. If a double a few years detailed receipts to Facebook when a user claims that abortion pills were dangerous.\r\n",
            "\r\n",
            "\"This is what they did not answer the questions.\r\n",
            "\r\n",
            "Conor Healy of IPVM, a firm that she had to use saline solutions from IV drips to stop infections and severe illness. In the dead and the army fell out, the PTI managed to wrestlers as the black market bodb before it ever gets a chance to make us sick and ultimately prevent the spread of interviews. But at the same time, we are not done with Covid, not even close'\r\n",
            "\r\n",
            "The Yale professor access to the black market, for purchase what my money can afford,” he said.\r\n",
            "\r\n",
            "‘No one feels safe’: The reason for the bullying with many say they were not pursuing elements and social media free from violence, abuse, exploitation after young people in the amateur boxing gym five to six time in the accommodation and threatening us, banging on our door soldiers and so far relationships with these corrupt marked by shell holes, the Russians open fire with their mortars. \"That was enormously pathed in the will of the teacher.\r\n",
            "\r\n",
            "Allegations against the the three brothers range from sharing flirts of the vaccine against money from the Post Office. A drive Ford Mr Etienne says that the biodegradable nets are currently more popular forces of call set in the trial when they bubble under the past few days have been too much for many, far older, Spaniards to take in, too. The abuse hurled stutes and viewers that does this year the prosecution repeatedly blamed the police and the PAC for the killings, but their names accused of enforcing this ban through violence, often in the fight of how they believe there’s a clear correlation between the rising security polarised the authorities.\r\n",
            "\r\n",
            "\"The administration is on track to meet in the densely politician. She announced on Twitter that she would be standing new Covid vasian of his predecessor Naily to take boying the best of the debt limit daxage contest – venues or social media feeds – could be targeted digitally, to cause disruption or spread for personal gains. But not getting to compete is the worst thing that could happen a problem at Modogashe hospital, which is located along a dusty, with the virus outside the usual influenza season as international waters and have legal and safe abortion,\" Rev Kanter said.\r\n",
            "\r\n",
            "The denominantly campaign to save the tomb of the great 20th Century Egyptian noveling to the BBC, the victim's famous fight for their partised sources that providing Ukrainian professor and corporate marketing is one culprit.\r\n",
            "\r\n",
            "It's hard to approve $3.3 million in government, with effective recycling, widespread bike use and heavily subsidised public transport months, Kissinger attended a party full of Waterno four didnnt crackdown on the vast financial sick and admisted monused preparing to offer the presidential election.\r\n",
            "\r\n",
            "He retains support with his sister Kathleen Kennedy Townsend, brother Joseph P. Kennedy II and niece Maeve Kerind Horatey General tests, they said \"as a woman in the made $7.5bn (£60bn) or Spanish campaigners who are effectiveness in the classroom where they had been using a friend's financial adviser's licence, having simple extra policed for the deposit return scheme.\r\n",
            "\r\n",
            "But it said the plan in its current form with the smoke, stumbling down a streets of music suchav respence to live theory to unitain the first to be eligible when it does begin.\r\n",
            "\r\n",
            "Earlier in March the federal Roo a failure to have sought his arrest and deportation to the United States.\r\n",
            "\r\n",
            "Britton feel confident short from his family – hospite from his police had a political party of the political economy and jobs through religious nationalism.\r\n",
            "\r\n",
            "\"The religious divide concerns have limited Harris’ ability to fully engage, officials say they believed she had gone for an early run the next morning. Her car and all her money to its website for private president on Thursday calling on him to invoke the 14th Amendment.\r\n",
            "\r\n",
            "Senate Majority Whip Dick Durbec's one of their stop using its system.\r\n",
            "\r\n",
            "We also asked what Evolv had told schools as the backbone for information flow in the controversy to \"people stuck into openly a fair time, an influx of unaccompanied minors apprehended on the US southern border in recent years, says Richard Technology, or unsaverage in the overall is targeted of the foreign ministry, past at least three checkpoints, reflects the group’s capabilities, with some warning that it could soon develop the ability to terrorize the civilian population of Ukraine using Jinam advantages - and they will strike it.\r\n",
            "\r\n",
            "\"So, you would have to do lots of them. Then you're into the demands of the institute, located in the city of Chennai in the southern state of CNN were accept leaving quarters of a converters of all elser his group had been informed that a cow was being loaded into a car and reached the spot, only to see the real impact of those contributions in the region.\r\n",
            "\r\n",
            "“I think the continent has to be prepared for what’s to come.”\r\n",
            "\r\n",
            "It appears the events of the airport to see a searchable flord on.\r\n",
            "\r\n",
            "\"It's a very dedicated life, you do not do anything at all. You train, sleep in the closest thing the sector has to a governing body and represents management companies covering 60 days that include an abortion must be below the building. \"To ensure the safety of the property is maintained, your room cod India a law and only the correction in the country. It gave no other details.\r\n",
            "\r\n",
            "In 2020, real estate tycoon Ren Zhieh attacks are increasing and, as in the speakers, the one who rebelled against the teachers, the one who rebelled against the teachers, the one who rebelled against the teachers, the one who rebelled against the teachers, the one who rebelled against the teachers, the one who rebelled against the teachers, the one who rebelled against the teachers, the one who rebelled against the teachers, the one who rebelled against the teachers, the one who rebelled against the teachers, the one who rebelled against the teachers, the one who rebelled against the teachers, the one who rebelled against the teachers, the one who rebelled against the teachers, the one who rebelled against the teachers, the one who rebelled against the teachers, the one who rebelled against the teachers, the one who rebelled against the teachers, the one who rebelled against the teachers, the one who rebelled against the teachers, the one who rebelled against the teachers, the one who rebelled against the teachers, the one who rebelled against the teachers, the one who rebelled against the teachers, the one who rebelled against the teachers, the one who rebelled against the teachers, the one who rebelled against the teachers, the one who rebelled against the teachers, the one who rebelled against the teachers, the one who rebelled against the teachers, the one who rebelled against the teachers, the one who rebelled against the teachers, the one who rebelled against the teachers, the one who rebelled against the teachers, the one who rebelled against the teachers, the one who rebelled against the teachers, the one who rebelled against the teachers, the one who rebelled against the teachers, the one who rebelled against the teachers, the one who rebelled against the teachers, the one who rebelled against the teachers, the one who rebelled against the teachers, the one who rebelled against the teachers, the one who rebelled against the teachers, the one who rebelled against the teachers, the one who rebelled against the teachers, the one who rebelled against the teachers, the one who rebelled against the teachers, the one who rebelled against the teachers, the one who rebelled against the teachers, the one who rebelled against the teachers, the one who rebelled against the teachers, the one who rebelled against the teachers, the one who rebelled against the teachers, the one who rebelled against the teachers, the one who rebelled against the teachers, the one who rebelled against the teachers, the one who rebelled against the teachers, the one who rebelled against the teachers, the one who rebelled against the teachers, the one who rebelled against the teachers, the one who rebelled against the teachers, the one who rebelled against the teachers, the one who rebelled against the teachers, the one who rebelled against the teachers, the one who rebelled against the teachers, the one who rebelled against the teachers, the one who rebelled agains \n",
            "\n",
            "________________________________________________________________________________\n",
            "\n",
            "Run time: 25.68353033065796\n"
          ]
        }
      ]
    },
    {
      "cell_type": "code",
      "source": [
        "#Text 7\n",
        "start = time.time()\n",
        "states = None\n",
        "next_char = tf.constant(['Official'])\n",
        "result = [next_char]\n",
        "\n",
        "for n in range(11000):\n",
        "  next_char, states = one_step_model.generate_one_step(next_char, states=states)\n",
        "  result.append(next_char)\n",
        "\n",
        "result = tf.strings.join(result)\n",
        "end = time.time()\n",
        "print(result[0].numpy().decode('utf-8'), '\\n\\n' + '_'*80)\n",
        "print('\\nRun time:', end - start)"
      ],
      "metadata": {
        "colab": {
          "base_uri": "https://localhost:8080/"
        },
        "id": "OIHCVIdYE0Ja",
        "outputId": "4f7bda63-81a0-4ce4-af11-7bb86bd1d183"
      },
      "execution_count": 101,
      "outputs": [
        {
          "output_type": "stream",
          "name": "stdout",
          "text": [
            "Officials and performance reviews. There is no meritocracy.”\r\n",
            "\r\n",
            "A document costing the Taliban’s takeover, killing at least 670 people and injuring 1,200 — a significant uptime at his Senate trial.\r\n",
            "\r\n",
            "Lieberman’s story starts in late 1979 in the town of California, New York and Connecticut have targeted the bill would include an administrative pay-as-you-go provision to require that Biden said in a statement. “Nevertheless, I had multiple interactions with the speaker through my time as a huge shock.\r\n",
            "\r\n",
            "\"I'm not surprised dependents.\r\n",
            "\r\n",
            "The 737 Max remains under intense scrutiny. The plane was grounded for 30 others. What was once an historic work space for them. CNN has reached out to the agency for comment.\r\n",
            "\r\n",
            "Turned away, is a Biden debate is that sometimes these abuses are from our very counterplated up their strengthing of codon.\r\n",
            "\r\n",
            "Several scinns in communist East Germany’s controversial figural values are the air and oceans.\r\n",
            "\r\n",
            "Another important factor that is worrying scientists remain unpairnal.\r\n",
            "\r\n",
            "But they do include problems with some critical systems, is also alarmed. He has previously testified them to address policy, process and education gaps and challenge bias at every level of pregnancy.\r\n",
            "\r\n",
            "Medication-induced abortions are now the most common method of ending prevent essible intelligence to disrupt weather patterns. But still a fourth dose be in Australia?\r\n",
            "\r\n",
            "There’s mixed evidence on the effectiveness of these vaccines have yet to be published, limiting optimists and women's rights organizations, formerly ruled or display what is the given to the party - to prove to Turkish society that the CHP has changed.\r\n",
            "\r\n",
            "\"The CHP has a lot of experience here with the Stasi.”\r\n",
            "\r\n",
            "“People have their eyes open. But it has studied the societal similarities between platforms - show a converter of White House negotiators, Office of Management and Budget Director Shalanda Young amounts to House Republican negotiators on work requirements for social safety net programs had remained set in the situation, and the text of the deal will be need,” she added.\r\n",
            "\r\n",
            "One student said they were taught to tolerate everything.”\r\n",
            "\r\n",
            "Many of the people who will be loudest, they’re playing police anti-criminal asserting to the hospital because she was malnourished. Hussein fetches a 20-litre barrel of water from the month on whether a fourth dose would be recommended for people aged 65 and over.\r\n",
            "\r\n",
            "Hunt said the agency’s scientists contacted for this story were reluctant to go on the Taliban’s anti-aircraft have recently expected to receive and families of victims into despair.\r\n",
            "\r\n",
            "The violence on 23 May 1987 in Malyana village only \"four-five days later because Meerut was that can be produced cheaply in chicken eggs, the same way many flu vaccines and arrived in the athan executive of the Uganda Law Society Rule of Law Committee. Kiiza, a partisan thoug and has helped keep global to us to democracy and corporate power that can be produced cheaply in chicken eggs, the same way many flu vaccines are fired at the same time, told the BBC that she was molested by Akhilesh Gundecha.\r\n",
            "\r\n",
            "But its spokesperson said.\r\n",
            "\r\n",
            "The denomination of the states have not brought her eight-year-old son, Serigne, to Dragones training said she had felt awful when she had no longer assistant for me to keep tweeting fact-based scientific content – there’s a lot of millions of dollars spent to try to defeat him. Now the Texas Contress was occurring in the rest of the world.\r\n",
            "\r\n",
            "“What we don’t yet know is if Covid will ever become a widespread powerful man, Recep Tayyip Erdogan, since he took power more than 20 years ago, after a bad experience with a private level of space for six months. Their contracts stated: “Notice period: six months post date of joining.” The only two elected officials to take the leap on at the presidential question about it was the main moth. Some was not a family in the massacre, including his grandfather, particularly in high-value areas like seeds.\r\n",
            "\r\n",
            "Yet in friends, to help fund a law in the problem, which is the remnants of replicating virus.\r\n",
            "\r\n",
            "You’re a prolinical election who have selt to Kain around, the authorities have faced from a clear children.\r\n",
            "\r\n",
            "Investigators say they then moved to a mosque and the boadda drame to anything you \"very expected to increase what you have toth national security adviser got a free subscription.)\r\n",
            "\r\n",
            "What the envelope making matches to do the past 10 years alone.\r\n",
            "\r\n",
            "The prime minister did not confirm to a particular declaration be properly default. … Mr Merrill half of the attacks remain unpunished amid accusations that they enjoy political patronages of its mogulation to change it democratically through elections and support to health and safety regulations, so should be from our easy to use but say they won't stop them to discuss an issue through its defence on the western edge of the city.\r\n",
            "\r\n",
            "Ukraine is still clinging for an investigation into Phelan for performing his duties in what Paxton described as “an obviously tempting target.”\r\n",
            "\r\n",
            "Of course, there are all the usual issues that it first sent into Ukraine in February 2022, it deployed two battalion groups, giving an exemption to the UK-wide Internal Market Act. We had hoped for show a \"massive shortfall\" and he just could not balance what I think new I real time, ferritory has the life weeks of what happens next.\r\n",
            "\r\n",
            "Here’s the thing: A bank of rain stretching across Eurth law because they fewer surgeries of the 331st regiment could be estimated at 1,500 following 19 million Sydue squares over the land - which have risen by more than 1.5C since preindustrial times. This is business as usual for the US, no matter which party sits in the White House – and Kissinger, which can complete its tenurious for the background from all the different leaders and what they want,” McCarthy added.\r\n",
            "\r\n",
            "McCarthy said she told CNN.\r\n",
            "\r\n",
            "“They repair these cars and resell them to make a profit,” said Jacob. “We have not failed so many does not allow anyone to upgradu of her dayage of a significant impeachment vote, saying it “unequivocally refutes incorrect testimony” against Paxton. The office and he was fair on the processing capability in a male student accusing the mothers themselves.\r\n",
            "\r\n",
            "\"We would certainly go after abortion providers, as well as the potential of new variants that further evade our existing immunity.\r\n",
            "\r\n",
            "I grew up and the arms they've seized around the country.\r\n",
            "\r\n",
            "Add eary lynk you drive up to $30m (£600), weigh to help off peacefully. But Eurovision could be a bigger headache has har doughted the protests\r\n",
            "\r\n",
            "The battle between Imran Khan's supporters and the social platforms - show a confert with the balling, who was vaccine in the previous 45 men who appeared to be armed with weapons. They have access to night vision goggles. And oftentimes when they do targeted assassing the issue of dividing church were shot detailed with the antiviral drug Paxlovid and 50 will be given a placebo. This part of the site where records by the Beatles, the Rolling Stones and Pink Floyd were “lot of times, the process through which it could frame its culture war with Whit in the Institute for Strategy to be left in limbo, not knowing whether he will be deported and five other weaps.\r\n",
            "\r\n",
            "The agreement delivery of the military and state-owned companies in waves since 2012, when Xi took office. Millions of patients are potentially affected.\r\n",
            "\r\n",
            "This weekend, 121 civilians have been injured in the Kharkiv region alone, according to the State Emergency and the US and Europe directly into the war.\r\n",
            "\r\n",
            "And even training Ukraine is where they attended a CBP One appointment, the process through which is an in extreme condition to be at the best level, and that requires you to be constantly in practise deaph for asylum seekers in a hotel in east Londoc.”\r\n",
            "\r\n",
            "Mohaded Share of her penting in the House and Senate to pass a bill to avert default, saying it would take points out of the US seen on the historic under smath ministry had colleged his party’s “position, the Taliban from Parwan detention facility at Bagring House Speaker.\r\n",
            "\r\n",
            "Experts credit Harris’ ability to security concerns, told CNN.\r\n",
            "\r\n",
            "“Currently we don’t have security approved at the prison.\r\n",
            "\r\n",
            "“I’m just the justice are also for profit. The idea it to make Muslim men into the allegations.\r\n",
            "\r\n",
            "Before his arrest, Hari Padman and the female student denied any accused his rival of allowing 10 million refugees into Turkey.\r\n",
            "\r\n",
            "Gone was his entire join’s campaign, as we saw run in the backseat of his car.\r\n",
            "\r\n",
            "\"He started kissing me. I pushed him off. He says he comes across \"three-four such videos every day\".\r\n",
            "\r\n",
            "Each the perpetrators of the attacks remain unpunished amid accusations that they enjoy political patronages of information they would block from a singing competition.\r\n",
            "\r\n",
            "A senior British security source laid it out plainly to keep in mind.\r\n",
            "\r\n",
            "“Seeing an increase in achieving new of an at every students in Honduras by 2030.\r\n",
            "\r\n",
            "Experts credit Harris’ ability to sect?\r\n",
            "\r\n",
            "We all this information aw you don’t have the anti-vaccine thing,” said Tyson Humble in the UK. The testers said Evolv should inform potential clients.\r\n",
            "\r\n",
            "Despite this day when I pushed him off. He drove me back to a small town, which is rimit every we have to do lots of them. Then you're into the deal will also remain activists to the fact that the same students’ op officers and states of being a woman in politics: in addition to the margins,\" she said. \"I see Him being a clinic escort, being stock to the 971ss easy.\r\n",
            "\r\n",
            "Eventually he was told he had to repay the full amount in monthly instalment\".\r\n",
            "\r\n",
            "But she said Australia had the benefit of being one season behind and being able to monitor what happened in Japan in the early termination of their contracts, the two men were allegedly detained and dependent children from trading single stocks.\r\n",
            "\r\n",
            "The act is the product of a working group formed by Senate Majority Leader Chuck Schumer optimist Phages manderperp - to the 737 Max programme do, however, acknowledge that there have been specific issues with stabiliser mothers told police they believed she had gone for an early run the next morning. Her car and all her injurers are so care … both delivering the emergence of a party on the right. What Escalona knows is from a close relative who helped her mother. That relative has already organised videos of infection shiftly were used in this war.\r\n",
            "\r\n",
            "When I didn't accept it, he kept pesterible for an environment that all past rulers have conserved in ancial fiedd still har to stay on a result of recent efforts to overhaul the curriculum and change the way English learners there are tay to gather. Betand over the United States to convince other opposition parties to back his bid. The CHP came a distant second, which is threatened by the conflict, drawing the US and Europe directly into the war.\r\n",
            "\r\n",
            "And even training Ukraine's security source said in a recent statement to CNN threats of peopl \n",
            "\n",
            "________________________________________________________________________________\n",
            "\n",
            "Run time: 25.08306312561035\n"
          ]
        }
      ]
    },
    {
      "cell_type": "code",
      "source": [
        "#Text 8\n",
        "start = time.time()\n",
        "states = None\n",
        "next_char = tf.constant(['Pandemic'])\n",
        "result = [next_char]\n",
        "\n",
        "for n in range(11000):\n",
        "  next_char, states = one_step_model.generate_one_step(next_char, states=states)\n",
        "  result.append(next_char)\n",
        "\n",
        "result = tf.strings.join(result)\n",
        "end = time.time()\n",
        "print(result[0].numpy().decode('utf-8'), '\\n\\n' + '_'*80)\n",
        "print('\\nRun time:', end - start)"
      ],
      "metadata": {
        "colab": {
          "base_uri": "https://localhost:8080/"
        },
        "id": "Xryec_CDFZt9",
        "outputId": "1d9a48ed-c7a5-4369-ad33-528bf90bdbd6"
      },
      "execution_count": 88,
      "outputs": [
        {
          "output_type": "stream",
          "name": "stdout",
          "text": [
            "Pandemic Stagism in February 2023 by the Russian network NTV shows an \"armoured group\" of the 331st in action in Luhan and Asia brother post-accused of theft and many jailed.\r\n",
            "\r\n",
            "Three postmastry said there had been investment, and the community had a very good youth centre, leading and was the only doctor left for the army - lite a daming threat of economic catastrophe.\r\n",
            "\r\n",
            "In March 2022, the Utica Schools Board bought Evolv's weapons scanning system for Malyana violations.\r\n",
            "\r\n",
            "The BBC couldn't contact Mr Metalfase of Seputails and congested may count in the near issue is that she’s wanted to own their strength to be able to withstand the \"brutal level\" that awaits them. Mr Sengupta calls Metwore has now been handed available options, like power in Germany say they have reached their limits, and local authorities are finding it difficult to move at short notice, he's not put off by the month-to-month living surgercian, and the JA establi has been directed at any black or non-white bringing in the country - to do an audit on whether a fourth dose would be recommended for people aged 65 and over.\r\n",
            "\r\n",
            "Hunt said the police and acted within the limits of the past few days have been too much for many, far older, Spaniards to take in, too. The abuse hurled how does the protests - Tuesday marks a month since they began - jeopardise the country's prospects of gree hardline and students. But some regular intelligence in Guardian say they were forced to return house in the ballroom. A difficult it a personal choice continued to be a reality in a lawst bid not just found of the decision.\r\n",
            "\r\n",
            "A Police Scotland said: \"The stories I'm hearing from people do seem to be exacerbated now it's one force.\r\n",
            "\r\n",
            "\"You have to be prepared to have a major impact on the house was no place for them to stay.\r\n",
            "\r\n",
            "Fortunately, she still had the phone number of the Boston Park Plaza hotel, which was bathed in red criticised for bullying and sexism.\r\n",
            "\r\n",
            "This is a racist country,” she said.\r\n",
            "\r\n",
            "The Dragones de Lavapiés, which was founded nine years ago, exists designed for data centres, cost roughly $10,000 (£8,000) each, though its latest and most powerful pressure\r\n",
            "\r\n",
            "According to the World Bank - which provides Plan B, an emergency and the air warring of a place to stay in Boston, as asylum-seekers sleep in a hospital lobby\r\n",
            "\r\n",
            "Fleeing what she was cornered by a campul in having should be exploring the way that economies and politics and social media feeds – could be targeted digitally, to cause disruption or spreading information and this is the pitch where Mohamed and his teammates were training for recent attacks on the country's independent views of her grades.\r\n",
            "\r\n",
            "But too as they can afford things, is some mobility,” he said.\r\n",
            "\r\n",
            "But, unlike in the US, few prospective are under environmental areas. We build bridges to avoid this,\" President Sisi has said. \"I have tended the programme have left because of drought, leaving the service overstretched.\r\n",
            "\r\n",
            "“Things are being discussed in the UK. But the environmentalists disrupting transport to his native Center with the United States last year, after being sold at an auto auction.\r\n",
            "\r\n",
            "Car records reviewed or salv-Take of the property becoming derelict.\r\n",
            "\r\n",
            "Demand is on the rise, fuelled by the housing shortage of Educational Statistics and a third one on the way. Your only aim is the first time #MeToo movement has touched the social worker to steal her half-brother from the US, few prospective area could have contributed towards the riot.\r\n",
            "\r\n",
            "He has studied the societal similarities between planes to come.”\r\n",
            "\r\n",
            "She argues the authorities' blanket ban violates freedom of speech, access to information and they could not take longer to mount a response.\r\n",
            "\r\n",
            "“If they are already on site, they have tackled them in the same way that everyone who’s been in power in Afghanistan — from a few small-scale attacks targeting Taliban, as well as calculated by Welsh government are women,\" explains Police Scotland and any assertion otherwise is without foundation.\r\n",
            "\r\n",
            "\"Our resolute determination some individuals are in cars to developing nations. Those conversations are in early stages and have yet to result in any controversial classical and Indie-pop music.\r\n",
            "\r\n",
            "Bhagwat, Krishna and Mudgal are rares of breaking demonstration and sexually explicit imagery shared with third-party commercial entities that can protect against the chief constable commissioned the Police Scotland and Namazzi attended a CBP One appointment, the process through which is an indeed into the air defense system in general, in particular, we have the means that can fight infict, and they have to make a confession because I know most of their soudd seek up to the politicians to come to an agreement, a difficult relationship with his parents. The shooth drans remain under the Taliban’s national and liberated over the past year.\r\n",
            "\r\n",
            "On 24 February 2022, Russia launched its full scale invasion.\r\n",
            "\r\n",
            "According to the World Bank - which provides Plan B, a major dispute over migration in the UK housing market and meetings directed at all organizations related to the weather,” he told CNN.\r\n",
            "\r\n",
            "But that’s not been his case too.\r\n",
            "\r\n",
            "With the help of MyHeritage, an online movegation after years left in limbo\r\n",
            "\r\n",
            "Britain vowed to protect recusy. She didn't leave the school immediately because she loved the police and claimed the workers were blocking the road. The guards said, apart for the group’s latest meeting.\r\n",
            "\r\n",
            "\"The skill is to speak like your audience and be relatable to your audience. It’s very masked for financial in the UK, meteorologists reported unprecedented levels of online harassment during last year’s record from LinkedIn, the social media platform famously tagged \"Facebook for suits a \"bottor in the bunker, Ukraine's 77th Brigade orders another artillery strike on a house. Seconds of firms creating a tool to make Grean enables and writing them few next months.\r\n",
            "\r\n",
            "Warmer oceans can kill off marie things have become a wide voters was filled the group’s centre-right party.”\r\n",
            "\r\n",
            "Other senior Tories are urging their colleagues not to bill on the floor of the 34 More.\r\n",
            "\r\n",
            "Some hearly half the vice president has secured more than $4.2 billion in private sector commitments from Kovid as a woman -- and on the public and better than the S&P 500. There’s an unfair advantage for [learning relationships, the guru-shishya relationship is grounded in a power imbalance, but here, crucially, the vice president has secured more than $4.2 billion in private sector commitments from an unexpected level of protests and blocking traffic. The sentence sparked many small boats remain unprepared following the UK and the law cases of workload.\r\n",
            "\r\n",
            "\"AI found us,\" says Malik, where take then missing to the BBC that the prosecution case fell through because the main motorway around the city have slept overnight in the lobby. The family of three attended the appoinent drives who normally would have tested in harm that helped by report for the party. I will not donate to any central parties, McCarthy and Schofield and Willoughby's viewing figures varied between 500,000 and one million based on all kind of became 'she's a problem, she's getting a child and over the past 10 years, trained young people in the amateur boxing gym five to six time in the air defense system in general, in particular, we have the means that can fight received an exchange in a WhatsApp group she's in: \"I was reportedly detained by authorities as part of a government investigation. Anbang at the many sector could rattle investors. China’s banks and insurers have assets worth $60 trillion, equivalent to CNN in the wake of his party’s “extremist” designation, Gnauck described himself as a “story abortion came.\r\n",
            "\r\n",
            "\"The internet has been expanded in the last year with professive abortion war's new front.\r\n",
            "\r\n",
            "The total size of the deal will be necessaryly by so now, to remain within the system, even if they had know we do need to think about future booster vaccines that match with the circulating the word.\r\n",
            "\r\n",
            "“When I first met him, I thought that he was not a revolutionary leader but an evolutionary from the countrys internal compliance committee already in place?\" said Shubha Mudgal, a popular vocal critics a way out. Dominic Raab, then the UK west brue in Uganda said the brand-new plane to start work for his career.\r\n",
            "\r\n",
            "He has mounted the strongest opposition challenges remain unpainnal watches with engines, flight control systems, hydraulics and wiring.\r\n",
            "\r\n",
            "“We were ready to hit the ground with new materials, new strategies, new study, published last year when Lieberman, who works as a video editor, read a story about the time Kissinger nearly drowned while canoeing beneath one of the world’s third-largest economy, affecting businesses across the country. Tens of migrants arriving in the classroom she told CNN in the financial cot smuggler of the US Fene Aliena valu, that was sent to a dead and a devastating toll.\r\n",
            "\r\n",
            "Since then, the number of border encounters from there have receded. If a country when it came after the graves shown and became the party for years to come.\r\n",
            "\r\n",
            "For more than six decades, the reverence to the emergency declaration had to be ended, because of the economic impact and other the protests by support for the party’s nomination in 1980 and lost decisively in a bitter campaign and cars that he had been stolen” as a threat from any attacks in Mazar-i-Sharif, Afghanistan’s third most populous city in the background of our return to normal life.\r\n",
            "\r\n",
            "As learning has complete into the controversial adoptions has languished over the years. Some who took part in the illegation after years left in limbo\r\n",
            "\r\n",
            "Britain vowed to protect those attending the car moments after the accident.\r\n",
            "\r\n",
            "Then, according to this hypothesis, the higher scores may have been an unexpected in the police complaint, he later alleged that he had been \"bears of collational weapons.\r\n",
            "\r\n",
            "“The time the training process to his fires.\r\n",
            "\r\n",
            "James Arnolds’ name in Ghough now to spend on the investigation leader launched a \"March for the way we were treated and the way things happened to us,\" she added.\r\n",
            "\r\n",
            "Wendy Buffrey said she burst in to tears when she read on Twitter that the Post Office had agreed to settle.\r\n",
            "\r\n",
            "The former sub-postmistress of the Up Hatherley branch in Cheltenham was advised to plead guilty to false accounting in 2010 to avoid jail after a shortfall of £26,000 was identified in her accounts.\r\n",
            "\r\n",
            "Unable to explain the discrepancy, she took out a loan to repay the difference and is still counting the cost today.\r\n",
            "\r\n",
            "\"We lost our business. We lost our home. I had to pay the Post Office £26,000,\" said Mrs Buffrey.\r\n",
            "\r\n",
            "\"We had to start again. There isn't any monetary figure that can compensate for the way we were treated and the way things happened to us,\" she added.\r\n",
            "\r\n",
            "Wendy Buffrey said she believes that while the hate speech amendmyny they he was taken to a nearby house was not suspended.\r\n",
            "\r\n",
            "Two men received sentences i \n",
            "\n",
            "________________________________________________________________________________\n",
            "\n",
            "Run time: 23.75367522239685\n"
          ]
        }
      ]
    },
    {
      "cell_type": "code",
      "source": [
        "#Text 9\n",
        "start = time.time()\n",
        "states = None\n",
        "next_char = tf.constant(['Scientist'])\n",
        "result = [next_char]\n",
        "\n",
        "for n in range(11000):\n",
        "  next_char, states = one_step_model.generate_one_step(next_char, states=states)\n",
        "  result.append(next_char)\n",
        "\n",
        "result = tf.strings.join(result)\n",
        "end = time.time()\n",
        "print(result[0].numpy().decode('utf-8'), '\\n\\n' + '_'*80)\n",
        "print('\\nRun time:', end - start)"
      ],
      "metadata": {
        "colab": {
          "base_uri": "https://localhost:8080/"
        },
        "id": "dkXIhQkoF7ff",
        "outputId": "6f310caf-5517-4b95-c949-40cc94fc752d"
      },
      "execution_count": 93,
      "outputs": [
        {
          "output_type": "stream",
          "name": "stdout",
          "text": [
            "Scientists point to collect health information. “There’s no benefit to NHS trusts many students from Kenya’s hospitals have reported an increase in patient numbers in recent months, but at least the lower in the past 10 years were Muslims.\r\n",
            "\r\n",
            "And the articles say voters in Germany say they have reached the conclusion that he was the man to find A healthy setting request for new IRS agents, and claw back tens of billions in unspent funds meant in a figure largern officers as scheduled to baly to the point where the principals can meet and detained as a \"fresh start for Scotland\" after a tumultuous threar young people - but without undermining Scotland's controversial deporting in Covid-19 and the cost of living crisis.\r\n",
            "\r\n",
            "He believes the more restrictions will follow.\r\n",
            "\r\n",
            "In recent days, abortion - including medical to be her own perception problem.\r\n",
            "\r\n",
            "Aide thousands of people from long Covid and ME/CFS are diseases of global significance. It’s valuation into the severity that brought in the community visible and to build voter support. But it is also used by one other regiment apart from the 331st.\r\n",
            "\r\n",
            "As the fighting wore on, soldiers in the claims of students studying as a way of rethinking our ways of doing things,\" he explains.\r\n",
            "\r\n",
            "\"Losing a limb or getting a clinic encouraging 60 or the authorities, yet there's a deep frustration with the industry.\r\n",
            "\r\n",
            "He said: \"I have therefore instructions into cells for a decision, with a refusal rate for Hongkongers of about 15%.\r\n",
            "\r\n",
            "Asylum seekers interviewed by the Guardian say they were forced to return hous about the PAC's role, identified the men and the price paid by the regiment and its home community was totally development.\r\n",
            "\r\n",
            "Before the Supreme Court Roch worker to deliver justice was no contrasted by Last Generation activists through which pitchew when they were contacted for gaming that he would be detained and competent enough that they need, asking allies for additional debate. The agency or security financial sects critical facilities depends on the amount of equipment we have received a teacher and settlement of its military aviation close to the front line. Silk's job is to provide cover from Russian air-to-air missiles. But she said without major incident – save for some accusations of heavy-handed policing. But a second big events for the game they’re planning. Now they are tired a missile at Silk's aircraft. He knows he has to abort the mission in order to deal with “the deepening concerns on the call sign Juice.\r\n",
            "\r\n",
            "Facebook, YouTh exerces in the car were three young Muslim men: Waris, Nafiz and Shaukeen.\r\n",
            "\r\n",
            "Waris is not a bad place to go looking for the effects of the Ukraine war on Russia. For this city is home nead to warning them of its political rivals, you're not personal executive in early 2021, according to the State Emergency control of the border were from Central America – a region where major hurricanes and the coronavirus pandemic and to insist, he added: “Nigel [Farage] rang me up the other day and said that does that the change is worth exploring.\r\n",
            "\r\n",
            "“This is an area that I would encourage others to do the victims in our society.”\r\n",
            "\r\n",
            "Gnauck denied that his party has any links to Germany in June, a spaning case through investigation into the SNP's first five major benerion to the aircraft.\r\n",
            "\r\n",
            "It is important to stress that none of the institution and investment with fatigue and will tell theory to launch antimation continues to simmer in the background of our return to normal life.\r\n",
            "\r\n",
            "As learners in 8th grade saw their scores during a third dose.\r\n",
            "\r\n",
            "Nevertheless, I had multiple interactions with the speaker through marketing data on patients, became eligible to receive a fourth vaccination after Atagi guidelines changed due to the efforts of Mr Rai said \"hery general’s office. In the first year under the Taliban’s new government, ISIS-K capable of failure and children who have gender dysphoria. Data was also shared when users viewed the webpage for the bullying with many saying that it was the reason I got the position,\" it tells me. \"This is a case where justice is not just delayed, it's also been denied.\"\r\n",
            "\r\n",
            "Beaten and his power see given the last few years.\r\n",
            "\r\n",
            "Dr Williams studied behaviours and scare tells of the two remaining Gundecha brothers.\r\n",
            "\r\n",
            "Akhilesh Gundecha decided to the authorities if they are experiencing dangerous.\r\n",
            "\r\n",
            "\"These drugs have caused injury, infertility, death,\" Ms Hawkins said: \"A month average including the conscripts shown on billions of dollars in Trump tax cuts for the wealthiest Americans and the biggest corporations,” says Bobbang Nace, the current situation was sparked when Imran Khan's arrest on its website.\r\n",
            "\r\n",
            "Bankers must abandon their pretensions of being the “financial elite” and stoppitarists to reach them.\r\n",
            "\r\n",
            "But Germany is also a country with a powerful auto industry, where the body since the 737 Max returned to service, airlines have flown nearly 240,000 flights explain.\r\n",
            "\r\n",
            "“That delivered a few results covering under the party - to prove to Turkish society that the CHP has changed.\r\n",
            "\r\n",
            "\"The CHP has a lot of experience here with the Stasi.”\r\n",
            "\r\n",
            "“People have their eyes open. But in the state were \"given the right to take the law in their can be spending to Nieave Christ. \"In recent days, abortion - including medical testing has doubled every eight years; streets that used to understand us,\" she says, adding: \"This is on a platform it.\r\n",
            "\r\n",
            "It was cleared to fly passengers again by US regulators sealled bullying and two cases of water and power tell of their struggles as health workers leave from a triol control.\r\n",
            "\r\n",
            "She said that Ely is a \"long-standing\", \"solid\" community where some of the one to tell him will be forced to detect.\r\n",
            "\r\n",
            "On Halloween last year, said that Congress must address the debt ceiling by June 5 or the government will strikeling in the polls, making them even more shared. I do net even more drafthing you and your law in place for more than a decade.\r\n",
            "\r\n",
            "“I’m not surprised to see how robust the export the court neght-Repartment of China Eng, the National Presists in Congress of the US condition to the UK, of which only 259 came from a while travel for This Morning was downwards, and keen to pre-empt any further daily view to step in.\"\r\n",
            "\r\n",
            "Sarre Arno, a fair trial and pushed infavarable more than 30 getter speakers, and arguably higher-profile figures who won the race for mayor in Istanbul and Afthr asylum seekers was “drastically different” and that the “maltreatment of these asylum seekers in a hotel in east Londoc.. McCarthy said it was removing the way in which the agency originally certified the 737 Max.\r\n",
            "\r\n",
            "He says the reports do give cause for Russia to disrupt the climate agency and the Security office, and that she was happy and religious minority in mostly-Sunak, as the store had been struggling to stay afloat for months. But what come across experts sent the example JA Prof Jonnon that are under exclaining to the principles of the deposit return scheme.\r\n",
            "\r\n",
            "But it said the plan in its current form or due to the a private clinic. No one answered the phone so a friend drove him and raise feels of the other bant following a security financial crisis and swift legal action.\r\n",
            "\r\n",
            "While the president has said he doesn’t know.”\r\n",
            "\r\n",
            "Westover said he wanted to be the one to tell him to leave your door open in the village, but that doesn’t happen anymore.”\r\n",
            "\r\n",
            "The harassment of meteorologists and clicked for one students of the institute, located in the city of Chennai in the southern state of Taliban, as well as Pakistani fighters, including from the Tehrik-e-start of the US Congress of America and Border Protection data.\r\n",
            "\r\n",
            "In the last two years, the vice president has launched two reasons social media a series of videos from his models revealed Kissinger to be her, told police he was \"too busy\" to attend an interview, and gave conflicting version of the broader trees are typically made of polyethylene, which isn't any response to the airport and she would ask us to go with her. \"not everyone was she doesn’t know where.”\r\n",
            "\r\n",
            "Waking in the morning, the family found the owners ho board a simple explanation at the inquest law in West Africa from wealth explored two theories - that Caddick was sonnifically failings in his source said. “I told him, ‘Well, he was an orphan. He didn’t lie about that, but he killed his parents, the charges who had been detected by paratroopers of Russia's VDV, or airborne forces. But they're still locked in daily skilts from a dance show\" and another from three male students who'd alleged sexual harassment by other teachers, and the arms they've sessed out there were 42 really had \"on the action.\r\n",
            "\r\n",
            "Civil liberties organisations, including Amnesty International, have documented the agreement represents the bodies detailed receipts to Facebook when a user claimed by I hold provide and can given the days they had worked in December and leave their accommodation.\r\n",
            "\r\n",
            "Just days after the final test known as the “Nation’s Report Card” came from all the different leaders and what they want,” McCarthy added.\r\n",
            "\r\n",
            "McCarthy earlier this year the proor to have killed and wounded more than 100 people. At the time, CNN was able to confirm that all systems on balance and you and a teere academics. Those conversations about the National Center for Education Statistics.\r\n",
            "\r\n",
            "“This is a bright spot,” Wilburn said who have flotted the trading second last year's results professor at YiA, and their families experienced racism on a daily basis, that rach faces that I can recaure his party has told he didn’t know where he would sleep that night. Unable to answer basic questions about the failures featured in the service difficulty reports.\r\n",
            "\r\n",
            "In a statement, the trust apologised to patients for failing to get to Qatar and few other jobs available once the World Cup had finished, Jacob, Patrick and his wife returned to the private clinic, where he waited four hours to be administered with some suggesting smaller firms will be hit hauted as a few years down the road, because, again, this is the tracking tool from a close relative who helped her mother. That relative has already organised violence against Muslims 36 years ago, has plunged the process now tosses this into the courts and God knows when it ends,” Durbin said.\r\n",
            "\r\n",
            "GOP Sen. John Kolard during the same point to the black out of “serious violations for stop us their curnive Cinitary Union. That legacy continues and there are reminders of it through the bars on the window before scaling the fence, according to the Welsh average.\r\n",
            "\r\n",
            "\"It's a very serious matter indeed\" and that does previously works in the country: 641 deaths for every 100,000 lives by countering them, Schindler sending to research direction – especially when the group that can be administered three months after the completion.\r\n",
            "\r\n",
            "The provision for lawmakers buying stock goes into effect immediately. The provision for lawmakers buying stock goes into effect im \n",
            "\n",
            "________________________________________________________________________________\n",
            "\n",
            "Run time: 23.558170557022095\n"
          ]
        }
      ]
    },
    {
      "cell_type": "code",
      "source": [
        "#Text 10\n",
        "start = time.time()\n",
        "states = None\n",
        "next_char = tf.constant(['Global'])\n",
        "result = [next_char]\n",
        "\n",
        "for n in range(11000):\n",
        "  next_char, states = one_step_model.generate_one_step(next_char, states=states)\n",
        "  result.append(next_char)\n",
        "\n",
        "result = tf.strings.join(result)\n",
        "end = time.time()\n",
        "print(result[0].numpy().decode('utf-8'), '\\n\\n' + '_'*80)\n",
        "print('\\nRun time:', end - start)"
      ],
      "metadata": {
        "colab": {
          "base_uri": "https://localhost:8080/"
        },
        "id": "YbX9jCZHHV39",
        "outputId": "e91e6dfb-cbbd-4690-c2b6-c1332f5a81fe"
      },
      "execution_count": 96,
      "outputs": [
        {
          "output_type": "stream",
          "name": "stdout",
          "text": [
            "Global Indian music gurus accused of sexual assault\r\n",
            "\r\n",
            "Her district — a scientists leading the next 18 may could an obviously tempting target.”\r\n",
            "\r\n",
            "Of course, there are all the usual issues that a strong El Niño weather event - a weather system in the hospital because she was malnourished. Hussein fetches a 20-litre barrel of water from the 331st remembers the Great Patrick, has been charged and trust through instead to tell yet. Some would else and the trieb in decades, the relationship between ITV's security spracks, and now the agency describes itself as a window through her parties decide what their red lines are.\" She argues that if both sides are experiencing dangerous.\r\n",
            "\r\n",
            "\"These drugs have caused injury, infertility, death,\" Ms Hawkins said Catholican helping to “grow your business”. In one guide of the decision ob border in the classroom rather than anything I’d had before the police and captured the persent of a broader shift away from corporate speak\".\r\n",
            "\r\n",
            "So what changed to make a confession because I know most of their partisan affiliation. Kissinger’s bipartisan appearated the sweeping security footage bit expected targets, as mitractor at his secret to boosting scores there? Macias says years of improved teacher training has a lot to do with destroyed anti-vaccine activist and environmental activists.\r\n",
            "\r\n",
            "“I’m so social media — about 70 ISIS-K attacks since August 2021. Taken together, they reveal a graw police said on 24 occasions, they occurred in-flight, and on four of those the pilots declared emergency are past with the vice president’s strategy that’s because they feel their stories have become accustomy allegations of sexual harassment.\r\n",
            "\r\n",
            "\"We forwarded the complaints to the management, advising them of levelling human, for number of Reggant signs in the city.\r\n",
            "\r\n",
            "Landing in Boston at 6 a.m., the amortion providers and the killings really began to wonder if the same time period than peepled, should be allowed to remain in the US. Dimplency of Health has released in stotems in the Senate for Hindu women that a pat of a bellyache. After some hours, they were finally able to fly to the Northeast after someone general of social media news - in Pakistan's bitterly complicated political scene, misinformation and children have floated, according to Wilburn at the National Center for Education Statistics.\r\n",
            "\r\n",
            "“This is a bright spot,” Wilburn said who had a reputation for weeding out corruption as director of the Atlantic Council’s South Asia Center who has been driving the introduction of country,” he said. “There’s institutional elections say they believe there’s a clear correlation between the rising statement on Educational Progress results are a stark reminder of the impact that glunt against the climate agency estimates “several thousand” migrants are waiting in northern Mexico to crop young very year.\r\n",
            "\r\n",
            "In 2012, the US administration has ruled out up to $1 million Xy pay for that particularly regarding the state of play in Afghanistan.\r\n",
            "\r\n",
            "Afghan Witness, a project run by the UK-bask with visiting the John F. Kennedy Presidential Library and Museum. “The Kennetion of the state of negotiations later in the company and its employees, whereby the workers were remunerated in fundamental rights, but I definite train, mental declarity, the global sea surface hit a new record high temperature. It has never was hard for him to leave your door open in the village, but that doesn’t happen anymore.”\r\n",
            "\r\n",
            "Recent such out there will not be a conflict resolution under Indian press,” study.\r\n",
            "\r\n",
            "A dozen people, including Hindus and Muslims, were killed and a couple of the other hand. The family chose to the authorities in the country state country to reduce waste and bring about a more civil words, they are really useful,” López-Borrull said.\r\n",
            "\r\n",
            "But as the climate crisis causes more extreme weather and religious ministers in Germany say they have reached their limits, and local authorities are finding it difficult to move at short notice, he's not put off by the month-to-month living survivors and families of victims into despair.\r\n",
            "\r\n",
            "The violence on 23 May 1987 in Malyana village only \"four-five days later because Meen was drunk has been a highlighting climate change.\r\n",
            "\r\n",
            "It was not until late last year when Lieberman, who works as a video editor, read a story about the time Kissinger nearly drowned while canoeing beneath one of the world’s third-largest economy, affecting businesses across the country. Tens of minorities to provide evidence that they fear political persecution, such as pick in class, where he would sleep that night and he’s at the drive-in seeing ‘The Undead,’” said Britton, who worked on the fact that the show after violatiss that conversations have been productive, but “we’ve got there they'd be there waiting for me to patients’ mean, she’s struggled to change the narrative. And flare up to other this information, they were accused of instigating a nanny state hysteria,” Liz Bentley, the chief of Unicef’s Gaple Securt year.\r\n",
            "\r\n",
            "In April 2021, the FDA announced it would lift the in-person dispensing requires further medical follow--early responses in front of successful people, and Melissa appeared to be successful\".\r\n",
            "\r\n",
            "But everything fell apart from the Pennain, nor in approach.\r\n",
            "\r\n",
            "\"I have never heard a word of hatred from his mouth. He could be angry with someone but keeps civilians have been used now in occossible to the airport and she would ask us to go with her. She would not put consequential work requirements on the table for negotiations on climate politics. “If we want to imply into the allegations.\r\n",
            "\r\n",
            "Before his arrest, Hari Parman will tolk the BBC that the progress has been a consultant and adviser to every president, Republicans can be prevented,” says Djalo. “If someone has a cardiovascular illness, they may still pose a danger to vulnerable groups such as the eastern Nangarhar province, where ISIS has maintained that both mifepristone \"and recent states of the parties in Germany's three-way governing coalition: the Greens and security fences.\r\n",
            "\r\n",
            "Another occurrent situatiou strike in Kabul that killed 10 civilians, including many of her family and friends, to help fund a later decades of his extended family had its own up.\r\n",
            "\r\n",
            "Gorder Providers part will also require specialists have sent shockwaves through which she took a long period of sick leave after a breakdown and then resigned for decades with ME/CFS, a disease that could spur anti-Taliban doung powe for repeatedly seal, propaganda the process now tosses this into the courts and God knows when it ends,” Durbin said.\r\n",
            "\r\n",
            "GOP Sen. John K, a long emprevement that I was shocked. He then asked for a video call so the accident.\r\n",
            "\r\n",
            "Then, according to a CNN analysis of state land commissioner, whom he easily bested in schools for quickers. \"the out of the 20th century’s most prolific butchers is blenowing. It's reasoffens were not probably huntry dose what’s have to have a major divide on their actions.\"\r\n",
            "\r\n",
            "Critics say since Mr Modi's return to power for a second long state. In 2022, Westover received an alert that James Arnold’s DNA had very decades figures, Kurdish activists and women's rights organizations, formerly run by Peace Amuge as Executive Director.\r\n",
            "\r\n",
            "WOUGNET, now believes the nuns who went to visit her mother when she became pregnant, as well as the main motorway around the court not see it?\" he asks.\r\n",
            "\r\n",
            "From a facilities before the “by the police and claimed the workers were blocking the road. The guards said, apart from the 331st remembers the Grean Paxton.\r\n",
            "\r\n",
            "Democratic senators want to ban stock trading in Congress\r\n",
            "\r\n",
            "Last year, the S&P 500 fell 18%, the agency said in a statement that it “fully supports” the party’s decision and will “fully support that could otherwise be used for other things like tanks and artillery, or ground-based through the same policy to arrest that could said that they, too, were sometimes attacked when on patrol.\r\n",
            "\r\n",
            "\"If there is a would rely on CCTV footage to prove his innocence.\r\n",
            "\r\n",
            "His wife has also defended him and lodged a close eye on the building. \"To ensure the safety of the property is maintained, your room codmend. Between Gill Poot are “collapsing.\r\n",
            "\r\n",
            "But the degree do was found guilty of sexually abusing a boy. According to reports, Willoughby widespread, he said. His companions were then beaten up by the gang, who later the new students were still included in the group.\r\n",
            "\r\n",
            "That possibility relates to a “hidden” treatment and interviews. But at dawn - when most supporters are talking about protests - who has clashed with Texas legislative leader of the House Freedom Caucus, raised concerns on the call as well as the potential of new variants that further evade our existing immunity.\r\n",
            "\r\n",
            "I grewand newspressed and religious formed by particular complications to the UK, of which only 259 came from all the different leaders and what they want to see abortion projected my changes were failing to protect young people, he added.\r\n",
            "\r\n",
            "Although Evolv did not give the BBC a comment, it did directed the barrage of a fair trial and particularly anti-Muslim attitude,” which is contrary to Germany’s does of the Cornes of Mexico to get on boatons.\r\n",
            "\r\n",
            "“This is the efficiency of our crimedation and shared it with the tech giant in a major broadcast its ceiling for two years and accused his rival of allowing 10 million refugees into Turkey.\r\n",
            "\r\n",
            "Gone was his enemy trupt with protest nets, where a totally details of the pandemic behind us, hundreds of Americans are still dying for the baby anymony, the post through we were able to identify individual BMDs from the 331st remembers the Great Patrick, Plahar Wisspan, a senior journalist in the state capital Lucknow, remembers the PAC a for training with a video call so the accident. There was enough evidence to pin the guilt. We must find out where we went wrong. When Maly parties are the latest in a series of legal troubles for Paxton.\r\n",
            "\r\n",
            "CNN has previously reported her mother from letting her know the truth.\r\n",
            "\r\n",
            "“Never, they may shared wranted the agency’s scientists could be heard abusing Tasleem Ali and telling him to see the real impact of those contributions in the region.\r\n",
            "\r\n",
            "“I think the continent has to be prepared for what’s to come.”\r\n",
            "\r\n",
            "It appears the events on the table and raising his voice.\r\n",
            "\r\n",
            "Seeking the nation of the supply of grandings are just so focused on investment, investment, investment without requiring conditions to help explain why this might have happened.\r\n",
            "\r\n",
            "\"More often than not you'll get more space for your areas. A conspiracy theories are all rampant, and often peddled by the political arena as a woman -- and on the pho-choice campaigners] are going to be responsible for it.\"\r\n",
            "\r\n",
            "The FDA has reported a total of 7,000km (4,350 miles) of roads and some 90t of the US Congress outperformed the S&P 500 by about 17.5% on average in 2022, according to Subver. Yet have some all members of the state's Provinion gassepread Fen \n",
            "\n",
            "________________________________________________________________________________\n",
            "\n",
            "Run time: 23.888054132461548\n"
          ]
        }
      ]
    },
    {
      "cell_type": "markdown",
      "source": [
        "### **Exporting the generator**"
      ],
      "metadata": {
        "id": "ryGtw8_10ITR"
      }
    },
    {
      "cell_type": "code",
      "source": [
        "tf.saved_model.save(one_step_model, 'one_step')\n",
        "one_step_reloaded = tf.saved_model.load('one_step')"
      ],
      "metadata": {
        "id": "jRsQRHAk6ORS",
        "colab": {
          "base_uri": "https://localhost:8080/"
        },
        "outputId": "639bcff7-0528-4592-d152-2bb104b20d6d"
      },
      "execution_count": 97,
      "outputs": [
        {
          "output_type": "stream",
          "name": "stderr",
          "text": [
            "WARNING:tensorflow:Skipping full serialization of Keras layer <__main__.OneStep object at 0x7f8bb44458a0>, because it is not built.\n",
            "WARNING:tensorflow:Model's `__init__()` arguments contain non-serializable objects. Please implement a `get_config()` method in the subclassed Model for proper saving and loading. Defaulting to empty config.\n",
            "WARNING:tensorflow:Model's `__init__()` arguments contain non-serializable objects. Please implement a `get_config()` method in the subclassed Model for proper saving and loading. Defaulting to empty config.\n",
            "WARNING:absl:Found untraced functions such as _update_step_xla, gru_cell_layer_call_fn, gru_cell_layer_call_and_return_conditional_losses while saving (showing 3 of 3). These functions will not be directly callable after loading.\n"
          ]
        }
      ]
    },
    {
      "cell_type": "code",
      "source": [
        "states = None\n",
        "next_char = tf.constant(['Trial'])\n",
        "result = [next_char]\n",
        "\n",
        "for n in range(100):\n",
        "  next_char, states = one_step_reloaded.generate_one_step(next_char, states=states)\n",
        "  result.append(next_char)\n",
        "\n",
        "print(tf.strings.join(result)[0].numpy().decode(\"utf-8\"))"
      ],
      "metadata": {
        "id": "efdAP0JC6O89",
        "colab": {
          "base_uri": "https://localhost:8080/"
        },
        "outputId": "6d5c0b4d-c4b2-4dc5-e49b-c444fe1ff5b4"
      },
      "execution_count": 98,
      "outputs": [
        {
          "output_type": "stream",
          "name": "stdout",
          "text": [
            "Trial called the “mandatties such as Japan, South Korea, European countries and, increasingly, the US. Ma\n"
          ]
        }
      ]
    }
  ]
}