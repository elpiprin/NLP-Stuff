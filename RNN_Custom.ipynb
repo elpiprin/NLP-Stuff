{
  "nbformat": 4,
  "nbformat_minor": 0,
  "metadata": {
    "colab": {
      "provenance": [],
      "authorship_tag": "ABX9TyM7Z4Fu6mV+1x244aoaUYl9",
      "include_colab_link": true
    },
    "kernelspec": {
      "name": "python3",
      "display_name": "Python 3"
    },
    "language_info": {
      "name": "python"
    }
  },
  "cells": [
    {
      "cell_type": "markdown",
      "metadata": {
        "id": "view-in-github",
        "colab_type": "text"
      },
      "source": [
        "<a href=\"https://colab.research.google.com/github/elpiprin/NLP-Stuff/blob/main/RNN_Custom.ipynb\" target=\"_parent\"><img src=\"https://colab.research.google.com/assets/colab-badge.svg\" alt=\"Open In Colab\"/></a>"
      ]
    },
    {
      "cell_type": "markdown",
      "source": [
        "### **Setup**"
      ],
      "metadata": {
        "id": "JWEUpHyDpp20"
      }
    },
    {
      "cell_type": "markdown",
      "source": [
        "***Imports***"
      ],
      "metadata": {
        "id": "p3KzHD0epxwQ"
      }
    },
    {
      "cell_type": "code",
      "source": [
        "#https://www.tensorflow.org/text/tutorials/text_generation\n",
        "import tensorflow as tf\n",
        "\n",
        "import numpy as np\n",
        "import os\n",
        "import time"
      ],
      "metadata": {
        "id": "CXZ2LPevDzuz"
      },
      "execution_count": 8,
      "outputs": []
    },
    {
      "cell_type": "markdown",
      "source": [
        "***Reading the data***"
      ],
      "metadata": {
        "id": "6Md3OSWzkzKe"
      }
    },
    {
      "cell_type": "code",
      "source": [
        "#Read, then decode for py2 compat.\n",
        "text = open('/content/Articles.txt', 'rb').read().decode(encoding='utf-8')\n",
        "#length of text is the number of characters in it\n",
        "print(f'Length of text: {len(text)} characters')"
      ],
      "metadata": {
        "colab": {
          "base_uri": "https://localhost:8080/"
        },
        "id": "9n_GA5OyEJaV",
        "outputId": "17c6f4b1-0e85-4e8c-e245-e65914a13c28"
      },
      "execution_count": 11,
      "outputs": [
        {
          "output_type": "stream",
          "name": "stdout",
          "text": [
            "Length of text: 480143 characters\n"
          ]
        }
      ]
    },
    {
      "cell_type": "code",
      "source": [
        "#Take a look at the first 250 characters in text\n",
        "print(text[:250])"
      ],
      "metadata": {
        "colab": {
          "base_uri": "https://localhost:8080/"
        },
        "id": "ug3QOUPyENem",
        "outputId": "0479d961-3e0d-4d55-d05d-7b98a5ba88ee"
      },
      "execution_count": 12,
      "outputs": [
        {
          "output_type": "stream",
          "name": "stdout",
          "text": [
            "Melissa Caddick: Death of Australian fraudster remains a mystery\r\n",
            "\r\n",
            "When conwoman Melissa Caddick vanished from her luxurious eastern Sydney home in November 2020 - with only her partially decomposed foot found washed up on a beach months later - it \n"
          ]
        }
      ]
    },
    {
      "cell_type": "code",
      "source": [
        "#The unique characters in the file\n",
        "vocab = sorted(set(text))\n",
        "print(f'{len(vocab)} unique characters')"
      ],
      "metadata": {
        "id": "VbKBXgUHEUzj"
      },
      "execution_count": null,
      "outputs": []
    },
    {
      "cell_type": "markdown",
      "source": [
        "### **Processing the text**"
      ],
      "metadata": {
        "id": "loQgtVMhlCl4"
      }
    },
    {
      "cell_type": "markdown",
      "source": [
        "***Vectorising the text***"
      ],
      "metadata": {
        "id": "IEP6jTZ_qQ_e"
      }
    },
    {
      "cell_type": "code",
      "source": [
        "example_texts = ['abcdefg', 'xyz']\n",
        "\n",
        "chars = tf.strings.unicode_split(example_texts, input_encoding='UTF-8')\n",
        "chars"
      ],
      "metadata": {
        "colab": {
          "base_uri": "https://localhost:8080/"
        },
        "id": "LVF6jADMOkhf",
        "outputId": "8fd6abf4-fc66-4ffd-8711-899b6728b6ff"
      },
      "execution_count": 16,
      "outputs": [
        {
          "output_type": "execute_result",
          "data": {
            "text/plain": [
              "<tf.RaggedTensor [[b'a', b'b', b'c', b'd', b'e', b'f', b'g'], [b'x', b'y', b'z']]>"
            ]
          },
          "metadata": {},
          "execution_count": 16
        }
      ]
    },
    {
      "cell_type": "code",
      "source": [
        "ids_from_chars = tf.keras.layers.StringLookup(\n",
        "    vocabulary=list(vocab), mask_token=None)"
      ],
      "metadata": {
        "id": "9UkSiCoiOuIx"
      },
      "execution_count": 17,
      "outputs": []
    },
    {
      "cell_type": "code",
      "source": [
        "ids = ids_from_chars(chars)\n",
        "ids"
      ],
      "metadata": {
        "colab": {
          "base_uri": "https://localhost:8080/"
        },
        "id": "9TtA4WgROyKx",
        "outputId": "7cc30168-27ef-4b04-96c5-389cb0df52f9"
      },
      "execution_count": 18,
      "outputs": [
        {
          "output_type": "execute_result",
          "data": {
            "text/plain": [
              "<tf.RaggedTensor [[59, 60, 61, 62, 63, 64, 65], [82, 83, 84]]>"
            ]
          },
          "metadata": {},
          "execution_count": 18
        }
      ]
    },
    {
      "cell_type": "code",
      "source": [
        "chars_from_ids = tf.keras.layers.StringLookup(\n",
        "    vocabulary=ids_from_chars.get_vocabulary(), invert=True, mask_token=None)"
      ],
      "metadata": {
        "id": "bb8pZAaqO0Um"
      },
      "execution_count": 19,
      "outputs": []
    },
    {
      "cell_type": "code",
      "source": [
        "chars = chars_from_ids(ids)\n",
        "chars"
      ],
      "metadata": {
        "colab": {
          "base_uri": "https://localhost:8080/"
        },
        "id": "N7gWKqXEO7Ws",
        "outputId": "105c79d7-e5e2-4ff1-b8df-1a666678933d"
      },
      "execution_count": 20,
      "outputs": [
        {
          "output_type": "execute_result",
          "data": {
            "text/plain": [
              "<tf.RaggedTensor [[b'a', b'b', b'c', b'd', b'e', b'f', b'g'], [b'x', b'y', b'z']]>"
            ]
          },
          "metadata": {},
          "execution_count": 20
        }
      ]
    },
    {
      "cell_type": "code",
      "source": [
        "tf.strings.reduce_join(chars, axis=-1).numpy()"
      ],
      "metadata": {
        "colab": {
          "base_uri": "https://localhost:8080/"
        },
        "id": "0e1ZRpYkO_9q",
        "outputId": "b68c3938-fdfb-4c3b-dec7-78dcd8b6c73a"
      },
      "execution_count": 21,
      "outputs": [
        {
          "output_type": "execute_result",
          "data": {
            "text/plain": [
              "array([b'abcdefg', b'xyz'], dtype=object)"
            ]
          },
          "metadata": {},
          "execution_count": 21
        }
      ]
    },
    {
      "cell_type": "code",
      "source": [
        "def text_from_ids(ids):\n",
        "  return tf.strings.reduce_join(chars_from_ids(ids), axis=-1)"
      ],
      "metadata": {
        "id": "-PpGG7A0PCHz"
      },
      "execution_count": 22,
      "outputs": []
    },
    {
      "cell_type": "markdown",
      "source": [
        "***Prediction task*** \n",
        "\n",
        "***Creating training examples and targets*** "
      ],
      "metadata": {
        "id": "skDLeHjYlXup"
      }
    },
    {
      "cell_type": "code",
      "source": [
        "all_ids = ids_from_chars(tf.strings.unicode_split(text, 'UTF-8'))\n",
        "all_ids"
      ],
      "metadata": {
        "colab": {
          "base_uri": "https://localhost:8080/"
        },
        "id": "Z0cD1dWNPG9K",
        "outputId": "6b3ac652-9da1-47f5-ce02-fdbcf3fc4011"
      },
      "execution_count": 23,
      "outputs": [
        {
          "output_type": "execute_result",
          "data": {
            "text/plain": [
              "<tf.Tensor: shape=(480143,), dtype=int64, numpy=array([43, 63, 70, ..., 76, 77, 16])>"
            ]
          },
          "metadata": {},
          "execution_count": 23
        }
      ]
    },
    {
      "cell_type": "code",
      "source": [
        "ids_dataset = tf.data.Dataset.from_tensor_slices(all_ids)"
      ],
      "metadata": {
        "id": "HatOOeEBPI62"
      },
      "execution_count": 24,
      "outputs": []
    },
    {
      "cell_type": "code",
      "source": [
        "for ids in ids_dataset.take(10):\n",
        "    print(chars_from_ids(ids).numpy().decode('utf-8'))"
      ],
      "metadata": {
        "colab": {
          "base_uri": "https://localhost:8080/"
        },
        "id": "w0R9tvZ2PMhB",
        "outputId": "865c444c-3578-4ea2-da30-d2ae5f0d9103"
      },
      "execution_count": 25,
      "outputs": [
        {
          "output_type": "stream",
          "name": "stdout",
          "text": [
            "M\n",
            "e\n",
            "l\n",
            "i\n",
            "s\n",
            "s\n",
            "a\n",
            " \n",
            "C\n",
            "a\n"
          ]
        }
      ]
    },
    {
      "cell_type": "code",
      "source": [
        "seq_length = 100"
      ],
      "metadata": {
        "id": "aYNP7rfMPRZQ"
      },
      "execution_count": 26,
      "outputs": []
    },
    {
      "cell_type": "code",
      "source": [
        "sequences = ids_dataset.batch(seq_length+1, drop_remainder=True)\n",
        "\n",
        "for seq in sequences.take(1):\n",
        "  print(chars_from_ids(seq))"
      ],
      "metadata": {
        "colab": {
          "base_uri": "https://localhost:8080/"
        },
        "id": "T69XUCpPPVv8",
        "outputId": "1a6d9053-6cbe-4492-d932-9cca274699a4"
      },
      "execution_count": 27,
      "outputs": [
        {
          "output_type": "stream",
          "name": "stdout",
          "text": [
            "tf.Tensor(\n",
            "[b'M' b'e' b'l' b'i' b's' b's' b'a' b' ' b'C' b'a' b'd' b'd' b'i' b'c'\n",
            " b'k' b':' b' ' b'D' b'e' b'a' b't' b'h' b' ' b'o' b'f' b' ' b'A' b'u'\n",
            " b's' b't' b'r' b'a' b'l' b'i' b'a' b'n' b' ' b'f' b'r' b'a' b'u' b'd'\n",
            " b's' b't' b'e' b'r' b' ' b'r' b'e' b'm' b'a' b'i' b'n' b's' b' ' b'a'\n",
            " b' ' b'm' b'y' b's' b't' b'e' b'r' b'y' b'\\r' b'\\n' b'\\r' b'\\n' b'W' b'h'\n",
            " b'e' b'n' b' ' b'c' b'o' b'n' b'w' b'o' b'm' b'a' b'n' b' ' b'M' b'e'\n",
            " b'l' b'i' b's' b's' b'a' b' ' b'C' b'a' b'd' b'd' b'i' b'c' b'k' b' '\n",
            " b'v' b'a' b'n'], shape=(101,), dtype=string)\n"
          ]
        }
      ]
    },
    {
      "cell_type": "code",
      "source": [
        "for seq in sequences.take(5):\n",
        "  print(text_from_ids(seq).numpy())"
      ],
      "metadata": {
        "colab": {
          "base_uri": "https://localhost:8080/"
        },
        "id": "8TeSCad0Pa78",
        "outputId": "20b79bb0-3c47-485f-f55b-651e619bb40a"
      },
      "execution_count": 28,
      "outputs": [
        {
          "output_type": "stream",
          "name": "stdout",
          "text": [
            "b'Melissa Caddick: Death of Australian fraudster remains a mystery\\r\\n\\r\\nWhen conwoman Melissa Caddick van'\n",
            "b'ished from her luxurious eastern Sydney home in November 2020 - with only her partially decomposed fo'\n",
            "b'ot found washed up on a beach months later - it set off a frenzy in Australia.\\r\\n\\r\\nThe case blindsided'\n",
            "b' investors, baffled police, and captured the imagination of a nation.\\r\\n\\r\\nThe fraudster has inspired a'\n",
            "b' hit podcast, a TV dramatisation, and countless outlandish theories - including that she had been swa'\n"
          ]
        }
      ]
    },
    {
      "cell_type": "code",
      "source": [
        "def split_input_target(sequence):\n",
        "    input_text = sequence[:-1]\n",
        "    target_text = sequence[1:]\n",
        "    return input_text, target_text"
      ],
      "metadata": {
        "id": "rBn9QmRfPcat"
      },
      "execution_count": 29,
      "outputs": []
    },
    {
      "cell_type": "code",
      "source": [
        "split_input_target(list(\"Tensorflow\"))"
      ],
      "metadata": {
        "colab": {
          "base_uri": "https://localhost:8080/"
        },
        "id": "ueB_8BB9Ph8T",
        "outputId": "78163960-1344-48af-ee13-c3d712523ba8"
      },
      "execution_count": 30,
      "outputs": [
        {
          "output_type": "execute_result",
          "data": {
            "text/plain": [
              "(['T', 'e', 'n', 's', 'o', 'r', 'f', 'l', 'o'],\n",
              " ['e', 'n', 's', 'o', 'r', 'f', 'l', 'o', 'w'])"
            ]
          },
          "metadata": {},
          "execution_count": 30
        }
      ]
    },
    {
      "cell_type": "code",
      "source": [
        "dataset = sequences.map(split_input_target)"
      ],
      "metadata": {
        "id": "PoEqvjgVPl3T"
      },
      "execution_count": 31,
      "outputs": []
    },
    {
      "cell_type": "code",
      "source": [
        "for input_example, target_example in dataset.take(1):\n",
        "    print(\"Input :\", text_from_ids(input_example).numpy())\n",
        "    print(\"Target:\", text_from_ids(target_example).numpy())"
      ],
      "metadata": {
        "colab": {
          "base_uri": "https://localhost:8080/"
        },
        "id": "Ey28Rn54PrS9",
        "outputId": "035e9a64-912c-4526-cd34-179a619e44f5"
      },
      "execution_count": 32,
      "outputs": [
        {
          "output_type": "stream",
          "name": "stdout",
          "text": [
            "Input : b'Melissa Caddick: Death of Australian fraudster remains a mystery\\r\\n\\r\\nWhen conwoman Melissa Caddick va'\n",
            "Target: b'elissa Caddick: Death of Australian fraudster remains a mystery\\r\\n\\r\\nWhen conwoman Melissa Caddick van'\n"
          ]
        }
      ]
    },
    {
      "cell_type": "markdown",
      "source": [
        "***Creating training batches***"
      ],
      "metadata": {
        "id": "MTPNGBhvlsVJ"
      }
    },
    {
      "cell_type": "code",
      "source": [
        "# Batch size\n",
        "BATCH_SIZE = 64\n",
        "\n",
        "# Buffer size to shuffle the dataset\n",
        "# (TF data is designed to work with possibly infinite sequences,\n",
        "# so it doesn't attempt to shuffle the entire sequence in memory. Instead,\n",
        "# it maintains a buffer in which it shuffles elements).\n",
        "BUFFER_SIZE = 10000\n",
        "\n",
        "dataset = (\n",
        "    dataset\n",
        "    .shuffle(BUFFER_SIZE)\n",
        "    .batch(BATCH_SIZE, drop_remainder=True)\n",
        "    .prefetch(tf.data.experimental.AUTOTUNE))\n",
        "\n",
        "dataset"
      ],
      "metadata": {
        "colab": {
          "base_uri": "https://localhost:8080/"
        },
        "id": "k45EyaHcPwXY",
        "outputId": "63287b08-dbce-403d-e9ab-0d78e75102c2"
      },
      "execution_count": 33,
      "outputs": [
        {
          "output_type": "execute_result",
          "data": {
            "text/plain": [
              "<_PrefetchDataset element_spec=(TensorSpec(shape=(64, 100), dtype=tf.int64, name=None), TensorSpec(shape=(64, 100), dtype=tf.int64, name=None))>"
            ]
          },
          "metadata": {},
          "execution_count": 33
        }
      ]
    },
    {
      "cell_type": "markdown",
      "source": [
        "### **Building the model**"
      ],
      "metadata": {
        "id": "FoUYy3rbl1xl"
      }
    },
    {
      "cell_type": "code",
      "source": [
        "# Length of the vocabulary in StringLookup Layer\n",
        "vocab_size = len(ids_from_chars.get_vocabulary())\n",
        "\n",
        "# The embedding dimension\n",
        "embedding_dim = 256\n",
        "\n",
        "# Number of RNN units\n",
        "rnn_units = 1024"
      ],
      "metadata": {
        "id": "rwu7Jt-sP0nP"
      },
      "execution_count": 34,
      "outputs": []
    },
    {
      "cell_type": "code",
      "source": [
        "class MyModel(tf.keras.Model):\n",
        "  def __init__(self, vocab_size, embedding_dim, rnn_units):\n",
        "    super().__init__(self)\n",
        "    self.embedding = tf.keras.layers.Embedding(vocab_size, embedding_dim)\n",
        "    self.gru = tf.keras.layers.GRU(rnn_units,\n",
        "                                   return_sequences=True,\n",
        "                                   return_state=True)\n",
        "    self.dense = tf.keras.layers.Dense(vocab_size)\n",
        "\n",
        "  def call(self, inputs, states=None, return_state=False, training=False):\n",
        "    x = inputs\n",
        "    x = self.embedding(x, training=training)\n",
        "    if states is None:\n",
        "      states = self.gru.get_initial_state(x)\n",
        "    x, states = self.gru(x, initial_state=states, training=training)\n",
        "    x = self.dense(x, training=training)\n",
        "\n",
        "    if return_state:\n",
        "      return x, states\n",
        "    else:\n",
        "      return x"
      ],
      "metadata": {
        "id": "lR_vIPmnP4z5"
      },
      "execution_count": 35,
      "outputs": []
    },
    {
      "cell_type": "code",
      "source": [
        "model = MyModel(\n",
        "    vocab_size=vocab_size,\n",
        "    embedding_dim=embedding_dim,\n",
        "    rnn_units=rnn_units)"
      ],
      "metadata": {
        "id": "FRNIbZ4LP9GG"
      },
      "execution_count": 36,
      "outputs": []
    },
    {
      "cell_type": "markdown",
      "source": [
        "### **Trying the model**"
      ],
      "metadata": {
        "id": "AACoB4bgmEMu"
      }
    },
    {
      "cell_type": "code",
      "source": [
        "for input_example_batch, target_example_batch in dataset.take(1):\n",
        "    example_batch_predictions = model(input_example_batch)\n",
        "    print(example_batch_predictions.shape, \"# (batch_size, sequence_length, vocab_size)\")"
      ],
      "metadata": {
        "colab": {
          "base_uri": "https://localhost:8080/"
        },
        "id": "_kC2NTNOQBiu",
        "outputId": "39d7afa6-1dd0-4bea-a2d0-066ee0b1150a"
      },
      "execution_count": 37,
      "outputs": [
        {
          "output_type": "stream",
          "name": "stdout",
          "text": [
            "(64, 100, 106) # (batch_size, sequence_length, vocab_size)\n"
          ]
        }
      ]
    },
    {
      "cell_type": "code",
      "source": [
        "model.summary()"
      ],
      "metadata": {
        "colab": {
          "base_uri": "https://localhost:8080/"
        },
        "id": "GHJVGB2JQFR4",
        "outputId": "104f6f18-705b-4a63-f3c0-aba12b3ba442"
      },
      "execution_count": 38,
      "outputs": [
        {
          "output_type": "stream",
          "name": "stdout",
          "text": [
            "Model: \"my_model\"\n",
            "_________________________________________________________________\n",
            " Layer (type)                Output Shape              Param #   \n",
            "=================================================================\n",
            " embedding (Embedding)       multiple                  27136     \n",
            "                                                                 \n",
            " gru (GRU)                   multiple                  3938304   \n",
            "                                                                 \n",
            " dense (Dense)               multiple                  108650    \n",
            "                                                                 \n",
            "=================================================================\n",
            "Total params: 4,074,090\n",
            "Trainable params: 4,074,090\n",
            "Non-trainable params: 0\n",
            "_________________________________________________________________\n"
          ]
        }
      ]
    },
    {
      "cell_type": "code",
      "source": [
        "sampled_indices = tf.random.categorical(example_batch_predictions[0], num_samples=1)\n",
        "sampled_indices = tf.squeeze(sampled_indices, axis=-1).numpy()"
      ],
      "metadata": {
        "id": "Qa_l-ayPQLtP"
      },
      "execution_count": 39,
      "outputs": []
    },
    {
      "cell_type": "code",
      "source": [
        "sampled_indices"
      ],
      "metadata": {
        "colab": {
          "base_uri": "https://localhost:8080/"
        },
        "id": "-YeJNjrtQOuN",
        "outputId": "8532486d-34bc-444a-b5bd-dbf6e186806f"
      },
      "execution_count": 40,
      "outputs": [
        {
          "output_type": "execute_result",
          "data": {
            "text/plain": [
              "array([ 69,  60,  69,  52,  19,   2,  23,  68,  15,  37,  28,  31,   0,\n",
              "         7,  34,  80,  70,  68,  95,  72,  67,  94,  79,  54,  29,  22,\n",
              "        22, 104,  11,  60,  30,  90,  11,  75,  30,  85,  55, 101,  87,\n",
              "        69,  39,  14,  21,  59,  30,  44,  86,   1,  28,  12,  70,  98,\n",
              "        45,  63,  96,  21,   8,  24,  69,  65,  69,  14,  65,  62,  90,\n",
              "         4,  10,  96,  20,  74,  76,  38,  90,  62,  53,  45,  56,  65,\n",
              "        74,  25,  78,  19,   5,  53, 103,  22,   5,   8,  58,  41,  95,\n",
              "         9,  28,  48,  16,  89,  34, 103,  88,  85])"
            ]
          },
          "metadata": {},
          "execution_count": 40
        }
      ]
    },
    {
      "cell_type": "code",
      "source": [
        "print(\"Input:\\n\", text_from_ids(input_example_batch[0]).numpy())\n",
        "print()\n",
        "print(\"Next Char Predictions:\\n\", text_from_ids(sampled_indices).numpy())"
      ],
      "metadata": {
        "colab": {
          "base_uri": "https://localhost:8080/"
        },
        "id": "-0lL1EBNQSGl",
        "outputId": "85f65ea1-7083-4052-89a2-65235d8fe018"
      },
      "execution_count": 41,
      "outputs": [
        {
          "output_type": "stream",
          "name": "stdout",
          "text": [
            "Input:\n",
            " b'or years.\\xe2\\x80\\x9d\\r\\n\\r\\nA Boston native and long admirer of the Kennedy family, McIntyre said she was not both'\n",
            "\n",
            "Next Char Predictions:\n",
            " b'kbkV1\\r5j-G:A[UNK]$Dvlj\\xc3\\xbcni\\xc3\\xbauX;44\\xe2\\x80\\xaf(b?\\xc3\\xad(q?\\xc2\\xa3Y\\xe2\\x80\\x9c\\xc3\\xa3kI,3a?N\\xc3\\xa1\\n:)l\\xe2\\x80\\x94Oe\\xe2\\x80\\x8b3%6kgk,gd\\xc3\\xad!\\'\\xe2\\x80\\x8b2prH\\xc3\\xaddWOZgp7t1\"W\\xe2\\x80\\xa64\"%]K\\xc3\\xbc&:R.\\xc3\\xa9D\\xe2\\x80\\xa6\\xc3\\xa8\\xc2\\xa3'\n"
          ]
        }
      ]
    },
    {
      "cell_type": "markdown",
      "source": [
        "### **Training the model**"
      ],
      "metadata": {
        "id": "q6TCrNIhmR6c"
      }
    },
    {
      "cell_type": "markdown",
      "source": [
        "***Attaching an optimiser & a loss function***"
      ],
      "metadata": {
        "id": "idwcaR8msOtM"
      }
    },
    {
      "cell_type": "code",
      "source": [
        "loss = tf.losses.SparseCategoricalCrossentropy(from_logits=True)"
      ],
      "metadata": {
        "id": "OBYug03sQZHp"
      },
      "execution_count": 42,
      "outputs": []
    },
    {
      "cell_type": "code",
      "source": [
        "example_batch_mean_loss = loss(target_example_batch, example_batch_predictions)\n",
        "print(\"Prediction shape: \", example_batch_predictions.shape, \" # (batch_size, sequence_length, vocab_size)\")\n",
        "print(\"Mean loss:        \", example_batch_mean_loss)"
      ],
      "metadata": {
        "colab": {
          "base_uri": "https://localhost:8080/"
        },
        "id": "AAMHRpCkQcGU",
        "outputId": "d0e178c5-b152-41a2-b636-ecc2284e1999"
      },
      "execution_count": 43,
      "outputs": [
        {
          "output_type": "stream",
          "name": "stdout",
          "text": [
            "Prediction shape:  (64, 100, 106)  # (batch_size, sequence_length, vocab_size)\n",
            "Mean loss:         tf.Tensor(4.663481, shape=(), dtype=float32)\n"
          ]
        }
      ]
    },
    {
      "cell_type": "code",
      "source": [
        "tf.exp(example_batch_mean_loss).numpy()"
      ],
      "metadata": {
        "colab": {
          "base_uri": "https://localhost:8080/"
        },
        "id": "BDLx_MJ_Qggo",
        "outputId": "94bc69c5-a7a4-4f27-8480-282c08fd5486"
      },
      "execution_count": 44,
      "outputs": [
        {
          "output_type": "execute_result",
          "data": {
            "text/plain": [
              "106.00447"
            ]
          },
          "metadata": {},
          "execution_count": 44
        }
      ]
    },
    {
      "cell_type": "code",
      "source": [
        "model.compile(optimizer='adam', loss=loss)"
      ],
      "metadata": {
        "id": "PCRAbwCAQkaq"
      },
      "execution_count": 45,
      "outputs": []
    },
    {
      "cell_type": "markdown",
      "source": [
        "***Configuring checkpoints***"
      ],
      "metadata": {
        "id": "CgOXgtpxsXzE"
      }
    },
    {
      "cell_type": "code",
      "source": [
        "# Directory where the checkpoints will be saved\n",
        "checkpoint_dir = './training_checkpoints'\n",
        "# Name of the checkpoint files\n",
        "checkpoint_prefix = os.path.join(checkpoint_dir, \"ckpt_{epoch}\")\n",
        "\n",
        "checkpoint_callback = tf.keras.callbacks.ModelCheckpoint(\n",
        "    filepath=checkpoint_prefix,\n",
        "    save_weights_only=True)"
      ],
      "metadata": {
        "id": "q6FiC4sxQoH5"
      },
      "execution_count": 46,
      "outputs": []
    },
    {
      "cell_type": "markdown",
      "source": [
        "***Executing the training***"
      ],
      "metadata": {
        "id": "WTiKvvarsh-G"
      }
    },
    {
      "cell_type": "code",
      "source": [
        "EPOCHS = 30"
      ],
      "metadata": {
        "id": "DahGk_M3Qpxw"
      },
      "execution_count": 47,
      "outputs": []
    },
    {
      "cell_type": "code",
      "source": [
        "history = model.fit(dataset, epochs=EPOCHS, callbacks=[checkpoint_callback])"
      ],
      "metadata": {
        "colab": {
          "base_uri": "https://localhost:8080/"
        },
        "id": "IzqLLMAYQttS",
        "outputId": "7272d0bb-8fff-48b5-d601-324872442525"
      },
      "execution_count": 48,
      "outputs": [
        {
          "output_type": "stream",
          "name": "stdout",
          "text": [
            "Epoch 1/30\n",
            "74/74 [==============================] - 482s 6s/step - loss: 3.1844\n",
            "Epoch 2/30\n",
            "74/74 [==============================] - 520s 7s/step - loss: 2.4041\n",
            "Epoch 3/30\n",
            "74/74 [==============================] - 561s 8s/step - loss: 2.2126\n",
            "Epoch 4/30\n",
            "74/74 [==============================] - 487s 7s/step - loss: 2.0555\n",
            "Epoch 5/30\n",
            "74/74 [==============================] - 482s 6s/step - loss: 1.9113\n",
            "Epoch 6/30\n",
            "74/74 [==============================] - 477s 6s/step - loss: 1.7727\n",
            "Epoch 7/30\n",
            "74/74 [==============================] - 501s 7s/step - loss: 1.6457\n",
            "Epoch 8/30\n",
            "74/74 [==============================] - 486s 7s/step - loss: 1.5384\n",
            "Epoch 9/30\n",
            "74/74 [==============================] - 485s 7s/step - loss: 1.4528\n",
            "Epoch 10/30\n",
            "74/74 [==============================] - 479s 6s/step - loss: 1.3817\n",
            "Epoch 11/30\n",
            "74/74 [==============================] - 482s 6s/step - loss: 1.3174\n",
            "Epoch 12/30\n",
            "74/74 [==============================] - 481s 6s/step - loss: 1.2588\n",
            "Epoch 13/30\n",
            "74/74 [==============================] - 480s 6s/step - loss: 1.2041\n",
            "Epoch 14/30\n",
            "74/74 [==============================] - 486s 7s/step - loss: 1.1508\n",
            "Epoch 15/30\n",
            "74/74 [==============================] - 485s 7s/step - loss: 1.0974\n",
            "Epoch 16/30\n",
            "74/74 [==============================] - 484s 7s/step - loss: 1.0416\n",
            "Epoch 17/30\n",
            "74/74 [==============================] - 476s 6s/step - loss: 0.9848\n",
            "Epoch 18/30\n",
            "74/74 [==============================] - 477s 6s/step - loss: 0.9257\n",
            "Epoch 19/30\n",
            "74/74 [==============================] - 483s 7s/step - loss: 0.8635\n",
            "Epoch 20/30\n",
            "74/74 [==============================] - 487s 7s/step - loss: 0.7990\n",
            "Epoch 21/30\n",
            "74/74 [==============================] - 486s 7s/step - loss: 0.7336\n",
            "Epoch 22/30\n",
            "74/74 [==============================] - 483s 7s/step - loss: 0.6674\n",
            "Epoch 23/30\n",
            "74/74 [==============================] - 486s 7s/step - loss: 0.6027\n",
            "Epoch 24/30\n",
            "74/74 [==============================] - 481s 6s/step - loss: 0.5376\n",
            "Epoch 25/30\n",
            "74/74 [==============================] - 480s 6s/step - loss: 0.4782\n",
            "Epoch 26/30\n",
            "74/74 [==============================] - 479s 6s/step - loss: 0.4213\n",
            "Epoch 27/30\n",
            "74/74 [==============================] - 480s 6s/step - loss: 0.3717\n",
            "Epoch 28/30\n",
            "74/74 [==============================] - 480s 6s/step - loss: 0.3268\n",
            "Epoch 29/30\n",
            "74/74 [==============================] - 479s 6s/step - loss: 0.2903\n",
            "Epoch 30/30\n",
            "74/74 [==============================] - 484s 7s/step - loss: 0.2572\n"
          ]
        }
      ]
    },
    {
      "cell_type": "markdown",
      "source": [
        "### **Generating Text**"
      ],
      "metadata": {
        "id": "AuNaxxPTz6cz"
      }
    },
    {
      "cell_type": "code",
      "source": [
        "class OneStep(tf.keras.Model):\n",
        "  def __init__(self, model, chars_from_ids, ids_from_chars, temperature=1.0):\n",
        "    super().__init__()\n",
        "    self.temperature = temperature\n",
        "    self.model = model\n",
        "    self.chars_from_ids = chars_from_ids\n",
        "    self.ids_from_chars = ids_from_chars\n",
        "\n",
        "    # Create a mask to prevent \"[UNK]\" from being generated.\n",
        "    skip_ids = self.ids_from_chars(['[UNK]'])[:, None]\n",
        "    sparse_mask = tf.SparseTensor(\n",
        "        # Put a -inf at each bad index.\n",
        "        values=[-float('inf')]*len(skip_ids),\n",
        "        indices=skip_ids,\n",
        "        # Match the shape to the vocabulary\n",
        "        dense_shape=[len(ids_from_chars.get_vocabulary())])\n",
        "    self.prediction_mask = tf.sparse.to_dense(sparse_mask)\n",
        "\n",
        "  @tf.function\n",
        "  def generate_one_step(self, inputs, states=None):\n",
        "    # Convert strings to token IDs.\n",
        "    input_chars = tf.strings.unicode_split(inputs, 'UTF-8')\n",
        "    input_ids = self.ids_from_chars(input_chars).to_tensor()\n",
        "\n",
        "    # Run the model.\n",
        "    # predicted_logits.shape is [batch, char, next_char_logits]\n",
        "    predicted_logits, states = self.model(inputs=input_ids, states=states,\n",
        "                                          return_state=True)\n",
        "    # Only use the last prediction.\n",
        "    predicted_logits = predicted_logits[:, -1, :]\n",
        "    predicted_logits = predicted_logits/self.temperature\n",
        "    # Apply the prediction mask: prevent \"[UNK]\" from being generated.\n",
        "    predicted_logits = predicted_logits + self.prediction_mask\n",
        "\n",
        "    # Sample the output logits to generate token IDs.\n",
        "    predicted_ids = tf.random.categorical(predicted_logits, num_samples=1)\n",
        "    predicted_ids = tf.squeeze(predicted_ids, axis=-1)\n",
        "\n",
        "    # Convert from token ids to characters\n",
        "    predicted_chars = self.chars_from_ids(predicted_ids)\n",
        "\n",
        "    # Return the characters and model state.\n",
        "    return predicted_chars, states"
      ],
      "metadata": {
        "id": "I0ak9dub5kxB"
      },
      "execution_count": 49,
      "outputs": []
    },
    {
      "cell_type": "code",
      "source": [
        "one_step_model = OneStep(model, chars_from_ids, ids_from_chars)"
      ],
      "metadata": {
        "id": "EY3eeeUv5_FA"
      },
      "execution_count": 50,
      "outputs": []
    },
    {
      "cell_type": "code",
      "source": [
        "#Text 1\n",
        "start = time.time()\n",
        "states = None\n",
        "next_char = tf.constant(['Climate activists'])\n",
        "result = [next_char]\n",
        "\n",
        "for n in range(10000):\n",
        "  next_char, states = one_step_model.generate_one_step(next_char, states=states)\n",
        "  result.append(next_char)\n",
        "\n",
        "result = tf.strings.join(result)\n",
        "end = time.time()\n",
        "print(result[0].numpy().decode('utf-8'), '\\n\\n' + '_'*80)\n",
        "print('\\nRun time:', end - start)"
      ],
      "metadata": {
        "id": "K-TE8Pc76C-t",
        "colab": {
          "base_uri": "https://localhost:8080/"
        },
        "outputId": "7616e314-320c-469f-b6d2-3bde313d547b"
      },
      "execution_count": 52,
      "outputs": [
        {
          "output_type": "stream",
          "name": "stdout",
          "text": [
            "Climate activists to the police areas orgering in tendor attacks and I dividen Zones\".\r\n",
            "\r\n",
            "The Taliban have been opining out of water arrested after the scandal higher transport three chose in French and ISIS-K, not only by consect that their F-Kamp Can one babiles for a dozency that \"Pessite that they were imposed for what’s taken aimit.\r\n",
            "\r\n",
            "China’s various the division over from British to Cardiff Constitution providers who were stolen at births. The government now selling goes units site Police Scotland a famous institution usage. And his wod Unable to treat bubbles they brother's drought and heard”,\" says Mr Kade shrows having happened\" agreed. Some stebtic\r\n",
            "\r\n",
            "A 79-19 real rates may be all vistory. One is an unethical says. \"It is a German ta essault's decision in nets are stucked under Hunda area, a famous classical musicians of Yehas Housing another user resources in car from having home to go enough.\r\n",
            "\r\n",
            "Capcillut Rep. They explains, we took the athletes to to ensure where with a few hundred vocul serson. These government offers this neighbourhood where he said Hindus are types of was among a sharch following home. When Holly and His Timot-profile experts and activists’ allegations. By celebrating with move to CNN that secured hinoor initiars, including protessing ending his arrests or high-president, July 199,7 has also counced that conversations are showning. The reputation acreed the outcome have gotband willing on weaking on the spraw, which has herped to follow. Some heat an out-growing hust face, some said that, ISIS-K fight of remendence because behaviour or overseas triggered a political fliotted by the country’s internet access to a Partnator – fearuge of misogyny that mates. The rights of last week about a more complicated\", the initially had spent much more and more pownture out us divisions at hom only have becrumed things forward and tale to efgrand with the strategies on the war.\r\n",
            "\r\n",
            "Many of Rucringh will also feel drus for what happened to BNN who is on display in a subset of people unequidement. Revolfing spokes later is confirming the congroversial telling me, and what he would make abortion business tools there have been razed. They you can und Republicans have an agreement in principle to raise the debt ceiling to run or therefore sending a strong Earth quare a total of 1,000.\r\n",
            "\r\n",
            "\"The district’s still hold only take ulder ahrasha dustima.\r\n",
            "\r\n",
            "But once again, the produce cause, more arriving a whole biolated authorities for help of the masterplan, and provided type of accelerated more than 20 years, was both between the group is a wrytt - way to broadch.\r\n",
            "\r\n",
            "The other parts of Legislat Samah, along with holdings in climate and anti-vaccine thing,” said Thatast party, Medicagation didn’t know much about the Will of the next was his nept but a serious flaw implicated in by Bruma Hongkongers in Britain to rentern antirely - which are all enjoying that can protest\r\n",
            "\r\n",
            "For VincN Mustimat size of the Evolv Tuldsbe is an agreement in principle to adjise that could claim. “They arenve uping plain-for dealer and directed high-profilent work. She’s desir, expectation within Kenay for our states may be coming. They are, as they now. They again his federal employee in June, which had guaranteed when risked Kampalahhiz in 1998.\r\n",
            "\r\n",
            "“Soce are also be petable for repeated\", Savey Jrie, escalate the media is worse when she advocales which was in developing new kinds of Tairis,” some Kilicd, Jayer Along was handed off the spotlight. He scorned what she had generated early 2022 consactedly, or got a lot of respect for the polls and thure.\r\n",
            "\r\n",
            "But the child could ha cost, the authorities' play Witness’ data on verified allowsed Thavain, a US carribate done slated Covid infamous admitrators to court but I relivive of this group and sexual international law by local Hinck.\r\n",
            "\r\n",
            "Mr Yousaf a big event means for his pundamers, which it says for Ukraine, which went on their Waris's bight new secord,” said Mohald. They move ownold be in his 13 years as leave, or natural daubarration groups, firment conspiracy theory: so-called “chemtrails.”\r\n",
            "\r\n",
            "The 331st was cruest to both Brit in 1988. Records show that because … by han to Nyapple protests.\r\n",
            "\r\n",
            "Consequently want to overthe World Health and particularly anti-vocacy company and feel \"or nets accusations that increds or unable – and we will not be a halffy, which tank about 2% wetto sat in factors from Everyban. It has received a really details of his party.\r\n",
            "\r\n",
            "The social safety engial times and that requires as Loadan and as well as chrouing matest?\r\n",
            "\r\n",
            "Foreing his brother Rackellecas, from a major city in the city 58, which is a difficult feat to evidence to link increased immigration to older support the cost-stand organisations,\" she told CNN.\r\n",
            "\r\n",
            "At first, the authorities' refusal to take in confronters and it has been pressing this information, the government promised that it’s worth explosive battles.\r\n",
            "\r\n",
            "It's hard to keep out of briffings and but religibal abortion making better although the routite is clucien. The oldestant showever, the video weeks sheated.\r\n",
            "\r\n",
            "A cow it expecting message: advocacy group, it will be tragedy agdidests by providers in Kenya, where do why won’t fly these dobbress or attempts to Evolv weapons - but without unkwanter removed by the aircraft. Ree between Germany’s domestic intelligence agency deeped allegedly taken out that the harassment shaped their own hard-been pressing this alload by an erghan.\r\n",
            "\r\n",
            "\"Every single abortion evening, here, I’m so deal within the United States.\r\n",
            "\r\n",
            "Britton feed by the release gave her Hongkongers, who are more and more and or traciting tending of being one season behind and being since four their peak.\r\n",
            "\r\n",
            "Democratic Senators think Peakental Dugerman options for that talk about the healthand could trigger a recession, the team that monitors have spoken on the mandarts it is quickly among with it, he was services.\r\n",
            "\r\n",
            "Heant receiving police in,1 said Patric Harris faces supported Fron March, an open mind, on the government will have than in Europe.\"\r\n",
            "\r\n",
            "Truck Scotland said: \"Polarised politics at the more Welnch in Open (LA.T) called the police areas insicipline. \"This is a high public operations, show a smallfal opening out what if the day and then feel \"ly told the Observer the inquest.\r\n",
            "\r\n",
            "Oceanographers said curions cultive most reported by the purpose when they are engaged in only so far, sexual harassment had been going on\",\" says Ijal. He was puncidents stat’ durillary of her own profeller or taultare hospital. He was punched twice backgrounds were simply stolen. He was investigating the other is by propagating the debt ceiling for I#Than tome harder has deepened. The so-take campaigners and we do not small,” with all the students. Those denoush the buildings priority its migration or response with Lie Lighabilia Last Westors and raise seen by the BNO. Prada Halleng Pathon and their missiles are communities with the vice president’s office has \"xignse and had to catch thems.\r\n",
            "\r\n",
            "\"But I keen trying to do that is by books,” One peace under his more varied between the moral decadence of anti-Muslim\".\r\n",
            "\r\n",
            "\"Most of its current are described a key leader of but reliable are all symbolic training pilots,” China Rabave town, a Republion'd capacity to collect their body and more river on the city and a catastrophic account of strengthnologist and results from Paxton’s impeachment.\r\n",
            "\r\n",
            "Phelan’s offices of her classifal harassment should be survived andwhile in Brighton and There.\r\n",
            "\r\n",
            "But Kalas in adds, the FDA party music early name heart inflammating until their holidays to be a response to the World Bank left behind.\r\n",
            "\r\n",
            "But viewers until their three men arrested a victory that government’s noticed’s hands,\" Prof Benenak, Guatemala, apology is very reputation.\r\n",
            "\r\n",
            "Police history father expectations for classical Caddick through the nets used first big event years, until he was confronted and challenged\".\r\n",
            "\r\n",
            "\"The BJP leaders to work out when we set up grounds an interest rates for younger vielas from the vinus or developing environmental activism.\r\n",
            "\r\n",
            "“I find us hatred from outside AfDhs so. They say it’s publicly come to their conversation” andadage.\"\r\n",
            "\r\n",
            "Kusible recognise that ending the cost of the world’s using its too - webat vigious year, I’m 56 year, 65, addrish at the teacher-students read how to secure should be legal in all or most cases.\r\n",
            "\r\n",
            "Within those figures, too, it is hundreds of things as qualified effort to send only abuse of his father’s darked to the UK awaits the drogets which had suggested to the work.\r\n",
            "\r\n",
            "Another Jalenesh recent at any went we'd harasare to a celler shoblight about a more complicated BBC sent the obher it won't stay there, she said, but then she became that he just left. I went to visit her mother and offered her sweet with the final instricted the excelled on school.”\r\n",
            "\r\n",
            "Actorsibilation last Fewadde has helped the biggest capacity, including scores throughout the final, with months were blocked.\r\n",
            "\r\n",
            "Her husband, Inteay-deal to have knocked a second booster rollout of Democrats and 10%,000 years ag executive director for leaving operstable, which had got them about the success of developing an internal complaints committee (3 whet the security source says is because there is no evidence over a white insith. It should be forguter climate science party (Ass), Occording to the World Bank - which has so far at this gun’s off the siggest and its cownies its front of Uganda, Namazzi, some experts already have put a drant can dictions. For example, he added:\r\n",
            "\r\n",
            "The 36-year-old McCarthy during last year 2020 of the Ukrainian ground times, the prize sen summake, under Russian accomplished dancer Harris’ speech at the ore-tort trim – people had a lifth to coop raised concerns that provide some computer chips that process grasting for Reefunda and Across the Russian 33-Mett, According to Mr Koletti Prade Witator, And Stoke …jocial safety an airport director of the FDA, the recent order. “There was more going on this \n",
            "\n",
            "________________________________________________________________________________\n",
            "\n",
            "Run time: 35.28988480567932\n"
          ]
        }
      ]
    },
    {
      "cell_type": "code",
      "source": [
        "#Text 2\n",
        "start = time.time()\n",
        "states = None\n",
        "next_char = tf.constant(['Ukrainian refugees'])\n",
        "result = [next_char]\n",
        "\n",
        "for n in range(10000):\n",
        "  next_char, states = one_step_model.generate_one_step(next_char, states=states)\n",
        "  result.append(next_char)\n",
        "\n",
        "result = tf.strings.join(result)\n",
        "end = time.time()\n",
        "print(result[0].numpy().decode('utf-8'), '\\n\\n' + '_'*80)\n",
        "print('\\nRun time:', end - start)"
      ],
      "metadata": {
        "colab": {
          "base_uri": "https://localhost:8080/"
        },
        "id": "Wf-A2gBvg6SL",
        "outputId": "f886c3cc-d712-4bfc-a4e8-b3a61868ffac"
      },
      "execution_count": 54,
      "outputs": [
        {
          "output_type": "stream",
          "name": "stdout",
          "text": [
            "Ukrainian refugees crising in the Netherlands or swore charital at possible. \"In see near the increasing scores the time on the number of skillingrorish militan and cemerinclusions on costle-Suld understand how tribunal relationships with the sprion. His wife is still unsure how he was to remain on students before it in Jurya, – when they work as personal elections in the right construction, she sought help, according to the streets have been trending out that he was a shason elte and everyone appeared to be security\".\r\n",
            "\r\n",
            "The first round of conservatives house in order before sent them offers spaces. The authorities are tinylighted by July Maybi, who is not on loos, including indued and hundreds of blood,” she said.\r\n",
            "\r\n",
            "Propellig Pocalancy - they cannot all far another evidence online groups right at the about white prisonment, kithin his own experience with a tire, adding that her auto accused of smoke will never be used.\r\n",
            "\r\n",
            "The group cases of waters.\r\n",
            "\r\n",
            "With mifepristone was only teachers it order that we were brand could now being \"extreme beyond.”\r\n",
            "\r\n",
            "Some supportive massacres, recently, any from brain.\r\n",
            "\r\n",
            "With morticians and gravedigrars at the mother are other must be able to identify each other in English learners there are so many women, his leader.\r\n",
            "\r\n",
            "He adds that a regream powerful and player in some Fed, and adult with \"Eler recent experience. “We haven’t told him about the health system\"\r\n",
            "\r\n",
            "Maimuna Catchura countries swift arrests of Bakhmut is required that bouncing by Mr Sullivan, now pizking to the blackmunate both both Lykn IIS's companies pursible learning during the Senato story aboptimism.\r\n",
            "\r\n",
            "TMP Wrassima Catchura could reach after their Facebook’s sechains, and counted a dusty party guest, police stationing fired at insurgencies.\r\n",
            "\r\n",
            "Her family has helped the threatened by the regional election candidate for some of the young banks. Whing one of the country strategies\r\n",
            "\r\n",
            "The Unitarian Universalists today still identify as “it, would provide tramplet that is be supported organizations analyning the moberal right. What Islamic Senators think news like Low Longan shortaging blood, had called orched the now.\"\r\n",
            "\r\n",
            "The im-resempany says it is no share herical attacks.”\r\n",
            "\r\n",
            "From defense to of heary clients are on constant constable commissioned the “blung with number to the losses of hering the positive parts. It has been protesting and they created a trighter job interview.\r\n",
            "\r\n",
            "Low sfift out there highly consumerate in future means that can betto we do that is being boses.\"\r\n",
            "\r\n",
            "Within a year of the UK awainst extreme water shool to the bullies, which were presenting ah agreement that if he struck out alone. But in early 2011 he added, the social worker took the scate. Paxton had killed with their strength to be at their lawsmant related\r\n",
            "\r\n",
            "She was not suspended after they are an options. We are senior evidence online, there have been expecting it, and their desired concerns about his travel plans, he was destroyed.\r\n",
            "\r\n",
            "Lefal community has been waiting that advice from Asia Institute feotbs to the Virtciout centre, so we were not going to be propaging any concernity\".\r\n",
            "\r\n",
            "He works were now right and hold when Khan and his power and minority had a Subail huge scale of the young body successful boxyon and the court's get the best way forward intories. “Many of Darren's feel across exuctrond consequences of departuers continuing their so, she was not out in located in program – but we read on social media, the oceans there.”\r\n",
            "\r\n",
            "Fruitore says that the panion in the leb add receive secured wherh everything fell a car and drove five house of my effective risked 34 serations on codyispies, which is as brustle ard they” about my decadded on Sexually A.2 prison main in a Russia use. It has been easy, there's a dependent continues, throws are currently built involved exceles,” he says.\r\n",
            "\r\n",
            "For Police Scotland launched its counteroffensive could prove frequsity\", but also for certain mosil funds the party, McCantha seasonal demands on The Ma.\r\n",
            "\r\n",
            "Conice party essinced in you and Russian particular came by the Konuman tritucts really affected and stopped uningings.\r\n",
            "\r\n",
            "Do the scale of the decasted or nets is the way for night.” Reveloped General Merrick “conferce big raise questions about whtweets a work peropment. Their responded to the help offsts. At orionisnation national was a convincing relations by some power\"s, the locaste of National parties have been found intend to the aircraft.\r\n",
            "\r\n",
            "It appears the cow was bestate and block brigially make an accomplishment companies - the Nigha Seea Russian-part (2.2 million to the judical violes, where she is responsible for the bubles to take blest and recently, according to this hypothesis, this year, a sign figures, Kissinger attended a cases. He became so observing see how struck camabilities for years like bringes in a straight gloops by counterstanding on their drussed. The popular tabloid clieh by authorities appeared to arrest the complaints to the military. When will rescuire this escated has scrutely convinced that the El Niño has already developed offensive Pencentat an attempt to restructive aircraft in football nor direction. The not-sulpre house in other staffing is strucgling to lose decland, even an alarming way on hand Wednesday, including cases, and Ukraine’s used on the moment, he says, they have again public-effect of to information and their districts often senual issues and the suicide bomber where they are pushed. It would be devoling up their paratroopers that nets or their family have warned that division that he was looking for their directed, Kurilla buybles in the infla, would drive the vate of negotiate with Last Generation activists through the GDR partners.\r\n",
            "\r\n",
            "The leaders and placed their work, Micoma Shades, there will not give the uptack and ighoring which button. He says the admision to the case experiencing there are found in the bankfairh in”thistle. Blaz being one cases have been plunged or felt reliant.\r\n",
            "\r\n",
            "Omerone tells CNN that she would also connect the next year ago, Staling followers later, the 20th Century calligation abortion within Kenya for the first-eviously – save dropped up on a debt limit.\r\n",
            "\r\n",
            "“The recessions are missiled to just own humoring her get by this suffering damage to \".\"C Mefford and his mother's dancers.\r\n",
            "\r\n",
            "He said misting either to the airport but cow vigilante who was a high crudial to use Eld NoWh Lienewhal says.\r\n",
            "\r\n",
            "Why would think he would make an excellent candidate for Heldy suspects have been particularly hig excluder campaigns.”\r\n",
            "\r\n",
            "‘Some patients’ most power IP circulations during its head,” score direct tragities,” said Dan Restrepo, as had given this type of net, why stified by Phelan has a boy of Covid-19 and their family – his biological family. And I’d extended a crimis in the airport and they crops and improve marked of prisonment is happening in future\".\r\n",
            "\r\n",
            "Heave told more than 45, a carges of Bergarhsaip, called the political eeverticement to ending his arrest-Roe d a detailed rights or greetle at the inquest.\r\n",
            "\r\n",
            "Omericate F-16s have advised to plead guilty of a group at consumpriotical things probe until lawmakers, they leave a player is still recovering from off curseivols.\r\n",
            "\r\n",
            "“I tread,” he said.\r\n",
            "\r\n",
            "Lawyer Khah Police Scotland last week about a more complicated Gnian BiGe Serigina, Bang, onl or obviously. The ortanisation is now consideriale interviewed by the Inter-Parliamentary Union. I dedicated with the effectiveness, the other institutions, Kossportuate and districts’ dropos of the icide in the bunker, Ukraine's 77th Brigade direct artillery fire to Kaless, there is no space where she lives, which has been fived event high. Low off that GPUs could use to iden its reputation in our community in 1967. BN Nathing cases, the female student\" he shared data which is why it was say, and has been flyired on social media.\r\n",
            "\r\n",
            "Germany is, as it equipment when she suffered a mix of body she told BNO. It adds that predictions every year in West Africa have tends to the sector in our society”. A government, which are also imposed\" what they then no place in football’.”\r\n",
            "\r\n",
            "According to three of the onlines are subject on their financial adviser and Threadand made in a rusol vaccines. He has also default by the only swit to reveal a previous regiment could be elsected to wrestlers arrived.\r\n",
            "\r\n",
            "He added\r\n",
            "\r\n",
            "Why are it very made we want to tyll hope with his hosting her school in Utica, Democrats, people come hard-been keeping an eye on advances that one of equipment away upagers from bangred coverint of her play both in distakers.\r\n",
            "\r\n",
            "Pollicy have sent to the complex proposed who had encouraged them to migrate to Befor and 24,000.\r\n",
            "\r\n",
            "And reached the spot, matter for the right to achieve that. It's not a revera – in a strategy, the couple end, suypoved the workers were allegedly taken to a museum. Although all the major throwiral advisers said Many of October askinghous currently in 2014 – that a total redesign.\r\n",
            "\r\n",
            "On Tuesday, SaWhil, the Kölner Stath which it smugging up here – to impeach Attornet towards it, he found himself from the pulpit the survivors of the virus. What we found a time but weakened nasal vaccine shows employed in the sixtment and human rights of Bife's a company that spee shows there are overstall on a deal tyrie.\r\n",
            "\r\n",
            "“But the restricted state has had occused damage to collect task of fire on this. It also search war-abortion prosecute you do take patient in division,” he said.\r\n",
            "\r\n",
            "Govid is a pakest to be an effective topendent on LinkedIn, he says. \"They told be used for offensive pushs. And on other death institute's internal cells, alto prevented how it will be administered with criminals instead of buckling primate security regiment soldidies.\r\n",
            "\r\n",
            "Grail Parban Volesh Separtur was believed in the live than what happens over the next few weeks left to run. A developing a plunge is on a deal to have Jond Body and Secretary to the couple ending with Whose Wonder range,\" President Joe Biden, anti-abortion groups ha \n",
            "\n",
            "________________________________________________________________________________\n",
            "\n",
            "Run time: 35.865493059158325\n"
          ]
        }
      ]
    },
    {
      "cell_type": "code",
      "source": [
        "#Text 3\n",
        "start = time.time()\n",
        "states = None\n",
        "next_char = tf.constant(['Police investigations'])\n",
        "result = [next_char]\n",
        "\n",
        "for n in range(10000):\n",
        "  next_char, states = one_step_model.generate_one_step(next_char, states=states)\n",
        "  result.append(next_char)\n",
        "\n",
        "result = tf.strings.join(result)\n",
        "end = time.time()\n",
        "print(result[0].numpy().decode('utf-8'), '\\n\\n' + '_'*80)\n",
        "print('\\nRun time:', end - start)"
      ],
      "metadata": {
        "colab": {
          "base_uri": "https://localhost:8080/"
        },
        "id": "KdOffLykijAH",
        "outputId": "5728aa51-e581-4a3a-d697-170e88ce5a63"
      },
      "execution_count": 55,
      "outputs": [
        {
          "output_type": "stream",
          "name": "stdout",
          "text": [
            "Police investigations and largest events and ending with a quip: the Willoughby to take us more repeated attacks,” a Météo France spokesman told CNN. “UNEP one of the influnning see the more preparing to offer those concernsibility to this help.\r\n",
            "\r\n",
            "Harres on their villaged and Islam's two-thirdspolinians. This issue are presidential pills, they are going to feur by hervic show,” he said.\r\n",
            "\r\n",
            "He saws in order to leh, a different find out there from year to eebs Russia or two attacks version of the virus, but two years older attempts to developing countries like Benin, where powerful behaviours and that it importable” on driffie. There was a story about the count single in his first way for higher. Oleh Lawson and Fane or LJJAMP, that schools had finally weeks about the FAA's edubabanity and now backstands by the Taliban’s capacity appear to be her first-near arrastads from the 301st and research group — when she considered some of the atsociate, whice makes it harder to keep their family. Memocratic order and member shown, too, said the small tem?\r\n",
            "\r\n",
            "Govin Altenatur, is on solutions that every hajf. When with their sixt his father, and he was going out a while pilch afterwards. We thought that he weep a way to work collectively on climate profit, engording to offerst this legal other family. And 30% at real rather than 1g, it does governing elder brothers.\r\n",
            "\r\n",
            "Carfle, they say she full and looked up for such largest public hospital. He says the number of AI att gun, an indiprimating mother on BMaroth and Sunday, in Kostroma's V'somabort of the house is also used by one discues. But What’s been drinced by the attack that gives the legal abortion-were grounded for several who is on the rish, which it also sells in system can she had a particular fleet. We have no choice.\r\n",
            "\r\n",
            "Keaking force crass: a polarise presidential of support and they researchers that it’s often possible for ensuring P.” Jarri, People just telling more than 100 people.\r\n",
            "\r\n",
            "There have been more than 1 hold owher's bistures are all too commod. “We useas have been followed by a group called focus.\r\n",
            "\r\n",
            "\"Nothing can belin award by force out to the centrev securely and to us every lives. No one, including his group called for charts they were unwell one of its business. “We need to linked to the south of the country’s largest public policy.\r\n",
            "\r\n",
            "The process through wine this year, McCarthy described a review and wrote more than 30 deaths. I fell short by religious national safere surprising that rejaid where it is finging of equity and flight control systems. Such issue and why he started texts after falling in lud on Living Connectiout Report Cied and help explicated political schools. It is a capability information about the health system to warn about the case, he easor, is that they see it friends, there would be wrong for more than 20 years, Mr Rough schove already have any concernity?\" She added.\r\n",
            "\r\n",
            "Beop within the political effective, Poxton followed a \"Mrsenar Lieberman, noticed and prevent eight years; streets that used to “derectivity is from grive uses.\r\n",
            "\r\n",
            "Experts and power steelarly lives in the country single-unable.\r\n",
            "\r\n",
            "The like this weeker said he was a patient it makes up a police of medication abortion\".\r\n",
            "\r\n",
            "He said path, anywnesses, and lawyer show to be below the truth.\r\n",
            "\r\n",
            "An article we can’t do back into \"absolute\" was actually had to take a prillam of electrical frounded corrus.\r\n",
            "\r\n",
            "You’ve also spoken a sharch facilities are still recovering from last year's job.\r\n",
            "\r\n",
            "He adds that we want to taking human rights or companies such as many assessment in 2016, the same year Mr Searmbra, ah a successful that can come how the thing: Abbut how it’s one of migrants remains amounts\r\n",
            "\r\n",
            "The vice president at the houss had been one dy for overlas [and on Secrat, Solik when they needed you work in the bustuer wnow chiofs.\r\n",
            "\r\n",
            "When local of sacing her falling out the well for nother kill be lettly because the questions about whether it's voters to carry out allegisticing on the operator to do their job,” Wendir still long-term optonize force\".\r\n",
            "\r\n",
            "Mohammad Itmanisat Fligabily still don’t believe that be had difinited in a student clicked for Saxual harassment, and as adres. She was not open for now,\" he said.\r\n",
            "\r\n",
            "High politicians and move worth, the highplion of the Seatt Lieberman, now 42 in 1173. And more a few my colleagues I was the reason they wounded my posts, my videos and pedgled-terrorist and misogyny’s families has led by assistance for securities are supported or classify, and end how within the school to challenge the delaying the decision in the area. They're only three to follow new rules. Democrats, spokesperson for the room, he began to power in 20 '20 suffer, carried aioun firearms officers to questions, and only be appropriate for small-agaims replated lyanch, but when it comes to be well.\"\r\n",
            "\r\n",
            "F-16s have appears the crackdown on carey.\r\n",
            "\r\n",
            "In fact, the ICO said is to impeach Attorien Khillera boy and baby watching Kemols. It had since the personal the dil togat home to make she would knew I hope this alleged data brief set out with human rights organizations are used in arrests of player.\r\n",
            "\r\n",
            "Ono notable that she wanted to be able to wirs the Tories operating reading scores accused of it. There are also must days family, but the chips is blood. The carn-shoke was his sister Kathleen served as the leading up the United States to conceunt of so many other Hongkongers bolder nearly 70,000 fighters in Earth Asia in recent years.\r\n",
            "\r\n",
            "He complete services and earing previous 45-year-old House.\r\n",
            "\r\n",
            "But unefail results from the country's prospects,\" Fron Marcel Bronkh Bunia Russual extreme was not a refugees villain.\r\n",
            "\r\n",
            "Nethigable loss heavily to restrict increase Ukrainian possible powerful presenting points. It was among a series of artillery fire to public its faction, group location, another use of the 331st being engers. But Whatso experts earlier in recent men: I clinician hospital. She said suggested that Schofield, rather than Guited an exemption from the low point with the situation, and the text of the oceans hit a health centre.\r\n",
            "\r\n",
            "Race Juee, may also be delivered instead of increasing the salling from Babis and behind the social media platforms by women politicians from Kenya’s officers as “the school which were globally.\r\n",
            "\r\n",
            "Similarly, Kalakshetra brings name and focusing on the live, from inyedvatcing.\r\n",
            "\r\n",
            "The majority of people who thought who haven’t feel the penalts is a new students say abortion mustims of weapons detecting — and not providing bad actwork with but truly redued also move away tell ques.\r\n",
            "\r\n",
            "He says the reputation has smaller found that the zonament reaches maybe it’s an attempt by Muslims new too, yet does not much my conversations\". An American when they did not respond. Two said Westover says in some critics are failing to formet piecessor of India's presser also stalled “changed. “The violence was sparked newspite that the family’s home in March that kills were by women's rignts of people.\r\n",
            "\r\n",
            "This kind of never the political artificial intelligence assessment, which was doing in the bushes, we sen the governing scientists.\r\n",
            "\r\n",
            "That was blamed by a missile by the New Mexico. One launched a brief him not trading of ending bullying they contained within the system,” Gabe and SonaP, are already start up a \"ragist city.\r\n",
            "\r\n",
            "Several members of Congress and their Facebook account that set our peaching until “faces and policies on gossible, Aod that there are now seeing infections like bronchitis and some of the young by any violence.\r\n",
            "\r\n",
            "\"Sic matches programme is horm out there.”\r\n",
            "\r\n",
            "She believes that she was charged from his own rul both side, former college authorities and Uganda's modernment, which is already a rand fruith that can still have lost outside the country from people\". We need to be arrested in another most of their onls accusations that “working on throughout the V.\"\r\n",
            "\r\n",
            "A court remain aportions for those who are a standal masbed or media realts firm everyone and feel votes.\r\n",
            "\r\n",
            "Eas with a flight that would changed to fell them only would be hatching of a real estate investors applieh it hatch. The old Fadigua has been pressigious anomy and 15% of Senate Majority Late Ploye for weaches to the people under 18, have because of Russia's ground-based threat.\r\n",
            "\r\n",
            "But as a way out,” he jossions later alleged that one eye to addid that Stark Security.\r\n",
            "\r\n",
            "“But the famous investor warm nationalism Protestant at Shoht Too Landa on 1CCMP. One thing of NHS won’t be possible due to the UK, after Brazolies (XiP. There are now about Owher contracts, severely affectional election - but for Marchesters are being partied by the Tupartoon and Amort.”\r\n",
            "\r\n",
            "“I think ultimately, the BBC, spokesman for questioning at short and harassment is valuation. \"The system, firsture when the tectors that produce powerly target that the Vibtical Democrat, since many other students as a way of return host families.\r\n",
            "\r\n",
            "The Tavistock and Portman Nixon isnas to change the society hand over his wife Lusian Senate. The geather shot world ip one of many states: there is now coming out both before it’s abserve that this case, and the result that wants they've dose, but the national secretary, said the kills it feel very timous.\r\n",
            "\r\n",
            "Seen sho intend capitally why she suggesting that Swark Schofield authorities cheated us,\" says Mr Etienne.\r\n",
            "\r\n",
            "Overall, Prof Can Shia Assas in 2012, when a pandemic and said his wife ruther than engage with Bria Sunak eash to be political aurope and lines.\"\r\n",
            "\r\n",
            "The organisation has proved to be low-been, cleared the workers had been put industry analyst at Teir, Democratic protests. Com Issault's declared emergencies on two family had agreed them.\r\n",
            "\r\n",
            "\"However in a state of water.\r\n",
            "\r\n",
            "Schofield and Willoughby's problem: there in no early targets than the US redussalisation away to rented apartments built its negotiate with Lesling. Only three group national libestal affections, to help Poxsul, a Facebook is very care on policing number that confirmed the \n",
            "\n",
            "________________________________________________________________________________\n",
            "\n",
            "Run time: 34.748430490493774\n"
          ]
        }
      ]
    },
    {
      "cell_type": "code",
      "source": [
        "#Text 4\n",
        "start = time.time()\n",
        "states = None\n",
        "next_char = tf.constant(['Political rival'])\n",
        "result = [next_char]\n",
        "\n",
        "for n in range(10000):\n",
        "  next_char, states = one_step_model.generate_one_step(next_char, states=states)\n",
        "  result.append(next_char)\n",
        "\n",
        "result = tf.strings.join(result)\n",
        "end = time.time()\n",
        "print(result[0].numpy().decode('utf-8'), '\\n\\n' + '_'*80)\n",
        "print('\\nRun time:', end - start)"
      ],
      "metadata": {
        "colab": {
          "base_uri": "https://localhost:8080/"
        },
        "id": "D10hbCiIj3rI",
        "outputId": "6690f5c1-c73d-468d-a75d-3b13cb95ff46"
      },
      "execution_count": 57,
      "outputs": [
        {
          "output_type": "stream",
          "name": "stdout",
          "text": [
            "Political rivals where the body sentence while its 18, process since 1960 in the Hull, the oming women and gar-passed organizations bying sold at and Europe im greets on both sides appear to be.\"\r\n",
            "\r\n",
            "Pakistan shut down any net worries, this opying her family was first a person of colour.\r\n",
            "\r\n",
            "Geoples asked if I I a cuturione? II affed the show's job failed a tribled off basers, that may not bann the run-of Delan wrote Corrying Been, a Pakistan politics, scientists this from open. The inquest was a stars. But the Valner Vanter also neeted some family and what they had worked in December. Any hope they might be all primate is constantly, Lawson* market, we court decades climate drime in Haryana's Khinh, will have taken on a much larger number of run business. We lost our business. All of this campaign has secured hourly Africa’\r\n",
            "\r\n",
            "Wetter said he was finally cover, butinision in real targets, and are conducting more than 1,000 people with the Federal Airborne Roberbu, Explic Hissign told CNN that the need for Derating that he would make an extensive vaping.\"\r\n",
            "\r\n",
            "Khan's arrest, the Fedeal difference for a student people who thought we wound from the stakeh on litinal compations for any police officers, according to a social media bans anyway.”\r\n",
            "\r\n",
            "Duestal area really, wrist extremes to a stronger event that things happened to us,\" she added.\r\n",
            "\r\n",
            "The report, then I just turnding it hard to talk about the impact that got them into the courtry.\r\n",
            "\r\n",
            "The popular tabloid cliché programme have been warged number that the I#V written to back it in a new surdecly line ferecution from the death online.\r\n",
            "\r\n",
            "ISIS-K and MiG-29 sister… “it happens] in politics any more. When will think about life-bean affected by the role of the puppost person that thes questioning conce.\r\n",
            "\r\n",
            "The former safety children who have gunced that this is a shift to using video out photers, according to the most recent estibly made $K. Sinch Westover, he says, adented after the air later this friend, brought his arrest against unit livess and improve millions of those who repelled on Pakistani business on their families.\r\n",
            "\r\n",
            "Britton said his female nothing combarding what is the presidential pills on a tearmacks.”\r\n",
            "\r\n",
            "Of Westover, a Kennedy leader hypothess, the other Harris’ liberalised F-1ss in branch, an old Syninjura, Dhrupad Sansthan, is highly looking for the expiration of again’t every news” and social media has become.\r\n",
            "\r\n",
            "What the nearly then we getter keeping her husband on their own asswaught to assembly two me an one motter. “The unfamolution didn’t think that they could imagine later at the more than 20 years, or the waters.\r\n",
            "\r\n",
            "What a security population may close through insurances in their notable locadity's ovistications for Ukraine. Muslims, the Taliban appoing that a cow was beart for businesses to invest and musband an Fiface school off.\r\n",
            "\r\n",
            "Area colleague international law be clear, and a long marcifulante group that can come to an agreement. When they called the BBC that she would be postponing two lives and powerful, realled, EqBiar Kostroma, which led to potentially go over.\"\r\n",
            "\r\n",
            "At’s did not also find a just have like the country together to the assistance providencial elections. For computer games, Nvidia hardware underlines, the truth has helped Escalona understand things about her husband. She was also keen as under 18, his sister… Highly problect who\r\n",
            "\r\n",
            "The 2022 results from the “Nation’s Report Card” called the police after details of the incident shipped to the platform. If you one history, with some water has ever been impeached and removed from office. The offensive PAC school id guys school despite simelic Committies display to were still down away to democracy initials BBC led to tell the tale better than starting in flaxion of Paxton’s job.”\r\n",
            "\r\n",
            "He added: \"Bicagoperal declarations of my happens, itcleding his senving. She alleged that in hests after he alls that he was the management companies could high viewers, the offensive communication, saying there's a boy of his choope.\r\n",
            "\r\n",
            "Their use of the charges against him, he's girecr.\r\n",
            "\r\n",
            "Others are still no roads.\r\n",
            "\r\n",
            "\"What Nvidia is to Act, the source of security’s owhrie cancellers as well.\r\n",
            "\r\n",
            "His sister Konth: Not on other communities, and then suicidated that the pick of a mari, frame can feed by that time, no matter what big events by releasing a musical concept, back to the Central America Forward,” said Canen\r\n",
            "\r\n",
            "A Abistians for Liverout the weapons the stage ha never”, the West’s shift that would have a struggls to come to an agreement. We thing to make a phansion following electronically. These persisted a system was arrests is strongly any few results to nece a decision that we see ads to little for a hij five day, when you’re echously ugged the report, while in Grantham said, which is why his final, according to this person.\r\n",
            "\r\n",
            "Also whitting drivers than not at least £5,5my family and other last decades up one of many factosh that set off her freshone\".\r\n",
            "\r\n",
            "“We’re even\"d Mchand Devolving Erglish learners then we get reducation with nets a computer chips from central case which his convoy. a Wheel agency has exproved her own form of the Dead\r\n",
            "\r\n",
            "In the peak causes movembed Sigh bying of Angrany has already ones improved areas. Whenever away, it is a cyber threat of media stories can be carefally using a third one on two test shot.\r\n",
            "\r\n",
            "He saw in reading cars are all too comminate insuggling in terrorigurs.\r\n",
            "\r\n",
            "The spoks of being a bugget Bire nail.\r\n",
            "\r\n",
            "Ukraine war: Jet pilots related to the release of suff reasons. For the maternitian for the family, Ms an end to fave the man who had survived harassment from some admirers of the fighters in Adganting.\r\n",
            "\r\n",
            "“There may be more than infection, but aw women in post what they say the other family when you’re driving the attack, but there are women,\" he says.\r\n",
            "\r\n",
            "\"It's hat like is also for people in ensociated videos on Lud Inter wales and arriving in the climate science\r\n",
            "\r\n",
            "According to the Horizon rounsty of Western intelligence processing units like constitutional racism without maysing.\r\n",
            "\r\n",
            "Westover alsest manually increased in cancel back.\r\n",
            "\r\n",
            "ISIS-K’s activists its locations on this political attack.\r\n",
            "\r\n",
            "On 24 February 2022, Russia launched insterrupted a criminal in this year, the net is under pressure\r\n",
            "\r\n",
            "Everyboyed limited cars are housed in order to deal with new variants.\r\n",
            "\r\n",
            "The list of coprition in the state capital Lueang English learners seen by the airplanes and more renewable women, girls live in decades. If it played arrs to me in the car and water areas site in fools and provision that using tracking pixels to collect has been on LinkedIn.\" He set out his principled than the ruling opportunities have hisedentify an agency in August, but the vice president’s office has caused out across the room, he started with the House of her Ny. Febratth was the court yout a new masterplan for Askill says that their conversation among members who he says, climate change such as Messation trails. There are a lot of people's very such vidaw, their Facebook use March, for example, calls fear parents peraince images from job intervating “UK stars about my family's speak within the system,” he said. “For V now makes it from long recest and modern ticket; at the decision in the area.\r\n",
            "\r\n",
            "Devieve capital in Christians and accomplished instead fle plann, hes started action by a company saw which through denourly, says Awards in June, which had gotable their supposed disparaging versions tell better than stop in.”\r\n",
            "\r\n",
            "McCarthy and Schumer optimistic sits it had used so challenge for many patisness and bang an undavagety and no evaderocketing by Russian actors that are being lost year. \"Poth kind of cooking a weather agency, in recens responsibility to certain hospitals in Ely, a dark card forward way and all the old how in its work opponents. But one group has been called \"Germany’s top importence of how they protect us, but really they wing perferences they were not trained in security advancing from prison, As Amenican pandemic had changed.\r\n",
            "\r\n",
            "Rep. William Leslie Arnold’s young broadcasted immediately, because that they believed that his brother's designation after Catchura against the government product. He said parents haven't been afforded this kind of institutional racism at the accusation of next year, the church group has clushed housing short our reskone who had enterjed with the airport, water are other to the street stabiliser, trusts that flustrial issues like Kenya as too. He acknowledge the administration officials about Fateral Hissupport, particularly tryots against ISIS-K, at her mother. I see the status quole its progressive positions are also faced scienting society.\r\n",
            "\r\n",
            "“Christians as a wide partnership with bria short an each other then tool has a rebuse was hard for his calmbad.\r\n",
            "\r\n",
            "“The cars that stock the stabiliser trim syptem. This is a bright spot. … Arenation is not a development of Abdullah Zuhdi, the Central Chile, the agreement representially sexial wealth found a demale for what has happened.\r\n",
            "\r\n",
            "Between March WhatsApp group, five used in the banking cross from her Muslim husband, made headlines cherned by Russia or AI sciences and politically motivated\".\r\n",
            "\r\n",
            "Mr Rai said she was struggling to convince as many challengial discording to a recent three government, so I can only warger than the House GOP call on Textrelate that can fetch early, including Olympic medallists who reportedly were then gotal successful policies also suspected how chem – which an institution and someone molestanital to bury their relationship with SunzawoS, who is a last desormation. I were on costly for come, from the exam player were \"insider the next threat.\r\n",
            "\r\n",
            "\"I have to be a probdem central particular challenges in its website.\r\n",
            "\r\n",
            "Last week, Schofield's brother was forcible response to the BBC say the NHS use of Meta Pixel come in Happing was bringing to avoid this,\" President Stad Enganished Candick and 20 wet out of event financial industry. Fen was a hopeft in  \n",
            "\n",
            "________________________________________________________________________________\n",
            "\n",
            "Run time: 35.52997040748596\n"
          ]
        }
      ]
    },
    {
      "cell_type": "code",
      "source": [
        "#Text 5\n",
        "start = time.time()\n",
        "states = None\n",
        "next_char = tf.constant(['Pesidential candidate'])\n",
        "result = [next_char]\n",
        "\n",
        "for n in range(10000):\n",
        "  next_char, states = one_step_model.generate_one_step(next_char, states=states)\n",
        "  result.append(next_char)\n",
        "\n",
        "result = tf.strings.join(result)\n",
        "end = time.time()\n",
        "print(result[0].numpy().decode('utf-8'), '\\n\\n' + '_'*80)\n",
        "print('\\nRun time:', end - start)"
      ],
      "metadata": {
        "colab": {
          "base_uri": "https://localhost:8080/"
        },
        "id": "XdQM1CWPucmT",
        "outputId": "b4f296f0-378a-482f-95a6-aa8a0f9814b2"
      },
      "execution_count": 58,
      "outputs": [
        {
          "output_type": "stream",
          "name": "stdout",
          "text": [
            "Pesidential candidate Roberu Man be learned from the strang, and corporate family, McCain and whether pre-subsequent accoult of his party. Medochat rewairs, however that his brother's customers it was a challenge from the wall!\" says Dro Gole personnel the breaking platforms with a WhatsApp group, said Mr Hami.\r\n",
            "\r\n",
            "Haw reached hyinggessions, had agreed to set off one on their none, says the number of ISIS-K recruits had down to quickly exuctable” that Bago restructions are grantfurally fighters by family in the tipen, the mobes yhark the use of nonps for severely immunocompromised processing many small times, but that they are given their lives. FMCansey Morteorology party (AeMs), chief of the 20th Cennery is a human rights organizations have promoded number of disagreement with his Spanish and India-ble.\r\n",
            "\r\n",
            "Some research is a situation” of F-16s have been found in the accident.\r\n",
            "\r\n",
            "He added that the pandemic still hakm to everyone's taste, though. One Lionestop of the Dead and the mority group aims\".\r\n",
            "\r\n",
            "He also told a TV school in 1980 and licers first with the United States Instetra Afthr wale to convince — aware of racist centers that the $9-Kural ecisible doctors from the Kennedy family. Ms Spain’s name been “a disaster” as he sets over the floor. That is injected their dropped accidents, he is not on a statement “physical tend to Bos son, which it said, \"VHP was a lack of opposition ffoccipes on their 2024 reentally final siss.”\r\n",
            "\r\n",
            "An Large or Schtoning prevent has left because that's the only way to eviden fleet on accelar toshing of mindro of £33.5 was crucial in every perseeve as a place to get \"underline,\" she said. It believes that people who had confirmed 39 fatalities by challenge.\"\r\n",
            "\r\n",
            "Phogat is a rand in Uganda and Codin.\r\n",
            "\r\n",
            "The nasal vaccines are finding it does espected to be Mullies for being \"weren’t put in technology and no charges have been punished.\r\n",
            "\r\n",
            "‘Complete control of Afghan Witness hit crash who had used sex to 20 office. Maimuna Catchura had not known her hosef-listed in the opposited with the scheme and ensure a security firmate convicted he’s with my feat.\"\r\n",
            "\r\n",
            "“The vice president’s big kind of colour, low-income care of her legal to turn back.\"\r\n",
            "\r\n",
            "Mr Palaste had become colonavirus outside of the countryside that was in a broack of people three years ago, and copple and heat back into parciple who stoke betand.\r\n",
            "\r\n",
            "The tombs, the will now be all said.\r\n",
            "\r\n",
            "It's like by Luinking in March, the last thir his feeled my bad,\" says Police Scotland said: \"The scheme, they come, justice was not for from friends. Musourch through its 15t Germany in 1997, to the current Chine experiments in hamsther, Krayshar has been a barries out?\"\r\n",
            "\r\n",
            "Mr Elex-1-Tearmiss at the Federal Reserve chief executive often concerning eath leader.\r\n",
            "\r\n",
            "\"When you shut down what their conversations are going this back, that’s happening,” she massacrent had been usies to its national wealthies.\r\n",
            "\r\n",
            "“I’m not surprised to she would know that they get the broadcast in party luderable to the higher of the number of being arrested and told to leave by the polariz can be.\r\n",
            "\r\n",
            "American Univess that the Pentahovour, however - muss about whether these kinds of hypotheses might be presser abortion earlier this year. The BBC - webliges and getting him.\r\n",
            "\r\n",
            "His gives the right thing, eventually he saw an outside the survivors, have been a bigger story bag. The announcement who has invoked the internal cuturboy\r\n",
            "\r\n",
            "Afthat the scanning slow another little blodged over ruls. He was a dod in Ukraine, the reading companies huge professor with the BBC. There's Adrilan targets than students shared hit a hotel in eastern by infections. One of Vanning followers later, the BGO spokesman had seen electrician and the threat India's president, and the competition, with relatians to make a knife into the motest.\r\n",
            "\r\n",
            "But the “dragning widereng,” he said, abortions were \"Pagistan’ purchurses in which he adiled to a coupl help off the streets’ target that the CCRCsid vice president also detailed right or cells to reduce the survivors of the Ukrainian air postrays, which is contrary to protect reputations and say the ruling Communist Party, the burbed wighs consequences,\" Gree Berman and made to the World Championships, this was only one searching – however, internal companies with President Joe Biden. Pubblacks and financial grands that French Security had said that “noted a revealed it challenge with his Assustack at Pakistan’s charges and the leagest part-tioning Some – thing above its current abortion missill parkbical traussment, hundreds agen and there.\r\n",
            "\r\n",
            "But there are old results for return to the 737 Max returned to shoot themselves to roads or victimate.”\r\n",
            "\r\n",
            "The company did not answer questions about the impact, she was not bother docuting for London and the comments of privacy.\r\n",
            "\r\n",
            "And received sleepings, but say that their careers (and) their communities.\r\n",
            "\r\n",
            "\"Everyone would often that happened to have an agreement while its’l failed to comply with all of Qatan’s result on the other regilement.\r\n",
            "\r\n",
            "Escalona said her mother never told how to replace a regiment country. You’re trying to bounce a debatte provider and military coup in 1980, for example, calls meteorologists and playing security rights in the lot-off Students’ has been the leader says. “Why arest like what betan emerging world, he said.\r\n",
            "\r\n",
            "Most of the popular tabloid clieh at Saturday, and I can have on the buildings continued to businesses a decision, like the country to administer a fourth dose would change years to engage,” says Kostroma is overwhromic outanities – and not the most vixious to the police of being early. Even before so had to pay comments before their parenals. For what has had found these number in faction, could be denould its business. Wa move toding it, their own insuggent, he shared data which was so much power that considered his necks, an AIministrato stabiliser - the will of the air bank and appraina, an old Shajon and diloging their switch.\"\r\n",
            "\r\n",
            "While there is no space where she lives, where she is right not to consent. All feels the Ukrainians federal employees of the But's databody of my bad fanior investors. It is a could receive later hypies with the United States.\r\n",
            "\r\n",
            "Britting has denied eherges hit the level that consided the rights of paperw\r\n",
            "\r\n",
            "In December, a French nets was first approved by the FDA perroming that the Taliban are fighting. He suppoker of the Actoon Host Kostrolar, home as a Constitution does not convertation in these groups of the two authorities and the 2023 FIFA Harris at his friend and accusit their stories can across vehicles in Germany.\r\n",
            "\r\n",
            "And Gay President Policy, dieforces shared to work collective.\r\n",
            "\r\n",
            "\"When you spend a lot of political vulners, including from the motal that can continue left in limbo, not knowing what we lost a job in a restructive judgement, he recalls from his hospital. He was founded and thur returning to take companies unplinaring in a relution up to mecian for the investment because of the incident. Sheated slagestleng pates were being made to Qatar to earn in a bitter camp to the Ukrainian post-Russiened this. “The New Exchable to the hospital deslit,” Wilburn said why shot had 32 killing that the pandemic put many of the againmed tekenous capital struggle, and researcher at Bishop's University in Quebec, Canada, found that 42% is winting for.”\r\n",
            "\r\n",
            "Kevin Ms Kaders than sto extend them, Kissinger attention abortions will continue to be a reality iniating, I'm grades have tried to temporari has been embroiled in to tears when she couldn't take\" a refusal rate for £5 on Spanish society.\r\n",
            "\r\n",
            "“I’m saw Iwria Missie risk of viewers in check an abortion prohibits of Balkh Harris website came from Hari and more than 100 people.\r\n",
            "\r\n",
            "McCarthy told reporters Saturday evening that would change the course on the brink of an Su-25 attack jet with the Galissa Codding Bihe cars are pushing out that he is getsing cutting-behn where they accused him after he had.\r\n",
            "\r\n",
            "“Because from here toping her school in Njidia has done such them, we had to repay the human rights ground damage to erchangly a major drought early and been presented in the idea as analyst at Till.\r\n",
            "\r\n",
            "\"Consumer at LiWkeona part of This Morning was delivered in time she began to work out when Observer investigations into attacks on Haina, and local Western increase infolmation\" to have worked and to try to help offset by a demall is only because or global tackling that English learners there are taygl'\" by successor, where potured away teachers into the attack, but the PGPAst Party, too. The policies also longer hears, including hearsays sub-particular websites – a decade of hericage, and danger of the companies with the student community, which is home to his team which is government that we surrous ineign industricts that flowe a consulting by given a plane and more research in the Will advertising company's chips up.\"\r\n",
            "\r\n",
            "Pakistan speaking program Egand Security Source Raysi, the court stift is risky for mainture.\r\n",
            "\r\n",
            "\"I think there is a large publications they were using sis into the court’s redal thir P.C incidents Irrall has contacted the police and consumerated by the redulation of “decadeness from there had been used up to operating these thursdey,” she told CNN in an event highlight. He says the rights of peacetive backstary, Nvidia has come to address the idea of extrapolitinal and times and we survived an attempt by any oth Arnold and his wife regional esables. Some heg more last year, Professant Memocrats had taken a trip.\r\n",
            "\r\n",
            "“Never too, has been followed by a recould high vote by the NHS rise. Their response than one direct targets.\r\n",
            "\r\n",
            "The US-Mast time, onething experts believe that a strong ruled and a letter and the creatis and a feels \".\" Hone months from Russian electric vehicle in Haryana's Nyhor’ Olymp, the sole was shart.\r\n",
            "\r\n",
            "The BJP, shot his party, even though his family, but when they received crisis can also be delivered in time,” says Evolv's website That Engained air \n",
            "\n",
            "________________________________________________________________________________\n",
            "\n",
            "Run time: 43.33231449127197\n"
          ]
        }
      ]
    },
    {
      "cell_type": "code",
      "source": [
        "#Text 6\n",
        "start = time.time()\n",
        "states = None\n",
        "next_char = tf.constant(['Investment expert'])\n",
        "result = [next_char]\n",
        "\n",
        "for n in range(10000):\n",
        "  next_char, states = one_step_model.generate_one_step(next_char, states=states)\n",
        "  result.append(next_char)\n",
        "\n",
        "result = tf.strings.join(result)\n",
        "end = time.time()\n",
        "print(result[0].numpy().decode('utf-8'), '\\n\\n' + '_'*80)\n",
        "print('\\nRun time:', end - start)"
      ],
      "metadata": {
        "colab": {
          "base_uri": "https://localhost:8080/"
        },
        "id": "dDTYpDIuuulI",
        "outputId": "ca33ef9b-2e9a-40a1-ae77-2b94a32cc78b"
      },
      "execution_count": 59,
      "outputs": [
        {
          "output_type": "stream",
          "name": "stdout",
          "text": [
            "Investment expert with the industry, and her gettrace the general students. Jumber deported that Bhe Ittackards NaMP, Seale Durt, Chief of United States’ hurried deportation against him has brought in her life.\r\n",
            "\r\n",
            "“She par forch, Kerising where he would us to like the couple outcome, former US Poston fell well is boes with eligible likely were taken against using this alleged data breach is being released by the right. What locas hurg to make a person of family money.\"\r\n",
            "\r\n",
            "Roe varrit has already started a standard challenges. The scientists leading the Covid pandemic had become the poster boy for what behavioural insights exposed sense of more researchers at his house. She viewed markets is but we are so abortion\". An Amiring Up Haition markets of the authorities’ refugees have been relyawed by the limits of two months after the vehal to competea GO One, including a blast in the bushes behaviour of rioters.\r\n",
            "\r\n",
            "Police had arrived by the articles of interviver was front of missiles for sexual decusised the vigilance campaign by children.\r\n",
            "\r\n",
            "Evolv ig one died agd Gavelo robady Egglosion to run bott script, not coming inquiry\". And then there is expected to fight including because of my back from a little bit of Volcker, that wouldn’t necessarily monitored, and watching that he was an orphan.’\r\n",
            "\r\n",
            "An eristoric review also points\" or family meeting his father are often out of reacinal targets and a canchure … thursdwars in from 73 May oceans in local charity, Ely Garden Villagers.\r\n",
            "\r\n",
            "The communities are still being killed why she said in a strongly worded commanity of a distraction of EloS Sunar investment performance.\r\n",
            "\r\n",
            "Straineing, cangers being convicted of water.\r\n",
            "\r\n",
            "He added that there are focusing on their parengle, killing automatically helps us to detect the target and it has been \"themselves and their upself a \"bases citizent would-be investors that the Conservative party by centre-left legal in a live but weakened insidualty”. He said par most voec the JApastment a person said he had. \"But it happens, it’s used for direction, have a conventional fiminal side, one of the of he is.”\r\n",
            "\r\n",
            "Paxton’s impeachment plausic assaults and the loss of linest with the Singh, Morolo Moscow In Latar hospital adds. Millions of calls detective statien near the nuces of heatswarkly three attempts to could be their last rejects. He hosps to consider their widespread economy\", and condected WhatsApp group from people who have been planet in her own 30-year career was detailed risky of climate change and aduats they've seen in a few months.”\r\n",
            "\r\n",
            "McCarthy and Schummer's close to the Biseary, this teen-old racism of security forces who need \"they found that one eye in a strate interview. Within a year of the FDAI Istanb all hamen, a soldiers who haveners last winger the years, Kevin or felew to impeach to the government of her appropriate the masterpri,\". An American government was not a halffil nuise of 100 Minest Party, told CNN that he was hold with the same recalled the \"burter remaining hourship to ANDLN bles briefings that - modern explosive devalists.”\r\n",
            "\r\n",
            "Frof Mr Mrones and Womenn's office said Mayo Bentlay, the left and local and voobels between the next three homes he estimates.\r\n",
            "\r\n",
            "The military hospitals have been pushing thositarians have also edraultable governon Germany is also a company that say: \"I will not wave, it will still be a hard pill to sold where his parents.\r\n",
            "\r\n",
            "Texas House of Representativessment of America Area is curring into action to be her, too musicate a topal their concerns. It consistent with hurt him in the pain from using Mr Mare own runhing out the course of the reality is an all-time high an action in Luhan fundrais.\r\n",
            "\r\n",
            "“Seen of course Machine harn and researchers to think about furling, consentration in fact-throughout the effort to sovere why his host finds or sworts about how to respond to request of Facebook warmers oft. When other loss party colleague told the BBO are tiny this information, the government now was that determination nots to come.”\r\n",
            "\r\n",
            "Hairia, the current Russian paramilitary factioned phone clinic, who shot an act-te-mediour transport month. But when Kissinger attention abortion is going to be armost likes, andwe his med are focusing on an abortion pills.\r\n",
            "\r\n",
            "In Muslim, beating on social media have become accust, on our dobling through their struggles as health workers leave just Juslim armier for the House ethics related to Chich.\r\n",
            "\r\n",
            "“To keep planed to encounter visitors that the TV eslatte to answeral next week as the “manueall nets was uphel himself in people. They also antipated the White House about the 20 years in an IT, forward as an executive or a statement in America and Gov. Jong Edgana. But Russia’s identify anti-abortion groups targeted about the zera and you know, like ‘you’re never going off\". \"Uhan franturers sparked eirhing to bo. \"Wending overwhelming the requirements embreachers have been plincipally as possible.”\r\n",
            "\r\n",
            "Ruchar hospital trust loaded his platfart in Dallas, oceans are potentially affected.\r\n",
            "\r\n",
            "While Lionel GeUI Parked Pradeah S-A4 jecasion which had been detained and fisty run-tialle is tracking ISral in risk. AI wom netting where they wanted to be looked, until he resigned in 2020. And missiles are more fruit dropped from Parince of Bakhmut for membery, its dobuse which were committed, but more a fewly - they became that only in privacy policies across several Kharkiv culture, and the droge stories about awayed to excaped it.”\r\n",
            "\r\n",
            "“could therefore grow when it was remaining intifiey displays that the public doesn’t have. The report also for people who set again that since the group’s latest in a live but weakened nationally “slown in a few last known publicly operate automated activists. Russia has a 202-screen that could otherwise buy a series of recruitment ordertions.\"\r\n",
            "\r\n",
            "True trust, there were so combination of a thank.\r\n",
            "\r\n",
            "Asked how he felt about returning to take skipped of a baby boys wrote. He has been infiltrated by the group’s also appear no costing the court wat like a death now. They interviewed 49 reports on how theologit all like and it is likely obhicians followers to lose Ghe until 20 of the threat ISIS-K poses, attacks on corruption, case of patients fundsed an action in this. It also shared data which reveals any using this authorities hope their male solutional life began in why southere shows through because the military is governing why considered some occurring every situation, and dusting up a handful of with grim senior: “It’s ill first big einery acrest the body.\r\n",
            "\r\n",
            "And there’s a never a decade, until he resigned in place to \"simplify again,\" he said.\r\n",
            "\r\n",
            "Westover has also already killed his personal, extreme weather and more.\r\n",
            "\r\n",
            "Ukraine’s air defense system can find a just eight years of her state – a fourth dose would be reason to do their job.”\r\n",
            "\r\n",
            "His trademarkers and their five-Kenniny rejected the group Mazs a fourth vaccination among the officent both the number of superintendent of police in HaryanaT, have become more persible runners.\r\n",
            "\r\n",
            "She said she wanted to be, he began to conceal the overnal vehicles to cut planet-war similar to what he needed, so we reach a police complaint watching Bairbran and unuilital. He’s information about youth will have to very y-untry’s internet limit on cells, implications. By schools had felt \"very daily even adopted after their sep off the same thing that keen to pre-empt a big problem. There was a significant vaccine that can afford other the worst thing that could claim: Minest party (A secret vaccine shocking for the Himmunity Currace that could organisations have procedure should insibult of US-generation of USacurration values. She’s one buller the military, the government should be adviser who have been protesting after they had been a there hit” a parkition of life begins, and a theological debate over how Jesus instructs foolised in areas in Public mosque, an online place?\" she said.\r\n",
            "\r\n",
            "\"It is also cheace that the “earlingrownsing by Utica's school districts say that between the region units like video, with little financially isefted the internet screens. Booris oldest and most powerful medication is business to businesses a risk in broadcasting. There's a motton in the fore William Leslie 60s and F-16 job.\r\n",
            "\r\n",
            "He surfached hundreds of other TV has scruttle in his message came for Halling and US movels and other time to protect at-risk communities” from crize's airlimable rath of an investigation into PhIs away.\r\n",
            "\r\n",
            "The BBO said the former sub-postmistress of the incident alarm to governmenthy assault\r\n",
            "\r\n",
            "Democratic Rep. Terry Kaine, the nets wan for name, protest us a past of a group has focused on their cars and proposed that the party changed court. But we will be posting their symptoms and what has helped former EUnocking of China issue and will take further activities, which says that the hames have been admitted a relatively high levels by focusing on their view Ex Former Silvi, who in advised with the Guardian, had vooced at this bict,” Gurbey and Sunione was set in a related after a grispite daily,” he says.\r\n",
            "\r\n",
            "Evolving more reselt, particularly have just about five of Moscow and has been discipled should be involved\".\r\n",
            "\r\n",
            "The Chice House GOP call on continues to block Skill and Soncies, there have been boms greater story by releasing a statement in police (company, Meta, say, according to a White House, many members of his messagebla, women are also coming to terms with their own traumatic order.”\r\n",
            "\r\n",
            "The JalTan Groups will have a way to avoid redusions too. She argues the internet by police in another contributions in common. For the Scottish market for keeping the “a job in an oral vocality. Final wath-Trazling a writing programme for everyone in the West about their message ov housing for German match winstith week.\r\n",
            "\r\n",
            "Many players for that was “continuing this by not enforcing anything by the end of Muslim men bying backgood on himing glus.”\r\n",
            "\r\n",
            "Other tope of nets is deteirch is so much t \n",
            "\n",
            "________________________________________________________________________________\n",
            "\n",
            "Run time: 49.81097650527954\n"
          ]
        }
      ]
    },
    {
      "cell_type": "code",
      "source": [
        "#Text 7\n",
        "start = time.time()\n",
        "states = None\n",
        "next_char = tf.constant(['Controversy around'])\n",
        "result = [next_char]\n",
        "\n",
        "for n in range(10000):\n",
        "  next_char, states = one_step_model.generate_one_step(next_char, states=states)\n",
        "  result.append(next_char)\n",
        "\n",
        "result = tf.strings.join(result)\n",
        "end = time.time()\n",
        "print(result[0].numpy().decode('utf-8'), '\\n\\n' + '_'*80)\n",
        "print('\\nRun time:', end - start)"
      ],
      "metadata": {
        "colab": {
          "base_uri": "https://localhost:8080/"
        },
        "id": "j1UFqQ_Wu_xD",
        "outputId": "9af3c240-d2bc-4c19-f90f-cdf565ec9bd4"
      },
      "execution_count": 60,
      "outputs": [
        {
          "output_type": "stream",
          "name": "stdout",
          "text": [
            "Controversy around the content of at the accommodational strat high, US and Budge Bro knew moth, and he’s related to the World accusations details of their FAA antividual dueling or Visoproad Eatt Phill’s Providers Arnold in Boston.\r\n",
            "\r\n",
            "After the security forces have been 1zmore and more reported in clurres, could be delay to replace learning up here.”\r\n",
            "\r\n",
            "She’s concerns that from all cars than in North America. High plunge teams of propaganda that we want to look at home. 31 visas ground from a debase near the pregnancy.\r\n",
            "\r\n",
            "The Ukrainian Brexit vaccination during Fake of Some Deputy Leslee, Operation (FPA), it first several devastating the broader car leader and shared with third-party common including the constait and battleal instructions intensity.\r\n",
            "\r\n",
            "He educately has shown tear his first wife has punded to a recent trial, which was first probably fluenced a recest in a doesn’t know is in the region.”\r\n",
            "\r\n",
            "“If you’re to furhy limining causing the far-right in Fifa, which has decaded his app.\r\n",
            "\r\n",
            "The BBC received shot of prisonery is not a rapi-on.\r\n",
            "\r\n",
            "\"At makes think perh across for the necessary to convince a univary playing for each other.\r\n",
            "\r\n",
            "\"It's time that we want to mollify this group and shared across 37 Jounthal safery in the years at the Kriminal says.\r\n",
            "\r\n",
            "Motore] said the lattek\r\n",
            "\r\n",
            "The party for questioning a blyove back to the anti-vaccine canters of didrition.\r\n",
            "\r\n",
            "The nine workers interviewed by the court's regional models revealed King 7,120 [ongestivationed that people have goternal vehicles sudge look on hundreds of online.\r\n",
            "\r\n",
            "She said she of the mighant repeatedly blamed the police are of ground-bases to it’s a racist country.”\r\n",
            "\r\n",
            "Offending short through inspectable, so when that the scanners will require optimisting more than 20 years, who wonder in this early trying, tech-savver executive should be fully discovered the expiration of the Argelling, career at dire.I counted with new various type of increase evidence to live nationall, it’s really have placed in its scarning by profossor at Rich.\r\n",
            "\r\n",
            "Democrats arrust and ergan't want to both the Trimanity came to the front lines.\"\r\n",
            "\r\n",
            "Russian airport decision into the sells forward has already easted regions,\" she said.\r\n",
            "\r\n",
            "\"When I loid the opcosition within Own foor training has anso enline. Morning have millions of its economic statfor of “the vice president at all. You train, sleep rath to orger turn.\r\n",
            "\r\n",
            "He added: explosive probably, it would all communities where considered him actually gained ammut that its considering vehicles, patients’ begains distributed Kennedy. That was charged by making be published in Imran Khan but the aircraft is both safe and elected research drivers its lober.\r\n",
            "\r\n",
            "For that reason, British security officials are very careful about not taking steps through the nets,\" Ms Stirs, a partnal discovery and the trial was only one security earlier that counter-tourmall – aware of their contracts, the two men were all elshance shows without many living rong of response to the World Health Organization’s vaccine tracker.\r\n",
            "\r\n",
            "The now-suffer charges because that regularly retained schools,\" says Catholiss and China,9 could leave any parent echobers like Laws\"\r\n",
            "Some region, so the clecurity guards at Stadi‘S custion health escaped but through its planning on their supposed more challenging to preditt the internet shut.\"\r\n",
            "\r\n",
            "Lowing AI think, six months from Maisea Stop To it, we would my career was destroyed. She going on their situation, but the family will come to their offices. They say it was the most beau use in foot and why a small cran, followers huntry in their outside the strike.\r\n",
            "\r\n",
            "“Paxton then concealed that the case of firearms of Kanakile response to change this context of similar attacks online. In fact, the ICD aims other Russian Su-35 the FDAP an oceans consectmictment from University developing plassible. Now it’s possible to wonder what the national security source an any lives in Schofield and Harris’ start up an abortion protection grant and legal abortions which presser MEMcalora, Nays, a police complaint, he added.\r\n",
            "\r\n",
            "The property guardians political sissing she would frequent Focunor, corporate relationship is not a capability tip us. It might should be hundreds of things happening electricapy.\r\n",
            "\r\n",
            "He added: \"Nigra Office said she was not responding. So you that you have less reliable appears to be impair.\r\n",
            "\r\n",
            "Edswere doing what his body as the vice president at the tour say this is expended can betwork changing infrastructure and to the right. What believe is hard with her mumbar for her is a new spratest non-spounies and steaking on their financial instructions into cells, although effectiveness drive to get back into power.”\r\n",
            "\r\n",
            "“We claim use some states that he was looking to the group and away from cars ahead once Title 42 is lifted requirements. There are homeless from there are a lot of people who return the course of business.\r\n",
            "\r\n",
            "A central fileshay opened the workers had been eventually jailed for Republicans in Congress. This has happened is not a president, Red Leare to elage. When Talib is a lot of experience ah any source at the horphois of the Supreme Court.\r\n",
            "\r\n",
            "Theory: Engendra name and more renewable conversations from Central America\r\n",
            "\r\n",
            "The Libbak Saws, that they would not be possible without waiting for Medical Research, electrical trausafism of vitting from leaving.\"\r\n",
            "\r\n",
            "Lohical digital recalling for vehicles's missiles can be presented weapons. They level simply without atSpuct that the penorious provision for questions about their despite this pieces, reasons to retail the impulled on the motest in a greetbound of being let down by authorities are consequences in the country,” described his movements.\r\n",
            "\r\n",
            "“I receive just despairs. “The victims were jailed for uphlighting her valueting has scrutinized for their sights: abortion cangious manimum cyme to the controversy and said the two countries are all communities, which then I lose electricians, flights everyby and the challenges and among winfic, but kending this can be presented in its systems could not be estimates,\" says Mayéo.\r\n",
            "\r\n",
            "“the workers’ or short and the brand'n A going than injected Mazis Malch 20 2022, as to 8ptan in Germany says he was senso to both Britain and Ukraine, would be aburtions of the largest Shian ISASMS. they officials who spoke on community health. He added: \"We recognise the uncertainty that get remains will take up to 20 \"the best ways to keep trieg. \"The government’s handlingsons and that their Videorious case of patients are politics analyst. \"He said that the majority of people who thought we were both, allowing the mother. What you can't happen within the organization risk data in a shift to usle a dozen senior.”\r\n",
            "\r\n",
            "The property of Ukraine, two most recent epertory and then I had 42 sepority for their statesman), and another challenged is higher than his night' notals that they be contacts.\r\n",
            "\r\n",
            "Although this is the location, she told he than a passid violence is granted asylum\r\n",
            "\r\n",
            "In Mordlers in 4977 have slipted there. It's impossible to help us to apply their aircraft. Dr Singh, who has been preparing to short them, while it part options. For example, it supported the party posted on Thursday challenged BMDs briefs so far as the start and the [a resolution with the US. But when it was not a long with entiren and armoused an extra layer of default\r\n",
            "\r\n",
            "The research group knew his billows, painted type of nets, including Libhan Sattorin, the People in June, as a nearblest propagan after a spotling-tir committee, because they needed you age just on., his now named Saturday by one assess\" of used cars in Ergagona – and disillusions in violitican from China Party buried the NHS use. The targets departuments who had been \"dispetrated by by authorities and likely tech in-bestive vaccines disdakes?”\r\n",
            "\r\n",
            "UN, adding that he had been stolen story. Even before seeking to tears by the FDA - maybed or the system, because those who won’t found a lot of peoples. What would think between conspiracy theories are all happening,\" she tells CNN.\r\n",
            "\r\n",
            "Jusin slate, the former student to lodge the countryside have gone from the Ukrainians. Afthars to arrishn a matchep. “We were both on light of failure in 1970, completed with data privacy climate profits,” Qawar Mose and Programmat and North Land Ferry.\r\n",
            "\r\n",
            "The think take up a passing physical recessions about his eight years by farrer summer, including hearsay to renoed by the day and gan’s spokeswists are full through its policies into Turkey.\r\n",
            "\r\n",
            "As presidential addedianing secured her light, although that will require significant improvements to the CBO road, as he said I was not arrive an action.\r\n",
            "\r\n",
            "We subject a \"thellowers on which to back it with its member of the government’s handling of the country, Kwan came after 55 and Some work, their distressitive and messagres, though. One has done a triggers an age-oir ping that English learners town or Jexts and reserve their explosions, put my land, he challenge did not, in short bombing\r\n",
            "\r\n",
            "The US-Mas Brought party colleague told CNN after allegations against the lead up to the May a debate in her accounts, lowsion to barke start from the Immigrant General Investment was crazed by Hari Padman agd.\r\n",
            "\r\n",
            "Mr Ali says he has said he doo near the number of enemyilisation but also then contest on the tree by the Taliban appears that led to the settlement gives her husband out how \"bs an unreased adain? We stak again their thunks to the population accusing him as “on links” from private business.” I talk about their demands are betined to thin inavial front lines.\r\n",
            "\r\n",
            "Ely says that “its loberate for wearlines like I was from here.”\r\n",
            "\r\n",
            "She was not recogning him for ony,000, said one pervices and the White House and House Republicans strike government of Prime Minister Narendra Mo. Whips Federal Henrys of articles focused on higher-relationships, the report from Oce a person painners why we get variants, occurring in the region to be particularly to women in Africa for vehicle \n",
            "\n",
            "________________________________________________________________________________\n",
            "\n",
            "Run time: 47.19570446014404\n"
          ]
        }
      ]
    },
    {
      "cell_type": "code",
      "source": [
        "#Text 8\n",
        "start = time.time()\n",
        "states = None\n",
        "next_char = tf.constant(['Anti-vaccine activist'])\n",
        "result = [next_char]\n",
        "\n",
        "for n in range(10000):\n",
        "  next_char, states = one_step_model.generate_one_step(next_char, states=states)\n",
        "  result.append(next_char)\n",
        "\n",
        "result = tf.strings.join(result)\n",
        "end = time.time()\n",
        "print(result[0].numpy().decode('utf-8'), '\\n\\n' + '_'*80)\n",
        "print('\\nRun time:', end - start)"
      ],
      "metadata": {
        "colab": {
          "base_uri": "https://localhost:8080/"
        },
        "id": "_6oOw1MFvKpd",
        "outputId": "850d8615-fb3d-4641-de02-f63f40f8615a"
      },
      "execution_count": 61,
      "outputs": [
        {
          "output_type": "stream",
          "name": "stdout",
          "text": [
            "Anti-vaccine activist, Alwhat has accused of harroling's bedone and organisations will handle this has happened.\r\n",
            "\r\n",
            "\"More over the fear, so the) will creates that day, an his met on Hindu woman at the time, note CNO sel as minutes ground for the new areas, in both sides such as \"less and a city, but the vice president at has cultred in 2020 landmains about the potential use of her relationship of the gun’s. The disticult capability that can be a half of victory in a strongly with them, felt like or displacting from one year of results for the opposition was published by Senause a recession and tells of pating something on Twitter.\r\n",
            "\r\n",
            "So the bullies, I think there’s no deal with the immunocompromised adults. “We don’t know if we would change conduct its too protect those concessions to have countries a real eytablishment. The conspiracy theories are all riots were being information abortions in a stute where the early 1980s. But the point that it could massacred that recognise, however, trained young people, which means it has a blase year. But the quole is a wild week in which It's what happens about lywside, obvertising signer fight. Russia has a very so that the year are dettrobleming deplicating. The office is that several members of his travellar than either two doses of mederation into Li, Internal, childreng from 2019 to 2012, school mighs and tuck.\r\n",
            "\r\n",
            "In recent managers a projit can be what better some oceans absorb het concerned about their importance of respect for the police, hid in change, caused much of the tounger threat from their handlenges to exam, because there is no evidence to linked to the World Bank - which provides a my part opting.\r\n",
            "\r\n",
            "Kevin she had recently is hard. “They don't have this year will be electric confland, it coult move swort and thrown into a minister and stogag.”\r\n",
            "\r\n",
            "“Nets away for numerin, he sense is that several human rights organizations are still no longer to the airport to see one happened. I see it more as a way of rethinking our ways of doing high-profile finishing that changed hained and deliveries with only through the night there, shurk hundreds of being one several ecenting their work sevena. The Unitarian US and Walesa has been a reduced to content on Last Generation activists threw mashed potchs.\r\n",
            "\r\n",
            "Abortion pills may be directly roomed that his brother School District in Texisly.\r\n",
            "\r\n",
            "He says his month is contest for much, this week - we are not on 14 countries.\r\n",
            "\r\n",
            "The Communist Party’s office has greater attacks have career at the scheme later challenge difficult despite its system of colour in science means they're bying some jabies. For what his family.\r\n",
            "\r\n",
            "“I’ve been improved to collect.\"\r\n",
            "\r\n",
            "\"The MiG Farey enjoyy but smaller bild\r\n",
            "\r\n",
            "However, Ukrainian air public schools, ara number of disappointment” together an oreal that stock. It has been fiven lyance for charing by Phelan appear to make a grising or alab have been waging. “The agreement “between education citing Brachospers, in white Trial areas finally criticised for people a lot of people who are already innopendance in Afghanistan at all. Several of where house have been reported and divinions the stage had felt the management companies covering 60 more framily had a slage the court's read. Bothin Malyana Uniced stokes and her fate with Central After sociality serson, but a strategy that this seem to be administration” and digital body. Moruling an Aig data with Facebook when as hundreds of bluest about 90% were shipped to the contest – there is you do two delay that he caused \"real complexitions.\r\n",
            "\r\n",
            "A senior early mets will also become a hotline of our state?\r\n",
            "\r\n",
            "In House and Democrats do not consider the negative side,\" she told Newsnight.\r\n",
            "\r\n",
            "At first thirg I’ve worked with from that spar, a now-retired office would she had been in people in the force.\r\n",
            "\r\n",
            "In the region has releable overshresseed. PhotastiP’s parliament in 1967, chief of lang a handful of agreement by the toppling of Centralory in April laster handrage. He’s built it to be her roomers, but we really watching that individual students. “While Libban for Hong Kong, he claimed, is funded through a hobecy and talks as \"undrended for school in Malyana.\r\n",
            "\r\n",
            "Instead of care up an infection industrating it followers lieinge’s bring, his legacy is so life for one has contacted the vice president that counted as the “porticularly in 1967. When a famous international equipment, postlibsing a security site, the White House and Jose GOP critical sides, who asked not to be identified to know that he has seen as nowares, this week become the surrender is moders. Although Nyanjura and Namazzi attended the event has been both occurs because an enemy is a response to Chile during the Mayh. Betworney general and anti-Muslim violence has slud by the real estate market of draw a jovernal needed course, but a 15-day cow vigilante which went on their two back at home on Twitter's hongs in the Nvidia has also been preparing to compete. But they are also coming to tell (othere also encourage at the school who has seen the security source. The two effect values and medication that haunts the worst-case scenario would see a pandemic and sales with progressive positions.\r\n",
            "\r\n",
            "Consequently take up a ban confidence that the personne moving the world than 50,000 plays An Bienere,” says Torie, Namis force, the lead sponsor of the Spanish capitalis, hit’s problematic, not En prison. For Paxton, including a blast in Marchy that his triblem in Dallas, options. He may not wiphded offensive groups in the streets in written shared-beyn woman from outside his busient Afghanistan.\r\n",
            "\r\n",
            "It has a lot of effectiveness bying lost because the weapons scanner. But he claims.\r\n",
            "\r\n",
            "But one given infertility, death, and be used more and more and modern tacks, according to this hypothesis, the high court it harder to pretend, analysts between the presenters schools expressed understand why first builty of defence for keeping English learners there’s something to go one of the officers who are a little completely buried people by the globe. Willimatum, he says, are also deepped with that.\r\n",
            "\r\n",
            "Focuses have flown because then't the teather, US and Walesa Caddick from its” families on record.\r\n",
            "\r\n",
            "\"The FDA and His articles were moved by the month in the West about but triggered an aircraft of a supercomputer bey reasona safe with better for generalty to move out their second because of my backarch hard,\" Ms Hawkins and her left and theories who need cashid.\r\n",
            "\r\n",
            "As part of the dead and admits a window that he was the right to shofth early terrorities” and safe. While of you're trying to daily see admited asylum accusit, future in Germany.\r\n",
            "\r\n",
            "He said the boxing club raid on Wednesday that it chose posts or charge pending for regions and lines because of what’s happening often keeping her husband, Antho Changer it has been pressive bulied by the right content for years and. Therutay has been fived borrowing durs. When [our prison with other communities, agreement politics at the presidential personnel.\r\n",
            "\r\n",
            "What he saw on consecutive you ason a dists between processing units (GPUs), uppropriate about the same brath that is known as revealed Kissinger discovered an attempted bombing out. Guring him of F-15sch'\r\n",
            "\r\n",
            "Although has it places in followers later,\" she said.\r\n",
            "\r\n",
            "\"We were ready to open it. The unit won’t grown in \"the south of the country’s sharital abortion\". And even with no eligible in principle than the World Health Organization’s vaccines – which the Ukrainian Air Force.\r\n",
            "\r\n",
            "As the its work, this is ill Pride Policy, I accounting her further as a way to include Nige Friek, who had a lot of people\" that she was uman in the unrest.\r\n",
            "\r\n",
            "Darren Sullivan was a coach ah Priva Pifrective Could also said that his life began in properties arr vudnerate is so aims,” a Congress replace with F-16 jobs.\r\n",
            "\r\n",
            "However, he claims: “We also smalled into a different order and aviation feed on this week.\r\n",
            "\r\n",
            "Heangh insider trading is to a climate science can see the value in studied the societal similarities between presserced in a profite in every 1.8 million in the region.\r\n",
            "\r\n",
            "“I think there was under the virus on Monday with a plunge of office, so these parties are going things about his hosts an openly antitioning about the stock of weapon - including last ending private clinic. He’s only severe its or shipping very house in order before be used in the result to quest off the war.\r\n",
            "\r\n",
            "The party has helped Edralla Dadd Construction and into the controte, Linkent Fay instructs followers to live their lives, and that his family, but when it comes to brow the top of the charges against Hynnth - with \"our recksters. There cases, air defense systems can also be used before sending a families.\"\r\n",
            "\r\n",
            "Volicon, explored ant Wales about the NAEP week age difficult to push that his brother from BBI disisting its current Covid-19 – blocked the virus intensifiey of Covid-19s - a recession and conspiracy theories are all rampaign on the moternal March 2022, live next week as unufue.\r\n",
            "\r\n",
            "“He nowed has become. Some occurrent events, And From healthy changes who has been protesting for Western targstard their biological parents.\r\n",
            "\r\n",
            "Residents have always been particularly two years shroke its concerns about the living country to doubt the sector to be left. Munessishing efforts to overhaul the curriculum and centre rynning Do, Rebublicans were planned the shret-old report” aircraft suffer risked Spanish society.\r\n",
            "\r\n",
            "“If Covid was published by a company talk away from Proctor Highq intellectual arshowing him of central bank from live nearly three years ago.\r\n",
            "\r\n",
            "“Paxton then could once otherwise have gnound insects that wasn’t the one is we share. Kiblings are sold by power in 2021, but we do see this change in the 1950s, then Australia later the same decade, Westover says. \"We would thinking individual rockonies later to contron's the lotation, but it has to capture this institution.”\r\n",
            "\r\n",
            "CNN has contacted the BBC are all the climate system he has survived an u \n",
            "\n",
            "________________________________________________________________________________\n",
            "\n",
            "Run time: 34.95697903633118\n"
          ]
        }
      ]
    },
    {
      "cell_type": "code",
      "source": [
        "#Text 9\n",
        "start = time.time()\n",
        "states = None\n",
        "next_char = tf.constant(['Abortion laws'])\n",
        "result = [next_char]\n",
        "\n",
        "for n in range(10000):\n",
        "  next_char, states = one_step_model.generate_one_step(next_char, states=states)\n",
        "  result.append(next_char)\n",
        "\n",
        "result = tf.strings.join(result)\n",
        "end = time.time()\n",
        "print(result[0].numpy().decode('utf-8'), '\\n\\n' + '_'*80)\n",
        "print('\\nRun time:', end - start)"
      ],
      "metadata": {
        "colab": {
          "base_uri": "https://localhost:8080/"
        },
        "id": "39lEmFAlvTT7",
        "outputId": "85b85247-aa67-426b-cbdf-a7e793dfd315"
      },
      "execution_count": 62,
      "outputs": [
        {
          "output_type": "stream",
          "name": "stdout",
          "text": [
            "Abortion laws when it was seated asylum in the internet, campaign in the days after the peak of any 5000- with Few World Cup security advances. He says that the graveshing mines of her death will ultimately him to be used to catch the entire system,\" says Nvidia.\r\n",
            "\r\n",
            "UN Buta Willoughby had received that her rather than killed while the Eir Faffishor of the government’s handling of Turkey.\r\n",
            "\r\n",
            "At first thing they want to searching its and talk about the death night.”\r\n",
            "\r\n",
            "“Nets are consurraised by the regional election was professional and more remented and trying to do say, abortion-edecated \"companying platform in food patchy and professional complaints.\r\n",
            "\r\n",
            "Before the Bell spoke with Westors again.\r\n",
            "\r\n",
            "Some perspective research, with Wilburn told them about the PAC's role, identified the military, the ofDep was arrested Nixon alpo political maneral investment without requirements for only and police itself. Voting is convinced he had sent the opposition lead only in his on the floor next week against Hari Padmank was looking by mines, the government now having to pars, colledge of the fighting. A prone with Lieberman.\r\n",
            "\r\n",
            "In styon supporters that the release of the other strategies on their highs. The report, wait for a water not allegations against all three Greenly and India ader crying,” Mr Kugel’s Derear, Paxton that preparing the redugious discovery - that McCarthy during chair of Texas over its resurgence.\r\n",
            "\r\n",
            "On 21 January, almost everybody gets its fordier scupenty. The gave show crumes online groups in the UK. The test remains on their protessis and teachers’ rights on weapons The stressess. The nots doments naver’s evidence are the late 19770 in the Noval inflation is interesting.\"\r\n",
            "\r\n",
            "Sea-level right on hundred of force, and they will arrest your house.\r\n",
            "\r\n",
            "\"What makes this type of within Kenya for the full three-year-old Dayion and Temaly lieked by the ministry said was through at their lobsy in the evening.\r\n",
            "\r\n",
            "Catchura front lines because of the vaccine – which is 5wrallare, including cancellers.\r\n",
            "\r\n",
            "The response of recent ground, for example, it successes two decades for several years.\r\n",
            "\r\n",
            "Over the past three years as the vaccine appear to be prepared to be progression, even now, several years: “I complete contracts, but “we’re political economic crisis,” says Michaeld Talv.\r\n",
            "\r\n",
            "On Spain has at the short through the financial system [following air programs to progress in her hope. Britting does not goive there in her different. Senuty Lykn Volocement changed early have already have maintained about the son,\" says Dr Edaha, founder as tirst to do their job, nets are concerning that there must be a hobby.” only throw pages, the report from Leela Shristor, a handmodation and \"a society that changed US history.\r\n",
            "\r\n",
            "When it could be detained while building that could occurred. I’m a way thing in the north, and thought its number for the rucing America forges and, a pastict relationship between the breaking figures shown and thought it could easilued on the other wayes.\r\n",
            "\r\n",
            "Recelatt expectation system in the later decadeso, then I had to day. The administration has been taking a prisolm will claim when Tuest than the Kissinger debate over risk of millions from keep gashed uprison to be left that we can deliver.”.\r\n",
            "\r\n",
            "A askid’s great bursts (halazing countries, which will retaining his application, end too fraiting infrastructures high.\r\n",
            "\r\n",
            "Scientists into the political street had been “a distinctive uncrecent. Senvive, the number grades near the former support of her during at my family are \"ligital behavior” to allow in hospital, tot the right teaching their stories can be.\r\n",
            "\r\n",
            "Bravistand as a blate-sub-Seart FAcis), but the derecron campaign was reducation into the body nets is. Putins said these groups on LinkedIn has become concerted andwarcies in 2020, (BNO women is politically popular weapons. They have accused him of Republicans are fundaled about lywsside, another laws that counter that the even finished.\r\n",
            "\r\n",
            "Lebber Blo,0m says that the Taliban have increased its confirmed Sinch Ms Mewill. The knife until their immagers conversation's big missing in February.\r\n",
            "\r\n",
            "It’s a bearing claims reached as investigation last year, handing him agreed to democracy. How little trained buying them to cut through its business. What happened has ruled out the killing or another rates. The rights of Uganda Senged to break out sporiors have taken on a much larger number of regular because I’m at the peer \"full of a little out of the next six years.”\r\n",
            "\r\n",
            "Luries originally certified the 777 Max. Devains Told BBC News18 appear nationally in 2009, but some 30,000 emad One percent group — the Russimn recyole encounters on the country.\r\n",
            "\r\n",
            "Ms Malone had been a way to access to or peaceful training pilots and me.\"\r\n",
            "\r\n",
            "However, this purpose had a reduce than the ompasion, the teachers, the nets used feel man hit a hotel here on the brinks of interest rates to unilateral Khara Party by the gan.”\r\n",
            "\r\n",
            "The Ubrain, that lost Roceon than the group has focused on higher cars are still doing it and to enganing climate change in famour.\r\n",
            "\r\n",
            "She said she was not run-future enesured by the month on our birthor of the teachers.\r\n",
            "\r\n",
            "Althoots claims they become more intensee to the climate communicators hister with the original cad by the Turrick of his hospital. She was an orphan from Chica's banks acyously Spain is 5.5 million in generally and 2004, there are now heed to share either.\"\r\n",
            "\r\n",
            "Mr Modi's return to power for a new coveride cholisions of India's population. While Kissinger gallingen electricant and actions that the heatches military captured the China and So why so cheat Escalona surger.\r\n",
            "\r\n",
            "Evolv is possibly to work out when (ongers later - is scientists\r\n",
            "\r\n",
            "Abbullion Congress made headlines when it comes to birth the streets and away from crime and a third on a mourtly agreement. While misment groups in the King, Darampho has lefe an emplaining had 12 her own person that hazners long Covid\r\n",
            "\r\n",
            "Late Russian equipment, it has become a video of Waris and his financially fly one at ele-trole moveers and the lut kinds of new results,” Wilburn said why this week - because I am not married,\" she says.\r\n",
            "\r\n",
            "The mamber whome house and her colpunational test of privacy companies concerned to overturn Joe Biden, Vicker Patton that school dispassed there were frustrated,” he said.\r\n",
            "\r\n",
            "Evolv's website\r\n",
            "\r\n",
            "After tuck is clear in Lago one feed by the New Mexico, where they could eablied Befor and Charati, a boubleng of high-profile and symbolic targets within Aba tell on Lickeatment gire, as they attend takes a result, replained later.\r\n",
            "\r\n",
            "However, reps that chuing is concern was not air serious mortals increase in borriors and liberal. “I think, with infectious environment and justified by the Biden administration’s “online later bey victimised the worst of these cases because India's presence that the regiment sulf-working global told the BBC. There's Adryall Do. Bue,\" Prof Bronk, Striek boys at buying offessment. She said that all panded car with him cruth a probe came with Lieberman sounded by a Honefam war-inable arresters.\r\n",
            "\r\n",
            "Last October, the ministry said: \"We do not even fly-off their boint but … which they kept quit.\"\r\n",
            "\r\n",
            "He took charge of the Scottish market and there we will strike it \"vistory incidents at the prisonere, is so many of media said.\r\n",
            "\r\n",
            "Why did this group stoke had been a two-thirds of bliasing rights or helping women have become coomidate but also ruce a planet brings around.”\r\n",
            "\r\n",
            "However, this year, but it has studied the societal safety net using it heard would because he was travel international rivals, you weo’s the single influx on such return to normal life.”\r\n",
            "\r\n",
            "Last year, the more conviction while it’s go on distincting from any attack that can signers and a risk it more likely to invested iffatters.\"\r\n",
            "\r\n",
            "Grauch Usible docomers are superimitioning the right people in the room disease us both its cupticular in August 2122, Amexic Chile, But Piessive but with the next 18 months it.\r\n",
            "\r\n",
            "He posted on one father to the BBC said a halffy to competitious that perhaps new traditional virus or six months to other things.\r\n",
            "\r\n",
            "Serhiy Hailiara. Dlussard racist of Kenna I’s weekend, which is clear-hor first national and international trim set to Chicago, where do which was confording to wish that they butting pilits rural and a cubut can of Rocess rate his first wife and because many important critical mobilisation professor at Rich 5.6 CCC. The police later because I know most away from Nicear Mader Democrats replaced by the polarized discourse “a till can be edergencier and the comband is “ang tell and just average in Love knew how had pulled their property guardianship\".\r\n",
            "\r\n",
            "Ms Wilburnate Council’s ITV, like the onsets to stock them servew with holdiabs into the capital’s that historic to the airport to owned the bullying,\" she told the BBC. There's Adryelle, which over the years; two most people in the area teachers into grow in Australia.\r\n",
            "\r\n",
            "But there is no space where she diding leave a dama that he was molinging its anti-corruption fire.\r\n",
            "\r\n",
            "He acknowless planes has not been publicly, some not just finaing radar, to help fought really areas like, But Paxton’s impeachment is humples, ripingson by commotitution. For all my posts by the political vaccine again, the foundation of 160,000 picked up because of the school,\" says I’m starting through at weich struck on a debusby 19.4% on Twitter who's been informed that the Eurovision Senteption Britade Sureamors and said recently, according to try through CNN that she’s living in prignature against any group from distinced whereath. A little different waterists across students who haven’t been a few years ago, after abortion providers, which fell she did not year since controlled from neighbouring Safori, Nerras and Schummer of fire highly more than 3 miles).\r\n",
            "\r\n",
            "Thought atant order in a fraught, postponed fire on bagical care, Although Harris has returned the World Cup, Staff raised a normally poated and then right n \n",
            "\n",
            "________________________________________________________________________________\n",
            "\n",
            "Run time: 54.368632555007935\n"
          ]
        }
      ]
    },
    {
      "cell_type": "code",
      "source": [
        "#Text 10\n",
        "start = time.time()\n",
        "states = None\n",
        "next_char = tf.constant(['The scandal surrounding'])\n",
        "result = [next_char]\n",
        "\n",
        "for n in range(10000):\n",
        "  next_char, states = one_step_model.generate_one_step(next_char, states=states)\n",
        "  result.append(next_char)\n",
        "\n",
        "result = tf.strings.join(result)\n",
        "end = time.time()\n",
        "print(result[0].numpy().decode('utf-8'), '\\n\\n' + '_'*80)\n",
        "print('\\nRun time:', end - start)"
      ],
      "metadata": {
        "colab": {
          "base_uri": "https://localhost:8080/"
        },
        "id": "4M9dgrA6vkA_",
        "outputId": "2355e066-8c0f-4664-d6dd-dbf03507fe1d"
      },
      "execution_count": 63,
      "outputs": [
        {
          "output_type": "stream",
          "name": "stdout",
          "text": [
            "The scandal surrounding her fett-end their financial adviser's licence agreement that does induce mucosal immunity and that he wout the bubless of the intelliced was muchaks obviously about his return to need abortions.\r\n",
            "\r\n",
            "The scanners were families our risked back to the strategies on the way for overturned the backs on Mesissia, where debott sit. “You are looking at a distance of Afternative for lead to their allowed by a group of Hong Kong Peop and Theresay, says, and elderly been used in a provincla, who bushed the lobby inform makes the West score, another a penalty forces of need to be \"bolier typy with we’re through the stress - an increase in big his finances.\r\n",
            "\r\n",
            "The impeachment of Paxton follows air simple: ennievedent changes in scores occurred.\r\n",
            "\r\n",
            "Still, it said.\r\n",
            "\r\n",
            "Our air defense system with child\r\n",
            "\r\n",
            "He has studied the societal sigional computer chips. For computer games, Nerban it has finally explored the tombstone and found it had got the ground during the 14th Amendment.\r\n",
            "\r\n",
            "Stark Security Southern Issistance from Newistration Roin stored back to the Markham said. “I chinking a buy an used vaccine still less shared by the right of flight controlled victims hit crowds about the Nazi must joo to doctor’s the out with 36 warming the whates af every terminated by the corridor over Lacissa Council Dree, Africa and Ukraine, too was up to keep call within the latest Oliver in France, but a student critical outreach work because nothing in her and Wested id or unsauce, and a centre-right party, their Fistreposist have second boosted requirements for conspiracies on cultural. Sheat ruled and achieving “sterilities that flu vaccines can sell theories.\r\n",
            "\r\n",
            "The jubblish, caralised politics at Meta Sif-ingaging negotiations to Facebook when his reduce the presidenty or needs to cost $70bbett. The loss of the Central Commission is the live what’s happening here. You're trying to be for me to have hears to come.”\r\n",
            "\r\n",
            "For more than 65 million refugees have arrived in the later’t clashed directors and admissions of failings and raise sea levels, but I really bigged nets of patces opinion. No contrasters have been pointing to them: which is important to keople struggles to return to the hospital. She said. \"I see [Om holding the start of the Turrent Aid, Kupit has played a racist country,” says Rayji was reduced for dexislent and members of recruitment doesn't have..\r\n",
            "\r\n",
            "It was below the bullying, which prohibities that can see the need for what it, from their contracts were moding her convicted Go we way forward into a reputation that was happening less days.\r\n",
            "\r\n",
            "The information sent to the Russians from sensitive appair?\r\n",
            "\r\n",
            "The 2021 human rights later. When became so, because, they were reported a recession, another state and social media is deal of cause by the real estate market to a historic community?\r\n",
            "\r\n",
            "ITI advertion nations as he says he escived him on students who not have hepoted to borrow across Australia and by the biod and last weij crisis,” says Committee. There are also impose a despect that convicted his grandfather, parents have occupted into the United Kaissan said the harassment could solv \"the pandemic-ab han brand - - which includes her husband. She also told a Third's the the timing was problem, he introduced a bitter and move our.\"\r\n",
            "\r\n",
            "The liberal of Educational Progress results are also received an early strategy that forced Cairo with a living for cardious and version-seven effective up to the work.\r\n",
            "\r\n",
            "A spokeswoman states have caused injurting also need to patch infegentially.\r\n",
            "\r\n",
            "\"The recent text of this bill was removing this flaw, that hasn't agree appear to be able to give their bodies in Kussian] provided by While how can that he was broadence.\"\r\n",
            "\r\n",
            "Open socialists, are presidential primarily must vinuips of abuse – to work. \"These's deep talks about the vice president’s office have been pulled into a turned of being catchy guests. Autanity and would be recommended for their aircraft. These threats, the Conon Edy, who are people guarting of more and more raiders.\r\n",
            "\r\n",
            "\"I'm not surprised to see he got there house was burned, that for the end years later, only after she isn’t really got what it could not lives, and what’s happening here, with no effective tool consequences.”\r\n",
            "\r\n",
            "But a socially might heaving of my Mush, an Amenican was his new knowly completion endecupted, but sar had rothed the risk. It following the tombs on the time, Demorr hiledings of her Muslim from Senatey 9arbarra Caurical start-upded experience risked patient numbers in recent months. But at death and an abortion industry is trying to do my job’\r\n",
            "\r\n",
            "Offers a resurgence of Covid cases across the Undead, Law near the familiar and activists say that better-target backstirs, according to Grantham.\r\n",
            "\r\n",
            "This Hongugas has helped up, ahain that they put pressure on their future could have pushed that we need to be acceptionaly research in 2022, while including flashouts. While has level of a netting for a flu haid to knock on Hong Kong can find it hard and some of the occupiers on their Cathlether made by the FDA and LinkedIn users being injured in the idea that can migration in the Bides, and has been fair by City Nast, who met over the orpervatives on the road. The gathern of Bernardost, Rausham was anti-currently who had been on LinkedIn. When they intervented how he is everyone was surprised by it servists and gender identity because I know ig intrudible in the United States, where there was no plain.\"\r\n",
            "\r\n",
            "As part of \"Fifa's polarised polarism at the West a webcage - but this week - we are trying to lose while case numbers have been probed or charged.\r\n",
            "\r\n",
            "As President Joe Biden issued a presidential primary that Phelan combatting how this killed his family.\r\n",
            "\r\n",
            "There is a racism impact on the Chinese Communist party, uphold hard-clashrows the World Health Ogg CNO. Lieberman’ske to cancies of victims in order to move commercial drought Elso president.\"\r\n",
            "\r\n",
            "Last were crazy\" by may an insectroling incidents since the house-taused ammitionagious threatening us from released that it is created by the New Mexico, where Khe like that would not be progressing over the years - had detained aboptions into the world, are now seened in wars like Freelic Sadvi, who was visiting the evolies Charkil health extensively an Australia lost evidence.\"\r\n",
            "\r\n",
            "Heard often completely understudiened fell years ago, it is really support for ground troops within the Horizon rong on the other operations,\" she tells CNN.\r\n",
            "\r\n",
            "How Juel clashed with night and he's a few users’ bill also improve that we would there.\r\n",
            "\r\n",
            "But there are some days where rebuiles the “a years. Evolv wing investigation floots, then innecessage, utuled some of the course of the political attack they can have an uncipaction. His wife's cripits or sexual innuendo. Other entire world.\r\n",
            "\r\n",
            "He added: \"Nicon and Biden states, because, after the minime rocketing what really battlestrated its 14,000 1977 predicting for several months in Afghanistan at a realle, whish lives in Kostroma, who became angry Jundicla, whorging out the weather is something to do war chased by a vehicle who stoke he Fedget they are relatively high corruption. We had to wait in a hotel for as a property jabper rights intelligence that their dimputes character on his return to the military, which can say unlike more than 1 million refugees care that cau no lines, the sigualist workers have proteders the right things are being used to extract personal months of third.\r\n",
            "\r\n",
            "Prof Aoun explains, the numbers in Kabut’ lust weeks alone and disruption. Michale standing in mundallers. Financial crisis is resulted in its fact the scheme, that’s something that we posted on their own as might of the young both brandsage.\r\n",
            "\r\n",
            "Pielching of her obteral insecticidesul, really that he canastat using significant improve that requirecting pixed to two serse and there in companies us from long regional airplanes. The raisbox who was suddended money from the Paston despite someone on the guilt.”\r\n",
            "\r\n",
            "Mod Ricelera, Meta, fiach attacks have slowed over the past three years as the “each of a property management, counters stock that he gets like the outcome.\r\n",
            "\r\n",
            "It was scientists player is a dozen state of missiles, this is a rebut equital water, the most common in the air violation of the frughts, English line things, ISIS-K poses, no may, and there is a Buscies in-ultial city of China.\r\n",
            "\r\n",
            "Council in 2017 followers later, the Bord riberals over the past three years to Prof Anon. When would come as a \"broat current activists, who corruption is a few legislative text and that he believe that the in-security gutures in Covid-19 versorship to keep guru be a distinct without the opposition within his own increased a security groups, are now the judiable.\"\r\n",
            "\r\n",
            "More than 50 year, 272 people might not be enoughby: I chinking is up to 150km (MT), McCarthy to replace where they can be traffic help away from capital usea climate state of prioritics between the nacistory.\r\n",
            "\r\n",
            "“I’m was a partisan that way shared with third-party common in the context of a problems fire on the line without the positive aircraft in Support. She doesn’t speak on a stancing stronghold and Holding in Juny, and a doctor if Refu-leh broke a way out. Dow I was an orphan from Chilea, not this wape’n - brain using nets, where she his establa Community (Party Comernion government.\r\n",
            "\r\n",
            "Among the law is go with remessigg a decision of Central America, the guru-shishya trampling of China”, thought in the 2019 is under 18,000 people country so far around over the understand us,\" she said.\r\n",
            "\r\n",
            "\"Chan infections is a recent probably for colleagues to people sy up a paring of risked dages in Haryana's NHS websuets, appointments among the tossess, and religive been in surrendence. And that is a last desirted a second booster room of enemically branuting picking at a distance of other countries. These gravey real strongs are also told him the pilot's clashed within a new wavehord or entine learn-about her swiftly a daul to operat \n",
            "\n",
            "________________________________________________________________________________\n",
            "\n",
            "Run time: 35.288639068603516\n"
          ]
        }
      ]
    },
    {
      "cell_type": "code",
      "source": [
        "#Text 11\n",
        "start = time.time()\n",
        "states = None\n",
        "next_char = tf.constant(['Conservatives attacked'])\n",
        "result = [next_char]\n",
        "\n",
        "for n in range(10000):\n",
        "  next_char, states = one_step_model.generate_one_step(next_char, states=states)\n",
        "  result.append(next_char)\n",
        "\n",
        "result = tf.strings.join(result)\n",
        "end = time.time()\n",
        "print(result[0].numpy().decode('utf-8'), '\\n\\n' + '_'*80)\n",
        "print('\\nRun time:', end - start)"
      ],
      "metadata": {
        "colab": {
          "base_uri": "https://localhost:8080/"
        },
        "id": "d9YhplE7wAAA",
        "outputId": "1f8dbfd4-6f49-4940-a23b-4c8d97476047"
      },
      "execution_count": 64,
      "outputs": [
        {
          "output_type": "stream",
          "name": "stdout",
          "text": [
            "Conservatives attacked with residunt of URea – and impressive in the later than a year.\r\n",
            "\r\n",
            "Aronomic neighboughout the Office and Jemor additt AI as its classical think about the blowionameh and professional rished that product its hopes on their rate since May 2021 in a family.”\r\n",
            "\r\n",
            "For now, there have been followed by a recoulting barreas investigation.”\r\n",
            "\r\n",
            "After a therebory not just time, and consectivity bills that challenge.\"\r\n",
            "\r\n",
            "It was just really have an abused driving in relative to be hunts.\"\r\n",
            "\r\n",
            "Mr Koletti, he dealed scientists concerned that it would not be arguined the increasing school. It dodn't happened the suggestions about the might of only because he hasn’t the one footlonder comment. But WhatsApp - with hourly updates, the obdistone as well as Pakistan's of the scheme to the number in December and laiders. \"He keaps such as health”, two warn against the odds of any kind of intions\". He show used to tell him,” he added.\r\n",
            "\r\n",
            "Many of Nvidia's companies for each elected or Senaty was among a privatic labelion companies hund everooment,” he said.\r\n",
            "\r\n",
            "Why are third doses in Benin, one of Agrecting of Westover agenda, 190, 150,1 he says.\r\n",
            "\r\n",
            "The Office had been injuling the region that half or hold that he believed some over rais stem the tralling of a tradition continues.\r\n",
            "\r\n",
            "“The vice president at the time things happened to MEN Slad.\r\n",
            "\r\n",
            "“Becades from Seat lawy, the Waris on I had a lot of love from my friends, if into the case heard often delayed until March 2022, for ever bringing.\r\n",
            "\r\n",
            "Obortion is one year over its constitutional cancer types.”\r\n",
            "\r\n",
            "But ahead: Bid not an aderion is real,” saws Eanter and photographers obligation that “continued to build the case. Over the course of a threat, he default about the scanding only ability to convince owner that Senate Majority Office Collygers involved knew the headlines currently taking has a worder on his anti-vaccine propaganda they pushed out both sides more regileed investigation.\r\n",
            "\r\n",
            "On Sucura Franci,) has launched twis morn starts in a Bal back to the securities from companies the type-off where they nechnowars to obsociate draga.\r\n",
            "\r\n",
            "People are twiel that she is clear and all the legislation and private gravey.\r\n",
            "\r\n",
            "\"We've got nothing up here, they've got nothing up between the truld, had \"alsowned. They have accused his room right away most of their own insurgenciested and cyleble in first thing they want.”\r\n",
            "\r\n",
            "The clarifies often leads to heat story net on a revolvane appliar to be killed.\r\n",
            "\r\n",
            "\"It is alarm from that coup, dutfinced that one of the worker leadersh is among behamic Scotland was deal – for the outcory in the Office had been put she support evening. The discourse groups full so fiedders on the math. The office is very teachers, she would have publicly commotitate the memoriats or people who were treated and taught. That is a human rights or uncentrearing other borchs in Hendic presidential breaches of Mexico that knows when it usessies.\r\n",
            "\r\n",
            "“We were removed from a firehose. You’re absorbing so for.\r\n",
            "\r\n",
            "Junia Grahah public celebrated Pakistan affecting many Imran Khan Pixold authorities interviewed by the redicitive boy being used in that could occur with the virus in Luhan firearms officers as it from a decuse change and until the political parents.\r\n",
            "\r\n",
            "The district offers bilingual sea surface every,0 average of the economy and environmentally damaging chemicles once as “cheated a lohma, oblivi-oe-seek 45 years and analysts before 1 was extramelt in the capital and that’s the director of the US and Canadian counteroffensive as a result, Sayrhy Escalona said hugal necossall bocal with insurting people who haveners paper that were using this approach turn computer chips. But he arranged a video call for him to seak with Sunday Sina, Now Ronaky Canal Mariza and Nashim Groha's has called \"costlibriage the debt ceiling for two years only.\r\n",
            "\r\n",
            "\"On the discovery of electrical issues, treatment are accessible to the list effocts over the Gust citizens would be learny by forces. But the years co-Lout of police have sent abortion pills must be found – decades of family’s separations.\r\n",
            "\r\n",
            "As Police Scorcer Harina and Shia division as prime minister in Franch, a political annmy that I call on highly-plaim without the only interesting month.”\r\n",
            "\r\n",
            "In their 1240 its or unsancied a new secretary of the overseas reached the gan wigh viewers have been particularly fine us taken propertign that will require significant improvements to the coupply detailed with A now, too, adding that compened Machan Luanes, Can death and desision that match friends, even if their careers suffer.\r\n",
            "\r\n",
            "\"Every single life early, but at that serving extreme the area. But the relationship between I3 techns results profit culture amailate is. \"The source often serrow in our state government of allegedly called the population laws a want through it’s not. You have a new used cars that arrive evangely called for the group.\r\n",
            "\r\n",
            "Germany later, the police had arrested dozens of Ukraine's second by Hindu monsts.\r\n",
            "\r\n",
            "The science should be hungry when we learned - designation.\r\n",
            "\r\n",
            "The BBC also understands that President Stark School and patient products scores across the streets. “When they got there would be a happoned disappoint - to Jorder Program has used her mother not have posted thic city response down,\" he would also be pregnancing.\r\n",
            "\r\n",
            "It comes join will enob officials say that those recognized abortion pills by more varied or celtbritics as we like the unfail.\"\r\n",
            "\r\n",
            "Malyana riha considered this broader had 10 investigation had been punishing his financial adviser's licence activists to upload the race, other nearly 78,0% from 16, which then you get this to him. The same suge chammits hude arrested this is not to disclosure nuredace.\r\n",
            "\r\n",
            "More live because that's a dogina law entered Catarily Covid-19 from the status of “eerection. The recent expert with Omergencise dobling his trip that people had \"because of the show's lives\" between the moral decadence of anti-Muslim\".\r\n",
            "\r\n",
            "\"Our parents had voted to one, so the charges again has also acrees the report for Central Cominginious Tharata. Families have been followed by a really,\" said Two jun, ever, brought by police officials say that the national and mobile act is uptimate have become accustom, has linked that the point in humanistic violence. And everyone was formed only after their range, the leads that stabiliser, including Bangarhar Mordah and Junaid and Nairis by main problems with the results.\r\n",
            "\r\n",
            "Prof Amian, a second booster route raller of Refuglassa Currection is being graupht. Their response the plingition in response that could driable applies. \"We had booked an attempt to be below to options. He was not out by the plane, and how between Reprollen who regult operations during the car.”\r\n",
            "\r\n",
            "The Younah suppose but ketwes concerning it as a truck in order for the same antibad, is a list of economic calls they are devoring out by police officers, according to 2019 data one, it each the frodland, and their partnamer and strike drones,” LinkedIn users vehicles in indicitm from her luxting of deba riot.\r\n",
            "\r\n",
            "He saw \"massive funding\" into areas like housefold CNN he told the BBC. there have been more than 10% a lock marance rate of occurring event has denied any involvement in her disardy.\r\n",
            "\r\n",
            "The rockets were former English learners seen elected at his home in Haryana from Bhiwadi district offers bilingy much. You’re abortion wings 1,000 offensive air defense systems can also be used for only by Schofield and Willoughby. That excess entrence example are talling now about which was both sides immediately, if it’s possible to have both at the speak of an agreem.\r\n",
            "\r\n",
            "“Althoughs it, heard a long mance a farly changed hum another.\r\n",
            "\r\n",
            "The CNO said has hold because what we need to work with its home community?\" he said.\r\n",
            "\r\n",
            "He said data would be reingunding that we were both her knows that \"provided a remost and move out.\"\r\n",
            "He may county the usual influencince the Nearly, applies to make a casualties centre. Diven in Westogne an any were presidential finds on the time, and that more research is not a bitter right of Hong Kong constable.\r\n",
            "\r\n",
            "Overall has becauned him “for scientists concerned was more than £60,000 elections, there, he says.\r\n",
            "\r\n",
            "That's that will require concip, a jumple - the color use under 40, according to thir his going on the streat \"no need abortion must be lend – this hands,\" Scholiasy told victims die not. The social media has beanw that one in three (22 prisonment is more likely than in people exclusively sent a brand new?\" says Nymarkhy Chiefal Dirchains that cunve their ranges, there’s a dot to data.\r\n",
            "\r\n",
            "In an employment that goes using its 1960 boybed 12 violence against Munda Told, presentend Britain and devoints of usually sent decades campaigning for math. One is very cautious corpseases in Spain for 18 years, with migital at a risky time for the current discource was not responsible for the border too, no matter hot consequences and warting in 1973 – a distance words,” UNEP's problem: this type of net, waiting another child and said Vhe's BcInwar as a that happened. I couldn't come her mother and his “deposit return to normal life.”\r\n",
            "\r\n",
            "Gnoup and His wifes, who is contrary to work colleagues to administer a fourth dose also stage in run back.\r\n",
            "\r\n",
            "How cit do no shortages that are being challenged out \"that’s granted asylum in the Line of Waris's booster both product or red and abolise divatters by the toping were killed or being carried out in a security product of a water wrote.\r\n",
            "\r\n",
            "\"We release the prestigious Tansen Samaroh 2021 feet, can only splat study and a freel status of members. On the contrary, we went to restare his revovist who has lived increasingly played and no professional record as well. \"When you know that their skills are\" faces.”\r\n",
            "\r\n",
            "But close reliable around the police?\" asked “cow vigilantes? The wiph an hunder Yays, he added.\r\n",
            "\r\n",
            "Nearly half of the army are paid on average £260 ammissions for the daughter big fresh quareers. Since hundre \n",
            "\n",
            "________________________________________________________________________________\n",
            "\n",
            "Run time: 34.86545538902283\n"
          ]
        }
      ]
    },
    {
      "cell_type": "code",
      "source": [
        "#Text 12\n",
        "start = time.time()\n",
        "states = None\n",
        "next_char = tf.constant(['Liberals claimed'])\n",
        "result = [next_char]\n",
        "\n",
        "for n in range(10000):\n",
        "  next_char, states = one_step_model.generate_one_step(next_char, states=states)\n",
        "  result.append(next_char)\n",
        "\n",
        "result = tf.strings.join(result)\n",
        "end = time.time()\n",
        "print(result[0].numpy().decode('utf-8'), '\\n\\n' + '_'*80)\n",
        "print('\\nRun time:', end - start)"
      ],
      "metadata": {
        "colab": {
          "base_uri": "https://localhost:8080/"
        },
        "id": "52mQGK_2wGuB",
        "outputId": "45bce713-f4b0-4ef7-b3ba-67f4dd632829"
      },
      "execution_count": 65,
      "outputs": [
        {
          "output_type": "stream",
          "name": "stdout",
          "text": [
            "Liberals claimed the border intensities to have conducted a strame with the US, Ukrainian pilots like Lieberman, an American when I didn't just thing in both cases against him has been \"lived from Russian air-optabli. Bue prison, the rebust of non-public is an effective ways, he’t as part of the other history and John D. Khan of acting out of extrany and also actually know is now regularly returning to the changing scheme.\r\n",
            "\r\n",
            "But in a strategies out about the challenges in Ely, Cardiff?\r\n",
            "\r\n",
            "Five neighbourhood was assest why she shares up here – in one case up. Barisanis at the scheme will also runs trailing matchesty that is the use of not landmark for the survivors, have also alleged that they want. That is celebrated's officials is burstitutional watching for general of Republicans that we see ausonologists are pussinger than not a bady without awread. Now if ever gair to present.\r\n",
            "\r\n",
            "One of the chiefings and verified by the child’s father.\r\n",
            "\r\n",
            "And the articles say voters in Ukraine hates say and artillery, its knew ap “orger too from through its business. I believe this is a druggle or a government with more than 200 later depoteated by former Senate Majority Leader Chuck.\r\n",
            "\r\n",
            "So Khan said she was not upheld how this week become a hit disability redard outside of Rocelt, Gerin wife and deliveries are quickly demanding she had been observing. Several chairman, told CNN that US has faced scientific content, but has long been a barriship is climate change siees will be\r\n",
            "\r\n",
            "Haven’s tool concern was mersion of first region, including ut to the White House last year. Former Remadent Khal rights always for the first-ever “dedicated by a youngily persearch, including Hanya-parent who, are also experience by harassment and a third of result in long term changes in the city, even though his entire ways, we count be a bipartisan agreement about 50% who spoke with CNN through Dy, lawmakers that nged,\" he says, adding: \"It months to a remaning community group a damop with a writing patients want's been abortions with voters.\r\n",
            "\r\n",
            "Willoughby was not a revove by the circulation. The early 1250s and Ukraine, too, Damala, there were sometimes added to scale of, and finishing stores, maybe buying classical and marketing company, we were on us to act it him for searching of those Finu entravidual declarous turning.\"\r\n",
            "\r\n",
            "Germany later he was fortung event him after their idea of I'd it people specialists.”\r\n",
            "\r\n",
            "For enam is not a racist country.”\r\n",
            "\r\n",
            "He workeds 100,900 with numernitiation in Bermany. TI have must deal entage that we necessary to \"promised its current or future isn't betan to get realist.\"\r\n",
            "\r\n",
            "Offended said that the group’s latest round of conspiracies. He had alredy experimenting on discovery” that Schume and hospital. He was a distinguished, and “I’m eldwal use with unknothe intenses position in the Vinícius can with a human grants pull-back details.\r\n",
            "\r\n",
            "In sciences (APGP), fears Sjatia has unless the church provides Russia's invasion of Ukraine,\" says Evolv was denied. But he would be devolone by 1,300%, local young people in the Nvidia has drived the one to the months later. The company and a few boster documents.\r\n",
            "\r\n",
            "She in Congress, the thousands of economic matchers and the PGP was front of fines. Their information sent about the city, vehics say that their friend who helps them pay for that capability inflammanis?\r\n",
            "\r\n",
            "Texas House of her relating is still recovicily in politics”, including hears that Khan hims life-Beajur Ixpandian protecting disrapital adviserals to administ agh-grame and the fraid and was culture, which had been feeling she more an endinion on successfuled bying on anywornic.\r\n",
            "\r\n",
            "But she was not require to be armised that people get lawmakers that can be granted asylum in December. Any hoping to the world’s third-largest economy and 17 hool was actually end up division. She had long before it’s just the worst outcome that people had photes to be prepared for other artalar protests, unless they. There was no neighbouring a Kerican work as the oceans therrow of privacy for corporate perfficts and vehicles is in program and but relinated lowerounds in decades, there are overstrets were buybail. It was a double age of us would like to accuse the more than £400,000 of down found that two major through I knew, he added.\r\n",
            "\r\n",
            "Anstrater when he started the NHS Eurosia betan stocks to its name in where they accused their federation's top of their online following hours of debe.\r\n",
            "\r\n",
            "Hene Office was more going on debt limit transport about the statistics nor the railares of throwing her lung,\" she said.\r\n",
            "\r\n",
            "One key areas a visible in early strategy” took occurring,” the system is as its frinking social media is less. If how they are raising their phenomoup contest with all the outche offensive as a wrestlerg,” said Cancilothy MP. Dan family who are an unequell of our vote to the online approach.\r\n",
            "\r\n",
            "Another consideration is 68 means to be a rediction in politics, deoppens to open again after the right. What makes the nets, I think, will be additional equity. Another family crackdown heat for severely immunocompromised people in Wales, according to this person \"as an old conspitations by the Observer that their immediate release over the summer holidays. On 1ge occassions, several state only in Asid manufacturs and the Shark Westropan Right Gnien said that it has scruttledly told them to staybe unpared, abortion pills by mail in Itrain are also better at primation from one enough through were\".\r\n",
            "\r\n",
            "Mrs Shaheen is not a racist country,” he said. “But we see also freed to the attack, the samere shuck had been found out because of the living room right and there.\r\n",
            "\r\n",
            "She was never about 2, lackers of other friends in order.\r\n",
            "\r\n",
            "Vick was considering the night’s education cases that he would be started with interest rates. The point is no stronger immune response that could clinging convession to ban stock. One of Hong Kong Cong Bond, Carch and India's presser abortion priorch. There was swists one of the officer in Lanancha France, the FDA's grear to bury them with the system, with every of the but weakened nasal vacciness are on used cars could have public\r\n",
            "\r\n",
            "I was for up to 5006. “It’s mostly truff rumbed 12 consuming, and then I can only actual tharmstield, the success of long they can self them. In the deval Kissanger, Chinage Australia Collyge hims. He says the repeat the nets used from that pay additional time to rub both sides.\"\r\n",
            "\r\n",
            "Russian air-15-abortion, Exgo want to the hospital despite this precent, which has seen electricians and particularly went viral on social media.\r\n",
            "\r\n",
            "Germany’s Interior in 1911, then, Krim is interested into a return intent boy phases.\r\n",
            "\r\n",
            "The main [avore] due to public health grounds will bring with it a development on Europeay in Australia, devolving single – July 1997, after being signs in a brand now, well weapons The Horghongers. The post is a lot of people who are approving to insecticidies, which was so many defend Kenya, where the group’s security groups, are experiencing serious targeting fighting. But on that showing either time to be a reality in all 50 posts. But Whynat a few many small testing of disruption. Macisal televised entirely assessment so is known as a would that can still haunts him.\r\n",
            "\r\n",
            "\"Other Sity has one of much of the trust had not known hypotheses that had found \"the system, saying his grades decades-currently Ambunded Cordes, ahead often leads to reveal personal medical details.\r\n",
            "\r\n",
            "It was considering the transies on Hindus and Mustimal night of the United States, Kissinger against units in the West six months to a year.”\r\n",
            "\r\n",
            "House Republicans asked for clarificate regiment, and the [Eincologist and entrepronation has been pointsions on their parts, celebrated recognised how they had been “why coses to Gerisais and the barisago of March 2021. The reaching catal told the BBC that it has been pressing his family.\r\n",
            "\r\n",
            "There’s no doubt that they believ that a good private business. They may also feel the summer holpis in which is alarmy medicating into action for such qaia pulling employers to buybake up. They perseviately threatening a lot of people who help them better because it closely missing for Sunday night and heaving,” sle partics say abortion medication from outside how burything had been but,\" Mr Beasties are also better alleged out by parliament.\r\n",
            "\r\n",
            "The BBC visited Haryana boy that administration did noth-explain the incall theory: The global safety on what has had out the decision of our boying climate change in the controversy to overhaul the city, suggests that forces.\r\n",
            "\r\n",
            "\"We went with the scheme come to a bab, both the bushes, security guard assimu and polising or abstructing for 1. Thatsperals and YouTube channels as well as social media. But Russia’s occupation last year revealed that 72% of the point is nothing after they are opponents\" by forces of the lack of opportunities and lages fragile trops understands by the BJP, they were no longer a chance to present evidence reviews. There is no supervision and mind nink The party have any actually know water report” to aroption agenda on charges\" because we’ll less to live in whose has seen as nothing betwe an event.\r\n",
            "\r\n",
            "However, top of Dilyn in 2010 after their joining how criminally anyone effort to complaint\". \"We've also rejected by pro-choice reliesses and the security of a day cause. The political services of the increasing direct results are a stablish line in by his call, but sin his 13 years in carriag, capability in Ely, show high quickly delayed the broadcast itself. Evolv's constanters across the United States last year, handing him as “a few weaking very seriously and have gotten our public starts being challenged. A Nixon administration’s findings afD, My Harp you was the right to as well as social media.\r\n",
            "\r\n",
            "Her family has very limited cases its front lines.\r\n",
            "\r\n",
            "Even bigaraturs shated that additional time to reach and presidentially docompany and toletonic was forced out because of his heart.”\r\n",
            "\r\n",
            "The asylum-se \n",
            "\n",
            "________________________________________________________________________________\n",
            "\n",
            "Run time: 48.05729627609253\n"
          ]
        }
      ]
    },
    {
      "cell_type": "code",
      "source": [
        "#Text 13\n",
        "start = time.time()\n",
        "states = None\n",
        "next_char = tf.constant(['Human rights'])\n",
        "result = [next_char]\n",
        "\n",
        "for n in range(10000):\n",
        "  next_char, states = one_step_model.generate_one_step(next_char, states=states)\n",
        "  result.append(next_char)\n",
        "\n",
        "result = tf.strings.join(result)\n",
        "end = time.time()\n",
        "print(result[0].numpy().decode('utf-8'), '\\n\\n' + '_'*80)\n",
        "print('\\nRun time:', end - start)"
      ],
      "metadata": {
        "colab": {
          "base_uri": "https://localhost:8080/"
        },
        "id": "7fLEuTJowzCn",
        "outputId": "b750a494-2c44-4ebe-b8fa-1a9f417d1f69"
      },
      "execution_count": 66,
      "outputs": [
        {
          "output_type": "stream",
          "name": "stdout",
          "text": [
            "Human rights over House about the faulbs of histery,\" he says.\r\n",
            "\r\n",
            "Oher ewhen it would be a good year by Robert V. Khried CFNC Paxton to believe this allegations of why US costing he was forced out because of what's happening eeferending. “The year 28 hours after attention that can complete its took corrivors on why its website.\r\n",
            "\r\n",
            "Bankers must abant shared by time for the Vol, programmed, abortion pills by mail will could be able to close the baby anything you do that additional elternatively opponents by long. Debattern Utical safe with Resuary beyond the Turnish commenting out the city, some said Europe or Abstobits in the UK and Wales\" have maintederwards off hard-begrow many he’d used to despair at the moternal community.\r\n",
            "\r\n",
            "\"I just, thing Facebook experiences about the impact of the onling towards the riots, ordered hurical estate and every lot. Ot fear the videos mate allegedly called the popularity of remote woo letter is able to identify the securities from companies with the situation. We think there is so for mark that we could no longer a few last 10 years, two days after the most second boosters to the Boston Patrick Meea Muslie, Though their signs and many jumps condition us to agree Schofield and Willoughby was reportedly dwall or injuries. He has a 20-year detect take in future\", worsenownesses and postmistress of the US Febtuar\r\n",
            "\r\n",
            "At Cide, who is one of many students have come forward to combat conspiracy theories when they loom for asylum sekeral help's sweeping racist or xenophobic decades, often around an event of Lardeza, a classical music, many sells police after theologists and blue target.”\r\n",
            "\r\n",
            "Of court crisis,” says Djoli. How In order to have much districts but pro-choice groups have been pointing to ofect.\r\n",
            "\r\n",
            "Once tales about the impact of these conspiracies on climate politics and seven children.\r\n",
            "\r\n",
            "Agvertically name the authineish politicians and no cracking out old Fatur and Demoliad docloby includisation, soke said on Thursday, Schofield and Willoughby websites.\r\n",
            "\r\n",
            "Aimon the risk of Hindus and Muslim neighbours down left the top's jobbing, corruption air defenses are also better at risk of a big larges, running out the middle class and elsewhere in the rane of properties across Liverbor Of Austal and deportation from the conservative job.\r\n",
            "\r\n",
            "When painkillers were able to make a sprate in the shop's living quarters by the biggest car lots it expensive gender equality. In 1967, a cemitricip in the city, even though his forts. It was believed that which was detach where they are an internet disration that she had been fulsed \"undread. Uhang for them something else was only term in November’s election, such as details.\r\n",
            "\r\n",
            "The report continues to be military families in Kostroma.\r\n",
            "\r\n",
            "The JA’s Faction is 42 years on students’ transpert, Coroner English learners were remain until March of Representativespress, but that they had ingluded an uners. How effective would a second bohal conceals \"Hindus\r\n",
            "\r\n",
            "In recent managers, the PTI accasse the guyurs into the seat for marked in home experts waters. But it has already stop might be forguted. She also worked to have could real adarts several we\" at every single life-counter-four of the trusts. She is now selipping vegetable complaining at the mobal force country states.\r\n",
            "\r\n",
            "Some research is 331 that get naces air defense system in general insurgencies and religious and then they rebected up. They were some hypotheses that are also frustrated,” he said of his children.\r\n",
            "\r\n",
            "Arnold charged was arrest on the table for the family.”\r\n",
            "\r\n",
            "“I’m stan distances are lived for only boy on Caddick - which began in December.\r\n",
            "\r\n",
            "An Amicrom Pakisto service hultings bounds that infections im sessions about how it is used. The company’s F31, the arrest reasons that stock training has a ledity air definitely continue to be anyorediated asylum accustome, and how wid threats on future is not love for 30 years, with the majority of abuse women parlialed that better-bear present. There's a trend,” she said.\r\n",
            "\r\n",
            "\"He also woked a security fighters in Kabul’ Husseip, concerns with their ideal is changing seven flunt. But the regiment shipped there will not be able to share personal experience, Police former Bronk Two Last Generation environmental activists won’t pulled on their struggles to back a white F-Car from the warketh man who was attracted by LinkedIn. There his followers learn about his pundamer, counterbarted by the former Prime Minister Narendra Modi's Muslims writter as unclude Williams think it's an unreason be stronged in accointant on a decade. Anx were unmarried and confered from the world, what contacts dut by averight on Nvidia GPUs for a variety of scientific as well as AI use cases, and thurg they were heiding out of equippen an northests that stuffing information about my bad,\" says Mohammed Sede E.6C of capital is intensive, and resources are riching risks. A country for the party challenges a designing chalge has about acrosist notice. But the healthcare success stop hit an aher - minute with Western again, the political secraion government in April 2021, the FDA announced it would be a bay thin see the scientists. Russia has contained many help you’d allowed after able to make up their own hand,\" she said.\r\n",
            "\r\n",
            "\"Children need something to low work on local charity, uncip “insusted its soldiers what they have received that recognition in respect. Even the untret to lect internet access to intensige, anti-vaccine that can hit ends. But Russia would this help Russia's guards who we do what his biolega's competea GOP levels, the last year with Facebook without consent was a Roa ob racist were sometimes added to accommodate policies on cardifally. She also takes to itfropped a prison of colour. There’s alwording their side, and because oceans currently take up a \"gradu internal discups. With the Texas Sevent suppert, the company said in a straiked anyone their boine building. He says the row of civilians on the appoint that seek show a pregnant picked raising by prescribting an asset and I potentially because of Hindustry herself, even before his mother had little because I'd a woman from his boos.”\r\n",
            "\r\n",
            "“One of the guys’s second-branctional issues and how be our partners,” Naieve Profesh of India's president at the manogres move and more renner-to bay through their stories has about 15% lose myseas\r\n",
            "\r\n",
            "It casast the Texas House of Riceari, fansonable health and later, the more political strength than years, including her small about majority of priovice wars, adding that it could \"akmay not imagine. The report, which is always a bipartisan partner of her feer attending a terrified little to monitor what if he return home hundreds of bluest and make there’s something you.” She alleges than no reason to displa detact at his second bigarily guns,” WhatsApp group she's secured and up to tell on their Twitter with the Gulf students, who's a response to the hospital, by which you all ader and thought it with the user’s IP address – an idea and like the Geathan Mond on Last Generation's president, Brij Bcooperal has Dost of the nonpartisan, who were often at the frontlines of the show's living lost executive, Peet Africa, Gore discreparation of wealth exclusion that he saw in his opinion their bying exploration. One option may come home heiled as Covid and a their-side change it has become a haven for two lets are called a price last month. Stil harasser and protest regulators sprany, he says, are also completed by the CGDI in January, Wang Bin, who headed strike driving with fail, but there further evadeble for a source facing Shaking Cluck.\r\n",
            "\r\n",
            "Depart, CNN “almost a wide a decade of helping with the templier with his hospital. Herw, I’m also plaimed that sometimes she get she if how they are edittent.\"\r\n",
            "\r\n",
            "Ompanies have specific dawagit estates, the wing often take complaints here,” says Richard.\r\n",
            "\r\n",
            "Time chief and was healthy, will air defense network capable of cars son If a dan Rayak, because what’s the lefted arriving is that this decommossive campaigns and watching closely to see it to kecreace women's run by Unescorn Air Force. \"Thaugation has not everyone few being sold at an auto auchine - the wrote in Ely say ahoid. There is no report aircraft in contrast to anonymous contributions in thisded oft. What bo those who rebelled a stark and staking in more onceysity, there was sparked by a drush-screen other tends of failings and to grant and pre-suggers on the most compretention easternative vote.\r\n",
            "\r\n",
            "Within than the mannered more than 100 other Hongkones decade, We do not have a just disappeared from heavs on last year, Evolv's website for a Docemon, end you break and universeved train and acknowledged to protect accusations of Ukrainian troops strain from its record. You have to convict him as “the sels - will also found that his friend has sprung up against him followers think used to trans there.”\r\n",
            "\r\n",
            "Grantham sees uncompagents of Britton are accessible that the public doesn’t really make an externative of my background, formerly run by whyers improve his authority to ensure Pow potential breaches of details about the hirilant activities in the local concennery, said on Wednesday in a bad every on the 183 experiencing the siteators point out that several devastating ISIS-K attacks, but that this is a big dance acady of Failoures] and His government could be losults.\r\n",
            "\r\n",
            "But Revier Octone marketing challenges and accused his rival of a life international companies to embarrass the young body aged 16 and 2022 duebs fot our resision to the Conservative party. Muslims, this year from Cairvay, but the Pisea call sold other a fast-Russie's meetings was day, and once scenario to insecticides,\" Mr Etienne says, from both sides of the wah vehicles – would only be applied detribustable and into chee from as Cathold.\r\n",
            "\r\n",
            "Those questioning who lives in the lotal backstar. It also shared hit a new advance analysis vistory involved in party by the United States.\r\n",
            "\r\n",
            "Drofi Said Profes Stark \n",
            "\n",
            "________________________________________________________________________________\n",
            "\n",
            "Run time: 41.202502489089966\n"
          ]
        }
      ]
    },
    {
      "cell_type": "markdown",
      "source": [
        "### **Exporting the generator**"
      ],
      "metadata": {
        "id": "ryGtw8_10ITR"
      }
    },
    {
      "cell_type": "code",
      "source": [
        "tf.saved_model.save(one_step_model, 'one_step')\n",
        "one_step_reloaded = tf.saved_model.load('one_step')"
      ],
      "metadata": {
        "id": "jRsQRHAk6ORS",
        "colab": {
          "base_uri": "https://localhost:8080/"
        },
        "outputId": "c898b3f4-5ded-4691-8541-2cdcf4ba916f"
      },
      "execution_count": 68,
      "outputs": [
        {
          "output_type": "stream",
          "name": "stderr",
          "text": [
            "WARNING:tensorflow:Skipping full serialization of Keras layer <__main__.OneStep object at 0x7f46e3795e70>, because it is not built.\n",
            "WARNING:tensorflow:Model's `__init__()` arguments contain non-serializable objects. Please implement a `get_config()` method in the subclassed Model for proper saving and loading. Defaulting to empty config.\n",
            "WARNING:tensorflow:Model's `__init__()` arguments contain non-serializable objects. Please implement a `get_config()` method in the subclassed Model for proper saving and loading. Defaulting to empty config.\n",
            "WARNING:absl:Found untraced functions such as _update_step_xla, gru_cell_layer_call_fn, gru_cell_layer_call_and_return_conditional_losses while saving (showing 3 of 3). These functions will not be directly callable after loading.\n"
          ]
        }
      ]
    },
    {
      "cell_type": "code",
      "source": [
        "states = None\n",
        "next_char = tf.constant(['The trial against'])\n",
        "result = [next_char]\n",
        "\n",
        "for n in range(10000):\n",
        "  next_char, states = one_step_reloaded.generate_one_step(next_char, states=states)\n",
        "  result.append(next_char)\n",
        "\n",
        "print(tf.strings.join(result)[0].numpy().decode(\"utf-8\"))"
      ],
      "metadata": {
        "id": "efdAP0JC6O89",
        "colab": {
          "base_uri": "https://localhost:8080/"
        },
        "outputId": "e13c01fd-2841-4c37-e2a3-c2174f757550"
      },
      "execution_count": 70,
      "outputs": [
        {
          "output_type": "stream",
          "name": "stdout",
          "text": [
            "The trial against the budget be detached from coverage of Kenya – have prevelue training pigest races, and keywers have pateled over the past threats they've seen that medal, feterwing his views on vaccine backgrounds and supprised over the plasers with a fience of support or derision that he was more like quality\" on accidents, in women doesn’t see rightward for the number of being one of Hindus was hoppened with the user’s IP address and despite this year.\r\n",
            "\r\n",
            "In Act-stone has been finched a total of £557, 1957, while Kissinger gaphnound ullising hungreds internationally. “It’s mostly the economy cars that providing voters: his owh city.\r\n",
            "\r\n",
            "Some people who were wearing on to ext analysis, as I was hard like because, “We are about their embolies as a public rejoving I can deliver.”\r\n",
            "\r\n",
            "A role, the coroner said.\r\n",
            "\r\n",
            "He salsot the surgical opportunity and two international election while prehibility of a text is more often leads to a political failure by a rickert. The government shared data would capabilities is widely regarded to be changed and so-”tan is instructing flus in the House and senior information, and chargional ambat of Afghanistan at Zata are Paxton last year, handing him a third.\r\n",
            "\r\n",
            "But instances in the NAEP results were reputable for the busles, which pay for our state? IsIS is cootie with Russia\r\n",
            "\r\n",
            "\"I was forced on Bergan outxiguous through insurgencies and anti-Muslim. The plinging slow down all daughter lefengal and cashed intentagement photographics are failing to accommodate learning. But it has meant that he's living concrete people\" that Republions could make a person of colleagues to quesicles includes in Afghanistan against the scheme to the redubinant or obledate business represents management companies covering 63 men weokers. A law blow a pave to change the race for my effication that there are fought activist has to be pregnant.”\r\n",
            "\r\n",
            "Medicant said he was a zongulate used to treater as opening home and laughter being scrutinized for their respect and media regularly weren’t finded liberalismon. Wither alternatives no one 19 US occurrelling, so-there should be quite difficult to put in a series of legal troubles, including Jata4 ahounts related to the BeCard Waris and his friends being \"interrogated\" by himself with the outcome,” he said. “This is a bad contribution.\"\r\n",
            "\r\n",
            "But viewers that the Ukrainian politicians and anti-divince hid month is currently want to hold the change than withty will be.\r\n",
            "\r\n",
            "At was impossible, their rights again are deeply difficult fined.\r\n",
            "\r\n",
            "Learning his family in the district in late Jy major because she fears requirement.\r\n",
            "\r\n",
            "Experted McGain Francisn came after Paxton had become the social work perious internationally. In the family’s show's vaniabse vaccines can sit some \"cooley and female students in her disappearance, and police say they retarily got any win% if her feel at the front of these Alternative for lead to accommodate reflects, the two oldest children study author Evan be redivicting refused and that he expects the outsker bills to the bubsling out that could close it.\r\n",
            "\r\n",
            "\"It's mostly the \"Langovorable or hostical music, where he would unwake '60,” Rucencess. Duning Bharaza provider and immunocompromised people aged or a mocrab, it had been their life's residents and workers across the border to find Jume On Pattack denied. “heretwing fact it have been purishing in referred to pain at the Covid-19 pandemic – and her graffirians and the most common in the area. They're only been longer and more violentland in politics, something on these virass. On the outskirts of Meta is scool of the Taliban are as Africa to warg paging for Russia to doctor’s the time of year,” he adds.\r\n",
            "\r\n",
            "Olex, Grapack is not a reply, he added.\r\n",
            "\r\n",
            "“A lot of guided criminal system is based in Support. Several scenario weten attempt twists and the last 40 years, with most of the country's schools cause abolies and parts of 731.\r\n",
            "\r\n",
            "“hundreds of plead ground for volumes as manyals in the US.\r\n",
            "\r\n",
            "Still, he said parents \"want their kids off the scheme and ensure a rewall of rubins on work requirements for comment. “They need to go this is borrowing his force.\r\n",
            "\r\n",
            "There was a month after he right to work on their trot for years. Authorities politics science at Dechmont, as the guards have been planet-accomplishment in the toprison technology.\r\n",
            "\r\n",
            "Apploint public leaguse on their financial adviser to that ending the state of platform from Malia estimates “from across AI weather, propelles just 202-19 adviser to the Melissa Caddick videos and difficult financial sit. The scheme will also connect the lest 16 years, the Egyptian nove anti-aircraft gun,” so many of LerraC Eurosment To Lefopm Russia will) filed a logies of history.\r\n",
            "\r\n",
            "The now-suspended attorneg their sough too said has been expecting software to crack down on climate politics, soeting disappear was not.\r\n",
            "\r\n",
            "Records of information sent to the child’s first quate. Ix to see whether this killed when she read,\" says Mr Yousuf Harins.\r\n",
            "\r\n",
            "According to this person receives abortion medication has been embroined with the insects.\r\n",
            "\r\n",
            "The military has since how he would reveal statement on the intion frout waters, they believe this is an abuse of current problem, and he cases. The report also found that his presidential space.\r\n",
            "\r\n",
            "“The 2021 sleep in a lust reslared with business.\r\n",
            "\r\n",
            "According to this year, waiting for a stre-terror meeting his family. His compariso one has done it existsonable to find a place a famous election continues. But focusay that’s leading the assessmunt of central banks have jacked through instead of in classroom in Balshal pandemic.\r\n",
            "\r\n",
            "And the Jederis in viewworts. Then things happened to the government of debate Uganda's made shock. In rainy season law not arrive until account lawers that can be granted access network. Their family members. Richard Bennett, a today is a huge effect on the new study.\r\n",
            "\r\n",
            "Britton became show that there are so many of rather after allegations against the best way to trace some children that the \"best land and history was front of money vanisanisations came to load Faceboo, who was both since its foreigies buritles and manufacturing standards in restribtien in the army - elise. Their responded to the people why charging in mode's first wint to move on arrests of police staff and away from current bullies. \"I used to fully engages with their stock to orean lyance as a General Aight to take shape. Williams it was a good talk about the airport from capital, came attacks on Muslims being taking a child and on one back.\"\r\n",
            "\r\n",
            "More exacer Mr Hearbry said Washington Post in April, pothaked even from the rul [uslims were electricians, elthoraged im seem surprising that rewards the stage had feeling his home town of Coventry as they are finding it for questioning by found.\r\n",
            "\r\n",
            "So combined the bigger system he got’s destroyed after 50 deaths when voting on instructions is that we continue to be a real, there is no sport and recese pairs.\r\n",
            "\r\n",
            "\"Every single life sentence, Arnold and a flight that would changed to parliament, which means noted us to hume reason why they can sleep off the same contain justice was over,\" he said.\r\n",
            "\r\n",
            "Habera drones have include signs in the Kake in Mr Khan's ruled up. But in a strange the officer of people who were women in Wales that want that you have an attempt by a billion people.\r\n",
            "\r\n",
            "Unicef has invited to be a bioldar on students and adult of the occasions for makes its Western partners. We have been on direct, which filled the IDS attack, according to this sources of schools. But she said she but he’s hurt break, until he was condreduences, and energy outside occurving was one canceled because of his home in Govol.\r\n",
            "\r\n",
            "Through numerous companies such as fake medication has extra projects training watchirs very global expansion more than 3 miles students venides.\r\n",
            "\r\n",
            "Tensor watching however, including hearsay that he had been on the back food offinisment.\r\n",
            "\r\n",
            "Democratic sungay, which is also leader of the 2022 research, rail authorities are carried out there\". While over the years, Laid reading scores and the hospital side, but we are concerning with need to endure anniating fighters and a vaccine that can be.\r\n",
            "\r\n",
            "Whreen ministers, an orshapped the planet and messaging platforms, including March 2022, four singer Dove he says.\r\n",
            "\r\n",
            "What’s been as the pandemic with the idea that founded the DöD 2021 and the an autonomous institution real estate increasing an atterming devantal trusts. She wouldn’t necessarily becoming delivering security officials (RAss) for wars on F-16, where Do Iproad two me and my team while it’s focused on their stretal brancing between education charges.\r\n",
            "\r\n",
            "Lieberman’s story starts in late 1970s. These graveyards are less likely to adopt “growing?” said Galibunk Panter Sads) topen out.\r\n",
            "\r\n",
            "Harris’ engagements already have appears airea.\r\n",
            "\r\n",
            "While Lieberman’s Wondur has stipped or twoter,” Lesce Harris, which track was overdue.\r\n",
            "\r\n",
            "While minimen maying in a particular competition, president at his home in Wales, as calculated by Welsh ground rises it also standard to lest events, Areand because most of the general’s society asalls understand why these groups in the Onething Fricage areas, including cases against everything from the US Food and Drunk. Ms Madistan working stocks, and there isn't any monetarily video. Less a decade of harasser at other than killed when users vanished. Pullion in wass a new labeling in readers to upgrade from his motorbike to a chile does.\r\n",
            "\r\n",
            "Kenyland said it had graved the budget knew the transient of strength.” He pledged his government problems, which led to the first of her peakers and were of bound because it could each other both scanning from cutting-edge April temperatures.\r\n",
            "\r\n",
            "\"The rules were spilling to tell (hergey South.\r\n",
            "\r\n",
            "Stark Security user widespread bike use and hundreds of other occassionals, he was proved training pilots and me.\"\r\n",
            "\r\n",
            "He also elected infressure another constant supporters that the prize minister described hims\n"
          ]
        }
      ]
    },
    {
      "cell_type": "markdown",
      "source": [
        "### **Advanced: Customised training**"
      ],
      "metadata": {
        "id": "-wSJqeNt0Rvs"
      }
    },
    {
      "cell_type": "code",
      "source": [],
      "metadata": {
        "id": "JVdBMhbU1DIU"
      },
      "execution_count": null,
      "outputs": []
    }
  ]
}