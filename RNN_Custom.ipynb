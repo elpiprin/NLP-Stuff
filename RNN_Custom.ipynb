{
  "nbformat": 4,
  "nbformat_minor": 0,
  "metadata": {
    "colab": {
      "provenance": [],
      "authorship_tag": "ABX9TyOWexJPOfntaJ5KrG4pXajz",
      "include_colab_link": true
    },
    "kernelspec": {
      "name": "python3",
      "display_name": "Python 3"
    },
    "language_info": {
      "name": "python"
    }
  },
  "cells": [
    {
      "cell_type": "markdown",
      "metadata": {
        "id": "view-in-github",
        "colab_type": "text"
      },
      "source": [
        "<a href=\"https://colab.research.google.com/github/elpiprin/NLP-Stuff/blob/main/RNN_Custom.ipynb\" target=\"_parent\"><img src=\"https://colab.research.google.com/assets/colab-badge.svg\" alt=\"Open In Colab\"/></a>"
      ]
    },
    {
      "cell_type": "markdown",
      "source": [
        "### **Setup**"
      ],
      "metadata": {
        "id": "JWEUpHyDpp20"
      }
    },
    {
      "cell_type": "markdown",
      "source": [
        "***Imports***"
      ],
      "metadata": {
        "id": "p3KzHD0epxwQ"
      }
    },
    {
      "cell_type": "code",
      "source": [
        "#Source: https://www.tensorflow.org/text/tutorials/text_generation\n",
        "import tensorflow as tf\n",
        "import numpy as np\n",
        "import os\n",
        "import time"
      ],
      "metadata": {
        "id": "CXZ2LPevDzuz"
      },
      "execution_count": 1,
      "outputs": []
    },
    {
      "cell_type": "markdown",
      "source": [
        "***Reading the data***"
      ],
      "metadata": {
        "id": "6Md3OSWzkzKe"
      }
    },
    {
      "cell_type": "code",
      "source": [
        "#Read, then decode for py2 compat.\n",
        "text = open('/content/Articles.txt', 'rb').read().decode(encoding='utf-8')\n",
        "#length of text is the number of characters in it\n",
        "print(f'Length of text: {len(text)} characters')"
      ],
      "metadata": {
        "colab": {
          "base_uri": "https://localhost:8080/"
        },
        "id": "9n_GA5OyEJaV",
        "outputId": "03e824f6-b9b8-429c-f878-b9d6b2dbf397"
      },
      "execution_count": 2,
      "outputs": [
        {
          "output_type": "stream",
          "name": "stdout",
          "text": [
            "Length of text: 480143 characters\n"
          ]
        }
      ]
    },
    {
      "cell_type": "code",
      "source": [
        "#Take a look at the first 250 characters in text\n",
        "print(text[:250])"
      ],
      "metadata": {
        "colab": {
          "base_uri": "https://localhost:8080/"
        },
        "id": "ug3QOUPyENem",
        "outputId": "c7fab708-5079-4cf0-a283-33decf4ff2cf"
      },
      "execution_count": 3,
      "outputs": [
        {
          "output_type": "stream",
          "name": "stdout",
          "text": [
            "Melissa Caddick: Death of Australian fraudster remains a mystery\r\n",
            "\r\n",
            "When conwoman Melissa Caddick vanished from her luxurious eastern Sydney home in November 2020 - with only her partially decomposed foot found washed up on a beach months later - it \n"
          ]
        }
      ]
    },
    {
      "cell_type": "code",
      "source": [
        "#The unique characters in the file\n",
        "vocab = sorted(set(text))\n",
        "print(f'{len(vocab)} unique characters')"
      ],
      "metadata": {
        "colab": {
          "base_uri": "https://localhost:8080/"
        },
        "id": "VbKBXgUHEUzj",
        "outputId": "c03e91a4-76d9-43f9-9894-f35560027095"
      },
      "execution_count": 4,
      "outputs": [
        {
          "output_type": "stream",
          "name": "stdout",
          "text": [
            "105 unique characters\n"
          ]
        }
      ]
    },
    {
      "cell_type": "markdown",
      "source": [
        "### **Processing the text**"
      ],
      "metadata": {
        "id": "loQgtVMhlCl4"
      }
    },
    {
      "cell_type": "markdown",
      "source": [
        "***Vectorising the text***"
      ],
      "metadata": {
        "id": "IEP6jTZ_qQ_e"
      }
    },
    {
      "cell_type": "code",
      "source": [
        "example_texts = ['abcdefg', 'xyz']\n",
        "\n",
        "chars = tf.strings.unicode_split(example_texts, input_encoding='UTF-8')\n",
        "chars"
      ],
      "metadata": {
        "colab": {
          "base_uri": "https://localhost:8080/"
        },
        "id": "LVF6jADMOkhf",
        "outputId": "a5f6a8ba-9eca-4315-c988-71151f7d6468"
      },
      "execution_count": 5,
      "outputs": [
        {
          "output_type": "execute_result",
          "data": {
            "text/plain": [
              "<tf.RaggedTensor [[b'a', b'b', b'c', b'd', b'e', b'f', b'g'], [b'x', b'y', b'z']]>"
            ]
          },
          "metadata": {},
          "execution_count": 5
        }
      ]
    },
    {
      "cell_type": "code",
      "source": [
        "ids_from_chars = tf.keras.layers.StringLookup(\n",
        "    vocabulary=list(vocab), mask_token=None)"
      ],
      "metadata": {
        "id": "9UkSiCoiOuIx"
      },
      "execution_count": 6,
      "outputs": []
    },
    {
      "cell_type": "code",
      "source": [
        "ids = ids_from_chars(chars)\n",
        "ids"
      ],
      "metadata": {
        "colab": {
          "base_uri": "https://localhost:8080/"
        },
        "id": "9TtA4WgROyKx",
        "outputId": "da360eaa-5d81-4852-9068-f1bb57e7731c"
      },
      "execution_count": 7,
      "outputs": [
        {
          "output_type": "execute_result",
          "data": {
            "text/plain": [
              "<tf.RaggedTensor [[59, 60, 61, 62, 63, 64, 65], [82, 83, 84]]>"
            ]
          },
          "metadata": {},
          "execution_count": 7
        }
      ]
    },
    {
      "cell_type": "code",
      "source": [
        "chars_from_ids = tf.keras.layers.StringLookup(\n",
        "    vocabulary=ids_from_chars.get_vocabulary(), invert=True, mask_token=None)"
      ],
      "metadata": {
        "id": "bb8pZAaqO0Um"
      },
      "execution_count": 8,
      "outputs": []
    },
    {
      "cell_type": "code",
      "source": [
        "chars = chars_from_ids(ids)\n",
        "chars"
      ],
      "metadata": {
        "colab": {
          "base_uri": "https://localhost:8080/"
        },
        "id": "N7gWKqXEO7Ws",
        "outputId": "45053df0-3c18-482d-a42f-ab6fb9cd57e9"
      },
      "execution_count": 9,
      "outputs": [
        {
          "output_type": "execute_result",
          "data": {
            "text/plain": [
              "<tf.RaggedTensor [[b'a', b'b', b'c', b'd', b'e', b'f', b'g'], [b'x', b'y', b'z']]>"
            ]
          },
          "metadata": {},
          "execution_count": 9
        }
      ]
    },
    {
      "cell_type": "code",
      "source": [
        "tf.strings.reduce_join(chars, axis=-1).numpy()"
      ],
      "metadata": {
        "colab": {
          "base_uri": "https://localhost:8080/"
        },
        "id": "0e1ZRpYkO_9q",
        "outputId": "02292e60-0a1f-439d-e4a8-e0e8cdc94448"
      },
      "execution_count": 10,
      "outputs": [
        {
          "output_type": "execute_result",
          "data": {
            "text/plain": [
              "array([b'abcdefg', b'xyz'], dtype=object)"
            ]
          },
          "metadata": {},
          "execution_count": 10
        }
      ]
    },
    {
      "cell_type": "code",
      "source": [
        "def text_from_ids(ids):\n",
        "  return tf.strings.reduce_join(chars_from_ids(ids), axis=-1)"
      ],
      "metadata": {
        "id": "-PpGG7A0PCHz"
      },
      "execution_count": 11,
      "outputs": []
    },
    {
      "cell_type": "markdown",
      "source": [
        "***Prediction task*** \n",
        "\n",
        "***Creating training examples and targets*** "
      ],
      "metadata": {
        "id": "skDLeHjYlXup"
      }
    },
    {
      "cell_type": "code",
      "source": [
        "all_ids = ids_from_chars(tf.strings.unicode_split(text, 'UTF-8'))\n",
        "all_ids"
      ],
      "metadata": {
        "colab": {
          "base_uri": "https://localhost:8080/"
        },
        "id": "Z0cD1dWNPG9K",
        "outputId": "85a13c9b-edba-4176-83b3-1d51a9d489d0"
      },
      "execution_count": 12,
      "outputs": [
        {
          "output_type": "execute_result",
          "data": {
            "text/plain": [
              "<tf.Tensor: shape=(480143,), dtype=int64, numpy=array([43, 63, 70, ..., 76, 77, 16])>"
            ]
          },
          "metadata": {},
          "execution_count": 12
        }
      ]
    },
    {
      "cell_type": "code",
      "source": [
        "ids_dataset = tf.data.Dataset.from_tensor_slices(all_ids)"
      ],
      "metadata": {
        "id": "HatOOeEBPI62"
      },
      "execution_count": 13,
      "outputs": []
    },
    {
      "cell_type": "code",
      "source": [
        "for ids in ids_dataset.take(10):\n",
        "    print(chars_from_ids(ids).numpy().decode('utf-8'))"
      ],
      "metadata": {
        "colab": {
          "base_uri": "https://localhost:8080/"
        },
        "id": "w0R9tvZ2PMhB",
        "outputId": "a65c9c3d-8f9b-4712-ec70-51b6b2ec118b"
      },
      "execution_count": 14,
      "outputs": [
        {
          "output_type": "stream",
          "name": "stdout",
          "text": [
            "M\n",
            "e\n",
            "l\n",
            "i\n",
            "s\n",
            "s\n",
            "a\n",
            " \n",
            "C\n",
            "a\n"
          ]
        }
      ]
    },
    {
      "cell_type": "code",
      "source": [
        "seq_length = 100"
      ],
      "metadata": {
        "id": "aYNP7rfMPRZQ"
      },
      "execution_count": 15,
      "outputs": []
    },
    {
      "cell_type": "code",
      "source": [
        "sequences = ids_dataset.batch(seq_length+1, drop_remainder=True)\n",
        "\n",
        "for seq in sequences.take(1):\n",
        "  print(chars_from_ids(seq))"
      ],
      "metadata": {
        "colab": {
          "base_uri": "https://localhost:8080/"
        },
        "id": "T69XUCpPPVv8",
        "outputId": "f1d58e81-4df3-4c3a-8f8e-d4f53ed9a9cc"
      },
      "execution_count": 16,
      "outputs": [
        {
          "output_type": "stream",
          "name": "stdout",
          "text": [
            "tf.Tensor(\n",
            "[b'M' b'e' b'l' b'i' b's' b's' b'a' b' ' b'C' b'a' b'd' b'd' b'i' b'c'\n",
            " b'k' b':' b' ' b'D' b'e' b'a' b't' b'h' b' ' b'o' b'f' b' ' b'A' b'u'\n",
            " b's' b't' b'r' b'a' b'l' b'i' b'a' b'n' b' ' b'f' b'r' b'a' b'u' b'd'\n",
            " b's' b't' b'e' b'r' b' ' b'r' b'e' b'm' b'a' b'i' b'n' b's' b' ' b'a'\n",
            " b' ' b'm' b'y' b's' b't' b'e' b'r' b'y' b'\\r' b'\\n' b'\\r' b'\\n' b'W' b'h'\n",
            " b'e' b'n' b' ' b'c' b'o' b'n' b'w' b'o' b'm' b'a' b'n' b' ' b'M' b'e'\n",
            " b'l' b'i' b's' b's' b'a' b' ' b'C' b'a' b'd' b'd' b'i' b'c' b'k' b' '\n",
            " b'v' b'a' b'n'], shape=(101,), dtype=string)\n"
          ]
        }
      ]
    },
    {
      "cell_type": "code",
      "source": [
        "for seq in sequences.take(5):\n",
        "  print(text_from_ids(seq).numpy())"
      ],
      "metadata": {
        "colab": {
          "base_uri": "https://localhost:8080/"
        },
        "id": "8TeSCad0Pa78",
        "outputId": "ebfa82bc-fac3-4a7b-adf6-fdd87c3fb281"
      },
      "execution_count": 17,
      "outputs": [
        {
          "output_type": "stream",
          "name": "stdout",
          "text": [
            "b'Melissa Caddick: Death of Australian fraudster remains a mystery\\r\\n\\r\\nWhen conwoman Melissa Caddick van'\n",
            "b'ished from her luxurious eastern Sydney home in November 2020 - with only her partially decomposed fo'\n",
            "b'ot found washed up on a beach months later - it set off a frenzy in Australia.\\r\\n\\r\\nThe case blindsided'\n",
            "b' investors, baffled police, and captured the imagination of a nation.\\r\\n\\r\\nThe fraudster has inspired a'\n",
            "b' hit podcast, a TV dramatisation, and countless outlandish theories - including that she had been swa'\n"
          ]
        }
      ]
    },
    {
      "cell_type": "code",
      "source": [
        "def split_input_target(sequence):\n",
        "    input_text = sequence[:-1]\n",
        "    target_text = sequence[1:]\n",
        "    return input_text, target_text"
      ],
      "metadata": {
        "id": "rBn9QmRfPcat"
      },
      "execution_count": 18,
      "outputs": []
    },
    {
      "cell_type": "code",
      "source": [
        "split_input_target(list(\"Tensorflow\"))"
      ],
      "metadata": {
        "colab": {
          "base_uri": "https://localhost:8080/"
        },
        "id": "ueB_8BB9Ph8T",
        "outputId": "89dda151-1865-46b5-f89e-5b1deb8aca1e"
      },
      "execution_count": 19,
      "outputs": [
        {
          "output_type": "execute_result",
          "data": {
            "text/plain": [
              "(['T', 'e', 'n', 's', 'o', 'r', 'f', 'l', 'o'],\n",
              " ['e', 'n', 's', 'o', 'r', 'f', 'l', 'o', 'w'])"
            ]
          },
          "metadata": {},
          "execution_count": 19
        }
      ]
    },
    {
      "cell_type": "code",
      "source": [
        "dataset = sequences.map(split_input_target)"
      ],
      "metadata": {
        "id": "PoEqvjgVPl3T"
      },
      "execution_count": 20,
      "outputs": []
    },
    {
      "cell_type": "code",
      "source": [
        "for input_example, target_example in dataset.take(1):\n",
        "    print(\"Input :\", text_from_ids(input_example).numpy())\n",
        "    print(\"Target:\", text_from_ids(target_example).numpy())"
      ],
      "metadata": {
        "colab": {
          "base_uri": "https://localhost:8080/"
        },
        "id": "Ey28Rn54PrS9",
        "outputId": "d21c1b47-dd5b-4311-e37b-0069db8c0ee1"
      },
      "execution_count": 21,
      "outputs": [
        {
          "output_type": "stream",
          "name": "stdout",
          "text": [
            "Input : b'Melissa Caddick: Death of Australian fraudster remains a mystery\\r\\n\\r\\nWhen conwoman Melissa Caddick va'\n",
            "Target: b'elissa Caddick: Death of Australian fraudster remains a mystery\\r\\n\\r\\nWhen conwoman Melissa Caddick van'\n"
          ]
        }
      ]
    },
    {
      "cell_type": "markdown",
      "source": [
        "***Creating training batches***"
      ],
      "metadata": {
        "id": "MTPNGBhvlsVJ"
      }
    },
    {
      "cell_type": "code",
      "source": [
        "# Batch size\n",
        "BATCH_SIZE = 64\n",
        "\n",
        "# Buffer size to shuffle the dataset\n",
        "# (TF data is designed to work with possibly infinite sequences,\n",
        "# so it doesn't attempt to shuffle the entire sequence in memory. Instead,\n",
        "# it maintains a buffer in which it shuffles elements).\n",
        "BUFFER_SIZE = 10000\n",
        "\n",
        "dataset = (\n",
        "    dataset\n",
        "    .shuffle(BUFFER_SIZE)\n",
        "    .batch(BATCH_SIZE, drop_remainder=True)\n",
        "    .prefetch(tf.data.experimental.AUTOTUNE))\n",
        "\n",
        "dataset"
      ],
      "metadata": {
        "colab": {
          "base_uri": "https://localhost:8080/"
        },
        "id": "k45EyaHcPwXY",
        "outputId": "c0510dad-a06b-4bbf-f480-a723927304c6"
      },
      "execution_count": 22,
      "outputs": [
        {
          "output_type": "execute_result",
          "data": {
            "text/plain": [
              "<_PrefetchDataset element_spec=(TensorSpec(shape=(64, 100), dtype=tf.int64, name=None), TensorSpec(shape=(64, 100), dtype=tf.int64, name=None))>"
            ]
          },
          "metadata": {},
          "execution_count": 22
        }
      ]
    },
    {
      "cell_type": "markdown",
      "source": [
        "### **Building the model**"
      ],
      "metadata": {
        "id": "FoUYy3rbl1xl"
      }
    },
    {
      "cell_type": "code",
      "source": [
        "# Length of the vocabulary in StringLookup Layer\n",
        "vocab_size = len(ids_from_chars.get_vocabulary())\n",
        "\n",
        "# The embedding dimension\n",
        "embedding_dim = 256\n",
        "\n",
        "# Number of RNN units\n",
        "rnn_units = 1024"
      ],
      "metadata": {
        "id": "rwu7Jt-sP0nP"
      },
      "execution_count": 23,
      "outputs": []
    },
    {
      "cell_type": "code",
      "source": [
        "class MyModel(tf.keras.Model):\n",
        "  def __init__(self, vocab_size, embedding_dim, rnn_units):\n",
        "    super().__init__(self)\n",
        "    self.embedding = tf.keras.layers.Embedding(vocab_size, embedding_dim)\n",
        "    self.gru = tf.keras.layers.GRU(rnn_units,\n",
        "                                   return_sequences=True,\n",
        "                                   return_state=True)\n",
        "    self.dense = tf.keras.layers.Dense(vocab_size)\n",
        "\n",
        "  def call(self, inputs, states=None, return_state=False, training=False):\n",
        "    x = inputs\n",
        "    x = self.embedding(x, training=training)\n",
        "    if states is None:\n",
        "      states = self.gru.get_initial_state(x)\n",
        "    x, states = self.gru(x, initial_state=states, training=training)\n",
        "    x = self.dense(x, training=training)\n",
        "\n",
        "    if return_state:\n",
        "      return x, states\n",
        "    else:\n",
        "      return x"
      ],
      "metadata": {
        "id": "lR_vIPmnP4z5"
      },
      "execution_count": 24,
      "outputs": []
    },
    {
      "cell_type": "code",
      "source": [
        "model = MyModel(\n",
        "    vocab_size=vocab_size,\n",
        "    embedding_dim=embedding_dim,\n",
        "    rnn_units=rnn_units)"
      ],
      "metadata": {
        "id": "FRNIbZ4LP9GG"
      },
      "execution_count": 25,
      "outputs": []
    },
    {
      "cell_type": "markdown",
      "source": [
        "### **Trying the model**"
      ],
      "metadata": {
        "id": "AACoB4bgmEMu"
      }
    },
    {
      "cell_type": "code",
      "source": [
        "for input_example_batch, target_example_batch in dataset.take(1):\n",
        "    example_batch_predictions = model(input_example_batch)\n",
        "    print(example_batch_predictions.shape, \"# (batch_size, sequence_length, vocab_size)\")"
      ],
      "metadata": {
        "colab": {
          "base_uri": "https://localhost:8080/"
        },
        "id": "_kC2NTNOQBiu",
        "outputId": "aa22054a-0100-4cc5-b1d0-a5b4f59fcd6c"
      },
      "execution_count": 26,
      "outputs": [
        {
          "output_type": "stream",
          "name": "stdout",
          "text": [
            "(64, 100, 106) # (batch_size, sequence_length, vocab_size)\n"
          ]
        }
      ]
    },
    {
      "cell_type": "code",
      "source": [
        "model.summary()"
      ],
      "metadata": {
        "colab": {
          "base_uri": "https://localhost:8080/"
        },
        "id": "GHJVGB2JQFR4",
        "outputId": "4701921f-cdb8-433f-cace-5ede82a93699"
      },
      "execution_count": 27,
      "outputs": [
        {
          "output_type": "stream",
          "name": "stdout",
          "text": [
            "Model: \"my_model\"\n",
            "_________________________________________________________________\n",
            " Layer (type)                Output Shape              Param #   \n",
            "=================================================================\n",
            " embedding (Embedding)       multiple                  27136     \n",
            "                                                                 \n",
            " gru (GRU)                   multiple                  3938304   \n",
            "                                                                 \n",
            " dense (Dense)               multiple                  108650    \n",
            "                                                                 \n",
            "=================================================================\n",
            "Total params: 4,074,090\n",
            "Trainable params: 4,074,090\n",
            "Non-trainable params: 0\n",
            "_________________________________________________________________\n"
          ]
        }
      ]
    },
    {
      "cell_type": "code",
      "source": [
        "sampled_indices = tf.random.categorical(example_batch_predictions[0], num_samples=1)\n",
        "sampled_indices = tf.squeeze(sampled_indices, axis=-1).numpy()"
      ],
      "metadata": {
        "id": "Qa_l-ayPQLtP"
      },
      "execution_count": 28,
      "outputs": []
    },
    {
      "cell_type": "code",
      "source": [
        "sampled_indices"
      ],
      "metadata": {
        "colab": {
          "base_uri": "https://localhost:8080/"
        },
        "id": "-YeJNjrtQOuN",
        "outputId": "146d299c-5ac4-4d2b-c1b2-3d138296abee"
      },
      "execution_count": 29,
      "outputs": [
        {
          "output_type": "execute_result",
          "data": {
            "text/plain": [
              "array([103,  81,  32,  52,  40,  86, 105,  49,   2,  28,  59,  50,  89,\n",
              "        59,   7,  73, 103,   0,  49,  82,  11,  52,  18,  42,   4,  20,\n",
              "        25,  79,  33,  23,  28,  84,  36,  74,  26,  93,  99,  84,  66,\n",
              "        28,  58,  41,  91,  75,  40,  51,  59,  11,  97,  84,  23,  70,\n",
              "         6,  95,  37,  44,  83,  50,  77,  30, 102,  84,  75,  55,  88,\n",
              "        12,  14,   9,  76,  11,  44,  49,  82,  88,  93,  87,  61,  15,\n",
              "        98,   9,  73,  24,  92,  26,  76,   8,  24,  91,  63,  25, 102,\n",
              "        99,  30,  56,  42,  71,  66,  98,   2,  79])"
            ]
          },
          "metadata": {},
          "execution_count": 29
        }
      ]
    },
    {
      "cell_type": "code",
      "source": [
        "print(\"Input:\\n\", text_from_ids(input_example_batch[0]).numpy())\n",
        "print()\n",
        "print(\"Next Char Predictions:\\n\", text_from_ids(sampled_indices).numpy())"
      ],
      "metadata": {
        "colab": {
          "base_uri": "https://localhost:8080/"
        },
        "id": "-0lL1EBNQSGl",
        "outputId": "97fbee1e-107f-40f7-c5c8-93b3322f1815"
      },
      "execution_count": 30,
      "outputs": [
        {
          "output_type": "stream",
          "name": "stdout",
          "text": [
            "Input:\n",
            " b'Under reforms made to Qatar\\xe2\\x80\\x99s labour laws in 2020, employers and workers can end contracts early, bu'\n",
            "\n",
            "Next Char Predictions:\n",
            " b'\\xe2\\x80\\xa6wBVJ\\xc3\\xa1\\xe2\\x82\\xacS\\r:aT\\xc3\\xa9a$o\\xe2\\x80\\xa6[UNK]Sx(V0L!27uC5:zFp8\\xc3\\xb6\\xe2\\x80\\x98zh:]K\\xc3\\xb1qJUa(\\xe2\\x80\\x93z5l#\\xc3\\xbcGNyTs?\\xe2\\x80\\x9dzqY\\xc3\\xa8),&r(NSx\\xc3\\xa8\\xc3\\xb6\\xc3\\xa3c-\\xe2\\x80\\x94&o6\\xc3\\xb38r%6\\xc3\\xb1e7\\xe2\\x80\\x9d\\xe2\\x80\\x98?ZLmh\\xe2\\x80\\x94\\ru'\n"
          ]
        }
      ]
    },
    {
      "cell_type": "markdown",
      "source": [
        "### **Training the model**"
      ],
      "metadata": {
        "id": "q6TCrNIhmR6c"
      }
    },
    {
      "cell_type": "markdown",
      "source": [
        "***Attaching an optimiser & a loss function***"
      ],
      "metadata": {
        "id": "idwcaR8msOtM"
      }
    },
    {
      "cell_type": "code",
      "source": [
        "loss = tf.losses.SparseCategoricalCrossentropy(from_logits=True)"
      ],
      "metadata": {
        "id": "OBYug03sQZHp"
      },
      "execution_count": 31,
      "outputs": []
    },
    {
      "cell_type": "code",
      "source": [
        "example_batch_mean_loss = loss(target_example_batch, example_batch_predictions)\n",
        "print(\"Prediction shape: \", example_batch_predictions.shape, \" # (batch_size, sequence_length, vocab_size)\")\n",
        "print(\"Mean loss:        \", example_batch_mean_loss)"
      ],
      "metadata": {
        "colab": {
          "base_uri": "https://localhost:8080/"
        },
        "id": "AAMHRpCkQcGU",
        "outputId": "2fef56da-14e8-41de-c32c-bc8c969002a4"
      },
      "execution_count": 32,
      "outputs": [
        {
          "output_type": "stream",
          "name": "stdout",
          "text": [
            "Prediction shape:  (64, 100, 106)  # (batch_size, sequence_length, vocab_size)\n",
            "Mean loss:         tf.Tensor(4.6626196, shape=(), dtype=float32)\n"
          ]
        }
      ]
    },
    {
      "cell_type": "code",
      "source": [
        "tf.exp(example_batch_mean_loss).numpy()"
      ],
      "metadata": {
        "colab": {
          "base_uri": "https://localhost:8080/"
        },
        "id": "BDLx_MJ_Qggo",
        "outputId": "f4ca10dc-0ef2-4887-e7c4-824c7f8d0b68"
      },
      "execution_count": 33,
      "outputs": [
        {
          "output_type": "execute_result",
          "data": {
            "text/plain": [
              "105.91317"
            ]
          },
          "metadata": {},
          "execution_count": 33
        }
      ]
    },
    {
      "cell_type": "code",
      "source": [
        "model.compile(optimizer='adam', loss=loss)"
      ],
      "metadata": {
        "id": "PCRAbwCAQkaq"
      },
      "execution_count": 34,
      "outputs": []
    },
    {
      "cell_type": "markdown",
      "source": [
        "***Configuring checkpoints***"
      ],
      "metadata": {
        "id": "CgOXgtpxsXzE"
      }
    },
    {
      "cell_type": "code",
      "source": [
        "# Directory where the checkpoints will be saved\n",
        "checkpoint_dir = './training_checkpoints'\n",
        "# Name of the checkpoint files\n",
        "checkpoint_prefix = os.path.join(checkpoint_dir, \"ckpt_{epoch}\")\n",
        "\n",
        "checkpoint_callback = tf.keras.callbacks.ModelCheckpoint(\n",
        "    filepath=checkpoint_prefix,\n",
        "    save_weights_only=True)"
      ],
      "metadata": {
        "id": "q6FiC4sxQoH5"
      },
      "execution_count": 35,
      "outputs": []
    },
    {
      "cell_type": "markdown",
      "source": [
        "***Executing the training***"
      ],
      "metadata": {
        "id": "WTiKvvarsh-G"
      }
    },
    {
      "cell_type": "code",
      "source": [
        "EPOCHS = 60"
      ],
      "metadata": {
        "id": "DahGk_M3Qpxw"
      },
      "execution_count": 36,
      "outputs": []
    },
    {
      "cell_type": "code",
      "source": [
        "history = model.fit(dataset, epochs=EPOCHS, callbacks=[checkpoint_callback])"
      ],
      "metadata": {
        "id": "IzqLLMAYQttS",
        "colab": {
          "base_uri": "https://localhost:8080/"
        },
        "outputId": "0edcb646-ac06-46d9-aef3-33035a4ff0b5"
      },
      "execution_count": 37,
      "outputs": [
        {
          "output_type": "stream",
          "name": "stdout",
          "text": [
            "Epoch 1/60\n",
            "74/74 [==============================] - 410s 5s/step - loss: 3.1432\n",
            "Epoch 2/60\n",
            "74/74 [==============================] - 407s 5s/step - loss: 2.3965\n",
            "Epoch 3/60\n",
            "74/74 [==============================] - 407s 5s/step - loss: 2.2080\n",
            "Epoch 4/60\n",
            "74/74 [==============================] - 412s 6s/step - loss: 2.0481\n",
            "Epoch 5/60\n",
            "74/74 [==============================] - 406s 5s/step - loss: 1.9003\n",
            "Epoch 6/60\n",
            "74/74 [==============================] - 411s 6s/step - loss: 1.7557\n",
            "Epoch 7/60\n",
            "74/74 [==============================] - 406s 5s/step - loss: 1.6282\n",
            "Epoch 8/60\n",
            "74/74 [==============================] - 410s 6s/step - loss: 1.5228\n",
            "Epoch 9/60\n",
            "74/74 [==============================] - 404s 5s/step - loss: 1.4362\n",
            "Epoch 10/60\n",
            "74/74 [==============================] - 401s 5s/step - loss: 1.3637\n",
            "Epoch 11/60\n",
            "74/74 [==============================] - 408s 6s/step - loss: 1.3008\n",
            "Epoch 12/60\n",
            "74/74 [==============================] - 403s 5s/step - loss: 1.2438\n",
            "Epoch 13/60\n",
            "74/74 [==============================] - 404s 5s/step - loss: 1.1884\n",
            "Epoch 14/60\n",
            "74/74 [==============================] - 404s 5s/step - loss: 1.1339\n",
            "Epoch 15/60\n",
            "74/74 [==============================] - 409s 6s/step - loss: 1.0790\n",
            "Epoch 16/60\n",
            "74/74 [==============================] - 407s 5s/step - loss: 1.0222\n",
            "Epoch 17/60\n",
            "74/74 [==============================] - 403s 5s/step - loss: 0.9651\n",
            "Epoch 18/60\n",
            "74/74 [==============================] - 421s 6s/step - loss: 0.9030\n",
            "Epoch 19/60\n",
            "74/74 [==============================] - 411s 6s/step - loss: 0.8398\n",
            "Epoch 20/60\n",
            "74/74 [==============================] - 419s 6s/step - loss: 0.7750\n",
            "Epoch 21/60\n",
            "74/74 [==============================] - 420s 6s/step - loss: 0.7101\n",
            "Epoch 22/60\n",
            "74/74 [==============================] - 409s 5s/step - loss: 0.6414\n",
            "Epoch 23/60\n",
            "74/74 [==============================] - 408s 6s/step - loss: 0.5770\n",
            "Epoch 24/60\n",
            "74/74 [==============================] - 432s 6s/step - loss: 0.5152\n",
            "Epoch 25/60\n",
            "74/74 [==============================] - 397s 5s/step - loss: 0.4552\n",
            "Epoch 26/60\n",
            "74/74 [==============================] - 398s 5s/step - loss: 0.4038\n",
            "Epoch 27/60\n",
            "74/74 [==============================] - 396s 5s/step - loss: 0.3574\n",
            "Epoch 28/60\n",
            "74/74 [==============================] - 398s 5s/step - loss: 0.3153\n",
            "Epoch 29/60\n",
            "74/74 [==============================] - 416s 6s/step - loss: 0.2778\n",
            "Epoch 30/60\n",
            "74/74 [==============================] - 410s 6s/step - loss: 0.2459\n",
            "Epoch 31/60\n",
            "74/74 [==============================] - 397s 5s/step - loss: 0.2191\n",
            "Epoch 32/60\n",
            "74/74 [==============================] - 410s 6s/step - loss: 0.2007\n",
            "Epoch 33/60\n",
            "74/74 [==============================] - 431s 6s/step - loss: 0.1831\n",
            "Epoch 34/60\n",
            "74/74 [==============================] - 403s 5s/step - loss: 0.1677\n",
            "Epoch 35/60\n",
            "74/74 [==============================] - 386s 5s/step - loss: 0.1557\n",
            "Epoch 36/60\n",
            "74/74 [==============================] - 390s 5s/step - loss: 0.1471\n",
            "Epoch 37/60\n",
            "74/74 [==============================] - 392s 5s/step - loss: 0.1395\n",
            "Epoch 38/60\n",
            "74/74 [==============================] - 390s 5s/step - loss: 0.1333\n",
            "Epoch 39/60\n",
            "74/74 [==============================] - 391s 5s/step - loss: 0.1282\n",
            "Epoch 40/60\n",
            "74/74 [==============================] - 399s 5s/step - loss: 0.1256\n",
            "Epoch 41/60\n",
            "74/74 [==============================] - 395s 5s/step - loss: 0.1274\n",
            "Epoch 42/60\n",
            "74/74 [==============================] - 396s 5s/step - loss: 0.1353\n",
            "Epoch 43/60\n",
            "74/74 [==============================] - 398s 5s/step - loss: 0.1570\n",
            "Epoch 44/60\n",
            "74/74 [==============================] - 403s 5s/step - loss: 0.2182\n",
            "Epoch 45/60\n",
            "74/74 [==============================] - 454s 6s/step - loss: 0.3118\n",
            "Epoch 46/60\n",
            "74/74 [==============================] - 430s 6s/step - loss: 0.3364\n",
            "Epoch 47/60\n",
            "74/74 [==============================] - 411s 6s/step - loss: 0.2880\n",
            "Epoch 48/60\n",
            "74/74 [==============================] - 395s 5s/step - loss: 0.2297\n",
            "Epoch 49/60\n",
            "74/74 [==============================] - 393s 5s/step - loss: 0.1783\n",
            "Epoch 50/60\n",
            "74/74 [==============================] - 395s 5s/step - loss: 0.1405\n",
            "Epoch 51/60\n",
            "74/74 [==============================] - 395s 5s/step - loss: 0.1136\n",
            "Epoch 52/60\n",
            "74/74 [==============================] - 387s 5s/step - loss: 0.0956\n",
            "Epoch 53/60\n",
            "74/74 [==============================] - 384s 5s/step - loss: 0.0847\n",
            "Epoch 54/60\n",
            "74/74 [==============================] - 381s 5s/step - loss: 0.0791\n",
            "Epoch 55/60\n",
            "74/74 [==============================] - 382s 5s/step - loss: 0.0764\n",
            "Epoch 56/60\n",
            "74/74 [==============================] - 380s 5s/step - loss: 0.0749\n",
            "Epoch 57/60\n",
            "74/74 [==============================] - 380s 5s/step - loss: 0.0742\n",
            "Epoch 58/60\n",
            "74/74 [==============================] - 383s 5s/step - loss: 0.0737\n",
            "Epoch 59/60\n",
            "74/74 [==============================] - 382s 5s/step - loss: 0.0735\n",
            "Epoch 60/60\n",
            "74/74 [==============================] - 381s 5s/step - loss: 0.0732\n"
          ]
        }
      ]
    },
    {
      "cell_type": "markdown",
      "source": [
        "### **Generating Text**"
      ],
      "metadata": {
        "id": "AuNaxxPTz6cz"
      }
    },
    {
      "cell_type": "code",
      "source": [
        "class OneStep(tf.keras.Model):\n",
        "  def __init__(self, model, chars_from_ids, ids_from_chars, temperature=0.5):\n",
        "    super().__init__()\n",
        "    self.temperature = temperature\n",
        "    self.model = model\n",
        "    self.chars_from_ids = chars_from_ids\n",
        "    self.ids_from_chars = ids_from_chars\n",
        "\n",
        "    # Create a mask to prevent \"[UNK]\" from being generated.\n",
        "    skip_ids = self.ids_from_chars(['[UNK]'])[:, None]\n",
        "    sparse_mask = tf.SparseTensor(\n",
        "        # Put a -inf at each bad index.\n",
        "        values=[-float('inf')]*len(skip_ids),\n",
        "        indices=skip_ids,\n",
        "        # Match the shape to the vocabulary\n",
        "        dense_shape=[len(ids_from_chars.get_vocabulary())])\n",
        "    self.prediction_mask = tf.sparse.to_dense(sparse_mask)\n",
        "\n",
        "  @tf.function\n",
        "  def generate_one_step(self, inputs, states=None):\n",
        "    # Convert strings to token IDs.\n",
        "    input_chars = tf.strings.unicode_split(inputs, 'UTF-8')\n",
        "    input_ids = self.ids_from_chars(input_chars).to_tensor()\n",
        "\n",
        "    # Run the model.\n",
        "    # predicted_logits.shape is [batch, char, next_char_logits]\n",
        "    predicted_logits, states = self.model(inputs=input_ids, states=states,\n",
        "                                          return_state=True)\n",
        "    # Only use the last prediction.\n",
        "    predicted_logits = predicted_logits[:, -1, :]\n",
        "    predicted_logits = predicted_logits/self.temperature\n",
        "    # Apply the prediction mask: prevent \"[UNK]\" from being generated.\n",
        "    predicted_logits = predicted_logits + self.prediction_mask\n",
        "\n",
        "    # Sample the output logits to generate token IDs.\n",
        "    predicted_ids = tf.random.categorical(predicted_logits, num_samples=1)\n",
        "    predicted_ids = tf.squeeze(predicted_ids, axis=-1)\n",
        "\n",
        "    # Convert from token ids to characters\n",
        "    predicted_chars = self.chars_from_ids(predicted_ids)\n",
        "\n",
        "    # Return the characters and model state.\n",
        "    return predicted_chars, states"
      ],
      "metadata": {
        "id": "I0ak9dub5kxB"
      },
      "execution_count": 41,
      "outputs": []
    },
    {
      "cell_type": "code",
      "source": [
        "one_step_model = OneStep(model, chars_from_ids, ids_from_chars)"
      ],
      "metadata": {
        "id": "EY3eeeUv5_FA"
      },
      "execution_count": 42,
      "outputs": []
    },
    {
      "cell_type": "code",
      "source": [
        "#Text 1\n",
        "start = time.time()\n",
        "states = None\n",
        "next_char = tf.constant(['Activists'])\n",
        "result = [next_char]\n",
        "\n",
        "for n in range(11500):\n",
        "  next_char, states = one_step_model.generate_one_step(next_char, states=states)\n",
        "  result.append(next_char)\n",
        "\n",
        "result = tf.strings.join(result)\n",
        "end = time.time()\n",
        "print(result[0].numpy().decode('utf-8'), '\\n\\n' + '_'*80)\n",
        "print('\\nRun time:', end - start)"
      ],
      "metadata": {
        "id": "K-TE8Pc76C-t",
        "colab": {
          "base_uri": "https://localhost:8080/"
        },
        "outputId": "567ffd67-a261-4e8c-e89d-dcd32f60ee8a"
      },
      "execution_count": 43,
      "outputs": [
        {
          "output_type": "stream",
          "name": "stdout",
          "text": [
            "Activists have long said they want to see abortion protection, and preventing illness, a long-sought goal of the pandemic.\r\n",
            "\r\n",
            "As pro-democracy provided live many factors for the army - they were not trained in secularism.\"\r\n",
            "\r\n",
            "Mr Pradhan says that the services are doing the workers had been deported, but said: “Qatar does not arrest or depticular contest on a wave of public solidarity. Britain came second, which is why it was selected to run for the presidency.\r\n",
            "\r\n",
            "True to his background, he has also maintained strict financial complaints committee (ICC) for sexual harassment since 2018 and quit recently, turkets reported mental broadcast in time in the country - they need to be able to conduct its own offensive operations, and exhausted its army and supplies.\r\n",
            "\r\n",
            "But it's not just air support for ground troopers, yet the process of both sides appear to be progressive. They said it was in the office and he told me that I was hormonal,\" she said.\r\n",
            "\r\n",
            "\"It was like Russian Roulette. Either put a grievance in and lose my career, or donot take to be in extreme condition to be at the best level, and that requires you to be constantly in practise departments.\r\n",
            "\r\n",
            "But over the last three years or so, this once staid list as government with the Senate, where Republicans have a 19-12 majority of Catholics.\r\n",
            "\r\n",
            "The division often comes down to an existential question about where terrorist attacks originating in Afghanistan might be directed, Kurilla Sansthan,\" said Ms Mrukley Proined cars international law, and that the UK was raised concerns about sexism within the amministration of a nation.\r\n",
            "\r\n",
            "The fraudster has inspired an inflixton and make a genuine compromise,\" Mr Bilal says. He argues that Mr Khan's inability to do so is counterpreted. There is no group that can mediate. The establishment doesn't have the “natural boost” that came from having simple experience more cyberbullying than their male colleagues, Namazzi tells CNN.\r\n",
            "\r\n",
            "Pollicy also runs training even should be from used cars to EVs,” Ipke said. “I think the continent has to be prepared for what’s to come.”\r\n",
            "\r\n",
            "It appears the events one institute's declas had to step [askander as a throwing profit.\r\n",
            "\r\n",
            "Medallists a particular was details on the new package and timetable for the scheme later this seemed on the company and its employees, whereby the workers were remunerated in fundamental concepting the institutions - and there must be hundreds of them in the country - to do an audit on whether a fourth dose would be recommended for people aged 65 and over.\r\n",
            "\r\n",
            "Hunt said the police and conversations have been productive, but “we’ve got there we were a back route in the case. After the mobile networks affected have spoken to the BBC that there was still a need to recognise that it's an easy vaccine advisory group was due by the end of the day Sunday, she doesn’t know what they were looking for,\" said one activist, \"we only have glumane in the 1990s in the Netherlands or Sweden. He’s in a different country. You’re a poor in the US. Dim Jonubano stolend changes in shock comments can be hurtful. I’m just trying to do my job’\r\n",
            "\r\n",
            "It’s difficult to combat conspiracy theories when they bubble us to detect the target, capture it and they will strike it.\r\n",
            "\r\n",
            "\"So, you would have to do lots of them. Then you're into the ammunititims may very little if anything to do with us,” Schindler said. “We took the eye off the balling, more interesting. He had previously voiced serious concerns about manufacturing stands out\r\n",
            "\r\n",
            "Disinters on Thursday to warn about the consequences of a different teacher.\r\n",
            "\r\n",
            "\"At midnight, he sent me a 'good night' message. When I replied, but the progress has been a big mistakes. It has been trying to lift business centres, cost roughly $10,000 (£8,000) each, though its latest and most powerful pressure\r\n",
            "\r\n",
            "According to the World Bank - which provides Plan B, an emergency and the process of colour who suffer racism and report it every day.”\r\n",
            "\r\n",
            "With Covid cases surging across Australia and Ford Sennety, an influential member of Vladi think, the corporas orgonizing other ways to bring the crowd with a succinct campaign message: “Heal the divide.”\r\n",
            "\r\n",
            "And eye, that they were granted press access to visit the late Queen's professionals registering a grievance against him.\r\n",
            "\r\n",
            "\"We take the one to leave. They are, after all, a 50/50 partnership. If a double after the graves were listed for demolition.\r\n",
            "\r\n",
            "\"This is a desecret we kill had to turn back. The aircraft landed safely shortly afterwards.\r\n",
            "\r\n",
            "But they do include problems with some critical systems, is also alarmed. He has previously testified the attorneys leading the action, said the data transfer by the NHS websites appeared similar to what a person has to say, “What you’re being asked to do today is to impeach without young suggested the party’s final sprung and said patients’ names and addresses had sent the air and oceans.\r\n",
            "\r\n",
            "Another important factor that is worrying scientists returning to the hospital despite Matéo Sebastien’s persisters to do the first chip big lives in Losa more and more positive turn.\r\n",
            "\r\n",
            "“I am hopeful that soon both sides will find an agreement that keep on stocks water restrictions.\r\n",
            "\r\n",
            "Conservatives would be reliable and the training was amazing, she said, but then she started to try to find a place to stay in Boston, as asylum-seekers sleep in a hospital lobby\r\n",
            "\r\n",
            "Fleeing what she was ever there.\r\n",
            "\r\n",
            "Britton became so obsessed with the case, he could be angry with someone but keeps civeling the trading of individual stocks.\r\n",
            "\r\n",
            "Have you witnesses when she read on Twitter that the Post Office had agreed to settle.\r\n",
            "\r\n",
            "The former sub-postmistress of the Up Hatherley branch in Cheltenham was advised to plead guilty to false accounting in 2010 to avoid jail after a shortfall of £26,000 was identified in her accounts.\r\n",
            "\r\n",
            "Unable to explain the discrepancy, she took out a loan to repay the difference and is still counting the cost today.\r\n",
            "\r\n",
            "\"We lost our business. We lost our home. I had to pay the Post Office £26,000,\" said Mrs Buffrey.\r\n",
            "\r\n",
            "\"We had to start again. There isn't any monetary figure that can compensate for the way we were treated and the way things happened to us,\" she added.\r\n",
            "\r\n",
            "Wendy Buffrey said she burst in to tears when she read on Twitter that the Post Office had agreed to settle.\r\n",
            "\r\n",
            "The former sub-postmistress of the Up Hatherley branch in Cheltenham was advised to plead guilty to false accounting in 2010 to avoid jail after a shortfall of £26,000 was identified in her accounts.\r\n",
            "\r\n",
            "Unable to explain the discrepancy, she took out a loan to repay the difference and is still counting the cost today.\r\n",
            "\r\n",
            "\"We lost our business. We lost our home. I had to pay the Post Office £26,000,\" said Mrs Buffrey.\r\n",
            "\r\n",
            "\"We had to start again. There isn't any monetary figure that can compensate for the way we were treated and the way things happened to us,\" she added.\r\n",
            "\r\n",
            "Wendy Buffrey said she believes the lack of support and limited opportunities has happened to the profile, Kissinger attended a party full of Wade was a conflict market both of the vote in the 2019 European countries, which would still require the US's consent, but would also see a new application of the sector,\" says Mr Younus. \"But then I was getting a whole to talk about metrict of impeachment agency, as she told CNN.\r\n",
            "\r\n",
            "But that’s not been his case after a teacher show at any point last week, it's unlikely they would have noticed anything was wrong.\r\n",
            "\r\n",
            "\"We lost our business. We lost our home. I had to pay the Post Office £26,000,\" said Mrs Buffrey.\r\n",
            "\r\n",
            "\"We had to start again. There isn't any monetary figure that can compensate for the way we were treated and the way things happened to us,\" she added.\r\n",
            "\r\n",
            "Wendy Buffrey said she believes an orthound instead the mal migrant, pultimies and policing online access – including the frontline areas. Presumably, it was these types of responses nor that level of aggressional assessment, who were told their children were still struggling to bounce back after months of remote work has been particularly and they were being used to extract personal infections like bronchitis and sore throats, there were 42 cardiovascular deaths. We have ending the latest climate change affects to begin used for offensive purposes.\r\n",
            "\r\n",
            "But the big difference between the two countries is the legal and political executive in a parliamentary democracy and they could end their pregnancies.\r\n",
            "\r\n",
            "The agreement does not make any changes to Medicaid and prevented cars three men, Equidem’s director, Mustafa Qadri, who was born in Senegal, featured a programme for large parts of our sector\" and that a total redesign was needed to endure a greater debate. The family was sent to a Massachusetts Housing and Community Development site but were told to leave by the police, hid in the bushes and took politically motivated to protect at a real your application of legal due process.”\r\n",
            "\r\n",
            "Fifan protesters in 8th grade saw their scope from sharing flirts.\r\n",
            "\r\n",
            "And their missiles can be effective up to 150km, which will enable them to attack Russian jobs for maintaining their semmission system – a need to recognise that it's an easy vaccine advisory group was due by the end of the day Sunday, she doesn’t know what they were looking for,\" said one activist, \"we only have glum and also need to be useable on large orchard sections.\r\n",
            "\r\n",
            "Clearly, technological refinement, or group aircraft have received a territory influence could not imaging bohing his home region, so he's hardly a big problem. There are so many women who are not on any of these media platform. While there is common better a very growing ap a former female student accusing Hari Padman of \"shouting at her and removing her husband. So I had to tell him,” he said. “I want them destroy much about the party using social media for \"anti-army political mobilisation by Ukraini.” in Kabul that killed 10 civilians, including many of her family and friends, to help fund a law in the procedure is prohibited online.\r\n",
            "\r\n",
            "The family we'd hold their 2024 reelection bid, not only because of what's happened to Imran Khan but also because of the economic downfall in principle. We still have a lot of work requirements for comment.\r\n",
            "\r\n",
            "The 331st Guards Parachute Regiment, often called \"her field larger of his presence through a network of contacts.\r\n",
            "\r\n",
            "Although the BNO scheme is “unusual influenzing with fanol of the country’s largest public hospital, Simão Mendes.\r\n",
            "\r\n",
            "But Guinea-Bissau was in the grip of a national government was in conflict with the state over financial sector in the region and beyond. He estimated that the group would be able to conduct its own offensive operations, and exhausted its army and supplies.\r\n",
            "\r\n",
            "But it’s not committed any crime; if you wish to stop [employing] us, you have to do so they have done that if I did not believe in democratic politicians to radicalise Hindus into believing that Muslims need to be marginal labyers.\r\n",
            "\r\n",
            "Why point even students have come forward to level serious allegations,\" he adds.\r\n",
            "\r\n",
            "Germany intensifies screaming an extra half hour to Good Morning Britain, and an extra half hour to This Morning.\r\n",
            "\r\n",
            "“It is necessary to punish harder … corruption is to speak like your audience and be relatable to your audience. It’s day the workers had been employed on temporary six-month contracts, but “a resolution under India's culture ministry - blamed \"vested in the fight for reproductive choice brings hope for a post-Roe future.\r\n",
            "\r\n",
            "Shor \n",
            "\n",
            "________________________________________________________________________________\n",
            "\n",
            "Run time: 26.09255051612854\n"
          ]
        }
      ]
    },
    {
      "cell_type": "code",
      "source": [
        "#Text 2\n",
        "start = time.time()\n",
        "states = None\n",
        "next_char = tf.constant(['President'])\n",
        "result = [next_char]\n",
        "\n",
        "for n in range(11500):\n",
        "  next_char, states = one_step_model.generate_one_step(next_char, states=states)\n",
        "  result.append(next_char)\n",
        "\n",
        "result = tf.strings.join(result)\n",
        "end = time.time()\n",
        "print(result[0].numpy().decode('utf-8'), '\\n\\n' + '_'*80)\n",
        "print('\\nRun time:', end - start)"
      ],
      "metadata": {
        "colab": {
          "base_uri": "https://localhost:8080/"
        },
        "id": "JBDkClrnAqe7",
        "outputId": "601d364e-408d-4360-91f2-0df5f3c5c299"
      },
      "execution_count": 44,
      "outputs": [
        {
          "output_type": "stream",
          "name": "stdout",
          "text": [
            "President on Thursday calling on him to invoke the 14th Amendment.\r\n",
            "\r\n",
            "Senate Majority Whip Dick Durber Sarea Sinch Remonds - a decade of a statement, it said: \"Since the 737 Max returned to service, airlines have flown nearly 240,000 flights explain.\r\n",
            "\r\n",
            "“That relatives and some admirers of the state's Provinion gassep catastropher Sha Dissinger Institute (RAS, and their dependents, could lead to hij account of what had happened, Magistrate Ryan said on Thursday.\r\n",
            "\r\n",
            "Investing out the correction in the bond market may be almost completely understudied given the amount of suffering it has caused.\r\n",
            "\r\n",
            "When the brianes of leaders are ungeoponance in which the attorney general has ever been impeached and removed from office. The only two elected officials to take the leap.\r\n",
            "\r\n",
            "\"With all the prices going up this year, we thought this would be ideally been in the forefront of all the main battles in check. But the panic was only temporary – his guide righted the boat, and experts believe that long Covid in a survivor - a decade of attacks on the country's independent reviews and assackly demanding the nightlife, which means potential of physical targets and organized crime. On the other, yet in summer in a future criminal indictment of Evolv's website changed.\r\n",
            "\r\n",
            "Up until October last year, Evolv's homepage featured a headline toungaped threat ISIS-K pass the PAC for the killings, but their names are mostly from the past century and that compensation is being given.\r\n",
            "\r\n",
            "However, he claims: “We also had a lot of new applications for the world’s shares. Western one fighters on vaccines are struggling to raise the steele last year, and Matéo Sebastien slept hard, particularly in the north of the boxing gym has been \"massive\".\r\n",
            "\r\n",
            "Recalling the fulfilment boxing glad to the process of her language.\r\n",
            "\r\n",
            "The agreement drive making them are responsible for the event.\r\n",
            "\r\n",
            "What seem school districts that all use Evolv with the shock of his death.\r\n",
            "\r\n",
            "\"If someone man [or] work in the UK, meteorologists reported unprecedented levels of online harassment during last year’s records by the Beatles, the Rolling Stones and Pink Floyd were \"an act of revenge\" because he had \"chided\" some students from the Pentagon, obtersonate from school soldiers. And the articles say voters in Germany say they have reached the conclusion that ending the agreement represents many exactly the agency’s scientists, Estrella Gutiérrez-Marco, spokesped by pro-cercial estate investmations, they would be removed from a class, whether it’d be reading or math, to have some speak of a “tortured and deadly legacy”, for decades Kissinger was lauded by all the attack were freed on bail a day later.\r\n",
            "\r\n",
            "A few days later, another viral video surfaced showities of her left-his party has experted her failed to drop out sou died,\" he said. His weekly balance would show a \"massive shortfall\" and he just could not balance what you have to do.\r\n",
            "\r\n",
            "A two-time medication \"based on disagreement with the FDA's expert judgement about its safety campaign to say that better-targeted protections are needed to ensure women stay vocal and visible in Uganda's 2026 presidential election; has a name for her supporters -- the Nyanjuraholics -- and limit of strength - what is called \"explosive power\", which means projective agency - red was a frooth livenin rights and extremist.\r\n",
            "\r\n",
            "Dislum sounce data when the 331st regiment could be estimated at 1,500 following.\r\n",
            "\r\n",
            "The men had accused him of using his authority to benefit political friends for his top term in retaliation to her raising a grievance against him.\r\n",
            "\r\n",
            "\"We take the one for training process to the closer to the procedure.\r\n",
            "\r\n",
            "That mission has not ended with the reversal of Roe v Wade - and First Unitarian Church of Dallas's women's group met to discuss an issue through its defenses Ukrainian since the agency’s scientists, Estrella Gutiérrez-Marco, spokesperson for Qustal for the family’s second lines stole deal with a long time lite at the historic debt help with disturbing sexual behaviours”, and clicked for one of the only improvements I can recause the members don’t want Rishi Sunak. The odds are stacked against him.\r\n",
            "\r\n",
            "“So long as the party could face a threat from a fair last year with visible run the party - to prove to Turkish society that the CHP has changed.\r\n",
            "\r\n",
            "\"The CHP has a lot of experience has classed the process of being heavy-handed. The group was likely to adopt “no specific intelligence in relation to her guardians, the raise was also asked the same question. How did the student get the knife into the Sounce of Nvidia's programmable GPUs.\r\n",
            "\r\n",
            "The training process took only a few days later, another viral video surfaced showities of her left-generates engaged in her relationship with Hari Padman first fire and regular processing chips.\r\n",
            "\r\n",
            "Since then, however, a number of founder envinonces in public and in conversations to raise the debt ceiling for two years and economic downfullying court order is \"a travesty of justice\".\r\n",
            "\r\n",
            "Vibhuti Narain Rai, a former director of Kalakshetra, had accused his own incredible influence could not imagine being forced to continue the allegations.\r\n",
            "\r\n",
            "The attlemes or a month is what they were looking for,\" said one activist, \"we only have glumated any are option.\"\r\n",
            "\r\n",
            "The family crossed the border event against her husband reveals Meta Pixel tool passed on private details of their Facebook account this week, taking the change is worth exploring.\r\n",
            "\r\n",
            "“This is an area that I would encourage others to do the surge cause. “We are pregnant and complained of intensity toat.\r\n",
            "\r\n",
            "\"It's that the trial was coming.\r\n",
            "\r\n",
            "Phillip Schofield had to take time off from presenting This Morning byd his family.\r\n",
            "\r\n",
            "“I put nobody on a pedestal, but I really believe in his message against government many same from school. He sat next to me in the car and started touching my hands. I pulled them away. It felt very highed into a public apology from the Post Office.\r\n",
            "\r\n",
            "\"I had problems from other family says they are deterred by having to commodition. When you can't convince the viewers at home of your authenticity, the whole show crumbles.\r\n",
            "\r\n",
            "It was January 1970s by found to rest and removed from office. The only two elected officials to take the leap on an all - the will of our lives”. The hours of the time to ppoke and almost like the country - opinions about abortion missing by hers on the bank.\r\n",
            "\r\n",
            "And in January, Wang Bin, who headed state-owned Children said during his January previoul to work and lived in Erganional states.\r\n",
            "\r\n",
            "The party has rejected the labeling. “I am not an extremist, on the contrary – even family had introduced her to the platform. Meanwhile, stories appeared in the tabloids claiming she had multiple died and property worth billions of rupees was destroyed.\r\n",
            "\r\n",
            "Initially, Mr Rai said he was not until late last year when Lieberman, who works as a video editor, read a story about the health of the US senior fellow with the Atlantic Council’s South Asia Center who has detended him and browsing pages for particular cancer types.\r\n",
            "\r\n",
            "The findings have intelligence agencies even though its Conservative politicians and many newspaper commentators applauded Wednesday's clear - money in the fighting, Yevhen, a 29-year-old soldier, takes us on a tour of their stock. It might change how they would vote on legislation that she had been swalled?\" he remains protecting years as a new database “for the party missing by Hindu mobs have received a total of wheel before the full-scale Russian invasion.\r\n",
            "\r\n",
            "To end Russia's superiority in the aircraft leaders are working on hydrophobic nets, where a treatment using a botanical pestmaster do not specific questions about the failures featured in the service difficulty reports.\r\n",
            "\r\n",
            "In a statement, I had no house and no foot.\"\r\n",
            "\r\n",
            "Serhiy is under the country to take in fewer refugees than it currently does.\r\n",
            "\r\n",
            "Kiess believes that, in fact, still alive.\r\n",
            "\r\n",
            "“If he’s this smoke was seen by the entire world. How could the court not see it?\" he asks.\r\n",
            "\r\n",
            "Far marketing director for the Imminist was not a single in Ukraine. The style of terror threat from the right. David Davis, the former Brexit secretary, said: “The degradation of ISIS in the region continues to be a close relative.\r\n",
            "\r\n",
            "“I noticed right away from crime and drugs have forcibly disappeared or killed detainees, dumping or display in a museum.\r\n",
            "\r\n",
            "Under state law, Paxton parts of the deal\r\n",
            "\r\n",
            "The agreement in principle will lift the debt limit for two years and accused his rival of allowing 10 million refugees into Turkey.\r\n",
            "\r\n",
            "Gone was his entire wings for what happened at all. A lot of people died on the way. He was helped until the political persecution from which they escaped, after claiming asylum in a system where the average wait for a woman called Umakant and Akhilesh, have since been accused of sexual assault\r\n",
            "\r\n",
            "Her district was forced to remett in the community support each other.\r\n",
            "\r\n",
            "\"If you need to be a crisis, our position is clear and simple: Congress must act visit to the front lines.\"\r\n",
            "\r\n",
            "Russian air patrols can detect a jet's take-off deep to face by Surrictial and the other hand.\r\n",
            "\r\n",
            "The state House General Investigating do ome of the causes of these crackdown against the far-right in Germany. Two other organization disceptions in the World Championships and the Asian Games, the Indian wrestler would have been at the person who are not here today – I’m going to make a confession because I know most of their partisan affiliation. Kissinger’s bipartisan appearated the sweeping seture of the world's seas has increased by around 0.9C compared to prevent the idea of extrapolating too much meaning from one year of results.\r\n",
            "\r\n",
            "“If it’s just one year are for the developing countries where they are being enforced.\r\n",
            "\r\n",
            "UNEP officials, including de Jong, have also had conversations with US food stamps, who do not have dependents should be forced to follow new rules. Democrats, he was part of the buy at the activist and better equipment at home on top of the political economy and jobs through religious nationalism.\r\n",
            "\r\n",
            "\"The religious divide concerns have limited Harris’ ability to fully engage, officials say the number of stolen babies could be in the thousands, but the country’s investigation following the death of a guest, bosses filled the gap in the store had been struggling to stay afloat for months. But what comes next is seen as a hardline party on the issue of dividing church four months after her disappearance, and complained internationally. “It’s mostly the economy cars that should be abolished,” he told CNN. “People in Saxony belong to the former occupied zone in the UK. It sets out regulations and standards for its members and provides access to its very large climate data records,” she said.\r\n",
            "\r\n",
            "And a frid years to Fifa Park, and to the old Ford SUV, was a lack of opportunities for young people was one of the officers who are trained exactly the same as their male counterparts.\r\n",
            "\r\n",
            "Ms Willoughby was reduced to a couple of cells in the country.\r\n",
            "\r\n",
            "Kenya’s has seen a club' climate change has become a strong rallying point. In December, the FDA permanently later deported and five others were fired at the same time as the group.\r\n",
            "\r\n",
            "Germany last year said it had foiled an attempt by an economic downfall in principle. We still have a lot of work requirements for certain social safety net programs had remained silent. And many also wonder how much of an impending financial crackdown is a new wa \n",
            "\n",
            "________________________________________________________________________________\n",
            "\n",
            "Run time: 23.892587661743164\n"
          ]
        }
      ]
    },
    {
      "cell_type": "code",
      "source": [
        "#Text 3\n",
        "start = time.time()\n",
        "states = None\n",
        "next_char = tf.constant(['Conflict'])\n",
        "result = [next_char]\n",
        "\n",
        "for n in range(11500):\n",
        "  next_char, states = one_step_model.generate_one_step(next_char, states=states)\n",
        "  result.append(next_char)\n",
        "\n",
        "result = tf.strings.join(result)\n",
        "end = time.time()\n",
        "print(result[0].numpy().decode('utf-8'), '\\n\\n' + '_'*80)\n",
        "print('\\nRun time:', end - start)"
      ],
      "metadata": {
        "colab": {
          "base_uri": "https://localhost:8080/"
        },
        "id": "k5vy21XgBOcC",
        "outputId": "40986418-6c9d-4dd8-d840-ed2adb4e6707"
      },
      "execution_count": 45,
      "outputs": [
        {
          "output_type": "stream",
          "name": "stdout",
          "text": [
            "Conflicting court in the next six years at one percent growth. It also includes SNAP and TANF working at the many schools he attended as his family following his father) did to be in prison. So I had to tell him,” he says.\r\n",
            "\r\n",
            "What’s been the most difficult ones for a flight to Boston, during which time the 4-year-old boy began complaining about the slow pace of the proceedings.\r\n",
            "\r\n",
            "\"The stakes associated with the game with the Senate, where Republicans have a 19-12 majority of Catholics.\r\n",
            "\r\n",
            "The district offers bilingual seals on students’ transcripts signifying proficiency in two language used in the report can be seen as an attempt to channel the Great Patrick.\r\n",
            "\r\n",
            "In the months leading up to the World Cup, States Gavein Kiestless to the Security Council in March, the head of the UN Assistance Mission in February 2023 for a live ben easy to treat two days after the massacre, he found a place that was \"devastated… it looked haunt transifications during the US and Europe directly into the war.\r\n",
            "\r\n",
            "And even training Ukraine's economy is still clinging for the police, with more than 200,000 Twoted Britton, says Price Minister Narea Goldres and Theressause She move number of migrants arriving in the city have slept overnight in the lobby. The family of three attended the appoinent drives who normally would have tested in the back of the car.\r\n",
            "\r\n",
            "The 26-year-old claims the cow belonged to Nafiz, who was taking a closer look at a threat.\r\n",
            "\r\n",
            "One way scientists contacted for this story were reluctant to go on the Dead. It has tried to ban how to spoke to a collected regiment\r\n",
            "\r\n",
            "Kostroma's Kremlin-appointed governor, he said of his children are fired a strong rallying point. In 1967, according to the profile, Kissinger attended a party full of Watch (HRW) said that Taliban authorities have forcibly disappeared or killed detainees, dumping or display for strength to reun in the state of Texas.\r\n",
            "\r\n",
            "“I was able to identify the person that helped them get the equipment to get out of prison – it was not a former senior manager at Ber Weatham said.\r\n",
            "\r\n",
            "Mr Koletti had verified abuse of featured I am dolling more is to get cheaper than speak of her training regime right now. She calls it the \"ultimate level\", the kind of training where this year, the cruckly said they were adopting a baby boy who was stolen from his biological mother’s tomb along with his sister.\r\n",
            "\r\n",
            "“I was able to identify the person that helped them get the equipment to get out of prison – it was not a fourth dose would be needed for some groups of the population ahead of the recess, underscoring that there must be a bipartisan agreement in principle to raise debt ceiling\r\n",
            "\r\n",
            "The White House and House Republicans will have avoided an unprecedented economic crisis in the region.\r\n",
            "\r\n",
            "“I think the continent has to be prepared for what’s to come.”\r\n",
            "\r\n",
            "It appears the events on Meta Pixel confirmed they had pulled the tracking tool from a former federal law overriden states on the black market. Some of the cars are shipped without catalytic converters or have to be even more careful what I am singing complaints to run on Nvidia GPUs.\r\n",
            "\r\n",
            "Mr Toon hopes that over time, as AI moves that providing Ukraine with Western aircraft can only travel up to 50km (31 miles).\r\n",
            "\r\n",
            "So, Russian air place to service, airlines have flown nearly 240,000 flights explains.\r\n",
            "\r\n",
            "“There may be more than one target, maybe in an unrepairable manner. We've never seen elections postponed.\"\r\n",
            "\r\n",
            "The guru (aid the consequences of a pregnant Hindus and Miltoon and Ford Senney.\r\n",
            "\r\n",
            "Lost even who opered a distance of 150-20, when it failed to de every on the allegations.\r\n",
            "\r\n",
            "Before his arrest, Hari Padman and the female student denied any accused his rival of allowing 10 million refugees into Turkey.\r\n",
            "\r\n",
            "Gone was his entire five many of the army fellows for the police.\r\n",
            "\r\n",
            "Instead of calming tensions, the raids may make used to consolidation or declined to address the allegations against him, instead focusing on the investigation leader launched a \"March for the email was Arnold’s son, whose identity both Westover and Britton are careful to protection really works in people.\r\n",
            "\r\n",
            "Hale focus on asymmetric, warfare has made an internal compliance committee already in place?\" said Shubha Mudgal, a popular vocal anti-vatch and he was law on her molested by Afghanistan “has full control over the sector in order to deal with “the deepening concerns about Republicans’ proposed enhancement of work requirements for social safety net programs had remained silent. And many also wonder how much of an impeachment plot against me was never meant to be fair or just,” he said.\r\n",
            "\r\n",
            "Paxton denied wrongdoing in a Friday that he studied meticulously on the map while preparing for this mission.\r\n",
            "\r\n",
            "“The people who will be loudest, they’re playing police insists to the hospital in time,” says Juice. \"But it will be an equal fight. Republicans had been pushing the issue hard, saying beneficiaries of programme for the world had changed.\r\n",
            "\r\n",
            "Arnold may have used classified ads to be working for a flight to Boston, during which time the 4-year-old boy began complaining about the slow pace of the proceedings.\r\n",
            "\r\n",
            "\"The state House General Investigating Committee, during his January presidential impact because it shuts down what is seen by the Guardian, promising nets on the call as well as the other historic cemeteries.\r\n",
            "\r\n",
            "She does not buy the arguments by government ministries by his firm.\r\n",
            "\r\n",
            "Xi “likely sees targeting high-level industry figures such as \"Melissa Is Missing\" and \"Above the Law\".\r\n",
            "\r\n",
            "It was \"regrettable\" that Mr Koletti had sent texts from Caddick's phone passed on properly secured a $240 million loan to help fund its operations during bankruptcy.\r\n",
            "\r\n",
            "But scientists have been clear: There is no evidence “chemtrails.”\r\n",
            "\r\n",
            "Under many of the agency’s story starts in late 1979 in the town of California-based Nvidia.\r\n",
            "\r\n",
            "Originally known for making the type of computer chips that process grappital and the protests - Tuesday. There are a lot of temporarily take up about a quarter of greenhouse gas emissions. Warmer waters have denied the allegations against him in meetings with college authorities. He also told a TV statement the sector in Imama and Some retails of the airlines of Melissa Caddick was by officers at the raid on her home.\r\n",
            "\r\n",
            "Her husband, Anthony Kongress, where Republicans circulated a fact sheet of the details of the debt limit agreement to House and Seven in the Senate, which so in an investigation into Phelan for performing his duties in what Paxton described as “an obviously tempting target.”\r\n",
            "\r\n",
            "Of course, there are all the usual issues that it just threatest who he said were on hand Wednesday, including children, grandchildren, siblings and communication will be necessary to convince more fruit growers that netting would be useful.\r\n",
            "\r\n",
            "But down the night from Oklahoma.\r\n",
            "\r\n",
            "But they all had one thing in common - easy from a friend bought in a drieving who has clashed with Texas legislative leader of the part with the border to find James Arnold, William Leslie Arnold’s young brother.\r\n",
            "\r\n",
            "James Arnold was decided in a House made head by the duration to the 18th Amendment.\r\n",
            "\r\n",
            "Harris warns about 20 May 1987, in particular, is video car leader in Cairo's centuries, chief of language and cultural education (FDA), so they came after the brinks of a pregnant Hindus and Democrat, all white but experts section would be filled with political consequences in their next election,” Geren said.\r\n",
            "\r\n",
            "Opponents of the impeachment plot argues the influenza season as international media office said an investigation into Phelan for performing his duties in what Paxton described as “an obvious differences in the area. They're not there were being used to extract personal infection less of a threat.\r\n",
            "\r\n",
            "One way scientists contacted for this story were reluctant to go on the plane were with the target on its back that everybody is not unthipp.\"\r\n",
            "\r\n",
            "But still ideology, Nower does performan walking, on the extremes meteorologists have been accused of exaggerating the country - to do an autocompromised with the antiviral drug Paxlovid and 50 will be given a placebo. This part of the site where records by the Beatles, the Rolling Stones and Pink Floyd were \"an act of revenge\" because he had \"chided\" some students from the Pentagon, obtersonate from school disarres. And this is the first time #MeToo movement has touched the social worker to the Paus, need to detect.\r\n",
            "\r\n",
            "On Halloween last year, she believed the outcry over the last three years or so, this once staid lost 11 members of his family in the massacre, including his grandfather, parents and power tell of their struggles as health workers leave from a treatment for stomach ulcers and to manage postpartum haemorrhaging.\r\n",
            "\r\n",
            "Less expensive and less in a woman -- and on the phone conversations with those counterparts but affords them of growing as checkes in the harst of recruits in decades-from physical threats, though there is no credible intelligence that the event might be victim testified.\r\n",
            "\r\n",
            "\"To rub more salt in the wound she has also stolen my mother's money, wife's, referendum campaign were used.\r\n",
            "\r\n",
            "Cardiff riot: Can lack of opportunities for young people was one of the members voting present. He said the impeachment a “politically motivated to properly address their concerns.\r\n",
            "\r\n",
            "They say the message came as a shock, because their contracts stated droce us talk to protect cows. Whatever our law says in the background of our return to normal life.\r\n",
            "\r\n",
            "As learning to San Francisco from Chile.\r\n",
            "\r\n",
            "The family found the owners hope in the last year with very compromised immunity are often caution against drawing conclusions from one year’s results\r\n",
            "\r\n",
            "Experts who spoke with CNN through Dr. Geralde Gabeau, the executive director for the Imministry Eirection and CNN his 18th Central America in the future. And the US government, they say, has stepped up their own abilities to real estate market together are fairly ominous.”\r\n",
            "\r\n",
            "Fears about the health of the US commissioned from an outside law firm, although the report from Lewis Brisban, a thild and a few back to the State Emergency and such racism as the accommodation. Gabeau said they still haven’t secured housing for Sunday night.\r\n",
            "\r\n",
            "\"I think people were expecting something to happen along the temploy of the broadcast outbreak.\r\n",
            "\r\n",
            "Last month, the booster program was further expanded to severely immunocompromised may he want to see a much higher proportion of young people, he added.\r\n",
            "\r\n",
            "Although Evolv did not give the BBC a comment, it did directed the barrying of people fellow at the Conservative party doesn’t deliver on stopping illegal in ministry.\r\n",
            "\r\n",
            "For Pakistan's current rulers, shutting down the internet is a significant move and one ear.”\r\n",
            "\r\n",
            "“We know that the Taliban cannot also failed to the procedure.\r\n",
            "\r\n",
            "That mission has not ended with the reversal of Roe v Wade - and First Unitarian Church of Dallas's women's group met to discuss an issue through the way for Ms Hawkins' ultimate goal.\r\n",
            "\r\n",
            "\"We want to see the states are struggling to raise the steece sullings but also ships cheaper cars.\r\n",
            "\r\n",
            "In major African countries didn't think there would be any violence in our village. But on that day, PAC personnel has model the party four to shoot sparrows?\" asks the Reutlinger General-Anzeiger.\r\n",
            "\r\n",
            "This week activists have focused on Berlin regional and municipal in the Krand-Catchura and Senate Majority Leader Chuck Schumer options.\r\n",
            "\r\n",
            "“ \n",
            "\n",
            "________________________________________________________________________________\n",
            "\n",
            "Run time: 25.301564693450928\n"
          ]
        }
      ]
    },
    {
      "cell_type": "code",
      "source": [
        "#Text 4\n",
        "start = time.time()\n",
        "states = None\n",
        "next_char = tf.constant(['Asylum'])\n",
        "result = [next_char]\n",
        "\n",
        "for n in range(11500):\n",
        "  next_char, states = one_step_model.generate_one_step(next_char, states=states)\n",
        "  result.append(next_char)\n",
        "\n",
        "result = tf.strings.join(result)\n",
        "end = time.time()\n",
        "print(result[0].numpy().decode('utf-8'), '\\n\\n' + '_'*80)\n",
        "print('\\nRun time:', end - start)"
      ],
      "metadata": {
        "colab": {
          "base_uri": "https://localhost:8080/"
        },
        "id": "v-tJ-3imCAC8",
        "outputId": "b7593c91-fc26-4708-878e-0ecad342b713"
      },
      "execution_count": 48,
      "outputs": [
        {
          "output_type": "stream",
          "name": "stdout",
          "text": [
            "Asylum as a fundamental liberal right.\r\n",
            "\r\n",
            "Both parties are struggling in the polls, making them even more shared - on WhatsApp past. Our relation to Ms Harper's experience, Police Scotland said: \"The stories I'm hearing from people do seem to be exacerbated now it's one force.\r\n",
            "\r\n",
            "\"You have to be prepared to have a major infauroun of the attacks on Muslims.\r\n",
            "\r\n",
            "\"If you look at official data, there were 160 Hindus among the 200 people who won’t forget it are the families and it they were ready to higher starts in and was chased relentlessly by debt collectors.\r\n",
            "\r\n",
            "\"Financially it really wiped me away. I had to displace Joe Biden,” said Bob Howland, who was visiting the Kennedy library for the aced 1.5 million people in England, stretching from the 331st remembers the Great Patrick, said that the years - but police initially explored two theories - that Caddick was say.\r\n",
            "\r\n",
            "In a statement, driving a web are better than the S&P 500. There’s an unfair advantage for [legal cases.\r\n",
            "\r\n",
            "Although the BNO scheme is “unusual influenza seasons, and in ways that are actually counted myskle.\r\n",
            "\r\n",
            "Being a were among the worst-his career was a “political maneuver.”\r\n",
            "\r\n",
            "State-bane Republicans said to be weighing bids include Florida Gov. Ron DeSantis and former senior Obama is clear and simple: Congress must actually been inflicting a decession and certainly ammunition and missiles for them, because the facility will probably not have enough.\r\n",
            "\r\n",
            "In times on powerful people, that he was not a revolutionary leader but an evolutionary from the investigation into Li, who chaired the bank for four years until he resigned in the accident. There was enough evidence to pin the guilt. We must find out where we went wrong. When Maly parties are concerned for their jobs.\r\n",
            "\r\n",
            "However, he claims: “We also had a lot of new applications and stock to the Brexit party, is up to 8% of the vote – up 2 points and almost neck-and-neck with his Communist Party loyalists. Soon after he moved to consolidation or decline that care final, we took the tabloid stories about an apparent behind-the-scenes feud between the presenters could be the one that he believed many of the rioter GPUs for 20 years and I can spot marketing rigmarole and a contrived script. \"I see Him being a clinic escort, being stock. It might change how they would vote on legislation the moberning clarity faces on water being delivered by road – which can have a very in-depth conversation with her. She’s able to talk about metrict of impeachment against him in meetings with college authorities. He also told a TV statement in 2019, is a Republican who presides over a chance to present evidence refuting the findings of an investigation that long Covid and ME/CFS are diseases of global significance. It’s valuable here for the first time in decades, there are also computer chip start-ups emerging, including from the Tehrik-e-fact of a more sudely necessaine in February.\r\n",
            "\r\n",
            "It appears the crackdown may intensify, they say.\r\n",
            "\r\n",
            "Last week, the CCDI in Spain for my papers to come through.”\r\n",
            "\r\n",
            "For all the columning of a standar of the Ukrainian army and we still have lots of surprises.\"\r\n",
            "\r\n",
            "But this time it may prove harder to prevent the ideas from taking hold in people in the first 30 seconds, \"no matter what their skills are\".\r\n",
            "\r\n",
            "Punia says that they have already missing to the BBC said a lack of failure and charged with father to the plane sector commitments from Kostroma source material are year-old racism behaviour of rioters.\r\n",
            "\r\n",
            "Police had \"reassured\" Russel Roy Lardera told CNN the agency estimates “several thousand” migrants are waiting in northern Mexico to crop your suitting a centre-right party.”\r\n",
            "\r\n",
            "Other senior Tories are urging their colleagues not the most common method of ending processing capabilities for uses beyond graphics. But 41 men first find out where we went wrong. When Maly parties are struggling in the polls, making them even more than 30 country.\r\n",
            "\r\n",
            "Boding a treatment and harassment is outlined in our violence against women and girls strategy, published in March.\"\r\n",
            "\r\n",
            "Mution too because the female student denied any accused him of attempting to kiss her and repeatedly texting her, professing his love. On one oceans against the border to find a place and she doesn’t know where.”\r\n",
            "\r\n",
            "Waking in the morning, the family found the owners his first India reported that the state House General Investigating Committee, during his January prominent events on due to the unrest.\r\n",
            "\r\n",
            "Democratic senators want to ban stock trading in Congress\r\n",
            "\r\n",
            "Last year, the S&P 500 fell 18%, the agency said.\r\n",
            "\r\n",
            "In states like New York and Florida, where consumers are buying more EVs, deales Law Committee. Kiiza, a partise still has to pass more tests before it’s ready for use, but they say the results look encouragement from me?\"\r\n",
            "\r\n",
            "One in the blood that may be impairing oxygen exchange and takes a drom career words.\r\n",
            "\r\n",
            "Lieberman said in a statement, the trust apologised to patients for failing to get consent. Aside from the 17 who pulled or are pulling the system for the people of Pakistanis - from delivery drivers to the tech community - rely on the Internet to earn a limple by which the student is usually expected to completely surrended field, Many of the people who were impacted by systemic of the Senate. Professor to the Pennines Rach Fronch Center, said that, the age and mobist who reported in the precision of the selling, buying or holding provisions of the US Congress outperformed the S&P 500 by about 17.5% on average in 2022, according to Subver.\r\n",
            "\r\n",
            "“I think it’s a legitimate constitutional question, but inserting it into the sea to determine how shark behaviour or ocean currents could be in the thousands, but the country’s investigation for a competition, wrestlers businesses so informal? Azadeh Williams thinks she knows.\r\n",
            "\r\n",
            "Speaking from the Sydney offices of her scanners watching at home and in person the perfect battleground for Russia uses in the deal and asked him to come in and talk about it.\r\n",
            "\r\n",
            "Rep. School districts say that population makes up at least 20 people had received a treatment and banned if something like the country - opinions about abortion must be below the baby, she was threatened.\r\n",
            "\r\n",
            "“Don’t come here looking for the baby anymone, two music violence against Muslims 36 years ago, has plunged the protests across state countries as anneaded or key accused of change.\r\n",
            "\r\n",
            "Businesses have repeated its case against her - some months after her disappearing on the workers were blocking the road. The guards said, apart from the 331st remembers the Great Patrick, said the agency’s screens at the absolute limit of strength - what is called \"explosive power\", which means projective agency, in recent months. They come via social media, its website, the Kalakshetra brings name and fame to its student accusing Hari Padman of \"shouting at her and removing her husband looked on from the sidelines. “If he asks, then we’ll tell the party could face a threat from twitter at the same time, so the show's viewers dip in and orciently students determined to be a place to stay in Boston, as asylum-seekers sleep in a hospital lobby\r\n",
            "\r\n",
            "Fleeing what she was cornered by a campul in 2010 and in one and staff and he lived to the party - to prove to Turkish society that the CHP has changed.\r\n",
            "\r\n",
            "\"The CHP has a population of 1.5 minutes, we will not waver in this,” a White House official told CNN. “But the existence of corruption is less likely to be blamed on him to invoke the 14th Amendment.\r\n",
            "\r\n",
            "Senate Majority Whip Dick Durbey was barned that people say, ‘hey, six months from now we’re planning to lose it to keep the enemy there,\" he says.\r\n",
            "\r\n",
            "If Ukraine gave up Bakhmut, he says, they have paused their protests and religious services, textiles and applace, she was not covering any of that.\"\r\n",
            "\r\n",
            "Of course, there are all the usual issues that it would be “important” to have an agreement “by sometimes seemed on the brink of collating his father’s darkest secret.\r\n",
            "\r\n",
            "“I felt guilty. I mean, he’s giving me all this information about your health and care … would never be used for offensive purposes.\r\n",
            "\r\n",
            "But the big difference between the two countries is the legal and political experts on weapons detection, and companies like Evolv profit from their ignorance and claims linking vaccines and applies the same way many flu vaccines and stress the race, while South Carolina Sen. Tim Scott launched an exploratory committee earlier this month, though, shows immunity from a third jab wanes quickly release and the prison music room where he spent much of his time lite and being signed into law by Biden before that so-faulty mined as the backbone for information flow in the country - origing this foreign investment.\r\n",
            "\r\n",
            "But political slature in Germany.\r\n",
            "\r\n",
            "In Germany, tales between the ages 18-49 135 have been recondentalists any charges against her husband were \"an act of revenge\" because he had \"chided\" some students for recently is semiously in school soon as they may be the airport and she would ask us to go with her. \"I depend our land from air search extended across four states with helicopters, fighters, according to one source at the school who has seen the security footage.\r\n",
            "\r\n",
            "\"When we really get a chance to defend these babies.\"\r\n",
            "\r\n",
            "But as bans have rolled in and abortion must be below the building. \"To ensure the safety of the property is maintained, your room cod much of a problem for developed nations as they are for the developing countries where they are being enforced to flee around the country. In the days prior to the attack, the suicide bomber defends to replace traditional metal detectors with AI weapons scanners.\r\n",
            "\r\n",
            "Instead of technology and to find a place and she doesn’t know where.”\r\n",
            "\r\n",
            "Waking in the morning, the family found the owners his first time the authorities' refusal to take complaints seriously.\r\n",
            "\r\n",
            "Overall the crackdown on the vaccine against measles, mumps a risk in broadcasting and talent management.\r\n",
            "\r\n",
            "Several experts and school district officials who spoke with other systems is why Ukraine’s caping months. There was much speeches and better than the ages of 18 301s, the FDA and Biden administration's support of mifepristone \"and the arms they've seized around the country.\r\n",
            "\r\n",
            "Add Meta will have - the procedure is clear and simple: Congress must act interest to her daughter Jenny Escalona Mardones, who is two years older than the only is to step in,\" she said.\r\n",
            "\r\n",
            "But instead of helping, she alleged, he began molesting her. put the workers were remunerated in fundamental concerns with the scheme and ensure a successful launch next year. The country has previously a constitutional right to an abortion - and they were the living conditions. But he also maintains it's not enough for the sector to be left to rest.”\r\n",
            "\r\n",
            "One of the knives was 7in long. Another was a pocket knife. Mr Nolan says they were all found because of the surging year as part of the National Press Foundation’s “Futler and the Scottish men arrested an internal compliance committee already in place?\" said Shubha Mudgal, a popular vocal charies have been climbing for more than a decade.\r\n",
            "\r\n",
            "“I’m not surprised to see how robust the export that could otherwise be used for other things like tanks and artillery, or ground-based through down that recognize and has filters to boait and changed the technology industry.\r\n",
            "\r\n",
            "From helping with speeches, the police officer in me always wanted to arrest him and bring him in \n",
            "\n",
            "________________________________________________________________________________\n",
            "\n",
            "Run time: 24.297287225723267\n"
          ]
        }
      ]
    },
    {
      "cell_type": "code",
      "source": [
        "#Text 5\n",
        "start = time.time()\n",
        "states = None\n",
        "next_char = tf.constant(['Corruption'])\n",
        "result = [next_char]\n",
        "\n",
        "for n in range(11500):\n",
        "  next_char, states = one_step_model.generate_one_step(next_char, states=states)\n",
        "  result.append(next_char)\n",
        "\n",
        "result = tf.strings.join(result)\n",
        "end = time.time()\n",
        "print(result[0].numpy().decode('utf-8'), '\\n\\n' + '_'*80)\n",
        "print('\\nRun time:', end - start)"
      ],
      "metadata": {
        "colab": {
          "base_uri": "https://localhost:8080/"
        },
        "id": "Xqmo7i8HC9hY",
        "outputId": "a98341e5-7a38-407b-add5-70e54b9ad3e1"
      },
      "execution_count": 53,
      "outputs": [
        {
          "output_type": "stream",
          "name": "stdout",
          "text": [
            "Corruption crackdown is Xi’s signature campaign. It has swept across the ruling Communist Party, the great bubbles with overpriced marketing is one calpaign to reach Kyiv, the International Monetary Faves of the long run.\r\n",
            "\r\n",
            "Some think that the deadlock is also a sign that Party and a five Kingly says. “It’s like drinking from a firehose. You’re absorbing so fast.”\r\n",
            "\r\n",
            "As the West sime other gaph less search by the end you're convinced that Arnold was dead when local of about 10% for recently in Mayhill babs, a similar stronghold and Pakistan's most populous province. The telecommunication activists were danger of big sentences are struggling to raise the steel of air defense systems can also be used for offensive purposes.\r\n",
            "\r\n",
            "But this time it may prove harder to prevent the baby and became the party for years to come.\r\n",
            "\r\n",
            "For more than six decades, the reverence to the Kennedy family and a strong supporter of his message against government many cultural institutions, Kalakshetra, has been embroiled in an ugly row over allegations of sexual harassment.\r\n",
            "\r\n",
            "\"We forwarded the complaints to the management, advising tracks.\r\n",
            "\r\n",
            "For those who say they were forced to return hou start. It has been called \"the most scrutinised transport aircraft in history\", but some critics say that they will continue protesting for personal gains of the insects.\r\n",
            "\r\n",
            "Of course that could shut out the insects that farmers really do want - pronounced Kilitch-darg-linked the Pakistani and Russian embassies, hit a hotel where Chinese business representatives were splattered with blood. Some of my Muslim neighbours who had survived has helped English learners improve, Cisneros says, is a shift to using new culture and \"Joha market for months of remote work has been particularly about the challenges ahead of the country's largest broadcasters,\" says Mr Younus. \"But then I was getting a whole too often to help so far then his position as prime minister in April 2022 in a vote of no confidence.\r\n",
            "\r\n",
            "\"Khan route in the country doment in politics, but I don’t believe in response to the Covid-19 vaccines. Most recently, Iwasaki has been away from crime and drugs that to co found no hope that he would be detained and can fetce, asking about his penurious childhood and the fear is that it could be delayed using the same reasons used to delay the army and will “fully and whether it would be taken against our about the slow pace of the proceedings.\r\n",
            "\r\n",
            "\"The state House General Investigating Committee, during his talksawered and prevented cars are concerned that providing Ukraine with Western aircraft can only travel up to 50km (31 miles).\r\n",
            "\r\n",
            "So, Russian air platform is still racist or xenophobic views, with most of the extra energy going into the oceans.\r\n",
            "\r\n",
            "The three men were among hundreds of security guards, emengs to try to protect the cemeteries.\r\n",
            "\r\n",
            "This time, even an approach to Unesco has been to no avail,\" she added.\r\n",
            "\r\n",
            "Wendy Buffrey said she believes the lack of support and limited opportunities has happened the party four years leading up to the May 11 expiration of a Covid-era border restriction knock on mobilisations election.\r\n",
            "\r\n",
            "The government has yet to commit to a second booster rollout. However, it is expected to rise to 5.4 million this year, particularly in the north of the out of court settlement on the 34 Horizon redied to be in their search extended across for anti-van vaccine activists were failing to protect young people, he added.\r\n",
            "\r\n",
            "Although Evolv did not give the BBC a comment, it did directed the barryo of the protests - Tuesday marks a month since they began - jeopardise the country's prospects of the time. However, we are constantly improving our mechanisms to make sure the coronation of King Charles III passed onl new sells for a woman called Umakan, and Bernial Mark Kane, who took the train from Maine to attend the announcement, said she’s seen a ramp up of abuse lately.\r\n",
            "\r\n",
            "“I receive and langer story as he phote support they he dearly regied the influx of refugees fleeing war in Syria and beyond. Polling suggests the AfD’s stance on migrants remain unpunished and some good times and modern times too.\"\r\n",
            "\r\n",
            "Property developers have long eyed this prime real estate and, over the last three years or so, this once staid lost 11 members of his family in the massacre, including his grandfather, parents and polising as a leadership candiface.\r\n",
            "\r\n",
            "\"I have never heard a word of hatred from his mouth. He could be angry with someone but keeps civilians have been misconception.\r\n",
            "\r\n",
            "\"The security aspect that guardians provide is simply by being in occupation about a male colleague in 2017.\r\n",
            "\r\n",
            "\"After that, it all kind of became 'she's a problem, she's getting recounted and compensation from the US Food and Drug Administration for a fourth dose among the over 65s, came from its partners. We are grateful to our partners,” Naiev says.\r\n",
            "\r\n",
            "The group’s second strikes inflicting security and sticking to their signature pledge under the US-Taliban Doha Agree to prescription confidential information about your health and care … would never be used for offensive purposes.\r\n",
            "\r\n",
            "But the investment believes the more well to the will of the teacher.\r\n",
            "\r\n",
            "Allegations against the the three brothers range from sharing flirts found they famely after the killings, only to take the law in their next election,” Geren said.\r\n",
            "\r\n",
            "Opponents of the impeachment vote had its origins in an investigation launched in March by the General Investigating Committee, during his January provided a cloud computing service.\r\n",
            "\r\n",
            "\"The anticipation of future needs is vital.”\r\n",
            "\r\n",
            "Death without answers: an agonising 24-hour hunt for Ukraine.\r\n",
            "\r\n",
            "Earlier this year, adults with weakened immune systems, including cancers, and their dependents, could lead to hij carrive been able to make immune weapons against a widely despite infercriations. But you can’t try to isolate it and they will strike it.\r\n",
            "\r\n",
            "\"So, you would have to do lots of them. Then you're into the seast of the time, an influx of unaccompanied minors apprehended on the US southern border in recent months, but at least the leading tests our air defense system with such very effective models, we increase the member of the attacks verified by Afghan Witness hit crowds as they gathered around the country.\r\n",
            "\r\n",
            "Add Meta has its own AI chip project.\r\n",
            "\r\n",
            "\"I think there was enough evidence to pin the guilt. We must find out where we went wrong. When Maly parties are struggling in the polls, making them even more stance in a hotel for asylum seekers for his fate to be decided. He moved there are also been deeply created as soon as they attend schools, mosques and festivities. What is most was the only sentence that mattered. It was seized upon.\r\n",
            "\r\n",
            "Willoughby was reportedly \"blindsided to her family have been granted parole until 2026.\r\n",
            "\r\n",
            "In the meantime, Dieuvena and Banel can also weeks of net gender is to speak like your audience and be relatable to your audience. It is all speculation.”\r\n",
            "\r\n",
            "Paxton’s impeachment is abortion people in the region by July 2022 and Chegg, an online-learning platform, has committed to the weather,” he told the BBC.\r\n",
            "\r\n",
            "\"The scale of it and the fact it is the sace dater criticism of their vicarage at short notice. But they don't see guardianship as a long-term option.\r\n",
            "\r\n",
            "Before the Bell: What does this is their protection and threats of \"the broadcast could coach the law closed in on Arnold\r\n",
            "\r\n",
            "By the time the authorities' refusal to take complaints seriously.\r\n",
            "\r\n",
            "Over the past 15 years, the Earth has accumulated almost as much as we can,” a spokesperson said.\r\n",
            "\r\n",
            "The company offers its business tools to advertise would be looked into and action would be taken against our about the slow pace of the proceedings.\r\n",
            "\r\n",
            "\"The state House General Investigating Committee, during his talks were at a standstill over the last three years as the nearby rivers that process grappital and that Waris died on the way.\r\n",
            "\r\n",
            "\"Waris did not die in the accident. There was enough evidence to pin the guilt. We must find out where we went wrong. When Maly parties are struggling in the polls, making them even more stralt, where terrorist attacks originating in Afghanistan might be directed, Kurillahar, a single word, where tend you are no rights in the blood to the last few streets here.\r\n",
            "\r\n",
            "But the live video feed the artillery gunners watch intently, from a big erose. “We had to start again. There isn't any monetary figure that can compensate for the way we were treated and the way things happened to us,\" she added.\r\n",
            "\r\n",
            "Wendy Buffrey said she believes that while the hate speech amendment in the massacre, including his grandfather, parents and politics and social media few was installed, which was to measure response than the equivalent number of statements posted on the CCDI’s website in error. “It was installed in relation to his native country, Lieberman said: “Very good. Almost all my family is here. It’s incredible. They felt the major tournament ender experiences of social media and messaging platforms is worse when she advocates for gender equality.\r\n",
            "\r\n",
            "\"Many feel less of a problem for the police,\" she said.\r\n",
            "\r\n",
            "\"Children need something to look forward to, the mobile networks and the social platforms - show a confement man in the night Democratic presidential nomination on Wednesday in Boston.\r\n",
            "\r\n",
            "Kennedy used his campaign and experts believe that a strong El Niño weather event - a weather system is highly accurate the security situation. That would be very damage on a different group; Just Stop Oil.\r\n",
            "\r\n",
            "The tactics of both graves in the block heat in the bunker, Ukraine's 77th Brigade orders another artillery strike on a house. Seconds begin the military and the [internal] security apparatus,” Feng said, adding that it is the “money bags” of the pandemic.\r\n",
            "\r\n",
            "Default looms\r\n",
            "\r\n",
            "The pressure on negotiators is intense as the US international composition – a score that caught even some experts by surprise.\r\n",
            "\r\n",
            "Yes, scores across the border too, nor abortion pills has surged up by the gang, who later the new state of the area we get 8%, remember this day. It took Ukip 19 years to get to 8%.”\r\n",
            "\r\n",
            "The challenge demonstrators as multiple occasions for speaking out in support. Survivors are bound by law not to disclosult have - the procedure. That is a personal choice AI wross since Reugh Keriste countries. He said he was disappointed in the deal and that they are raising the debt limit by many as settlege and district in Germany say they have reached their limits, and local authorities are finding it difficult to move at short notice, he's not put off by the month-to-month living under threat and the three repertory artists. Groups of students and alumni have also come to a bestravi wit months after the peak of any El Niño so this is why 2024 will be probably the warmest on record. Yout party, said Dr. Gerean towns on Songle labeling of the institute, located in the city of Chennai in the southern state of nets firms now in locks end their friends have been more than 10% of the problem, which is the remnants of replicating virus.\r\n",
            "\r\n",
            "You’re a prolinical election who have not in the past 12 months\r\n",
            "\r\n",
            "Councillor Maliika Kaada, who was finally removed after the Brexit party secured 30% of the vote in the 2019 European countries, which could be due to microclots as well as mitochondrial dysfunction.\r\n",
            "\r\n",
            "In Thie Storts in Congressional Stocks (ETHICS) Act, the PTI has been feeding a legislative probe.\r\n",
            "\r\n",
            "“Mreakeover is clear and said it was remo \n",
            "\n",
            "________________________________________________________________________________\n",
            "\n",
            "Run time: 26.164206504821777\n"
          ]
        }
      ]
    },
    {
      "cell_type": "code",
      "source": [
        "#Text 6\n",
        "start = time.time()\n",
        "states = None\n",
        "next_char = tf.constant(['Investigation'])\n",
        "result = [next_char]\n",
        "\n",
        "for n in range(11500):\n",
        "  next_char, states = one_step_model.generate_one_step(next_char, states=states)\n",
        "  result.append(next_char)\n",
        "\n",
        "result = tf.strings.join(result)\n",
        "end = time.time()\n",
        "print(result[0].numpy().decode('utf-8'), '\\n\\n' + '_'*80)\n",
        "print('\\nRun time:', end - start)"
      ],
      "metadata": {
        "colab": {
          "base_uri": "https://localhost:8080/"
        },
        "id": "-SffllA0ESD9",
        "outputId": "0e5a2efb-c685-471a-919e-64522f15edb8"
      },
      "execution_count": 54,
      "outputs": [
        {
          "output_type": "stream",
          "name": "stdout",
          "text": [
            "Investigation activists were handed a prison sentence which was not suspended.\r\n",
            "\r\n",
            "Two men received sentences in the first round of testing where results were almost universally and will wing with cleing and took died against the concerns of business. Many of the complaints of the political economy and jobs through religious nationalism.\r\n",
            "\r\n",
            "\"The religious divide or the two headlises in his open from a bridge in the Spanish capital.\r\n",
            "\r\n",
            "The agreement reached on Saturday phases in food stamp time lite at Gours and her feel away from companies like Microsoft, Mastercard, Chobani, Duoling, Colound top of LinkedIn, the security source said.\r\n",
            "\r\n",
            "But for pro-choice Christians, the major African countries didn't think there would be any violence in our village. But on that day, PAC personnel had descended on Hashimat has fallen equipment, says Evolv has exaggerated how effective the system is.\r\n",
            "\r\n",
            "\"There's an unfair air clashes with who was sad that people want to move on from the pandemic, but the virus is still out there, people are getting med a celebrity intellectual and the prosecution case few mothers and story by releasing a statement, in which he admitted the last few years, trained young people in the amateur boxing gym five to six time in the accident. There was ever theories feed to be a district, who were deployed at key sites they are pursuing elements of the buildings and extended learning opportunities and new professional development for teachers, and the arms they've seen she doesn’t know where.”\r\n",
            "\r\n",
            "Waking in the morning, the family found the owners ho back to the 5tt Counce in Gundecha brothers. Umakant and Akhilesh, have since been accused of sexual assault\r\n",
            "\r\n",
            "Her district have not clear - on its committee declared embassions. But it has faced fierce opposition from many small break and cultres\r\n",
            "\r\n",
            "Some researchers have been pointing to for years: English learners actually end up destroyedists to democracy and corruption concerns have limited Harris’ ability to fully engage, officials say the number of stolen babies could be in the thousands, but the country’s investigation Phelan’s investigation has uncovered a covert tracking tool in the websites of 20 NHS trusts to send it during the pandemic and said \"young adults in particular are actually quite disillungest in principle that are the major tour maintain. For marketic called the “mandates of the property is maintained, your room codfined to be in extreme condition to be at the best level, and that requires you to be constantly in practise department.\r\n",
            "\r\n",
            "But the relationship between the asylum seekers and the hosts can also be teem as a hardline party on the issue of dividing church four months after he trained arrangement, says she had been using a friend's financial adviser's licence, having simple extra policed for one of Turkey's most powerful and prestigious roles, the mayor of Istanbul. Although he lost the soldiers gets a threat.\r\n",
            "\r\n",
            "One way scientists contacted for this story were reluctant to go on the black market. Some of the cars are shipped without catalytic converters or have to be event.\r\n",
            "\r\n",
            "What would be a distinct improvement,” Grantham said, suggesting that the guru-shishya tradition be demolished entirely.\r\n",
            "\r\n",
            "\"Like most impeachment a “politically motivated to fruit quality.\r\n",
            "\r\n",
            "Fine-tuning the net usage often leads to an increase in high-calibra bad the quality is committing a crime, any crime, the police should punish them,\" says Imran, Waris' elder brothers and religious services, net prospect that guardians provide is simply by being in occupation last year, and was the only doctor left how this year the process of how they produce public interest data,” she said.\r\n",
            "\r\n",
            "What countries are administering a grish nearly hundred on the insectmiced community health provision, which has now been deleted from Mr Manesar's Facebook profile, the death of a man by a different name, who was known as a loving father to a family was like to sep the broadcast in the classroom where they had been using a friend's financial adviser's licence, having simple extra policies on issues like the country - opinions about abortion made closed for the problem, which is the remnants of replicating virus.\r\n",
            "\r\n",
            "You’re a prolinity involvement in the Malyana violations for the last year when Lieberman, who works as a video editor, read a story about the time Kissinger nearly drowned while canoeing beneath one of the world’s used vehicles. “You have a very young population that’s getting richer and richer by the day,” said Jacob.\r\n",
            "\r\n",
            "Worse was to come: after attempts to report racist behaviour he has suffered. While the media were guilty of double-standard processing - began to spread among people and animals, there’s always the potential for it must be on drugs.\"\r\n",
            "\r\n",
            "Looking at this shell of a city it's hard to understand why either side has harned to be referred to only by her first name, fearing she might desents in mildion families in Kostroma boys get public confidence in its assurances of security.\r\n",
            "\r\n",
            "“The Taliban are tighted the weapons the system can find - which in long Covid in a statement he had agreed to the settlement “to put this issue to rest.”\r\n",
            "\r\n",
            "One of the companies working into the controversy and said her relationship with Hari Padman first surfaced in December in a now-deleted Facebook comments. Batten a second language as a government minister garlanded eight Hindus convicted of the Texas Gonstably and Mali Padman and the female student denied any accused of theft for the welcome the matter further if they got any new information on the case.\r\n",
            "\r\n",
            "Shaukeen alleges he and his companions were then beaten up by the gang, who later the night he was not only ong in the backdrop of other serious crisis,\" says Michael Kugelman, director for West Coast Shia LinkedIn and missiles do break through down his arrest - the process of cow trul By the truth about everything.”\r\n",
            "\r\n",
            "She knows his views on vaccinations are concerned that he weeps every time he talks about 23 May 1987.\r\n",
            "\r\n",
            "For some days, he said S turmone was first approved by the FDA, it was placed in a programme for a fourth dose among the over 65s, comban of Thursday.\r\n",
            "\r\n",
            "After the meeting, Northern Ireland combined.\r\n",
            "\r\n",
            "In the war-scarred Kharkiv region, warning sign family members, or close personal friends of anti-abortion group National Right to Life, to the next few months.”\r\n",
            "\r\n",
            "Migration from Guatemala, Honduras and El Salvador to the US has reached something of a stalemate with many saying that it was the reason I got the position,\" it tells me. \"This is a case where justice is not just delayed, it's also been denied.\"\r\n",
            "\r\n",
            "Beaten and his temple in the UK has were all exhausted it to set up a panel to address complaints of sexual harassment or assault.\r\n",
            "\r\n",
            "Students who earn an engineering degracted from patients who visited hundreds of NHS webpages about HIV, self-harm, gender identity service, which specialises in which 346 parked signals and a canal. Six survived and lived to tell the tale.\r\n",
            "\r\n",
            "Photojound dones a plunge of a stales Kennedy to take on a sitting Democratic president. Another uncle, Sen. Edward Kennedy in the long term it is unequivocally details. The climate crass, has det over the final to be left to restrict are to after a ban on score in Ghazal.\r\n",
            "\r\n",
            "The session is occurred in a law to his father. He was an orphan from Chicago.’”\r\n",
            "\r\n",
            "“So I pass that on to Geoff and I would not be applied retroactive and above the party. For that gain a presenter square self to the hospital, by which time it was already close to midnight. Here, they again discovered over Bedgel Taryal members of Congress remain divided over why he had been stolen as an infection while being treated,” he says.\r\n",
            "\r\n",
            "Modogashe has helped Escalona understand things about her mother during the pregnancy and knew details about the baby’s birth and how he was taken to a nearby house was not a former female in front of social media feeds – could be targeted digitally, to cause disruption or spread from Last Generation as \"completely crazy\".\r\n",
            "\r\n",
            "So the judgement has shocked the survivors of the violence and its current form or depuires of his family’s privacy, declined to be interviewed for this piece, but provided CNN with a state. It is a last resort behind the BNO route, or getting a job or student visands to be in the backyone for a society for recently trained processing capabilities for uses beyond graphics. But she said his trip that he would be postponing two legs of his trip – to Papua New Guinea and Australia's vaccine advisory group was due by the end of 2022. It is too soon to say whether those rejecting out the coronation, but Eurovision.”\r\n",
            "\r\n",
            "A unique combination of factors - the time of year, that day's content, the weather outside. Many viewers dip in and over.\r\n",
            "\r\n",
            "Muslim men had visited hundreds of NHS webpages about HIV, self-harm, gender identity service, which specialises in which you think there would be any violence in our village. But on that day, PAC personnel had descended on the chief of Unicef’s Garissa office, said the agency’s scientists, Estrella Gutiérrez-Marco, spokesperson for Qatar government’s international media office said an investigation into Phelan for performing his duties in what Paxton described as “an obviously tempting target.”\r\n",
            "\r\n",
            "Of course, there are all the usual issues that it first sent into Ukraine in February 2022, it deployed two battalion groups, giving an extremist, on the contrary – even family had introduced her to the platform. Meanwhile, stories appeared in the tabloids claiming she had multiple died said it was a “matter for the government” as to where he buried his parents.\r\n",
            "\r\n",
            "Geoff Britton, chief of the Office of Law Enforcement Support in Cairo's centuring system in I don’t want that to exist here. But you can’t try to isolate it and they felt out the process of boing to take the leap.\r\n",
            "\r\n",
            "\"With all the prices going up this year, we thought this would be ideally been in the forefront of all the main battles in Ghaziabad where the bodies of the murdered men - and he was later put in touch with ME/CFS and Son Sanders, the world's oceans has alarmed scientists concerned that it will add to global domination sometimes seemed on the brink of collating his father’s darkest secret.\r\n",
            "\r\n",
            "“I felt guilty. I mean, he’s giving me all this information away. It’s like asking a tobacco company to sponsor a cancer ward,” he said. “But I don’t regret doing it, and I’m glad I now know the truth about my defestal areas. Peters despite a multimile State Policy Institute, who met with the vice president’s office has called the current downward trend “encouraging,” and private issues like Kyay, and countless outlandish theories - including that she had been swalled on her wont-live in the overall air title, when they refutes appeared to turn sour in the early part of this year.\r\n",
            "\r\n",
            "In April 2021, the FDA announced it would lift the in-person dispensing requires further medical follow-up less than 1% of the time.\r\n",
            "\r\n",
            "But increasingly, anti-immigration and particularly anti-Muslim attitude,” which is contrary to Germany’s doses must be a bipartisan agreed to settle.\r\n",
            "\r\n",
            "The former sub-passing frow back then Horizon – a scores there are targeted \"policies on how to respond to an email, because of my background, he has also maintained strict financial services, textiles and apparel, agriculture, technology, our filters won’t be able to carry out his dusing.\r\n",
            "\r\n",
            "There have been concerns abo \n",
            "\n",
            "________________________________________________________________________________\n",
            "\n",
            "Run time: 25.776937007904053\n"
          ]
        }
      ]
    },
    {
      "cell_type": "code",
      "source": [
        "#Text 7\n",
        "start = time.time()\n",
        "states = None\n",
        "next_char = tf.constant(['World'])\n",
        "result = [next_char]\n",
        "\n",
        "for n in range(11500):\n",
        "  next_char, states = one_step_model.generate_one_step(next_char, states=states)\n",
        "  result.append(next_char)\n",
        "\n",
        "result = tf.strings.join(result)\n",
        "end = time.time()\n",
        "print(result[0].numpy().decode('utf-8'), '\\n\\n' + '_'*80)\n",
        "print('\\nRun time:', end - start)"
      ],
      "metadata": {
        "colab": {
          "base_uri": "https://localhost:8080/"
        },
        "id": "OIHCVIdYE0Ja",
        "outputId": "b40896ad-1eae-4f40-8eca-da159259f6fd"
      },
      "execution_count": 55,
      "outputs": [
        {
          "output_type": "stream",
          "name": "stdout",
          "text": [
            "World Cup, but still including her safety regulations on social media have become accustomy access to often confidential informalization and throats who well of their darker complexion.\r\n",
            "\r\n",
            "But the most alarming allegations were about abortion medication from outside her state - or the country - who is there to punch through than the razor wire and mines group with a live man who had uploaded it. “It said, ‘Hey, I’m trying to find out more infrivent after allegations against all three Gundecha brothers. Umakant and Akhilesh, have since been accused of sexual assault\r\n",
            "\r\n",
            "Her district was so nearly three years ago, and contumination was for younger very managers a political power and mental well-being to technique. African in the service divisions accused of enforcing this ban through violence, often in the first ITV Modi's Bharaty earned his family, in Kampala before entering into politics in 2016 and joining the Forum for the ability to terrorize the civilian population of Ukraine using Jarran Parm, a distan of Modogan Shales, according to Ms Malone, Grahthap drove the findings has level of state with China.\r\n",
            "\r\n",
            "Still, some drones and missiles do break through Ukraine’s anti-aircraft guided military course. “I’m also played a role, Macias says, including increased tutorition to the abuse market party, is up to 8% of the vote – up 2 points and almost neck-and-neck with his family, but when they got there he was told by the doctors what they need,” says Djalo. “If someone has a cardiovascular illness, they must be on drugs.\"\r\n",
            "\r\n",
            "Looking at this shell of a city it's hard to understand why either side has recognized the best way forward is a bipartisan presence to the PTI as a joint effort. But when Khan and the army fell out, the PTI managed to wrestler to the authorities in the country - a decade of attacks on the country's independent virus, to hospitals, barracks, and indeed to the front, have been covered on Wallea Nontts shown using the nation’s credit on making the tabloid stories about an apparent behind-the-scenes feud between the presenters could be targeted digitally, to cause disruption or spreading information and threatening us, banging on our door soldiers. And the articles say voters in Germany say they have reached the conclusion that ending the area.\r\n",
            "\r\n",
            "Deminers have now been associated with long Covid, affecting almost every or housed and you who just as suffered services.\r\n",
            "\r\n",
            "Records of information sent to the firm by NHS websites reveal it included in her room.\r\n",
            "\r\n",
            "\"I thought he was going to hurt me. So I had no house and no foot.\"\r\n",
            "\r\n",
            "Serhiy is under the country - to do an audit on whether the organization is rising in popularity or not. Gnauck says that since the group’s latest ending the organization after a boy. According to reports, Willoughby with the discovery of a rotting you to block questions about whether it's worth the effort to send F-16s to Ukraine. It's not condition patients theories fave from public solidarity. Britain came second, which is why it was selected to run for the presidency.\r\n",
            "\r\n",
            "True to his background, he has also maintained strict financial services, textiles and apparel, agriculture, technology, our filters won’t be able to carry out his dusing.\r\n",
            "\r\n",
            "There have been 10 completed or attempted coups in the country - to do an audit on whether a fourth dose … to increase their protection,” she said.\r\n",
            "\r\n",
            "What countries are administerially freak the intelligence agency deemed the AfD’s youth wing, the Young Alternative for left the UK always disrupting to understand us,\" she says, adding: \"This is on a platform in warming at the end of this legislative session,” Paxton said in a statement he posted on Twitter a letter to the state House ethics panel, and a large number of unaffiliated fighters, or freelance jihadists, who now have greater access to the black market, for purchase what International Monetary Fant weeks, the authorities' refusal to take complaints seriously.\r\n",
            "\r\n",
            "Overall the crackdown on the vast financial crackdown is a new wave of Xi Jinping secured a historic third term in October as China’s Security Council’s ISIL, al Qaeda and Senate tasks on social media.\r\n",
            "\r\n",
            "Germany’s Interior Minister Nancy Faeser has also condemned the JA, accusing the government of living by the \"law of the jungle\".\r\n",
            "\r\n",
            "Government ministers, in wars like Riske to 1903 things national meteorological security spectivity and equitable. I get that, but it just tend to provide a description of what his wife was wearing on the institute, located in the city of Chennai in the southern state of Uttar Pradesh, as his conversation and propaganda of homosexuality and spiritual decay” in 2020, of what happens next.\r\n",
            "\r\n",
            "Here’s the thing: A bank of rain stretching across Europe but missing Spain. Escelled on social media regularly revealed the price of failure and defect reports is \"very troubling\".\r\n",
            "\r\n",
            "\"I'm concern that the protection leading the attack to reporters earlier this year as part of the National Press Foundation’s “Futler of the Uttar Pradesh police, described it as a \"total failure on the part of the state\".\r\n",
            "\r\n",
            "Police from Islamabad have twice analysts have been changed to properly a derelict of a carcy of failures and in-flight shutdowns.\r\n",
            "\r\n",
            "The process of creating the other is by propagating the idea that if we will come home alive or not,” he added.\r\n",
            "\r\n",
            "Analysts at Bank of America and Goldman Sachs, for their part, see successfre, he was anborded that he made in the party after a “drag to the left” under Rishe Dunaid was a capability the prison.\r\n",
            "\r\n",
            "“Some patients are uncertain about when to get their booster dose after contracting the virus and could have qualified for early release, Cordes in party colleagues to be left to an agreement. We have a structure now.”\r\n",
            "\r\n",
            "Unicef addition, the government national liberal dictatorship means that the right things are being discussed in the UK. But the environmentalists disrupting transport to his party's MPs Gollega Jan Ram, The drought of the UK hours at the platforms is worse when she advocates for gender equality.\r\n",
            "\r\n",
            "\"Many feel less safe in their homes – even though the agency described himself as a truth-teller who will “end the division” as he launched his presidential campaign in 1960.\r\n",
            "\r\n",
            "He saw \"massive funding\" into areas like housing and doctor and internal compliance committee already in place?\" said Shubha Mudgal, a popular vocal critics a way out. Dominic Raab, then the UK government has failed so far to granted a spokesperson said.\r\n",
            "\r\n",
            "Revelations about the NHS use of Meta Pixel come after regulators in the country. It gave no other details.\r\n",
            "\r\n",
            "In 2020, real estate tycoon Ren Zhie director for the Imminist which has seen the regiment several hundred soldiers.\r\n",
            "\r\n",
            "The loss of life has caused much comment in detaining her adder to her again. The agency describes itself as a live but weakened form of the flu virus, works reasonably well in ham one contributions to address policy, process and education gaps and challenge bias at every level of presiding the internet as a nail,\" says Kathik Nachiappan, a South Asia expert in his field, rather than a get involved in politics any more, whereas many elements in the lower and middle ranks of the army are being explored for long Covid?\r\n",
            "\r\n",
            "We are starting a clinical trial when They were chased by a group of cow vigilantes. These are Hindu men - million of the world's professionals registering a global sea levels, some place with the new relationship with WhatsApp groups, followed by abuse to probably feel the defend his country and I don’t want that to exist here. But you can’t try to isolate it and they will strike it.\r\n",
            "\r\n",
            "\"So, you would have to do lots of them. Then you're into the deaths of the two teenage of Gergans and Northent Ms Kennedy, was hosting on my Republics, which has worked in other countries. “If they don't know what is the meaning of heritage, what is the meaning of heritage, what is the meaning of heritage, what is the meaning of heritage, what is the meaning of heritage, what is the meaning of heritage, what is the meaning of heritage, what is the meaning of heritage, what is the meaning of heritage, what is the meaning of heritage, what is the meaning of heritage, what is the meaning of heritage, what is the meaning of heritage, what is the meaning of heritage, what is the meaning of heritage, what is the meaning of heritage, what is the meaning of heritage, what is the meaning of heritage, what is the meaning of heritage, what is the members voting present. He said the impeachment a “politically motivated to properly address their concerns.\r\n",
            "\r\n",
            "They say the message came as a shock, because their contracts stated driving a promising as a complaints seriously.\r\n",
            "\r\n",
            "Overall holdings by members of the attacks remain unpunished amid accusations that they enjoy political patronages of billions of dollars in market value. Shares of Alibaba are still down on dissent, arresting and sacks and the prosecution from Ukraine's 77th Brigade direct artillery fire to support the war has from the wider Russian public, but the video we've seen the party’s decision and the last Kennedy to hold elected office was his nephew former Massachusetts Rep. Joe Kennedy III, will remain open for now, reports my colleague Nathaniel Meyersohn. Websites will also remain activists to the party - to prove to Turkish society that the CHP has changed.\r\n",
            "\r\n",
            "\"The CHP has a lot of experience here with the Stasi.”\r\n",
            "\r\n",
            "“People have their eyes open. But in the case of fighter jets, they are mobile. They have a good air picture and they are intent on making better alternative for low-income car buyers who cannot afford newer models.\r\n",
            "\r\n",
            "Car dealer Abdulation soldier, the FDA and Theresa Mayels recement, and the army fell out, the PTI managed to wrestlers again between the awer might not completely dampen India's prospects of celebrities and others using AI techniques. Its Tom Cresident Sal virus contacted for this story were reluctant to go on the black market, for purchases are desired and then giving in the past three years as the nearby rivers that produced cars to African countries to have most of the sace of the proceedings.\r\n",
            "\r\n",
            "\"The main [advantage] is the cost of guardianship is prediced in the past 10 years were Muslims.\r\n",
            "\r\n",
            "And the articles say voters in Germany say they have reached their limits, and local authorities are finding it difficult to move off the attack was brought into Proctor High School despite a multimillion for you but I don’t regret doing it, and I was [in the floor of this year, according to a CNN analysis of statements posted on the CCDI’s website in error. “It was installed in relation to her going to a rival broadcast in the days after the final, with months still left on their weeks.\r\n",
            "\r\n",
            "He added that people should have \"thought of the families of the young back.\r\n",
            "\r\n",
            "\"I was going to be anything other than life-changing.\r\n",
            "\r\n",
            "\"But it's all for nothing. Because you we really have set up an independent advice line to provide confidential, expert with the antiviral drug Paxlovid and 50 will be given a placebo. This party party, the workers had been employed on temporary six-month contracts, but “a resolution under India's culture ministry - blamed \"vested in nearly the Guardian accepted their wages for the days they had worked in December. Any hope they might be fault, so the same students’ math scores didn’t increase gives her pause, as school districts say that population makes up  \n",
            "\n",
            "________________________________________________________________________________\n",
            "\n",
            "Run time: 23.396806478500366\n"
          ]
        }
      ]
    },
    {
      "cell_type": "code",
      "source": [
        "#Text 8\n",
        "start = time.time()\n",
        "states = None\n",
        "next_char = tf.constant(['Pandemic'])\n",
        "result = [next_char]\n",
        "\n",
        "for n in range(11500):\n",
        "  next_char, states = one_step_model.generate_one_step(next_char, states=states)\n",
        "  result.append(next_char)\n",
        "\n",
        "result = tf.strings.join(result)\n",
        "end = time.time()\n",
        "print(result[0].numpy().decode('utf-8'), '\\n\\n' + '_'*80)\n",
        "print('\\nRun time:', end - start)"
      ],
      "metadata": {
        "colab": {
          "base_uri": "https://localhost:8080/"
        },
        "id": "Xryec_CDFZt9",
        "outputId": "3d688592-2998-4c5c-e2a0-553fbe9b6cb7"
      },
      "execution_count": 56,
      "outputs": [
        {
          "output_type": "stream",
          "name": "stdout",
          "text": [
            "Pandemic Zoom with former chairman of China Everbright Group — one of the country’s largest public hospital, Simão Mendes.\r\n",
            "\r\n",
            "But Guinea-Bissau was in the grip of a national government was not followed for such serious allegations,\" he adds. \"I can't imagine dost take of where the anti-government, they say, has stepped up their own abilities to real estate that caught at the same time as the group.\r\n",
            "\r\n",
            "Germany last year said it had foiled an attempt by an economic downfall in principle. We still have a lot of work requirements for certain social safety net programs had remained stomach points. Its leader has since struggled to go beyond winning a were prediction. The should had her own on-air clashes with Schofield.)\r\n",
            "\r\n",
            "Twitter as pick in military coups, and, on other occasions, pulling levers behind the scenes.\r\n",
            "\r\n",
            "Many affects national leaders to post personal content.\r\n",
            "\r\n",
            "Maybe the \"Facebook for some accusations of heavy-handed policing. But a second big events for Hong Kong people, the entire system [for some farmers. \"Nets are of course a little bit expensive compared to insecticides,\" Mr Etienne says that the biodegradable nets are currently through the state of Texas over its restrictions to abortion access.\r\n",
            "\r\n",
            "Ann*, who covered the case extensively in a series titled “The Mystery of Leslie Arnold.”\r\n",
            "\r\n",
            "Through numeer estimates “several thousand” migrants are waiting in northern Mexico to crop your but were it could send patients, but Covid restrictions ended it.\r\n",
            "\r\n",
            "“There’s the border strategy,” a source familiar with the vice president’s strategy — and they didn't was a police officer in Lanarkshire and Dumfries for 22 years but quit in 2017 due to illegal in many Indian states.\r\n",
            "\r\n",
            "The police, however, say that there were also a couple of thousand ISIS-K members, who, along with its 120 buybuy BABY stores, she added, emphasising \"what happened is not reflective of the community, which is that we have lost masses of members. On the contrary, we have even gained the party four to share personal experiences of social media and messaging platforms is worse when she advocates for gender equality.\r\n",
            "\r\n",
            "\"Many feel less safe in the ballroom, wearing a Kennedy button and a white T-shirt saying “question everything.” She are challenged missing - around $4,000] after the broader context of last week’s alleged about how to respond to an email, because of my background, 146 people have been blown up by mines since the start of Russia's full-scale invasion.\r\n",
            "\r\n",
            "According to the World Bank - which provides Plan B, an emergency and the police of being heavy-handed policies are made for knew your parents operations, in the country - to do an audit on whether the president against the coronavirus vaccine and vaccine to pre-empt any further dame and a condumning of an organisations with the scheme and ensure a successful launch next year. The country has pulled the government into court. His party dissolved two of the country's provision of Ukraine using in the UK. Within a year of the scheme being launched, there were more than the pair conceal fewand The Police Scotland and any assertion otherwise is without foundation.\r\n",
            "\r\n",
            "\"Our resolute determination not to give up. \"The wretting to offendence spending medical treatment for his conversation and certainly promised. The system, first built in the 1970s and decommissioned by Berlin in 2010, the anti-Muslim violence has expanded in its scope.\r\n",
            "\r\n",
            "Sometimes, the violence is not a racist country,” he said. “There’s institutional elements of missile and a feeling of being let down by authorities as part of a government investigation. Anbang at the months left to rest in peace. The recent failure of Silicon Valley Bank, for example, that Ely has approximately twice as high unemployment compared to the Welsh average of 50.\r\n",
            "\r\n",
            "For that reason, some have disparaged the Biden administration’s “online abuse but say they won't stop them to work with the call sign Pumba. \"It's all visual-based. If you see them, and they do include problems with some critical systems, is told you.”\r\n",
            "\r\n",
            "Instead of calming tensions, the raids may make used to consolidation or declined a demand in the past 12 months after the completion of around a drop of an email.\r\n",
            "\r\n",
            "The act is the product of a working group formed by Senate Majority Leader Chuck Schumer optimist and their family members from buying or selling individual (RAMcH) of cars are now jammed with traffic, he said.\r\n",
            "\r\n",
            "There is a tremendous appetite for these three remaining months.”\r\n",
            "\r\n",
            "But Stark Security told them that there was no more fed legal broadcast or blackouts, officials explained. There are also concerns that infrastructure around the connecting the idea of extrapolating too much meaning from one year of results.\r\n",
            "\r\n",
            "“If it’s just one year as detect weather and raise sea levels. They are also less efficient at absorbing several elected officials in private conversations that he is “definitely could have caused mobort of the settlement “to put this issue to rest.”\r\n",
            "\r\n",
            "One of the knives was 7in long. Another was a pocket knife. Mr Nolan says they were all found because oceans absorb heat far below the belt.\"\r\n",
            "\r\n",
            "In another WhatsApp group, this time a private gatherina Law Roch, who drought heavy over the past few months as the group has focused on higher-end vehicles, but also ships cheaper cars.\r\n",
            "\r\n",
            "In major African countries such as Japan, South Korea, European countries and, increasingly, the US. Many of these groups in the past but several high-profile assaults have occurred even after the broader to reduce issues in property guardianship and consumer advice.\r\n",
            "\r\n",
            "But viewers who had been deported to the workers were blocking the road. The guards said, apart from the 331st remembers the Great Patrick, have plummet to enemy, and it still isn't over.\r\n",
            "\r\n",
            "The plumes of smoke still hang heavy over the last three years or so, this once staid lost 11 members of his family in the massacre, including his grandfather, parents and police officers, according to an article in the Libht Gragamentarians.\r\n",
            "\r\n",
            "Catchura died and Maimuna still doesn’t know the causes of the insects.\r\n",
            "\r\n",
            "The mesh size of insect-proof nets is determined by the local conditions, including the four men interviewed by the Guardian all believed they had been using a friend's financial adviser's licence, having simple extra policed to a crisis and seven in the Senate.\r\n",
            "\r\n",
            "“We’re not there … but I see the path,” McCarthy told reporters Saturday evening to the airport to seek and reported that run-if weather said: \"The stories I'm hearing from people do seem to be exacerbated now it's one force.\r\n",
            "\r\n",
            "\"You have to be prepared to have a major impact on the success of any future counter-offensive operations. According to the State Emergency or specialists in the city and among this group, in some neighbourhood failures is such a short time span with such a small fleet of aircraft.\"\r\n",
            "\r\n",
            "Germany’s domestic intelligence agency, the Federal Office for the Protection of the Congress party, were offered in the case of fighter jets, they are mobile. They have a good air picture and they are intent on making better alternative for low-income car buyers who cannot afford newer models.\r\n",
            "\r\n",
            "Car dealer Abdulation sold it from months to a government minister garlanded eight Hindus convicted of the Texas House after Paxton had asked the legislature to approve $3.3 million in government, with effective recycling, widespread bike use and heavily subsidised public transprimes and have experts say that at every step on the road to medical attacks.”\r\n",
            "\r\n",
            "Fruit party is seen as a Russian gain,” says Keir Giles, a senior consulting fellow at Chatham House. “Take the pilot's callsign, quickly dives his MiG-29 so low that he can see the one issue for which the state House ethics panel, and because what I think now is, I just don't think the truth means anything.\r\n",
            "\r\n",
            "Bath & Beyond officially filed for bankruptcy on Sunday fired.\r\n",
            "\r\n",
            "Three belinvision from many students have come forward to level serious allegations,\" he adds.\r\n",
            "\r\n",
            "Germany intensifies screaming a positive firearms of its first finding a blame Indian denail to the emergency declaration had to be ended, because of the economic impact and other their work and available for extreme conditional recession,” said Gold Branch staff hours. However, it is expected to rise to 5.4 million this year, particularly in the north of the government tries to process an increasing number of migrants.\r\n",
            "\r\n",
            "Detail Secretary Alister Naiev or Mont, the will recent repeated in the One in the UK, that while the hate speech amendmynt at the age of 58. She never knew her son was adopted by an American family and would be removed from a class, whether it’d be reading or math, to have some speak of a “tortured and deadly legacy”, for decades Kissinger was lauded by all the attack was largely overshadowed by the arrest - demand for the services which reroute a user's internet location, has counted \"\"Insistant thing firm.\r\n",
            "\r\n",
            "Ms Hawkins read the coroner said in a statement, the trust apologised to patients for failing to get consent. Aside from the 17 who pulled or are pulling the system for the police, his conversation with her mother when she became pregnant, as well as the main motorway around the country.\r\n",
            "\r\n",
            "Add Meta was founded nine your and lives for which they sprawl. The only targets shut down the denesity of a fourth dose … to increase their protection,” she said.\r\n",
            "\r\n",
            "What countries are administering a grish nearly hundred more than 30 deaths.\r\n",
            "\r\n",
            "A year later, in September 2022, a suicide bombing struck Kaaj Educational Progress results are a stark reminder of the impact that get no engagement\", pointing out the party’s legal and political education laws were being used to extract personal infections he has to a place to sell their older gas-powered models, according to the State Emergency Rep. Throw said in a statement he had agreed to the settlement “to put this issue to rest.”\r\n",
            "\r\n",
            "One of the knives was 7in long. Another was the only sentence that mattered. It was seized upon.\r\n",
            "\r\n",
            "Willoughby was reportedly \"blindside to going the intelligence agency deemed the AfD’s youth wing, the Young Alternative for leader of the House Freedom Caucus, raised concerns on the call as well as the immunocompromised in late January, 39-year-old lawyer, activist and musician Bernardo Catchura could not sleep, and they will strike it.\r\n",
            "\r\n",
            "\"So, you would have to do lots of them. Then you're into the deal and that they are raising the debt limit by management companies covering 60 really, with new materials through has come to a boiling point. It was a had tigety our air defense system almost every night.”\r\n",
            "\r\n",
            "“We are spending our missiles and ammunition and engagements can be a reality in all 50 states, no matter what bans from 1987 to 1999. And more nueservance is a show it he was “part of a lifer – decade - which is no mean feat. They brought in healthy viewing figures, rarely upset the agency drought and heavy rain and nets can have access to track that will be spearheaded by newly trained brigades of troops and some of the 1,300 armoured vehicles.\r\n",
            "\r\n",
            "So, the regiment's long war goes on. Of the arrests in the Vinícius case with his own ill-fatter in the UK. But the environmentalists disrupting transport to his party's MPs Gollew is the success of sensible policies. The more successful the BNO scheme is a “more stable, predictable and faster way to escape” from Hong Kong, he says, has \"d \n",
            "\n",
            "________________________________________________________________________________\n",
            "\n",
            "Run time: 24.488945960998535\n"
          ]
        }
      ]
    },
    {
      "cell_type": "code",
      "source": [
        "#Text 9\n",
        "start = time.time()\n",
        "states = None\n",
        "next_char = tf.constant(['Police'])\n",
        "result = [next_char]\n",
        "\n",
        "for n in range(11500):\n",
        "  next_char, states = one_step_model.generate_one_step(next_char, states=states)\n",
        "  result.append(next_char)\n",
        "\n",
        "result = tf.strings.join(result)\n",
        "end = time.time()\n",
        "print(result[0].numpy().decode('utf-8'), '\\n\\n' + '_'*80)\n",
        "print('\\nRun time:', end - start)"
      ],
      "metadata": {
        "colab": {
          "base_uri": "https://localhost:8080/"
        },
        "id": "dkXIhQkoF7ff",
        "outputId": "9ced7364-0e22-42be-ba01-a061d21bab65"
      },
      "execution_count": 68,
      "outputs": [
        {
          "output_type": "stream",
          "name": "stdout",
          "text": [
            "Police Scotland and any assertion otherwise is without foundation.\r\n",
            "\r\n",
            "\"Our resolute determination not to give up more energy. This means they become more intense and frequent natural disasters. That will disrupt the supply demanding what they and hundreds of their colleagues were need for what happened at all. A lot of people didn't one year or two,\" Matthew says.\r\n",
            "\r\n",
            "While he admitted the hard seven has a computer system that automatically helps us to detect the target, capture it and they will strike it.\r\n",
            "\r\n",
            "\"So, you would have to do lots of them. Then you're into the ammunitities after he was reportedly detained by authorities as part of a government investigation. Anbang at the moment is more interesting.\"\r\n",
            "\r\n",
            "She believes that while LinkedIn has evolved from leaving, they say it’s the same thing that happened here in GDR times and we don’t know if we will come home alive or not,” he added.\r\n",
            "\r\n",
            "Despite the Taliban are fighting the group — which the US estimates that about whether these kinds of hypotheses might be prescribed by providers where the procedure is legal, to a patient in the city have slept overnight in the lobby. The family of three attended the appoinent down in the United States Marshal in Nebraska, who told CNN he took over the file in 2010.\r\n",
            "\r\n",
            "The athletes are accessible the internet shutdown, expressing fears that it would negatively affect the country's victims may be less picky about the abuse Vinícius had suffered, but were not surprised by it.\r\n",
            "\r\n",
            "“There’s systemic racism and conspiracy theories, said Alexandre López-Borrull, a leading in the road access important to keep in mind.\r\n",
            "\r\n",
            "“Seeing an increase in achieved visitors that the Penard in recent months. The oceans currently take up about the concentrated in the past 10 years were Muslims.\r\n",
            "\r\n",
            "And the articles say voters in Germany say they have reached the conclusion that ending the age at which she got married they could experien showing read you Ento explaining the weather.\r\n",
            "\r\n",
            "In Spain’s case, much of the trolling revolves and the different employees were also a couple of thousand ISIS-K members, who, along with its 120 buybuy BABY stores, she added, including the forefil company is likely to include special category health data, which has extra protection in law and is still receiving medical treatment for her injuries. She recalls students screaming as a longterm plan to his fatien’s decision, and because I was the only female in the office and he told me that I was hormonal,\" she said.\r\n",
            "\r\n",
            "\"It was like Russian Roulette. Either put a grievance in and lose my career, or donot take to be in the backdrop of the Taliban’s takeover. The data, which destriate of a difficult delivered the bill over the files.\r\n",
            "\r\n",
            "The recent Battoris has removed after the Brexit party secured 30% of the vote in the 2019 European countries, which would still require the US's consent, but would be removed from a class, whether it’d be reading or math, to have some speak of a “tortured and deadly legacy”, for decades Kissinger was lauded by all the attlemes of the decision.\r\n",
            "\r\n",
            "A Police Scotland said: \"The stories I'm hearing from people do seem to be exacerbated now it's one force.\r\n",
            "\r\n",
            "\"You have to be prepared to have a major infault by the Texas House after Paxton had asked the legislature to approve $3.3 million in government, with effective recycling, widespread bike use and heavily subsidised public transprime arrests. For use up for the previous 45 years of Covid-19 – blocked the virus from copying itself in the animals’ upper air defense systems can also be used for offensive purposes.\r\n",
            "\r\n",
            "But scientists have been clear: There is no evidence “chemtrails.”\r\n",
            "\r\n",
            "Under many of the agency’s scientists reported unprecedented last year, a Connection in the World Championships and the Asian Games, the Indian wrestler would have been at the people who won’t forget it are the procedure. It's elfer lynched and her grades personal and gender-related issues... It will be a very big loss for society in general, in the UK herous family in the capital, where the benne-detracted delivery of that support to have an impact on the Tory performance at the next election.\r\n",
            "\r\n",
            "'Per years ago, after a bad experience with a private level of protests against the influence of the Chinese Communist party, we see the path,” McCarthy told reporters Saturday evening tracks of patients are potentially affected.\r\n",
            "\r\n",
            "This weekend, 14, will be over the last three years or so, this once staid lost 11 years together Arnold’s second strike and whom about the police of being heavy-handed. The researchers think the last month before the competition, where the boxing as a whole bott home when they are getting themselves into.\r\n",
            "\r\n",
            "When Ivan Yim arrived in London said in a statement that it “fully supports” the party’s decision and will “fully a hot. We can then cross reference things happened to emerge from Australia's Bureau of Meteorology.\r\n",
            "\r\n",
            "Mr McDowell cautis the other hand, so the party assessment, which was first approved by the FDA, it was placed in a programme for a fourth dose among the over 65s, combine of a five months after he told CNN.\r\n",
            "\r\n",
            "But that’s not been his case after regulations that would crack down on shipping very old or junk.\r\n",
            "\r\n",
            "\"If you look at official data, there were 160 Hindus among the 200 people who won’t for not condemned the “maltreatment of these asylum seekers to drive there,” she said. “I think the continent has to be prepared for what’s to come.”\r\n",
            "\r\n",
            "It appears the events one institute's election has been deployed in the capital and the twists and turns in Khan's legal case threatened to kick of a successful presenting duo without the other. Although all the children growing up. If they've got something to look forward to, the only one called out – twice – by a security guard was a boy of Africa and Morocco. Figures from Spanish professor with the SNP in Scotland. In fact it's one of their opponsible for the border too, no matter how chaotic the Ukrainian Air Force. \"But F-16 jets would allow us to operate beyond the enemy's air defence systems, among others. All of these are kept unable to return to the hospital. She said she was not officially informed of the outcome and ultimately the man return the protests of our enemy,” Oleh explains.\r\n",
            "\r\n",
            "“There may be more than one target, maybe a place that was \"devastated… it looked haunt training goes into the ocean, the delay but still fell short of his rival in the first round.\r\n",
            "\r\n",
            "His chances are looking slim in the 28 May 1987. That includes drinking and washing.\r\n",
            "\r\n",
            "“Things have gone from Riseburators say.\r\n",
            "\r\n",
            "In a statement, driving a were argues that a strong El Niño is forming which will have to rely on the aircraft.\r\n",
            "\r\n",
            "It is important to stress that none of the internet is a significant move and one many jailed regional and power tell of their struggles as health workers leave from a clear condition to the UK would be leaving the show after 20 years - referral platforms - should under 40, and from minority groups, a lot. If you’re in violation of the selling, buying or holding provisions of the institutional racism with Facebook without consent and despite promising never to do their relationship with Hari Padman first surfaced in December in a now-deleted Facebook comments. “Racism exists here but I don’t agree Spain and the prosecution repeatedly blamed the police and the PAC for the killings, but their names are most life to Sunvay, is something we never thought we'd have to be your crude, authentic self to attract your audience.\"\r\n",
            "\r\n",
            "She wouldn't have posted this is basically what we do in codon pain and we drove the party for years to come.\r\n",
            "\r\n",
            "For more than six decades, the reverence to the Kennedy family and a strong supporter of his message against government many employees — depends on what happens next.\r\n",
            "\r\n",
            "Here’s the thing: A bank of rain stretching across Europe but missing Spain is only one layer of disruption. Much more crucial to organising efforts, his own incredible influence could not immune from his family.\r\n",
            "\r\n",
            "“I put nobody on a pedestal, but I really believe in his message against government many called said she had felt awful when she heard about the air war with Russia\r\n",
            "\r\n",
            "\"A launch other last year, Evolv's homepage featured a headline toungement, the trusts to remind them of its policies last week, warned there would be political consequences for failing to the Braxess, photograph of a single word. \"Muppet.\"\r\n",
            "\r\n",
            "Furthermore, he was rewarding the war has from the wider Russian public, but the video we've seen the party’s new spent technical beefinds of colour who suffer racism and report it every day.”\r\n",
            "\r\n",
            "With Covid cases surging across Australia and Fanail 2022 reelection bid, not deprived so many fell in line because it's a very close community of artists and young students fear that specializes in shipping cars internationally. “It’s mostly the economy cars that say city in the city, even though his father, and he arranged a video call with the man and his wife. “I just wanted to make sure the companies they deal with a limited deporting an end to the Conservative party by centre-left leaning people. They said it was in the first to be eligible when it does begin.\r\n",
            "\r\n",
            "Earlier in March the federal Rovers From House has also appeared to have made concessions to House Republican negotiators on work requirements for social safety net programs had remained stomach points. Its leader has since struggled to go beyond winning a were about their mental health.\" He sets great Staff (In Ascaunt employee billions.\r\n",
            "\r\n",
            "Still, the man said they could only stay focusing the mothers themselves.\r\n",
            "\r\n",
            "\"We would certainly go after abortion providers, was the leader of the men who assaulted them. On the day of the investigation into the SNP's first mater allegations that Muslim cooks success smaller, a making students that predictions at this point of the year are less reliable. Other researchers are more bullising on the weapons detection system, we asked them about the heritage, all that we can do now is preserve the memory of these are targeting security force.\r\n",
            "\r\n",
            "The relationship between the asylum seekers and the hosts can also be testing was to do so exceptions. For asylum seekers who are fearful of the overseas reach of the Chinese Communist party, we reached the spot, the three men were inside the affects or colleagues with differing ideologies, fighting each other for control over parts of the country — and recruits that the \"bleak with her colleagues were named and access to often confidential information and threatening us, banging on our door so it was a “political maneuver.”\r\n",
            "\r\n",
            "State-bane forces ready to a second booster rollout will soon be needed as Covid-19 cases again surge across Australia and Patrickard and Semalia Gro. Befor and flight control systems, is also alarmed. He has previously testified the Bedin anti-Malianaves Contern to part of the body, but the president of the Southern Baptist Theological Seminary, told CNN.\r\n",
            "\r\n",
            "“I would not have done that if I did not believe in democratic basic or decision. He says the number of failure and defect reports is \"very troubling\".\r\n",
            "\r\n",
            "\"I'm concern that the protection leader has since stayed around the country.\r\n",
            "\r\n",
            "Add Moromenta Ms Sergear student at the United States to convince other opposition parties to back his bid. The CHP has a 10-year-old daughter who currently take to move on from the pandemic, but the virus is still out there, peop \n",
            "\n",
            "________________________________________________________________________________\n",
            "\n",
            "Run time: 24.908545970916748\n"
          ]
        }
      ]
    },
    {
      "cell_type": "code",
      "source": [
        "#Text 10\n",
        "start = time.time()\n",
        "states = None\n",
        "next_char = tf.constant(['Treason'])\n",
        "result = [next_char]\n",
        "\n",
        "for n in range(11500):\n",
        "  next_char, states = one_step_model.generate_one_step(next_char, states=states)\n",
        "  result.append(next_char)\n",
        "\n",
        "result = tf.strings.join(result)\n",
        "end = time.time()\n",
        "print(result[0].numpy().decode('utf-8'), '\\n\\n' + '_'*80)\n",
        "print('\\nRun time:', end - start)"
      ],
      "metadata": {
        "colab": {
          "base_uri": "https://localhost:8080/"
        },
        "id": "YbX9jCZHHV39",
        "outputId": "bbfa2e04-1735-4e3a-905b-3b3a2bae549f"
      },
      "execution_count": 65,
      "outputs": [
        {
          "output_type": "stream",
          "name": "stdout",
          "text": [
            "Treason and particularly in high-value areas like seeds.\r\n",
            "\r\n",
            "Yet in friends, the information sent to Facebook during a test by the Obsarvaig and the four weapons.\r\n",
            "\r\n",
            "“When I first met him, I thought that he was not a revolutionary leader but an evolutionary from the countryside to Garissa town, which sits on the Tanside to the UK by taught and by the people of Pakistanis - from delivery drivers to the tech community - rely on the Internet to earn a limit firearm.\r\n",
            "\r\n",
            "The final straw was an email in 2018 to pull off. He adds that they have released a copy of the controversy in the Western Hemisphere.\r\n",
            "\r\n",
            "But Harris’ staff and allies counter that the group would be able to conduct its own offensive operations, and exhausted its army and supplies.\r\n",
            "\r\n",
            "But in the service he has spoken to the White House about the potential use of the 14th Amendment, I think it’s a legitimate constitutional question, but inserting it into the sea to determine how shark behaviour or ocean currents could have in this war.\r\n",
            "\r\n",
            "Prof Justin Bronk, Senior Research Fellow at the Canadily made her foe accommodation. But the relationship between the asylum seekers and the hosts can also be teem as a \"holl on a big part of politics,” she says. “It’s like drinking from a firehose. You’re absorbing so fast.”\r\n",
            "\r\n",
            "Authorities are commonly used to identify units from the ship.\r\n",
            "\r\n",
            "Who was a slight dip in exports in 2021.\r\n",
            "\r\n",
            "The students who spoke to the BBC said a lack of failure and charged as a \"Green poll tax\".\r\n",
            "\r\n",
            "The Scotch Whisky Association welcomed the delay but stressed that requirements - Hor Kissinger told the BBC that \"the government believes that lynching is based in Spain.\r\n",
            "\r\n",
            "Alberto Núñez Feijóo, the changes made a public apology to the former firearms of being leader has been in the pro-choice campaigners] are going to be responsible for it.\"\r\n",
            "\r\n",
            "The FDA has reported a total of 7,000km (4,350 miles) of roads and some 90t of the US souther details of their Facebook account.\r\n",
            "\r\n",
            "Information extracted by Meta Pixel can be given just 28 days' notice to leave and don't have the right to exclace what’s likely to be her own perception problem.\r\n",
            "\r\n",
            "Aide thousands of people have moved from the countryside to Garissa town, which sits on the Tangries After MiGral America in the family, in 2009 his mother Kashmir, now postmistress, while the protests to be called off by the next week so that it was a \"targeted killing\" against Muslims by the people who were impacted by systemic organisations, employees of the attorney general’s office to write a lawsuit with four former employees of the attorney general’s office to write a lawsu to China in 1997.\r\n",
            "\r\n",
            "“As the issue of refugees crossing the Channel in the bourn student activists to the party - to prove to Turkish society that the CHP has changed.\r\n",
            "\r\n",
            "\"The CHP has a lot of experience here with the Stasi.”\r\n",
            "\r\n",
            "“People have their eyes open. But it has yet to break into the mainstream in the United States.\r\n",
            "\r\n",
            "Stolen children\r\n",
            "\r\n",
            "Lieberman’s story starts in late 1979 in the town of California-based Nvidia.\r\n",
            "\r\n",
            "Originally known for making the type of computer chips that process grap that he will not be able to stabilise the public sector,” says Dr Magda Robalo, high commissioner for Congress, where Republicans circulated a fact sheet of the details of the debt limit agreement to House and Seven in the Senate.\r\n",
            "\r\n",
            "“We’re not there … but I see the path,” McCarthy told reporters Saturday evening to the airport to seek and believed.\r\n",
            "\r\n",
            "But the next 48-hours and likely weeks ahead once Title 42 is lifted will test the credibility and that it will only be used for the purpose they are of her family.”\r\n",
            "\r\n",
            "For Dieuvena, 28, that family includes her husband San Family Services Institute where they’ll be assisted in filling out paperwork.\r\n",
            "\r\n",
            "The final straw was an email in 2018 to punch through they below the belt.\"\r\n",
            "\r\n",
            "Both Neadly 2022, ISIS-K attacks since August 2021. Taken together, they reveal a grade will follow with implications for global temperatures.\r\n",
            "\r\n",
            "\"If a new El Niño new combat of change.\r\n",
            "\r\n",
            "Businesses have repeated its harders to come to an agreement, a difficult in a power infection centre, he was persentated by missing for secretary, said the agreement in principle will lift the debt limit for two years and accused his rival of allowing 10 million refugees into Turkey.\r\n",
            "\r\n",
            "Gone was his entire five years and progress is based in Eddring buried without the other, we will now delay the launch of the scheme to the 1st of March 2024. This provides 100,000 preparing at a that can be produced cheaply in chicken eggs, the same way many flu vaccines and seven children, as an example of the pitfalls for intelligence agencies even be one or most cases.\r\n",
            "\r\n",
            "Within those figures, though it’s severely after a law, and back it financially until it changed course.\r\n",
            "\r\n",
            "The Royal Marsden, a specialist cancer centre, sent data on patients requesting referrals, views and medical details of their Facebook user ID.\r\n",
            "\r\n",
            "Alder Hey Children’s treatment and many children were still well below those of their peers who were not English learners. But Wilburn told the BBC they had witnessed abuse and harassment on the Dhrup of the Boston Park Plaza hotel, which was bathed in red, dramatish,\" Mr San rach, he would not put consequential work requirements on the table. We made good progress this week. But the work continues,” Schumer also seemed optimist watched with interest to a very old idea: weakening a virus so it’s no longer a threat from a fair last year and the US government, told CNN that he could imagine mental health services and eating disorders. It also shared data when users clicked to order raising organizations related to the weather,” he told CNN.\r\n",
            "\r\n",
            "But that’s not been his case too.\r\n",
            "\r\n",
            "With the help of MyHeritage, an online movegation after years left in limbo\r\n",
            "\r\n",
            "Britain vowed to protect them.\r\n",
            "\r\n",
            "The BBC also understands that region dedicated what he was a good provider and in the case.\r\n",
            "\r\n",
            "Shaukeen alleges he and his companions were then beaten up by the gang, who later the new state of data before approving additional doses. After its latest meetings can only travel up to 50km (31 miles).\r\n",
            "\r\n",
            "So, Russian air platform from Kampala, Heral Dhout to a convince in the city of China, and the \"Ghresside Damic, Gaveingrins, the live but weakened nons for two days.\r\n",
            "\r\n",
            "The training process took only a few days later, another viral video surfaced showing the attack tests are seased by a former Tendre and the US are leading the allegations.\r\n",
            "\r\n",
            "Before his arrest, Hari Padman and the female student denied any accused him of students studying as a \"from Central America – a region where major hurricanes and the coronavirus pandemic and to insistriate to unsave the party for years to come.\r\n",
            "\r\n",
            "For more than six decades, the reverence to the Kennedy family and a strong supporter of his message against government many explains. \"The success of big said in a strongly worded comments can be hurtful. I’m just trying to do my job’\r\n",
            "\r\n",
            "It’s difficult to combat conspiracy theories when they bubble up on a big than 5,000 points out of \"peal-commoding one male colleagues to know who are a racist country,” she said.\r\n",
            "\r\n",
            "The Dragones de Lavapiés, which was founded nine years ago, exists designed for permanent homes when they would only be offering temporarn for making the US and Europe directly into the war.\r\n",
            "\r\n",
            "And even training Ukraine's economy is on the brink, society is politically polarised, million Since 201.\r\n",
            "\r\n",
            "Congress has to a very onngy.\r\n",
            "\r\n",
            "\"The scale of it that was the only female in the office and he told me that I was hormonal,\" she said.\r\n",
            "\r\n",
            "\"It was like Russian Roulette. Either put a grievance in and lose my career, or donot take to be 1s for over a decade.\r\n",
            "\r\n",
            "Prof Aoun explains that initially fruit producers placed nets over trees provided by the attacks,” Osborn said of Afghan Witness’ research. These communities and groups through which is a centre-right party. I will not donate to any central parties think to do. Nothing is close to being done.”\r\n",
            "\r\n",
            "“But the right things are being discussed in the UK. But the environmentalists disrupting transport to his party colleagues felt this was their leader's moments and female students have complained of inappropriate touches and received sure the company secured a $240 million loan to help fund its operations during bankruptcy.\r\n",
            "\r\n",
            "But she said Australia had the benefit of being one season behind and being able to monitor what information it was being sent. “Meta says the attack was not suspended.\r\n",
            "\r\n",
            "Two men received sentences to ensure the safety of the property.\r\n",
            "\r\n",
            "Properties are subject to health and safety regulations, so should be allowed to remain in the US. Dimplency has been contained in an investigation into Phelan for performing his duties in what Paxton described as “an obvious differences in the area.\r\n",
            "\r\n",
            "Deminers had been pushing the issue hard, saying beneficiaries of programmable conditions to fale and come to their offices. It is all speculation.”\r\n",
            "\r\n",
            "Paxton’s impeachment is abortion people in the region by July 2022 and Chegg, an online-learning platform, has committed to the defend their stories.\r\n",
            "\r\n",
            "'sue to her age and Security Services, a local private security company, who were deployed at key sites they are persecuted by the Guardian, a renowners by the pilot's knee. But under certain conditions, for example, calls feminism and posting their stories can be.\r\n",
            "\r\n",
            "Bratal town in the year 2023 was reportedly detained by a young lawyer named Linda Coffee, who along with her colleague Sarah Weddington, was determined the Evolv Weapon Detection System… was not designed to the flow.\r\n",
            "\r\n",
            "Several said they were unaware of how data would be used for offensive purposes.\r\n",
            "\r\n",
            "But the big difference between the two countries is the legal and political experts on weapons detection, and companies like Evolv profit from their ignorance and clarify mental well-briegned to the hospital because she was malnourished. Hussein fetches a 20-litre barrel of water from the 331st remembers the Great Patrick, said that the years - but police initially explored two theories - that Caddick was say.\r\n",
            "\r\n",
            "In a statement, the trust apologised to patients for failing to get consent. Aside from the 17 who pulled or are pulling them of levelling the US-Mexico border in anticipation of the expiration of Title 42, which many marketing firm Offended makes sure his business. Many made headlines would have put additional to the assault and communities where riots have broken out.\r\n",
            "\r\n",
            "\"It's important not to condone and justify violence and harassment, and engaged in really cooking an attempt to change the marked for one institutions araine from violence. A 2021 study found that this bill has to apply to spouses and minor in which 316 people come after regulators in the presidential election.\r\n",
            "\r\n",
            "He retains support with the aircraft, just as they do with every other make and model of aircraft.\r\n",
            "\r\n",
            "\"The FAA and Senate lawmakers can bring themselves into session without the governor, according to Mark Jone raised and demonising countries like Benin, where populations are growing, along with demand for used cars into the oceans.\r\n",
            "\r\n",
            "The thinking is that occupied properties owned by Paul and his business resustance to the army and still alone being last week with little fanfare, but also because of the economic downfall in prediction in the UKraner crisin and I wouldn't say he didn’t fake his death and all the out of  \n",
            "\n",
            "________________________________________________________________________________\n",
            "\n",
            "Run time: 26.781800985336304\n"
          ]
        }
      ]
    },
    {
      "cell_type": "markdown",
      "source": [
        "### **Exporting the generator**"
      ],
      "metadata": {
        "id": "ryGtw8_10ITR"
      }
    },
    {
      "cell_type": "code",
      "source": [
        "tf.saved_model.save(one_step_model, 'one_step')\n",
        "one_step_reloaded = tf.saved_model.load('one_step')"
      ],
      "metadata": {
        "id": "jRsQRHAk6ORS",
        "colab": {
          "base_uri": "https://localhost:8080/"
        },
        "outputId": "cf50e5c3-071a-4b4f-8c34-f019865f6eec"
      },
      "execution_count": 66,
      "outputs": [
        {
          "output_type": "stream",
          "name": "stderr",
          "text": [
            "WARNING:tensorflow:Skipping full serialization of Keras layer <__main__.OneStep object at 0x7f8bb61be4d0>, because it is not built.\n",
            "WARNING:tensorflow:Model's `__init__()` arguments contain non-serializable objects. Please implement a `get_config()` method in the subclassed Model for proper saving and loading. Defaulting to empty config.\n",
            "WARNING:tensorflow:Model's `__init__()` arguments contain non-serializable objects. Please implement a `get_config()` method in the subclassed Model for proper saving and loading. Defaulting to empty config.\n",
            "WARNING:absl:Found untraced functions such as _update_step_xla, gru_cell_layer_call_fn, gru_cell_layer_call_and_return_conditional_losses while saving (showing 3 of 3). These functions will not be directly callable after loading.\n"
          ]
        }
      ]
    },
    {
      "cell_type": "code",
      "source": [
        "states = None\n",
        "next_char = tf.constant(['Trial'])\n",
        "result = [next_char]\n",
        "\n",
        "for n in range(100):\n",
        "  next_char, states = one_step_reloaded.generate_one_step(next_char, states=states)\n",
        "  result.append(next_char)\n",
        "\n",
        "print(tf.strings.join(result)[0].numpy().decode(\"utf-8\"))"
      ],
      "metadata": {
        "id": "efdAP0JC6O89",
        "colab": {
          "base_uri": "https://localhost:8080/"
        },
        "outputId": "e591b744-9128-411c-fa01-f4f759b6a861"
      },
      "execution_count": 67,
      "outputs": [
        {
          "output_type": "stream",
          "name": "stdout",
          "text": [
            "Trial called the finding to Britton.\r\n",
            "\r\n",
            "Westover said he was finally convinced that Arnold was dead when \n"
          ]
        }
      ]
    }
  ]
}